{
 "cells": [
  {
   "cell_type": "markdown",
   "id": "153cf1df",
   "metadata": {},
   "source": [
    "# Initialize Spark"
   ]
  },
  {
   "cell_type": "code",
   "execution_count": 1,
   "id": "108fea53",
   "metadata": {},
   "outputs": [],
   "source": [
    "from pyspark.sql import SparkSession\n",
    "from pyspark.sql.types import StringType, IntegerType, DoubleType\n",
    "from pyspark.sql.functions import udf\n",
    "from pyspark.sql import functions as f\n",
    "from pyspark.sql.functions import col\n",
    "from pyspark.ml.feature import StringIndexer\n",
    "from pyspark.ml.tuning import CrossValidator\n",
    "from pyspark.ml.feature import VectorAssembler\n",
    "from pyspark.ml.feature import PCA\n",
    "from pyspark.mllib.linalg import Vectors\n",
    "from pyspark.mllib.linalg.distributed import RowMatrix"
   ]
  },
  {
   "cell_type": "code",
   "execution_count": 2,
   "id": "b1f0db13",
   "metadata": {},
   "outputs": [],
   "source": [
    "spark = SparkSession \\\n",
    "    .builder \\\n",
    "    .master(\"local[*]\") \\\n",
    "    .appName(\"xor\") \\\n",
    "    .config(\"spark.executor.memory\", '2g') \\\n",
    "    .config('spark.executor.cores', '1') \\\n",
    "    .config('spark.cores.max', '1') \\\n",
    "    .config(\"spark.driver.memory\",'1g') \\\n",
    "    .getOrCreate()\n",
    "\n",
    "sc = spark.sparkContext"
   ]
  },
  {
   "cell_type": "markdown",
   "id": "bbcc7dd7",
   "metadata": {},
   "source": [
    "# Import Data, Inspect Columns"
   ]
  },
  {
   "cell_type": "code",
   "execution_count": 3,
   "id": "15b5bfb8",
   "metadata": {},
   "outputs": [],
   "source": [
    "df = spark.read.option(\"inferSchema\", \"true\").csv('train_ver2.csv', header = True)"
   ]
  },
  {
   "cell_type": "code",
   "execution_count": 4,
   "id": "34b58f78",
   "metadata": {},
   "outputs": [
    {
     "data": {
      "text/plain": [
       "['fecha_dato',\n",
       " 'ncodpers',\n",
       " 'ind_empleado',\n",
       " 'pais_residencia',\n",
       " 'sexo',\n",
       " 'age',\n",
       " 'fecha_alta',\n",
       " 'ind_nuevo',\n",
       " 'antiguedad',\n",
       " 'indrel',\n",
       " 'ult_fec_cli_1t',\n",
       " 'indrel_1mes',\n",
       " 'tiprel_1mes',\n",
       " 'indresi',\n",
       " 'indext',\n",
       " 'conyuemp',\n",
       " 'canal_entrada',\n",
       " 'indfall',\n",
       " 'tipodom',\n",
       " 'cod_prov',\n",
       " 'nomprov',\n",
       " 'ind_actividad_cliente',\n",
       " 'renta',\n",
       " 'segmento',\n",
       " 'ind_ahor_fin_ult1',\n",
       " 'ind_aval_fin_ult1',\n",
       " 'ind_cco_fin_ult1',\n",
       " 'ind_cder_fin_ult1',\n",
       " 'ind_cno_fin_ult1',\n",
       " 'ind_ctju_fin_ult1',\n",
       " 'ind_ctma_fin_ult1',\n",
       " 'ind_ctop_fin_ult1',\n",
       " 'ind_ctpp_fin_ult1',\n",
       " 'ind_deco_fin_ult1',\n",
       " 'ind_deme_fin_ult1',\n",
       " 'ind_dela_fin_ult1',\n",
       " 'ind_ecue_fin_ult1',\n",
       " 'ind_fond_fin_ult1',\n",
       " 'ind_hip_fin_ult1',\n",
       " 'ind_plan_fin_ult1',\n",
       " 'ind_pres_fin_ult1',\n",
       " 'ind_reca_fin_ult1',\n",
       " 'ind_tjcr_fin_ult1',\n",
       " 'ind_valo_fin_ult1',\n",
       " 'ind_viv_fin_ult1',\n",
       " 'ind_nomina_ult1',\n",
       " 'ind_nom_pens_ult1',\n",
       " 'ind_recibo_ult1']"
      ]
     },
     "execution_count": 4,
     "metadata": {},
     "output_type": "execute_result"
    }
   ],
   "source": [
    "df.columns"
   ]
  },
  {
   "cell_type": "markdown",
   "id": "91933e32",
   "metadata": {},
   "source": [
    "The columns are in Spanish and are a little bit vague. I'm going to rename all of them (except for age :))"
   ]
  },
  {
   "cell_type": "code",
   "execution_count": 4,
   "id": "5877dcdf",
   "metadata": {},
   "outputs": [
    {
     "name": "stdout",
     "output_type": "stream",
     "text": [
      "root\n",
      " |-- Date: string (nullable = true)\n",
      " |-- Customer_Code: double (nullable = true)\n",
      " |-- Employee_Index: string (nullable = true)\n",
      " |-- Country_Residence: string (nullable = true)\n",
      " |-- Gender: string (nullable = true)\n",
      " |-- age: string (nullable = true)\n",
      " |-- Join_Date: string (nullable = true)\n",
      " |-- New_customer: string (nullable = true)\n",
      " |-- Months_at_Bank: string (nullable = true)\n",
      " |-- Customer_during_Month: string (nullable = true)\n",
      " |-- Stopped_Being_Customer: string (nullable = true)\n",
      " |-- Customer_Type: string (nullable = true)\n",
      " |-- Relationship_to_Bank: string (nullable = true)\n",
      " |-- Residence_Index: string (nullable = true)\n",
      " |-- Foreigner_Index: string (nullable = true)\n",
      " |-- Spouse_Index: string (nullable = true)\n",
      " |-- Channel: string (nullable = true)\n",
      " |-- Deceased_Index: string (nullable = true)\n",
      " |-- Address_Type: string (nullable = true)\n",
      " |-- Province_Code: string (nullable = true)\n",
      " |-- Province_Name: string (nullable = true)\n",
      " |-- Active: string (nullable = true)\n",
      " |-- Income: double (nullable = true)\n",
      " |-- Segmentation: string (nullable = true)\n",
      " |-- Savings_Account: integer (nullable = true)\n",
      " |-- Guarantees: integer (nullable = true)\n",
      " |-- Current_Accounts: integer (nullable = true)\n",
      " |-- Derivative: integer (nullable = true)\n",
      " |-- Payroll_Account: integer (nullable = true)\n",
      " |-- Junior_Account: integer (nullable = true)\n",
      " |-- More_Particular_Account: integer (nullable = true)\n",
      " |-- Particular_Account: integer (nullable = true)\n",
      " |-- Particular_Plus_Account: integer (nullable = true)\n",
      " |-- Short_Term_Deposits: integer (nullable = true)\n",
      " |-- Medium_Term_Deposits: integer (nullable = true)\n",
      " |-- Long_Term_Deposits: integer (nullable = true)\n",
      " |-- e-Account: integer (nullable = true)\n",
      " |-- Funds: integer (nullable = true)\n",
      " |-- Mortgage: integer (nullable = true)\n",
      " |-- Pensions: integer (nullable = true)\n",
      " |-- Loans: integer (nullable = true)\n",
      " |-- Taxes: integer (nullable = true)\n",
      " |-- Credit_Card: integer (nullable = true)\n",
      " |-- Securities: integer (nullable = true)\n",
      " |-- Home_Account: integer (nullable = true)\n",
      " |-- Payroll: string (nullable = true)\n",
      " |-- Pensions_two: string (nullable = true)\n",
      " |-- Direct_Debit: integer (nullable = true)\n",
      "\n"
     ]
    }
   ],
   "source": [
    "df = df.withColumnRenamed(\"fecha_dato\", \"Date\")\\\n",
    "    .withColumnRenamed(\"ncodpers\", \"Customer_Code\")\\\n",
    "    .withColumnRenamed(\"ind_empleado\", \"Employee_Index\")\\\n",
    "    .withColumnRenamed(\"pais_residencia\", \"Country_Residence\")\\\n",
    "    .withColumnRenamed(\"fecha_alta\", \"Join_Date\")\\\n",
    "    .withColumnRenamed(\"ind_nuevo\", \"New_customer\")\\\n",
    "    .withColumnRenamed(\"sexo\", \"Gender\")\\\n",
    "    .withColumnRenamed(\"canal_entrada\", \"Channel\")\\\n",
    "    .withColumnRenamed(\"antiguedad\", \"Months_at_Bank\")\\\n",
    "    .withColumnRenamed(\"indrel\", \"Customer_during_Month\")\\\n",
    "    .withColumnRenamed(\"ult_fec_cli_1t\", \"Stopped_Being_Customer\")\\\n",
    "    .withColumnRenamed(\"indrel_1mes\", \"Customer_Type\")\\\n",
    "    .withColumnRenamed(\"tiprel_1mes\", \"Relationship_to_Bank\")\\\n",
    "    .withColumnRenamed(\"indresi\", \"Residence_Index\")\\\n",
    "    .withColumnRenamed(\"indext\", \"Foreigner_Index\")\\\n",
    "    .withColumnRenamed(\"conyuemp\", \"Spouse_Index\")\\\n",
    "    .withColumnRenamed(\"indfall\", \"Deceased_Index\")\\\n",
    "    .withColumnRenamed(\"tipodom\", \"Address_Type\")\\\n",
    "    .withColumnRenamed(\"cod_prov\", \"Province_Code\")\\\n",
    "    .withColumnRenamed(\"nomprov\", \"Province_Name\")\\\n",
    "    .withColumnRenamed(\"ind_actividad_cliente\", \"Active\")\\\n",
    "    .withColumnRenamed(\"renta\", \"Income\")\\\n",
    "    .withColumnRenamed(\"segmento\", \"Segmentation\")\\\n",
    "    .withColumnRenamed(\"ind_ahor_fin_ult1\", \"Savings_Account\")\\\n",
    "    .withColumnRenamed(\"ind_aval_fin_ult1\", \"Guarantees\")\\\n",
    "    .withColumnRenamed(\"ind_cco_fin_ult1\", \"Current_Accounts\")\\\n",
    "    .withColumnRenamed(\"ind_cder_fin_ult1\", \"Derivative\")\\\n",
    "    .withColumnRenamed(\"ind_cno_fin_ult1\", \"Payroll_Account\")\\\n",
    "    .withColumnRenamed(\"ind_ctju_fin_ult1\", \"Junior_Account\")\\\n",
    "    .withColumnRenamed(\"ind_ctma_fin_ult1\", \"More_Particular_Account\")\\\n",
    "    .withColumnRenamed(\"ind_ctop_fin_ult1\", \"Particular_Account\")\\\n",
    "    .withColumnRenamed(\"ind_ctpp_fin_ult1\", \"Particular_Plus_Account\")\\\n",
    "    .withColumnRenamed(\"ind_deco_fin_ult1\", \"Short_Term_Deposits\")\\\n",
    "    .withColumnRenamed(\"ind_deme_fin_ult1\", \"Medium_Term_Deposits\")\\\n",
    "    .withColumnRenamed(\"ind_dela_fin_ult1\", \"Long_Term_Deposits\")\\\n",
    "    .withColumnRenamed(\"ind_ecue_fin_ult1\", \"e-Account\")\\\n",
    "    .withColumnRenamed(\"ind_fond_fin_ult1\", \"Funds\")\\\n",
    "    .withColumnRenamed(\"ind_hip_fin_ult1\", \"Mortgage\")\\\n",
    "    .withColumnRenamed(\"ind_plan_fin_ult1\", \"Pensions\")\\\n",
    "    .withColumnRenamed(\"ind_pres_fin_ult1\", \"Loans\")\\\n",
    "    .withColumnRenamed(\"ind_reca_fin_ult1\", \"Taxes\")\\\n",
    "    .withColumnRenamed(\"ind_tjcr_fin_ult1\", \"Credit_Card\")\\\n",
    "    .withColumnRenamed(\"ind_valo_fin_ult1\", \"Securities\")\\\n",
    "    .withColumnRenamed(\"ind_viv_fin_ult1\", \"Home_Account\")\\\n",
    "    .withColumnRenamed(\"ind_nomina_ult1\", \"Payroll\")\\\n",
    "    .withColumnRenamed(\"ind_nom_pens_ult1\", \"Pensions_two\")\\\n",
    "    .withColumnRenamed(\"ind_recibo_ult1\", \"Direct_Debit\")\n",
    "df.printSchema()"
   ]
  },
  {
   "cell_type": "markdown",
   "id": "7dd7feef",
   "metadata": {},
   "source": [
    "Some of the feature columns appear to be redundant:"
   ]
  },
  {
   "cell_type": "code",
   "execution_count": 5,
   "id": "75589e9a",
   "metadata": {},
   "outputs": [],
   "source": [
    "df = df.drop(df.Province_Code)"
   ]
  },
  {
   "cell_type": "markdown",
   "id": "0937b204",
   "metadata": {},
   "source": [
    "Residence_Index and Foreigner_Index are inverses of each other; we don't need both"
   ]
  },
  {
   "cell_type": "code",
   "execution_count": 6,
   "id": "44dd6c11",
   "metadata": {},
   "outputs": [],
   "source": [
    "df = df.drop(df.Residence_Index) "
   ]
  },
  {
   "cell_type": "markdown",
   "id": "0123b48f",
   "metadata": {},
   "source": [
    "Inspect the data for NANs and Null values:"
   ]
  },
  {
   "cell_type": "code",
   "execution_count": 8,
   "id": "bc13400c",
   "metadata": {
    "scrolled": false
   },
   "outputs": [
    {
     "data": {
      "text/html": [
       "<div>\n",
       "<style scoped>\n",
       "    .dataframe tbody tr th:only-of-type {\n",
       "        vertical-align: middle;\n",
       "    }\n",
       "\n",
       "    .dataframe tbody tr th {\n",
       "        vertical-align: top;\n",
       "    }\n",
       "\n",
       "    .dataframe thead th {\n",
       "        text-align: right;\n",
       "    }\n",
       "</style>\n",
       "<table border=\"1\" class=\"dataframe\">\n",
       "  <thead>\n",
       "    <tr style=\"text-align: right;\">\n",
       "      <th></th>\n",
       "      <th>0</th>\n",
       "    </tr>\n",
       "  </thead>\n",
       "  <tbody>\n",
       "    <tr>\n",
       "      <th>Date</th>\n",
       "      <td>0</td>\n",
       "    </tr>\n",
       "    <tr>\n",
       "      <th>Customer_Code</th>\n",
       "      <td>0</td>\n",
       "    </tr>\n",
       "    <tr>\n",
       "      <th>Employee_Index</th>\n",
       "      <td>27734</td>\n",
       "    </tr>\n",
       "    <tr>\n",
       "      <th>Country_Residence</th>\n",
       "      <td>27734</td>\n",
       "    </tr>\n",
       "    <tr>\n",
       "      <th>Gender</th>\n",
       "      <td>27804</td>\n",
       "    </tr>\n",
       "    <tr>\n",
       "      <th>age</th>\n",
       "      <td>0</td>\n",
       "    </tr>\n",
       "    <tr>\n",
       "      <th>Join_Date</th>\n",
       "      <td>27734</td>\n",
       "    </tr>\n",
       "    <tr>\n",
       "      <th>New_customer</th>\n",
       "      <td>0</td>\n",
       "    </tr>\n",
       "    <tr>\n",
       "      <th>Months_at_Bank</th>\n",
       "      <td>0</td>\n",
       "    </tr>\n",
       "    <tr>\n",
       "      <th>Customer_during_Month</th>\n",
       "      <td>0</td>\n",
       "    </tr>\n",
       "    <tr>\n",
       "      <th>Stopped_Being_Customer</th>\n",
       "      <td>13622516</td>\n",
       "    </tr>\n",
       "    <tr>\n",
       "      <th>Customer_Type</th>\n",
       "      <td>149781</td>\n",
       "    </tr>\n",
       "    <tr>\n",
       "      <th>Relationship_to_Bank</th>\n",
       "      <td>149781</td>\n",
       "    </tr>\n",
       "    <tr>\n",
       "      <th>Foreigner_Index</th>\n",
       "      <td>27734</td>\n",
       "    </tr>\n",
       "    <tr>\n",
       "      <th>Spouse_Index</th>\n",
       "      <td>13645501</td>\n",
       "    </tr>\n",
       "    <tr>\n",
       "      <th>Channel</th>\n",
       "      <td>186126</td>\n",
       "    </tr>\n",
       "    <tr>\n",
       "      <th>Deceased_Index</th>\n",
       "      <td>27734</td>\n",
       "    </tr>\n",
       "    <tr>\n",
       "      <th>Address_Type</th>\n",
       "      <td>0</td>\n",
       "    </tr>\n",
       "    <tr>\n",
       "      <th>Province_Name</th>\n",
       "      <td>93591</td>\n",
       "    </tr>\n",
       "    <tr>\n",
       "      <th>Active</th>\n",
       "      <td>0</td>\n",
       "    </tr>\n",
       "    <tr>\n",
       "      <th>Income</th>\n",
       "      <td>2794375</td>\n",
       "    </tr>\n",
       "    <tr>\n",
       "      <th>Segmentation</th>\n",
       "      <td>189368</td>\n",
       "    </tr>\n",
       "    <tr>\n",
       "      <th>Savings_Account</th>\n",
       "      <td>0</td>\n",
       "    </tr>\n",
       "    <tr>\n",
       "      <th>Guarantees</th>\n",
       "      <td>0</td>\n",
       "    </tr>\n",
       "    <tr>\n",
       "      <th>Current_Accounts</th>\n",
       "      <td>0</td>\n",
       "    </tr>\n",
       "    <tr>\n",
       "      <th>Derivative</th>\n",
       "      <td>0</td>\n",
       "    </tr>\n",
       "    <tr>\n",
       "      <th>Payroll_Account</th>\n",
       "      <td>0</td>\n",
       "    </tr>\n",
       "    <tr>\n",
       "      <th>Junior_Account</th>\n",
       "      <td>0</td>\n",
       "    </tr>\n",
       "    <tr>\n",
       "      <th>More_Particular_Account</th>\n",
       "      <td>0</td>\n",
       "    </tr>\n",
       "    <tr>\n",
       "      <th>Particular_Account</th>\n",
       "      <td>0</td>\n",
       "    </tr>\n",
       "    <tr>\n",
       "      <th>Particular_Plus_Account</th>\n",
       "      <td>0</td>\n",
       "    </tr>\n",
       "    <tr>\n",
       "      <th>Short_Term_Deposits</th>\n",
       "      <td>0</td>\n",
       "    </tr>\n",
       "    <tr>\n",
       "      <th>Medium_Term_Deposits</th>\n",
       "      <td>0</td>\n",
       "    </tr>\n",
       "    <tr>\n",
       "      <th>Long_Term_Deposits</th>\n",
       "      <td>0</td>\n",
       "    </tr>\n",
       "    <tr>\n",
       "      <th>e-Account</th>\n",
       "      <td>0</td>\n",
       "    </tr>\n",
       "    <tr>\n",
       "      <th>Funds</th>\n",
       "      <td>0</td>\n",
       "    </tr>\n",
       "    <tr>\n",
       "      <th>Mortgage</th>\n",
       "      <td>0</td>\n",
       "    </tr>\n",
       "    <tr>\n",
       "      <th>Pensions</th>\n",
       "      <td>0</td>\n",
       "    </tr>\n",
       "    <tr>\n",
       "      <th>Loans</th>\n",
       "      <td>0</td>\n",
       "    </tr>\n",
       "    <tr>\n",
       "      <th>Taxes</th>\n",
       "      <td>0</td>\n",
       "    </tr>\n",
       "    <tr>\n",
       "      <th>Credit_Card</th>\n",
       "      <td>0</td>\n",
       "    </tr>\n",
       "    <tr>\n",
       "      <th>Securities</th>\n",
       "      <td>0</td>\n",
       "    </tr>\n",
       "    <tr>\n",
       "      <th>Home_Account</th>\n",
       "      <td>0</td>\n",
       "    </tr>\n",
       "    <tr>\n",
       "      <th>Payroll</th>\n",
       "      <td>0</td>\n",
       "    </tr>\n",
       "    <tr>\n",
       "      <th>Pensions_two</th>\n",
       "      <td>0</td>\n",
       "    </tr>\n",
       "    <tr>\n",
       "      <th>Direct_Debit</th>\n",
       "      <td>0</td>\n",
       "    </tr>\n",
       "  </tbody>\n",
       "</table>\n",
       "</div>"
      ],
      "text/plain": [
       "                                0\n",
       "Date                            0\n",
       "Customer_Code                   0\n",
       "Employee_Index              27734\n",
       "Country_Residence           27734\n",
       "Gender                      27804\n",
       "age                             0\n",
       "Join_Date                   27734\n",
       "New_customer                    0\n",
       "Months_at_Bank                  0\n",
       "Customer_during_Month           0\n",
       "Stopped_Being_Customer   13622516\n",
       "Customer_Type              149781\n",
       "Relationship_to_Bank       149781\n",
       "Foreigner_Index             27734\n",
       "Spouse_Index             13645501\n",
       "Channel                    186126\n",
       "Deceased_Index              27734\n",
       "Address_Type                    0\n",
       "Province_Name               93591\n",
       "Active                          0\n",
       "Income                    2794375\n",
       "Segmentation               189368\n",
       "Savings_Account                 0\n",
       "Guarantees                      0\n",
       "Current_Accounts                0\n",
       "Derivative                      0\n",
       "Payroll_Account                 0\n",
       "Junior_Account                  0\n",
       "More_Particular_Account         0\n",
       "Particular_Account              0\n",
       "Particular_Plus_Account         0\n",
       "Short_Term_Deposits             0\n",
       "Medium_Term_Deposits            0\n",
       "Long_Term_Deposits              0\n",
       "e-Account                       0\n",
       "Funds                           0\n",
       "Mortgage                        0\n",
       "Pensions                        0\n",
       "Loans                           0\n",
       "Taxes                           0\n",
       "Credit_Card                     0\n",
       "Securities                      0\n",
       "Home_Account                    0\n",
       "Payroll                         0\n",
       "Pensions_two                    0\n",
       "Direct_Debit                    0"
      ]
     },
     "execution_count": 8,
     "metadata": {},
     "output_type": "execute_result"
    }
   ],
   "source": [
    "from pyspark.sql.functions import isnan, when, count, col\n",
    "\n",
    "df.select([count(when(col(c).isNull(), c)).alias(c) for c in \n",
    "           df.columns]).toPandas().T\n"
   ]
  },
  {
   "cell_type": "markdown",
   "id": "1f305382",
   "metadata": {},
   "source": [
    "The good news is that there are no NAN values, and that there are no null values for any of the product columns. The bad news is that 15 of the 22 feature columns in the training set have null values."
   ]
  },
  {
   "cell_type": "markdown",
   "id": "67c5ac9d",
   "metadata": {},
   "source": [
    " ##  Highlighting Columns and Imputing Values"
   ]
  },
  {
   "cell_type": "markdown",
   "id": "1b63e68e",
   "metadata": {},
   "source": [
    "#### Customer_Code "
   ]
  },
  {
   "cell_type": "code",
   "execution_count": 7,
   "id": "24a3968b",
   "metadata": {},
   "outputs": [],
   "source": [
    "df = df.dropna(subset='Customer_Code')"
   ]
  },
  {
   "cell_type": "code",
   "execution_count": 38,
   "id": "990e0dd3",
   "metadata": {},
   "outputs": [
    {
     "name": "stdout",
     "output_type": "stream",
     "text": [
      "+-------------+-----+\n",
      "|Customer_Code|count|\n",
      "+-------------+-----+\n",
      "|    1050599.0|   17|\n",
      "|    1052358.0|   10|\n",
      "|    1052187.0|   17|\n",
      "|    1048934.0|   15|\n",
      "|    1048839.0|   17|\n",
      "|    1049108.0|   17|\n",
      "|    1048792.0|   17|\n",
      "|    1048656.0|   17|\n",
      "|    1049799.0|   17|\n",
      "|    1049905.0|   17|\n",
      "|    1049944.0|   17|\n",
      "|    1056294.0|   17|\n",
      "|    1055185.0|   17|\n",
      "|    1055633.0|   17|\n",
      "|    1055721.0|   17|\n",
      "|    1055528.0|   17|\n",
      "|    1056869.0|   17|\n",
      "|    1056843.0|   17|\n",
      "|    1056723.0|   17|\n",
      "|    1056566.0|   17|\n",
      "+-------------+-----+\n",
      "only showing top 20 rows\n",
      "\n"
     ]
    }
   ],
   "source": [
    "df.groupBy('Customer_Code').count().show()"
   ]
  },
  {
   "cell_type": "code",
   "execution_count": 8,
   "id": "784f0611",
   "metadata": {},
   "outputs": [],
   "source": [
    "cc_countdf = df.groupBy('Customer_Code').count()"
   ]
  },
  {
   "cell_type": "code",
   "execution_count": 9,
   "id": "d0a8e9d8",
   "metadata": {},
   "outputs": [],
   "source": [
    "cc_full = cc_countdf.filter(\"count==17\")\n",
    "cc_incomplete = cc_countdf.filter(\"count!=17\")"
   ]
  },
  {
   "cell_type": "code",
   "execution_count": 13,
   "id": "c3488e66",
   "metadata": {},
   "outputs": [
    {
     "data": {
      "text/plain": [
       "605464"
      ]
     },
     "execution_count": 13,
     "metadata": {},
     "output_type": "execute_result"
    }
   ],
   "source": [
    "cc_full.count()"
   ]
  },
  {
   "cell_type": "code",
   "execution_count": 14,
   "id": "70dda469",
   "metadata": {},
   "outputs": [
    {
     "data": {
      "text/plain": [
       "351181"
      ]
     },
     "execution_count": 14,
     "metadata": {},
     "output_type": "execute_result"
    }
   ],
   "source": [
    "cc_incomplete.count()"
   ]
  },
  {
   "cell_type": "markdown",
   "id": "631e42d4",
   "metadata": {},
   "source": [
    "Each individual customer has up to 17 observations, which coincides with the 17 months that the dataset measures. We do not want customers with less than 17 observations because we want to look at the same, full range of months for every customer to best optimize our collaborative filtering system. Luckily, we have over 600,000 customers with a full range of data."
   ]
  },
  {
   "cell_type": "code",
   "execution_count": 10,
   "id": "1e654c4f",
   "metadata": {},
   "outputs": [],
   "source": [
    "keepccs = cc_full.select(\"Customer_Code\").rdd.flatMap(lambda x: x).collect()"
   ]
  },
  {
   "cell_type": "code",
   "execution_count": 11,
   "id": "4c90aa5b",
   "metadata": {},
   "outputs": [],
   "source": [
    "df = df.join(cc_full,df.Customer_Code ==  cc_full.Customer_Code,\"leftsemi\")"
   ]
  },
  {
   "cell_type": "markdown",
   "id": "0cf4510e",
   "metadata": {},
   "source": [
    "#### Employee_Index"
   ]
  },
  {
   "cell_type": "code",
   "execution_count": 17,
   "id": "e228c0e7",
   "metadata": {},
   "outputs": [
    {
     "name": "stdout",
     "output_type": "stream",
     "text": [
      "+--------------+--------+\n",
      "|Employee_Index|   count|\n",
      "+--------------+--------+\n",
      "|             F|    2397|\n",
      "|             B|    3281|\n",
      "|             A|    2448|\n",
      "|             N|10284745|\n",
      "|             S|      17|\n",
      "+--------------+--------+\n",
      "\n"
     ]
    }
   ],
   "source": [
    "df.groupBy('Employee_Index').count().show()"
   ]
  },
  {
   "cell_type": "code",
   "execution_count": 12,
   "id": "3563cc39",
   "metadata": {},
   "outputs": [],
   "source": [
    "#No variation\n",
    "df = df.drop(df.Employee_Index) "
   ]
  },
  {
   "cell_type": "markdown",
   "id": "972879a9",
   "metadata": {},
   "source": [
    "#### Country_Residence"
   ]
  },
  {
   "cell_type": "code",
   "execution_count": 19,
   "id": "15e0153d",
   "metadata": {},
   "outputs": [
    {
     "name": "stdout",
     "output_type": "stream",
     "text": [
      "+-----------------+--------+\n",
      "|Country_Residence|   count|\n",
      "+-----------------+--------+\n",
      "|               ES|10230853|\n",
      "|               FR|    4824|\n",
      "|               AR|    4656|\n",
      "|               GB|    4304|\n",
      "|               DE|    4271|\n",
      "|               CO|    3427|\n",
      "|               US|    3345|\n",
      "|               RO|    2865|\n",
      "|               IT|    2705|\n",
      "|               MX|    2404|\n",
      "|               VE|    2203|\n",
      "|               BR|    2193|\n",
      "|               EC|    2125|\n",
      "|               CH|    1875|\n",
      "|               BO|    1404|\n",
      "|               BE|    1387|\n",
      "|               PY|    1326|\n",
      "|               PT|    1308|\n",
      "|               CL|     945|\n",
      "|               PE|     852|\n",
      "+-----------------+--------+\n",
      "only showing top 20 rows\n",
      "\n"
     ]
    }
   ],
   "source": [
    "df.groupBy('Country_Residence').count().orderBy(col(\"count\").desc()).show()"
   ]
  },
  {
   "cell_type": "code",
   "execution_count": 13,
   "id": "428a901f",
   "metadata": {},
   "outputs": [],
   "source": [
    "##Not enough values in non-Spain Countries to justify this column. Will use 'Foreigner Index' instead\n",
    "df = df.drop(df.Country_Residence) "
   ]
  },
  {
   "cell_type": "markdown",
   "id": "6a5863af",
   "metadata": {},
   "source": [
    "#### Gender "
   ]
  },
  {
   "cell_type": "code",
   "execution_count": 128,
   "id": "25e03700",
   "metadata": {},
   "outputs": [
    {
     "name": "stdout",
     "output_type": "stream",
     "text": [
      "+------+-------+\n",
      "|Gender|  count|\n",
      "+------+-------+\n",
      "|     V|5643620|\n",
      "|     H|4649234|\n",
      "|  null|     34|\n",
      "+------+-------+\n",
      "\n"
     ]
    }
   ],
   "source": [
    "df.groupBy('Gender').count().orderBy(col(\"count\").desc()).show()"
   ]
  },
  {
   "cell_type": "code",
   "execution_count": 14,
   "id": "00bd79b7",
   "metadata": {},
   "outputs": [],
   "source": [
    "df = df.dropna(subset='Gender')"
   ]
  },
  {
   "cell_type": "code",
   "execution_count": 15,
   "id": "f9ee4855",
   "metadata": {},
   "outputs": [],
   "source": [
    "from pyspark.sql.functions import regexp_replace\n",
    "df = df.withColumn('Gender', regexp_replace('Gender', 'V', '0'))\n",
    "df = df.withColumn('Gender', regexp_replace('Gender', 'H', '1'))\n",
    "from pyspark.sql.types import IntegerType\n",
    "df = df.withColumn(\"Gender\", df[\"Gender\"].cast(IntegerType()))"
   ]
  },
  {
   "cell_type": "markdown",
   "id": "6ac0ad11",
   "metadata": {},
   "source": [
    "#### Age"
   ]
  },
  {
   "cell_type": "code",
   "execution_count": 24,
   "id": "216c422a",
   "metadata": {},
   "outputs": [
    {
     "name": "stdout",
     "output_type": "stream",
     "text": [
      "+---+------+\n",
      "|age| count|\n",
      "+---+------+\n",
      "| 23|639689|\n",
      "| 24|618896|\n",
      "| 22|565586|\n",
      "| 21|425042|\n",
      "| 25|392987|\n",
      "| 26|287707|\n",
      "| 44|256580|\n",
      "| 43|255140|\n",
      "| 45|251146|\n",
      "| 42|247265|\n",
      "| 46|238222|\n",
      "| 41|236746|\n",
      "| 27|228957|\n",
      "| 47|226347|\n",
      "| 40|216493|\n",
      "| 48|216030|\n",
      "| 49|198807|\n",
      "| 39|193104|\n",
      "| 50|187687|\n",
      "| 28|187306|\n",
      "+---+------+\n",
      "only showing top 20 rows\n",
      "\n"
     ]
    }
   ],
   "source": [
    "df.groupBy('age').count().orderBy(col(\"count\").desc()).show()"
   ]
  },
  {
   "cell_type": "code",
   "execution_count": 16,
   "id": "59fa7999",
   "metadata": {},
   "outputs": [],
   "source": [
    "df = df.withColumn(\"Age\", df[\"age\"].cast(IntegerType()))"
   ]
  },
  {
   "cell_type": "code",
   "execution_count": 26,
   "id": "d9466d5f",
   "metadata": {},
   "outputs": [
    {
     "data": {
      "text/plain": [
       "<seaborn.axisgrid.FacetGrid at 0x7ffdc4bdf7c0>"
      ]
     },
     "execution_count": 26,
     "metadata": {},
     "output_type": "execute_result"
    },
    {
     "data": {
      "image/png": "[encoded data removed]",
      "text/plain": [
       "<Figure size 415.375x360 with 1 Axes>"
      ]
     },
     "metadata": {
      "needs_background": "light"
     },
     "output_type": "display_data"
    }
   ],
   "source": [
    "import seaborn as sns\n",
    "agedf = df.select(['Age']).sample(False, .05, 42)\n",
    "agedf = agedf.toPandas()\n",
    "sns.displot(agedf)"
   ]
  },
  {
   "cell_type": "code",
   "execution_count": 27,
   "id": "9b2faed0",
   "metadata": {},
   "outputs": [
    {
     "data": {
      "text/plain": [
       "[39.0]"
      ]
     },
     "execution_count": 27,
     "metadata": {},
     "output_type": "execute_result"
    }
   ],
   "source": [
    "# find the median\n",
    "df.approxQuantile(\"Age\", [0.5], 0.02)"
   ]
  },
  {
   "cell_type": "code",
   "execution_count": 17,
   "id": "3fa0e098",
   "metadata": {},
   "outputs": [],
   "source": [
    "#impute the median\n",
    "df = df.na.fill(value=39,subset=[\"Age\"])"
   ]
  },
  {
   "cell_type": "code",
   "execution_count": 18,
   "id": "778f5657",
   "metadata": {},
   "outputs": [],
   "source": [
    "###Bin Age into groups\n",
    "def Age_Range(Age):\n",
    "    if Age < 18:\n",
    "        return 0\n",
    "    elif Age > 17 and Age < 25:\n",
    "        return 1\n",
    "    elif Age > 24 and Age < 45:\n",
    "        return 2\n",
    "    elif Age > 44 and Age < 65:\n",
    "        return 3\n",
    "    elif Age > 64 :\n",
    "        return 4\n",
    "udf_Age = udf(Age_Range, IntegerType())\n",
    "df = df.withColumn(\"Age_Range\", udf_Age('Age'))"
   ]
  },
  {
   "cell_type": "code",
   "execution_count": 19,
   "id": "64387406",
   "metadata": {},
   "outputs": [
    {
     "name": "stdout",
     "output_type": "stream",
     "text": [
      "+---------+-------+\n",
      "|Age_Range|  count|\n",
      "+---------+-------+\n",
      "|        1|2343712|\n",
      "|        3|2937213|\n",
      "|        4|1032931|\n",
      "|        2|3878536|\n",
      "|        0| 100462|\n",
      "+---------+-------+\n",
      "\n"
     ]
    }
   ],
   "source": [
    "df.groupBy('Age_Range').count().show()"
   ]
  },
  {
   "cell_type": "code",
   "execution_count": 19,
   "id": "0f95627f",
   "metadata": {},
   "outputs": [],
   "source": [
    "df = df.drop(df.Age) "
   ]
  },
  {
   "cell_type": "markdown",
   "id": "322a4b5c",
   "metadata": {},
   "source": [
    "#### Join Date"
   ]
  },
  {
   "cell_type": "code",
   "execution_count": 32,
   "id": "dc762dd3",
   "metadata": {},
   "outputs": [
    {
     "name": "stdout",
     "output_type": "stream",
     "text": [
      "+----------+-----+\n",
      "| Join_Date|count|\n",
      "+----------+-----+\n",
      "|2014-07-28|54094|\n",
      "|2014-10-03|46767|\n",
      "|2014-08-04|41327|\n",
      "|2013-10-14|32963|\n",
      "|2013-08-03|31399|\n",
      "|2012-08-06|24021|\n",
      "|2012-08-03|23647|\n",
      "|2014-07-21|23528|\n",
      "|2012-08-02|23086|\n",
      "|2013-10-11|22644|\n",
      "|2013-08-10|22338|\n",
      "|2012-08-01|21284|\n",
      "|2013-07-22|21131|\n",
      "|2012-08-09|21097|\n",
      "|2014-07-30|20893|\n",
      "|2014-09-24|20740|\n",
      "|2012-07-24|20502|\n",
      "|2012-08-07|20417|\n",
      "|2014-09-17|20196|\n",
      "|2014-08-06|20162|\n",
      "+----------+-----+\n",
      "only showing top 20 rows\n",
      "\n"
     ]
    }
   ],
   "source": [
    "df.groupBy('Join_Date').count().orderBy(col(\"count\").desc()).show()"
   ]
  },
  {
   "cell_type": "code",
   "execution_count": 20,
   "id": "869a5fbd",
   "metadata": {},
   "outputs": [],
   "source": [
    "##Seems like it won't be a great predictive factor. Other variables measure how long someone has been at the bank\n",
    "df = df.drop(df.Join_Date) "
   ]
  },
  {
   "cell_type": "markdown",
   "id": "d6a4f678",
   "metadata": {},
   "source": [
    "# "
   ]
  },
  {
   "cell_type": "markdown",
   "id": "ecaa1d81",
   "metadata": {},
   "source": [
    "#### New_customer"
   ]
  },
  {
   "cell_type": "code",
   "execution_count": 34,
   "id": "ae5b32c5",
   "metadata": {},
   "outputs": [
    {
     "name": "stdout",
     "output_type": "stream",
     "text": [
      "+------------+--------+\n",
      "|New_customer|   count|\n",
      "+------------+--------+\n",
      "|           0|10291307|\n",
      "|           1|    1547|\n",
      "+------------+--------+\n",
      "\n"
     ]
    }
   ],
   "source": [
    "df.groupBy('New_customer').count().orderBy(col(\"count\").desc()).show()"
   ]
  },
  {
   "cell_type": "code",
   "execution_count": 21,
   "id": "7b952bc5",
   "metadata": {},
   "outputs": [],
   "source": [
    "#Will stick with the Months_at_Bank feature for now\n",
    "df = df.drop(df.New_customer) "
   ]
  },
  {
   "cell_type": "markdown",
   "id": "7a82d0db",
   "metadata": {},
   "source": [
    "#### Months_at_Bank"
   ]
  },
  {
   "cell_type": "code",
   "execution_count": 22,
   "id": "23f721ff",
   "metadata": {},
   "outputs": [],
   "source": [
    "df = df.withColumn(\"Months_at_Bank\", df[\"Months_at_Bank\"].cast(IntegerType()))"
   ]
  },
  {
   "cell_type": "code",
   "execution_count": 37,
   "id": "b0b9d200",
   "metadata": {},
   "outputs": [
    {
     "name": "stdout",
     "output_type": "stream",
     "text": [
      "+--------------+------+\n",
      "|Months_at_Bank| count|\n",
      "+--------------+------+\n",
      "|       -999999|    34|\n",
      "|             0|   108|\n",
      "|             1|   165|\n",
      "|             2|   249|\n",
      "|             3|   274|\n",
      "|             4|   362|\n",
      "|             5|   356|\n",
      "|             6| 13319|\n",
      "|             7| 23023|\n",
      "|             8| 68551|\n",
      "|             9|111154|\n",
      "|            10|143106|\n",
      "|            11| 81834|\n",
      "|            12|191231|\n",
      "|            13| 84144|\n",
      "|            14| 87903|\n",
      "|            15| 86600|\n",
      "|            16|102213|\n",
      "|            17| 94327|\n",
      "|            18| 97885|\n",
      "+--------------+------+\n",
      "only showing top 20 rows\n",
      "\n"
     ]
    }
   ],
   "source": [
    "df.groupBy('Months_at_Bank').count().orderBy(col(\"Months_at_Bank\")).show()"
   ]
  },
  {
   "cell_type": "code",
   "execution_count": 24,
   "id": "32e7e616",
   "metadata": {},
   "outputs": [
    {
     "name": "stdout",
     "output_type": "stream",
     "text": [
      "+--------------+-----+\n",
      "|Months_at_Bank|count|\n",
      "+--------------+-----+\n",
      "|           256|   86|\n",
      "|           255|  147|\n",
      "|           254|  218|\n",
      "|           253|  337|\n",
      "|           252|  534|\n",
      "|           251|  833|\n",
      "|           250| 1143|\n",
      "|           249| 1336|\n",
      "|           248| 1731|\n",
      "|           247| 2706|\n",
      "|           246| 3590|\n",
      "|           245| 3784|\n",
      "|           244| 4489|\n",
      "|           243| 4923|\n",
      "|           242| 5713|\n",
      "|           241| 7100|\n",
      "|           240| 7118|\n",
      "|           239| 6186|\n",
      "|           238| 8597|\n",
      "|           237|10966|\n",
      "+--------------+-----+\n",
      "only showing top 20 rows\n",
      "\n"
     ]
    }
   ],
   "source": [
    "df.groupBy('Months_at_Bank').count().orderBy(col(\"Months_at_Bank\").desc()).show()"
   ]
  },
  {
   "cell_type": "code",
   "execution_count": 23,
   "id": "5051b924",
   "metadata": {},
   "outputs": [],
   "source": [
    "df = df.where(\"Months_at_Bank!=-999999\")"
   ]
  },
  {
   "cell_type": "code",
   "execution_count": 56,
   "id": "862d5367",
   "metadata": {},
   "outputs": [
    {
     "data": {
      "text/plain": [
       "[56.0]"
      ]
     },
     "execution_count": 56,
     "metadata": {},
     "output_type": "execute_result"
    }
   ],
   "source": [
    "# find the median\n",
    "df.approxQuantile(\"Months_at_Bank\", [0.5], 0.02)"
   ]
  },
  {
   "cell_type": "code",
   "execution_count": 24,
   "id": "e4fdc460",
   "metadata": {},
   "outputs": [],
   "source": [
    "#impute the median\n",
    "df = df.na.fill(value=56,subset=[\"Months_at_Bank\"])"
   ]
  },
  {
   "cell_type": "code",
   "execution_count": 58,
   "id": "4e48a3de",
   "metadata": {},
   "outputs": [
    {
     "data": {
      "text/plain": [
       "<seaborn.axisgrid.FacetGrid at 0x7fd142714c70>"
      ]
     },
     "execution_count": 58,
     "metadata": {},
     "output_type": "execute_result"
    },
    {
     "data": {
      "image/png": "[encoded data removed]",
      "text/plain": [
       "<Figure size 477.625x360 with 1 Axes>"
      ]
     },
     "metadata": {
      "needs_background": "light"
     },
     "output_type": "display_data"
    }
   ],
   "source": [
    "monthsdf = df.select(['Months_at_Bank']).sample(False, .05, 42)\n",
    "monthsdf = monthsdf.toPandas()\n",
    "sns.displot(monthsdf)"
   ]
  },
  {
   "cell_type": "code",
   "execution_count": 25,
   "id": "943edb80",
   "metadata": {},
   "outputs": [],
   "source": [
    "###Bin Months into groups\n",
    "def Months_Range(Months_at_Bank):\n",
    "    if Months_at_Bank < 7:\n",
    "        return 0\n",
    "    elif Months_at_Bank > 6 and Months_at_Bank < 25:\n",
    "        return 1\n",
    "    elif Months_at_Bank > 24 and Months_at_Bank < 60:\n",
    "        return 2\n",
    "    elif Months_at_Bank > 59 and Months_at_Bank < 120:\n",
    "        return 3\n",
    "    elif Months_at_Bank > 119 :\n",
    "        return 4\n",
    "udf_Months = udf(Months_Range, IntegerType())\n",
    "df = df.withColumn(\"Months_Range\", udf_Months('Months_at_Bank'))"
   ]
  },
  {
   "cell_type": "code",
   "execution_count": 87,
   "id": "bcd30d14",
   "metadata": {},
   "outputs": [
    {
     "name": "stdout",
     "output_type": "stream",
     "text": [
      "+------------+-------+\n",
      "|Months_Range|  count|\n",
      "+------------+-------+\n",
      "|           1|2004737|\n",
      "|           3|1715598|\n",
      "|           4|3437980|\n",
      "|           2|3119672|\n",
      "|           0|  14833|\n",
      "+------------+-------+\n",
      "\n"
     ]
    }
   ],
   "source": [
    "df.groupBy('Months_Range').count().show()"
   ]
  },
  {
   "cell_type": "code",
   "execution_count": 26,
   "id": "9cb0645a",
   "metadata": {},
   "outputs": [],
   "source": [
    "df = df.drop(df.Months_at_Bank) "
   ]
  },
  {
   "cell_type": "markdown",
   "id": "24c31829",
   "metadata": {},
   "source": [
    "#### Customer_during_Month"
   ]
  },
  {
   "cell_type": "code",
   "execution_count": 39,
   "id": "ea8ebb88",
   "metadata": {},
   "outputs": [
    {
     "name": "stdout",
     "output_type": "stream",
     "text": [
      "+---------------------+--------+\n",
      "|Customer_during_Month|   count|\n",
      "+---------------------+--------+\n",
      "|                   99|     648|\n",
      "|                    1|10292172|\n",
      "+---------------------+--------+\n",
      "\n"
     ]
    }
   ],
   "source": [
    "df.groupBy('Customer_during_Month').count().show()"
   ]
  },
  {
   "cell_type": "code",
   "execution_count": 27,
   "id": "893e976b",
   "metadata": {},
   "outputs": [],
   "source": [
    "#Same as active\n",
    "df = df.drop(df.Customer_during_Month) "
   ]
  },
  {
   "cell_type": "markdown",
   "id": "b91a9519",
   "metadata": {},
   "source": [
    "#### Spouse_Index "
   ]
  },
  {
   "cell_type": "code",
   "execution_count": 41,
   "id": "8389c6d0",
   "metadata": {},
   "outputs": [
    {
     "name": "stdout",
     "output_type": "stream",
     "text": [
      "+------------+--------+\n",
      "|Spouse_Index|   count|\n",
      "+------------+--------+\n",
      "|        null|10291338|\n",
      "|           N|    1465|\n",
      "|           S|      17|\n",
      "+------------+--------+\n",
      "\n"
     ]
    }
   ],
   "source": [
    "df.groupBy('Spouse_Index').count().orderBy(col(\"count\").desc()).show()"
   ]
  },
  {
   "cell_type": "code",
   "execution_count": 28,
   "id": "a4e6daf9",
   "metadata": {},
   "outputs": [],
   "source": [
    "#Almost entirely null values\n",
    "df = df.drop(df.Spouse_Index) "
   ]
  },
  {
   "cell_type": "markdown",
   "id": "5eb50190",
   "metadata": {},
   "source": [
    "#### Stopped_Being_Customer "
   ]
  },
  {
   "cell_type": "code",
   "execution_count": 29,
   "id": "a282fb33",
   "metadata": {},
   "outputs": [],
   "source": [
    "df = df.drop(df.Stopped_Being_Customer) "
   ]
  },
  {
   "cell_type": "markdown",
   "id": "54c83fbb",
   "metadata": {},
   "source": [
    "#### Channel  "
   ]
  },
  {
   "cell_type": "code",
   "execution_count": 44,
   "id": "e4dba799",
   "metadata": {},
   "outputs": [
    {
     "name": "stdout",
     "output_type": "stream",
     "text": [
      "+-------+-------+\n",
      "|Channel|  count|\n",
      "+-------+-------+\n",
      "|    KHE|3549559|\n",
      "|    KAT|2751064|\n",
      "|    KFC|2440355|\n",
      "|    KFA| 345123|\n",
      "|    KHD|  98039|\n",
      "|    KHK|  82820|\n",
      "|    KAS|  68848|\n",
      "|    KAG|  63321|\n",
      "|    KAA|  53716|\n",
      "|    RED|  52560|\n",
      "|    KAY|  51540|\n",
      "|    KAB|  50764|\n",
      "|    KCC|  41163|\n",
      "|    KAE|  40437|\n",
      "|    KBZ|  37103|\n",
      "|    KFD|  33155|\n",
      "|    KAI|  30259|\n",
      "|    KEY|  28322|\n",
      "|    KAW|  27727|\n",
      "|    KAF|  26062|\n",
      "+-------+-------+\n",
      "only showing top 20 rows\n",
      "\n"
     ]
    }
   ],
   "source": [
    "df.groupBy('Channel').count().orderBy(col(\"count\").desc()).show()"
   ]
  },
  {
   "cell_type": "code",
   "execution_count": 30,
   "id": "925755c8",
   "metadata": {},
   "outputs": [],
   "source": [
    "#Impute the mean\n",
    "df = df.na.fill(value='KHE' ,subset=[\"Channel\"])"
   ]
  },
  {
   "cell_type": "markdown",
   "id": "9b95f31c",
   "metadata": {},
   "source": [
    "#### Customer_Type "
   ]
  },
  {
   "cell_type": "code",
   "execution_count": 46,
   "id": "a4ad9c97",
   "metadata": {},
   "outputs": [
    {
     "name": "stdout",
     "output_type": "stream",
     "text": [
      "+-------------+-------+\n",
      "|Customer_Type|  count|\n",
      "+-------------+-------+\n",
      "|          1.0|7161654|\n",
      "|            1|3131133|\n",
      "|          3.0|     23|\n",
      "|            3|     10|\n",
      "+-------------+-------+\n",
      "\n"
     ]
    }
   ],
   "source": [
    "df.groupBy('Customer_Type').count().orderBy(col(\"count\").desc()).show()"
   ]
  },
  {
   "cell_type": "code",
   "execution_count": 31,
   "id": "51801c4e",
   "metadata": {},
   "outputs": [],
   "source": [
    "#No variation\n",
    "df = df.drop(df.Customer_Type) "
   ]
  },
  {
   "cell_type": "markdown",
   "id": "8da10f53",
   "metadata": {},
   "source": [
    "#### Relationship_to_Bank "
   ]
  },
  {
   "cell_type": "code",
   "execution_count": 48,
   "id": "4e5c8cbb",
   "metadata": {},
   "outputs": [
    {
     "name": "stdout",
     "output_type": "stream",
     "text": [
      "+--------------------+-------+\n",
      "|Relationship_to_Bank|  count|\n",
      "+--------------------+-------+\n",
      "|                   A|5349560|\n",
      "|                   I|4943227|\n",
      "|                   P|     33|\n",
      "+--------------------+-------+\n",
      "\n"
     ]
    }
   ],
   "source": [
    "df.groupBy('Relationship_to_Bank').count().orderBy(col(\"count\").desc()).show()"
   ]
  },
  {
   "cell_type": "code",
   "execution_count": 32,
   "id": "5617d413",
   "metadata": {},
   "outputs": [],
   "source": [
    "##Active Index is a better metric\n",
    "df = df.drop(df.Relationship_to_Bank) "
   ]
  },
  {
   "cell_type": "markdown",
   "id": "1a6daf69",
   "metadata": {},
   "source": [
    "#### Foreigner_Index "
   ]
  },
  {
   "cell_type": "code",
   "execution_count": 50,
   "id": "0a65d082",
   "metadata": {},
   "outputs": [
    {
     "name": "stdout",
     "output_type": "stream",
     "text": [
      "+---------------+-------+\n",
      "|Foreigner_Index|  count|\n",
      "+---------------+-------+\n",
      "|              N|9843447|\n",
      "|              S| 449373|\n",
      "+---------------+-------+\n",
      "\n"
     ]
    }
   ],
   "source": [
    "df.groupBy('Foreigner_Index').count().orderBy(col(\"count\").desc()).show()"
   ]
  },
  {
   "cell_type": "code",
   "execution_count": 33,
   "id": "4ca3874b",
   "metadata": {},
   "outputs": [],
   "source": [
    "#Convert to Integer\n",
    "df = df.withColumn('Foreigner_Index', regexp_replace('Foreigner_Index', 'N', '0'))\n",
    "df = df.withColumn('Foreigner_Index', regexp_replace('Foreigner_Index', 'S', '1'))\n",
    "df = df.withColumn(\"Foreigner_Index\", df[\"Foreigner_Index\"].cast(IntegerType()))"
   ]
  },
  {
   "cell_type": "markdown",
   "id": "7c61a146",
   "metadata": {},
   "source": [
    "#### Address_Type "
   ]
  },
  {
   "cell_type": "code",
   "execution_count": 52,
   "id": "04c73874",
   "metadata": {},
   "outputs": [
    {
     "name": "stdout",
     "output_type": "stream",
     "text": [
      "+------------+--------+\n",
      "|Address_Type|   count|\n",
      "+------------+--------+\n",
      "|           1|10292820|\n",
      "+------------+--------+\n",
      "\n"
     ]
    }
   ],
   "source": [
    "df.groupBy('Address_Type').count().orderBy(col(\"count\").desc()).show()"
   ]
  },
  {
   "cell_type": "code",
   "execution_count": 34,
   "id": "48cab52f",
   "metadata": {},
   "outputs": [],
   "source": [
    "#No variation\n",
    "df = df.drop(df.Address_Type) "
   ]
  },
  {
   "cell_type": "markdown",
   "id": "926935f5",
   "metadata": {},
   "source": [
    "#### Province_Name"
   ]
  },
  {
   "cell_type": "code",
   "execution_count": 54,
   "id": "3f08a08f",
   "metadata": {},
   "outputs": [
    {
     "name": "stdout",
     "output_type": "stream",
     "text": [
      "+-------------+-------+\n",
      "|Province_Name|  count|\n",
      "+-------------+-------+\n",
      "|       MADRID|3350508|\n",
      "|    BARCELONA| 897839|\n",
      "|     VALENCIA| 487125|\n",
      "|      SEVILLA| 481149|\n",
      "|    CORUÑA, A| 338022|\n",
      "|       MURCIA| 301771|\n",
      "|       MALAGA| 293450|\n",
      "|     ZARAGOZA| 263547|\n",
      "|        CADIZ| 235855|\n",
      "|     ALICANTE| 223778|\n",
      "|   PONTEVEDRA| 219439|\n",
      "|     ASTURIAS| 202435|\n",
      "|   VALLADOLID| 182370|\n",
      "|  PALMAS, LAS| 178243|\n",
      "|      BADAJOZ| 153484|\n",
      "|      BIZKAIA| 140174|\n",
      "|       TOLEDO| 136723|\n",
      "|      GRANADA| 132411|\n",
      "|    SALAMANCA| 129170|\n",
      "|    CANTABRIA| 115596|\n",
      "+-------------+-------+\n",
      "only showing top 20 rows\n",
      "\n"
     ]
    }
   ],
   "source": [
    "df.groupBy('Province_Name').count().orderBy(col(\"count\").desc()).show()"
   ]
  },
  {
   "cell_type": "code",
   "execution_count": 35,
   "id": "3d5043e8",
   "metadata": {},
   "outputs": [],
   "source": [
    "#Impute the mean\n",
    "df = df.na.fill(value='MADRID' ,subset=[\"Province_Name\"])"
   ]
  },
  {
   "cell_type": "markdown",
   "id": "11a29738",
   "metadata": {},
   "source": [
    "#### Deceased_Index"
   ]
  },
  {
   "cell_type": "code",
   "execution_count": 56,
   "id": "ba477968",
   "metadata": {},
   "outputs": [
    {
     "name": "stdout",
     "output_type": "stream",
     "text": [
      "+--------------+--------+\n",
      "|Deceased_Index|   count|\n",
      "+--------------+--------+\n",
      "|             N|10268569|\n",
      "|             S|   24251|\n",
      "+--------------+--------+\n",
      "\n"
     ]
    }
   ],
   "source": [
    "df.groupBy('Deceased_Index').count().orderBy(col(\"count\").desc()).show()"
   ]
  },
  {
   "cell_type": "code",
   "execution_count": 36,
   "id": "36098747",
   "metadata": {},
   "outputs": [],
   "source": [
    "#Deceased implies that a user is inactive, so it's redundant for our task\n",
    "df = df.drop(df.Deceased_Index) "
   ]
  },
  {
   "cell_type": "markdown",
   "id": "735dae9b",
   "metadata": {},
   "source": [
    "#### Active "
   ]
  },
  {
   "cell_type": "code",
   "execution_count": 58,
   "id": "7a5ab7a2",
   "metadata": {},
   "outputs": [
    {
     "name": "stdout",
     "output_type": "stream",
     "text": [
      "+------+-------+\n",
      "|Active|  count|\n",
      "+------+-------+\n",
      "|     1|5535383|\n",
      "|     0|4757437|\n",
      "+------+-------+\n",
      "\n"
     ]
    }
   ],
   "source": [
    "df.groupBy('Active').count().orderBy(col(\"count\").desc()).show()"
   ]
  },
  {
   "cell_type": "code",
   "execution_count": 37,
   "id": "79f397ce",
   "metadata": {},
   "outputs": [],
   "source": [
    "#Convert to Integer\n",
    "df = df.withColumn(\"Active\", df[\"Active\"].cast(IntegerType()))"
   ]
  },
  {
   "cell_type": "markdown",
   "id": "935b3cdd",
   "metadata": {},
   "source": [
    "#### Income "
   ]
  },
  {
   "cell_type": "code",
   "execution_count": 59,
   "id": "a28601ac",
   "metadata": {},
   "outputs": [
    {
     "name": "stdout",
     "output_type": "stream",
     "text": [
      "+-------------+-----+\n",
      "|       Income|count|\n",
      "+-------------+-----+\n",
      "|2.889439551E7|   51|\n",
      "|2.554725192E7|   17|\n",
      "|2.425323693E7|   17|\n",
      "|2.372006655E7|   34|\n",
      "|2.203473876E7|   85|\n",
      "|2.167424667E7|   17|\n",
      "|1.984933197E7|   17|\n",
      "| 1.78040481E7|   17|\n",
      "|1.601867784E7|   17|\n",
      "|1.595737164E7|   17|\n",
      "|1.571171646E7|   34|\n",
      "|1.326862128E7|   68|\n",
      "|1.190087151E7|   17|\n",
      "|1.185785646E7|   34|\n",
      "|1.180401498E7|   17|\n",
      "|1.141151727E7|   51|\n",
      "|1.134115248E7|   51|\n",
      "|1.127136645E7|   34|\n",
      "|1.126705683E7|   17|\n",
      "|1.121868825E7|   17|\n",
      "+-------------+-----+\n",
      "only showing top 20 rows\n",
      "\n"
     ]
    }
   ],
   "source": [
    "df.groupBy('Income').count().orderBy(col(\"Income\").desc()).show()"
   ]
  },
  {
   "cell_type": "code",
   "execution_count": 60,
   "id": "37755b06",
   "metadata": {},
   "outputs": [
    {
     "name": "stdout",
     "output_type": "stream",
     "text": [
      "+-----------------+-------+\n",
      "|           Income|  count|\n",
      "+-----------------+-------+\n",
      "|             null|1715895|\n",
      "|          1202.73|     17|\n",
      "|          1471.23|     17|\n",
      "|           2539.8|     17|\n",
      "|          3796.86|     34|\n",
      "|4559.549999999998|     17|\n",
      "|           5130.0|     17|\n",
      "|          5163.75|     34|\n",
      "|          5340.93|     17|\n",
      "|          5437.62|     34|\n",
      "|5651.549999999998|     17|\n",
      "|6070.200000000002|     17|\n",
      "|          6273.06|     17|\n",
      "|6313.200000000002|     17|\n",
      "|           6360.0|     17|\n",
      "|          6480.66|     17|\n",
      "|          6611.58|     34|\n",
      "|          6773.13|     34|\n",
      "|          6875.01|     34|\n",
      "|7143.539999999999|     17|\n",
      "+-----------------+-------+\n",
      "only showing top 20 rows\n",
      "\n"
     ]
    }
   ],
   "source": [
    "df.groupBy('Income').count().orderBy(col(\"Income\")).show()"
   ]
  },
  {
   "cell_type": "code",
   "execution_count": 61,
   "id": "2f174c84",
   "metadata": {},
   "outputs": [
    {
     "data": {
      "text/plain": [
       "<seaborn.axisgrid.FacetGrid at 0x7ffdad2641c0>"
      ]
     },
     "execution_count": 61,
     "metadata": {},
     "output_type": "execute_result"
    },
    {
     "data": {
      "image/png": "[encoded data removed]",
      "text/plain": [
       "<Figure size 432.5x360 with 1 Axes>"
      ]
     },
     "metadata": {
      "needs_background": "light"
     },
     "output_type": "display_data"
    }
   ],
   "source": [
    "incomesubset = df.filter(df.Income < 500000)\n",
    "incomedf = incomesubset.select(['Income']).sample(False, 0.05, 42)\n",
    "incomedf = incomedf.toPandas()\n",
    "sns.displot(incomedf)"
   ]
  },
  {
   "cell_type": "code",
   "execution_count": 62,
   "id": "d9242351",
   "metadata": {},
   "outputs": [
    {
     "data": {
      "text/plain": [
       "[100985.82]"
      ]
     },
     "execution_count": 62,
     "metadata": {},
     "output_type": "execute_result"
    }
   ],
   "source": [
    "# find the median\n",
    "df.approxQuantile(\"Income\", [0.5], 0.02)"
   ]
  },
  {
   "cell_type": "code",
   "execution_count": 38,
   "id": "0eb32fb8",
   "metadata": {},
   "outputs": [],
   "source": [
    "#impute the median\n",
    "df = df.na.fill(value=100985.82,subset=[\"Income\"])"
   ]
  },
  {
   "cell_type": "code",
   "execution_count": 39,
   "id": "9ed3974b",
   "metadata": {},
   "outputs": [],
   "source": [
    "##Bin Income into groups\n",
    "def Income(Income):\n",
    "    if   Income<20000: return 0\n",
    "    elif Income>=20000 and Income<50000: return 1\n",
    "    elif Income>=50000 and Income<100000: return 2\n",
    "    elif Income>=100000 and Income<160000: return 3\n",
    "    elif Income>=160000 and Income<300000: return 4\n",
    "    elif Income>=300000 : return 5\n",
    "udf_Income = udf(Income, IntegerType())\n",
    "df = df.withColumn(\"Income_Range\", udf_Income('Income'))"
   ]
  },
  {
   "cell_type": "code",
   "execution_count": 103,
   "id": "1a249693",
   "metadata": {},
   "outputs": [
    {
     "name": "stdout",
     "output_type": "stream",
     "text": [
      "+------------+-------+\n",
      "|Income_Range|  count|\n",
      "+------------+-------+\n",
      "|           1| 861730|\n",
      "|           3|4078334|\n",
      "|           5| 464321|\n",
      "|           4|1604154|\n",
      "|           2|3256469|\n",
      "|           0|  27812|\n",
      "+------------+-------+\n",
      "\n"
     ]
    }
   ],
   "source": [
    "df.groupBy('Income_Range').count().show()"
   ]
  },
  {
   "cell_type": "code",
   "execution_count": 40,
   "id": "33efe607",
   "metadata": {},
   "outputs": [],
   "source": [
    "df = df.drop(df.Income) "
   ]
  },
  {
   "cell_type": "markdown",
   "id": "458db864",
   "metadata": {},
   "source": [
    "#### Segmentation "
   ]
  },
  {
   "cell_type": "code",
   "execution_count": 67,
   "id": "f57c0f15",
   "metadata": {},
   "outputs": [
    {
     "name": "stdout",
     "output_type": "stream",
     "text": [
      "+------------------+-------+\n",
      "|      Segmentation|  count|\n",
      "+------------------+-------+\n",
      "|              null|    218|\n",
      "|          01 - TOP| 513903|\n",
      "|03 - UNIVERSITARIO|3785190|\n",
      "| 02 - PARTICULARES|5993509|\n",
      "+------------------+-------+\n",
      "\n"
     ]
    }
   ],
   "source": [
    "df.groupBy('Segmentation').count().orderBy(col(\"count\")).show()"
   ]
  },
  {
   "cell_type": "code",
   "execution_count": 41,
   "id": "3ff6a5b2",
   "metadata": {},
   "outputs": [],
   "source": [
    "#Impute the mean\n",
    "df = df.na.fill(value='02 - PARTICULARES' ,subset=[\"Segmentation\"])"
   ]
  },
  {
   "cell_type": "code",
   "execution_count": 42,
   "id": "6fce3092",
   "metadata": {},
   "outputs": [],
   "source": [
    "#Convert to integer\n",
    "df = df.withColumn('Segmentation', regexp_replace('Segmentation', '01 - TOP', '0'))\n",
    "df = df.withColumn('Segmentation', regexp_replace('Segmentation', '02 - PARTICULARES', '1'))\n",
    "df = df.withColumn('Segmentation', regexp_replace('Segmentation', '03 - UNIVERSITARIO', '2'))\n",
    "df = df.withColumn(\"Segmentation\", df[\"Segmentation\"].cast(IntegerType()))"
   ]
  },
  {
   "cell_type": "markdown",
   "id": "89cf31b0",
   "metadata": {},
   "source": [
    "#### Payroll "
   ]
  },
  {
   "cell_type": "code",
   "execution_count": 69,
   "id": "e66c43f3",
   "metadata": {},
   "outputs": [
    {
     "name": "stdout",
     "output_type": "stream",
     "text": [
      "+-------+-------+\n",
      "|Payroll|  count|\n",
      "+-------+-------+\n",
      "|     NA|    106|\n",
      "|      1| 703093|\n",
      "|      0|9589621|\n",
      "+-------+-------+\n",
      "\n"
     ]
    }
   ],
   "source": [
    "df.groupBy('Payroll').count().orderBy(col(\"count\")).show()"
   ]
  },
  {
   "cell_type": "code",
   "execution_count": 43,
   "id": "fc408ee1",
   "metadata": {},
   "outputs": [],
   "source": [
    "#Convert to Integer\n",
    "df = df.withColumn('Payroll', regexp_replace('Payroll', 'NA', '0'))\n",
    "df = df.withColumn(\"Payroll\", df[\"Payroll\"].cast(IntegerType()))"
   ]
  },
  {
   "cell_type": "markdown",
   "id": "7784a6b7",
   "metadata": {},
   "source": [
    "#### Pensions_two "
   ]
  },
  {
   "cell_type": "code",
   "execution_count": 71,
   "id": "a6e85049",
   "metadata": {},
   "outputs": [
    {
     "name": "stdout",
     "output_type": "stream",
     "text": [
      "+------------+-------+\n",
      "|Pensions_two|  count|\n",
      "+------------+-------+\n",
      "|          NA|    106|\n",
      "|           1| 764434|\n",
      "|           0|9528280|\n",
      "+------------+-------+\n",
      "\n"
     ]
    }
   ],
   "source": [
    "df.groupBy('Pensions_two').count().orderBy(col(\"count\")).show()"
   ]
  },
  {
   "cell_type": "code",
   "execution_count": 44,
   "id": "38b18eca",
   "metadata": {},
   "outputs": [],
   "source": [
    "#Convert to Integer\n",
    "df = df.withColumn('Pensions_two', regexp_replace('Pensions_two', 'NA', '0'))\n",
    "df = df.withColumn(\"Pensions_two\", df[\"Pensions_two\"].cast(IntegerType()))"
   ]
  },
  {
   "cell_type": "code",
   "execution_count": 113,
   "id": "da0c2db3",
   "metadata": {},
   "outputs": [
    {
     "data": {
      "text/plain": [
       "['Date',\n",
       " 'Customer_Code',\n",
       " 'Gender',\n",
       " 'Foreigner_Index',\n",
       " 'Channel',\n",
       " 'Province_Name',\n",
       " 'Active',\n",
       " 'Segmentation',\n",
       " 'Savings_Account',\n",
       " 'Guarantees',\n",
       " 'Current_Accounts',\n",
       " 'Derivative',\n",
       " 'Payroll_Account',\n",
       " 'Junior_Account',\n",
       " 'More_Particular_Account',\n",
       " 'Particular_Account',\n",
       " 'Particular_Plus_Account',\n",
       " 'Short_Term_Deposits',\n",
       " 'Medium_Term_Deposits',\n",
       " 'Long_Term_Deposits',\n",
       " 'e-Account',\n",
       " 'Funds',\n",
       " 'Mortgage',\n",
       " 'Pensions',\n",
       " 'Loans',\n",
       " 'Taxes',\n",
       " 'Credit_Card',\n",
       " 'Securities',\n",
       " 'Home_Account',\n",
       " 'Payroll',\n",
       " 'Pensions_two',\n",
       " 'Direct_Debit',\n",
       " 'Age_Range',\n",
       " 'Months_Range',\n",
       " 'Income_Range']"
      ]
     },
     "execution_count": 113,
     "metadata": {},
     "output_type": "execute_result"
    }
   ],
   "source": [
    "df.columns"
   ]
  },
  {
   "cell_type": "code",
   "execution_count": 176,
   "id": "31d8d1b3",
   "metadata": {},
   "outputs": [
    {
     "name": "stdout",
     "output_type": "stream",
     "text": [
      "root\n",
      " |-- Date: string (nullable = true)\n",
      " |-- Customer_Code: double (nullable = true)\n",
      " |-- Gender: integer (nullable = true)\n",
      " |-- Join_Date: string (nullable = true)\n",
      " |-- Foreigner_Index: integer (nullable = true)\n",
      " |-- Channel: string (nullable = false)\n",
      " |-- Province_Name: string (nullable = false)\n",
      " |-- Active: integer (nullable = true)\n",
      " |-- Segmentation: integer (nullable = true)\n",
      " |-- Savings_Account: integer (nullable = true)\n",
      " |-- Guarantees: integer (nullable = true)\n",
      " |-- Current_Accounts: integer (nullable = true)\n",
      " |-- Derivative: integer (nullable = true)\n",
      " |-- Payroll_Account: integer (nullable = true)\n",
      " |-- Junior_Account: integer (nullable = true)\n",
      " |-- More_Particular_Account: integer (nullable = true)\n",
      " |-- Particular_Account: integer (nullable = true)\n",
      " |-- Particular_Plus_Account: integer (nullable = true)\n",
      " |-- Short_Term_Deposits: integer (nullable = true)\n",
      " |-- Medium_Term_Deposits: integer (nullable = true)\n",
      " |-- Long_Term_Deposits: integer (nullable = true)\n",
      " |-- e-Account: integer (nullable = true)\n",
      " |-- Funds: integer (nullable = true)\n",
      " |-- Mortgage: integer (nullable = true)\n",
      " |-- Pensions: integer (nullable = true)\n",
      " |-- Loans: integer (nullable = true)\n",
      " |-- Taxes: integer (nullable = true)\n",
      " |-- Credit_Card: integer (nullable = true)\n",
      " |-- Securities: integer (nullable = true)\n",
      " |-- Home_Account: integer (nullable = true)\n",
      " |-- Payroll: integer (nullable = true)\n",
      " |-- Pensions_two: integer (nullable = true)\n",
      " |-- Direct_Debit: integer (nullable = true)\n",
      " |-- Age_Range: integer (nullable = true)\n",
      " |-- Months_Range: integer (nullable = true)\n",
      " |-- Income_Range: integer (nullable = true)\n",
      "\n"
     ]
    }
   ],
   "source": [
    "df.printSchema()"
   ]
  },
  {
   "cell_type": "code",
   "execution_count": 45,
   "id": "d16577c6",
   "metadata": {},
   "outputs": [],
   "source": [
    "df.write.csv('santander_df_clean.csv')"
   ]
  },
  {
   "cell_type": "code",
   "execution_count": null,
   "id": "aefcb1bb",
   "metadata": {},
   "outputs": [],
   "source": []
  }
 ],
 "metadata": {
  "kernelspec": {
   "display_name": "Python 3",
   "language": "python",
   "name": "python3"
  },
  "language_info": {
   "codemirror_mode": {
    "name": "ipython",
    "version": 3
   },
   "file_extension": ".py",
   "mimetype": "text/x-python",
   "name": "python",
   "nbconvert_exporter": "python",
   "pygments_lexer": "ipython3",
   "version": "3.8.8"
  }
 },
 "nbformat": 4,
 "nbformat_minor": 5
}
