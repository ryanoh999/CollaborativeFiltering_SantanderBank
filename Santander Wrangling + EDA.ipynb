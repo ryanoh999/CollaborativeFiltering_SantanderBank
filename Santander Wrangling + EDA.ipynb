{
 "cells": [
  {
   "cell_type": "markdown",
   "id": "153cf1df",
   "metadata": {},
   "source": [
    "# Initialize Spark"
   ]
  },
  {
   "cell_type": "code",
   "execution_count": 1,
   "id": "108fea53",
   "metadata": {},
   "outputs": [],
   "source": [
    "from pyspark.sql import SparkSession\n",
    "from pyspark.sql.types import StringType, IntegerType, DoubleType\n",
    "from pyspark.sql.functions import udf\n",
    "from pyspark.sql import functions as f\n",
    "from pyspark.sql.functions import col\n",
    "from pyspark.ml.feature import StringIndexer\n",
    "from pyspark.ml.tuning import CrossValidator\n",
    "from pyspark.ml.feature import VectorAssembler\n",
    "from pyspark.ml.feature import PCA\n",
    "from pyspark.mllib.linalg import Vectors\n",
    "from pyspark.mllib.linalg.distributed import RowMatrix"
   ]
  },
  {
   "cell_type": "code",
   "execution_count": 2,
   "id": "b1f0db13",
   "metadata": {},
   "outputs": [],
   "source": [
    "spark = SparkSession \\\n",
    "    .builder \\\n",
    "    .master(\"local[*]\") \\\n",
    "    .appName(\"xor\") \\\n",
    "    .config(\"spark.executor.memory\", '2g') \\\n",
    "    .config('spark.executor.cores', '1') \\\n",
    "    .config('spark.cores.max', '1') \\\n",
    "    .config(\"spark.driver.memory\",'1g') \\\n",
    "    .getOrCreate()\n",
    "\n",
    "sc = spark.sparkContext"
   ]
  },
  {
   "cell_type": "markdown",
   "id": "bbcc7dd7",
   "metadata": {},
   "source": [
    "# Import Data, Inspect Columns"
   ]
  },
  {
   "cell_type": "code",
   "execution_count": 70,
   "id": "15b5bfb8",
   "metadata": {},
   "outputs": [],
   "source": [
    "df = spark.read.option(\"inferSchema\", \"true\").csv('train_ver2.csv', header = True)"
   ]
  },
  {
   "cell_type": "code",
   "execution_count": 4,
   "id": "34b58f78",
   "metadata": {},
   "outputs": [
    {
     "data": {
      "text/plain": [
       "['fecha_dato',\n",
       " 'ncodpers',\n",
       " 'ind_empleado',\n",
       " 'pais_residencia',\n",
       " 'sexo',\n",
       " 'age',\n",
       " 'fecha_alta',\n",
       " 'ind_nuevo',\n",
       " 'antiguedad',\n",
       " 'indrel',\n",
       " 'ult_fec_cli_1t',\n",
       " 'indrel_1mes',\n",
       " 'tiprel_1mes',\n",
       " 'indresi',\n",
       " 'indext',\n",
       " 'conyuemp',\n",
       " 'canal_entrada',\n",
       " 'indfall',\n",
       " 'tipodom',\n",
       " 'cod_prov',\n",
       " 'nomprov',\n",
       " 'ind_actividad_cliente',\n",
       " 'renta',\n",
       " 'segmento',\n",
       " 'ind_ahor_fin_ult1',\n",
       " 'ind_aval_fin_ult1',\n",
       " 'ind_cco_fin_ult1',\n",
       " 'ind_cder_fin_ult1',\n",
       " 'ind_cno_fin_ult1',\n",
       " 'ind_ctju_fin_ult1',\n",
       " 'ind_ctma_fin_ult1',\n",
       " 'ind_ctop_fin_ult1',\n",
       " 'ind_ctpp_fin_ult1',\n",
       " 'ind_deco_fin_ult1',\n",
       " 'ind_deme_fin_ult1',\n",
       " 'ind_dela_fin_ult1',\n",
       " 'ind_ecue_fin_ult1',\n",
       " 'ind_fond_fin_ult1',\n",
       " 'ind_hip_fin_ult1',\n",
       " 'ind_plan_fin_ult1',\n",
       " 'ind_pres_fin_ult1',\n",
       " 'ind_reca_fin_ult1',\n",
       " 'ind_tjcr_fin_ult1',\n",
       " 'ind_valo_fin_ult1',\n",
       " 'ind_viv_fin_ult1',\n",
       " 'ind_nomina_ult1',\n",
       " 'ind_nom_pens_ult1',\n",
       " 'ind_recibo_ult1']"
      ]
     },
     "execution_count": 4,
     "metadata": {},
     "output_type": "execute_result"
    }
   ],
   "source": [
    "df.columns"
   ]
  },
  {
   "cell_type": "markdown",
   "id": "91933e32",
   "metadata": {},
   "source": [
    "The columns are in Spanish and are a little bit vague. I'm going to rename all of them (except for age :))"
   ]
  },
  {
   "cell_type": "code",
   "execution_count": 71,
   "id": "5877dcdf",
   "metadata": {},
   "outputs": [
    {
     "name": "stdout",
     "output_type": "stream",
     "text": [
      "root\n",
      " |-- Date: string (nullable = true)\n",
      " |-- Customer_Code: double (nullable = true)\n",
      " |-- Employee_Index: string (nullable = true)\n",
      " |-- Country_Residence: string (nullable = true)\n",
      " |-- Gender: string (nullable = true)\n",
      " |-- age: string (nullable = true)\n",
      " |-- Join_Date: string (nullable = true)\n",
      " |-- New_customer: string (nullable = true)\n",
      " |-- Months_at_Bank: string (nullable = true)\n",
      " |-- Customer_during_Month: string (nullable = true)\n",
      " |-- Stopped_Being_Customer: string (nullable = true)\n",
      " |-- Customer_Type: string (nullable = true)\n",
      " |-- Relationship_to_Bank: string (nullable = true)\n",
      " |-- Residence_Index: string (nullable = true)\n",
      " |-- Foreigner_Index: string (nullable = true)\n",
      " |-- Spouse_Index: string (nullable = true)\n",
      " |-- Channel: string (nullable = true)\n",
      " |-- Deceased_Index: string (nullable = true)\n",
      " |-- Address_Type: string (nullable = true)\n",
      " |-- Province_Code: string (nullable = true)\n",
      " |-- Province_Name: string (nullable = true)\n",
      " |-- Active: string (nullable = true)\n",
      " |-- Income: double (nullable = true)\n",
      " |-- Segmentation: string (nullable = true)\n",
      " |-- Savings_Account: integer (nullable = true)\n",
      " |-- Guarantees: integer (nullable = true)\n",
      " |-- Current_Accounts: integer (nullable = true)\n",
      " |-- Derivative: integer (nullable = true)\n",
      " |-- Payroll_Account: integer (nullable = true)\n",
      " |-- Junior_Account: integer (nullable = true)\n",
      " |-- More_Particular_Account: integer (nullable = true)\n",
      " |-- Particular_Account: integer (nullable = true)\n",
      " |-- Particular_Plus_Account: integer (nullable = true)\n",
      " |-- Short_Term_Deposits: integer (nullable = true)\n",
      " |-- Medium_Term_Deposits: integer (nullable = true)\n",
      " |-- Long_Term_Deposits: integer (nullable = true)\n",
      " |-- e-Account: integer (nullable = true)\n",
      " |-- Funds: integer (nullable = true)\n",
      " |-- Mortgage: integer (nullable = true)\n",
      " |-- Pensions: integer (nullable = true)\n",
      " |-- Loans: integer (nullable = true)\n",
      " |-- Taxes: integer (nullable = true)\n",
      " |-- Credit_Card: integer (nullable = true)\n",
      " |-- Securities: integer (nullable = true)\n",
      " |-- Home_Account: integer (nullable = true)\n",
      " |-- Payroll: string (nullable = true)\n",
      " |-- Pensions_two: string (nullable = true)\n",
      " |-- Direct_Debit: integer (nullable = true)\n",
      "\n"
     ]
    }
   ],
   "source": [
    "df = df.withColumnRenamed(\"fecha_dato\", \"Date\")\\\n",
    "    .withColumnRenamed(\"ncodpers\", \"Customer_Code\")\\\n",
    "    .withColumnRenamed(\"ind_empleado\", \"Employee_Index\")\\\n",
    "    .withColumnRenamed(\"pais_residencia\", \"Country_Residence\")\\\n",
    "    .withColumnRenamed(\"fecha_alta\", \"Join_Date\")\\\n",
    "    .withColumnRenamed(\"ind_nuevo\", \"New_customer\")\\\n",
    "    .withColumnRenamed(\"sexo\", \"Gender\")\\\n",
    "    .withColumnRenamed(\"canal_entrada\", \"Channel\")\\\n",
    "    .withColumnRenamed(\"antiguedad\", \"Months_at_Bank\")\\\n",
    "    .withColumnRenamed(\"indrel\", \"Customer_during_Month\")\\\n",
    "    .withColumnRenamed(\"ult_fec_cli_1t\", \"Stopped_Being_Customer\")\\\n",
    "    .withColumnRenamed(\"indrel_1mes\", \"Customer_Type\")\\\n",
    "    .withColumnRenamed(\"tiprel_1mes\", \"Relationship_to_Bank\")\\\n",
    "    .withColumnRenamed(\"indresi\", \"Residence_Index\")\\\n",
    "    .withColumnRenamed(\"indext\", \"Foreigner_Index\")\\\n",
    "    .withColumnRenamed(\"conyuemp\", \"Spouse_Index\")\\\n",
    "    .withColumnRenamed(\"indfall\", \"Deceased_Index\")\\\n",
    "    .withColumnRenamed(\"tipodom\", \"Address_Type\")\\\n",
    "    .withColumnRenamed(\"cod_prov\", \"Province_Code\")\\\n",
    "    .withColumnRenamed(\"nomprov\", \"Province_Name\")\\\n",
    "    .withColumnRenamed(\"ind_actividad_cliente\", \"Active\")\\\n",
    "    .withColumnRenamed(\"renta\", \"Income\")\\\n",
    "    .withColumnRenamed(\"segmento\", \"Segmentation\")\\\n",
    "    .withColumnRenamed(\"ind_ahor_fin_ult1\", \"Savings_Account\")\\\n",
    "    .withColumnRenamed(\"ind_aval_fin_ult1\", \"Guarantees\")\\\n",
    "    .withColumnRenamed(\"ind_cco_fin_ult1\", \"Current_Accounts\")\\\n",
    "    .withColumnRenamed(\"ind_cder_fin_ult1\", \"Derivative\")\\\n",
    "    .withColumnRenamed(\"ind_cno_fin_ult1\", \"Payroll_Account\")\\\n",
    "    .withColumnRenamed(\"ind_ctju_fin_ult1\", \"Junior_Account\")\\\n",
    "    .withColumnRenamed(\"ind_ctma_fin_ult1\", \"More_Particular_Account\")\\\n",
    "    .withColumnRenamed(\"ind_ctop_fin_ult1\", \"Particular_Account\")\\\n",
    "    .withColumnRenamed(\"ind_ctpp_fin_ult1\", \"Particular_Plus_Account\")\\\n",
    "    .withColumnRenamed(\"ind_deco_fin_ult1\", \"Short_Term_Deposits\")\\\n",
    "    .withColumnRenamed(\"ind_deme_fin_ult1\", \"Medium_Term_Deposits\")\\\n",
    "    .withColumnRenamed(\"ind_dela_fin_ult1\", \"Long_Term_Deposits\")\\\n",
    "    .withColumnRenamed(\"ind_ecue_fin_ult1\", \"e-Account\")\\\n",
    "    .withColumnRenamed(\"ind_fond_fin_ult1\", \"Funds\")\\\n",
    "    .withColumnRenamed(\"ind_hip_fin_ult1\", \"Mortgage\")\\\n",
    "    .withColumnRenamed(\"ind_plan_fin_ult1\", \"Pensions\")\\\n",
    "    .withColumnRenamed(\"ind_pres_fin_ult1\", \"Loans\")\\\n",
    "    .withColumnRenamed(\"ind_reca_fin_ult1\", \"Taxes\")\\\n",
    "    .withColumnRenamed(\"ind_tjcr_fin_ult1\", \"Credit_Card\")\\\n",
    "    .withColumnRenamed(\"ind_valo_fin_ult1\", \"Securities\")\\\n",
    "    .withColumnRenamed(\"ind_viv_fin_ult1\", \"Home_Account\")\\\n",
    "    .withColumnRenamed(\"ind_nomina_ult1\", \"Payroll\")\\\n",
    "    .withColumnRenamed(\"ind_nom_pens_ult1\", \"Pensions_two\")\\\n",
    "    .withColumnRenamed(\"ind_recibo_ult1\", \"Direct_Debit\")\n",
    "df.printSchema()"
   ]
  },
  {
   "cell_type": "markdown",
   "id": "7dd7feef",
   "metadata": {},
   "source": [
    "Some of the feature columns appear to be redundant:"
   ]
  },
  {
   "cell_type": "code",
   "execution_count": 72,
   "id": "75589e9a",
   "metadata": {},
   "outputs": [],
   "source": [
    "df = df.drop(df.Province_Code)"
   ]
  },
  {
   "cell_type": "markdown",
   "id": "0937b204",
   "metadata": {},
   "source": [
    "Residence_Index and Foreigner_Index are inverses of each other; we don't need both"
   ]
  },
  {
   "cell_type": "code",
   "execution_count": 73,
   "id": "44dd6c11",
   "metadata": {},
   "outputs": [],
   "source": [
    "df = df.drop(df.Residence_Index) "
   ]
  },
  {
   "cell_type": "markdown",
   "id": "0123b48f",
   "metadata": {},
   "source": [
    "Inspect the data for NANs and Null values:"
   ]
  },
  {
   "cell_type": "code",
   "execution_count": 8,
   "id": "bc13400c",
   "metadata": {
    "scrolled": false
   },
   "outputs": [
    {
     "data": {
      "text/html": [
       "<div>\n",
       "<style scoped>\n",
       "    .dataframe tbody tr th:only-of-type {\n",
       "        vertical-align: middle;\n",
       "    }\n",
       "\n",
       "    .dataframe tbody tr th {\n",
       "        vertical-align: top;\n",
       "    }\n",
       "\n",
       "    .dataframe thead th {\n",
       "        text-align: right;\n",
       "    }\n",
       "</style>\n",
       "<table border=\"1\" class=\"dataframe\">\n",
       "  <thead>\n",
       "    <tr style=\"text-align: right;\">\n",
       "      <th></th>\n",
       "      <th>0</th>\n",
       "    </tr>\n",
       "  </thead>\n",
       "  <tbody>\n",
       "    <tr>\n",
       "      <th>Date</th>\n",
       "      <td>0</td>\n",
       "    </tr>\n",
       "    <tr>\n",
       "      <th>Customer_Code</th>\n",
       "      <td>0</td>\n",
       "    </tr>\n",
       "    <tr>\n",
       "      <th>Employee_Index</th>\n",
       "      <td>27734</td>\n",
       "    </tr>\n",
       "    <tr>\n",
       "      <th>Country_Residence</th>\n",
       "      <td>27734</td>\n",
       "    </tr>\n",
       "    <tr>\n",
       "      <th>Gender</th>\n",
       "      <td>27804</td>\n",
       "    </tr>\n",
       "    <tr>\n",
       "      <th>age</th>\n",
       "      <td>0</td>\n",
       "    </tr>\n",
       "    <tr>\n",
       "      <th>Join_Date</th>\n",
       "      <td>27734</td>\n",
       "    </tr>\n",
       "    <tr>\n",
       "      <th>New_customer</th>\n",
       "      <td>0</td>\n",
       "    </tr>\n",
       "    <tr>\n",
       "      <th>Months_at_Bank</th>\n",
       "      <td>0</td>\n",
       "    </tr>\n",
       "    <tr>\n",
       "      <th>Customer_during_Month</th>\n",
       "      <td>0</td>\n",
       "    </tr>\n",
       "    <tr>\n",
       "      <th>Stopped_Being_Customer</th>\n",
       "      <td>13622516</td>\n",
       "    </tr>\n",
       "    <tr>\n",
       "      <th>Customer_Type</th>\n",
       "      <td>149781</td>\n",
       "    </tr>\n",
       "    <tr>\n",
       "      <th>Relationship_to_Bank</th>\n",
       "      <td>149781</td>\n",
       "    </tr>\n",
       "    <tr>\n",
       "      <th>Foreigner_Index</th>\n",
       "      <td>27734</td>\n",
       "    </tr>\n",
       "    <tr>\n",
       "      <th>Spouse_Index</th>\n",
       "      <td>13645501</td>\n",
       "    </tr>\n",
       "    <tr>\n",
       "      <th>Channel</th>\n",
       "      <td>186126</td>\n",
       "    </tr>\n",
       "    <tr>\n",
       "      <th>Deceased_Index</th>\n",
       "      <td>27734</td>\n",
       "    </tr>\n",
       "    <tr>\n",
       "      <th>Address_Type</th>\n",
       "      <td>0</td>\n",
       "    </tr>\n",
       "    <tr>\n",
       "      <th>Province_Name</th>\n",
       "      <td>93591</td>\n",
       "    </tr>\n",
       "    <tr>\n",
       "      <th>Active</th>\n",
       "      <td>0</td>\n",
       "    </tr>\n",
       "    <tr>\n",
       "      <th>Income</th>\n",
       "      <td>2794375</td>\n",
       "    </tr>\n",
       "    <tr>\n",
       "      <th>Segmentation</th>\n",
       "      <td>189368</td>\n",
       "    </tr>\n",
       "    <tr>\n",
       "      <th>Savings_Account</th>\n",
       "      <td>0</td>\n",
       "    </tr>\n",
       "    <tr>\n",
       "      <th>Guarantees</th>\n",
       "      <td>0</td>\n",
       "    </tr>\n",
       "    <tr>\n",
       "      <th>Current_Accounts</th>\n",
       "      <td>0</td>\n",
       "    </tr>\n",
       "    <tr>\n",
       "      <th>Derivative</th>\n",
       "      <td>0</td>\n",
       "    </tr>\n",
       "    <tr>\n",
       "      <th>Payroll_Account</th>\n",
       "      <td>0</td>\n",
       "    </tr>\n",
       "    <tr>\n",
       "      <th>Junior_Account</th>\n",
       "      <td>0</td>\n",
       "    </tr>\n",
       "    <tr>\n",
       "      <th>More_Particular_Account</th>\n",
       "      <td>0</td>\n",
       "    </tr>\n",
       "    <tr>\n",
       "      <th>Particular_Account</th>\n",
       "      <td>0</td>\n",
       "    </tr>\n",
       "    <tr>\n",
       "      <th>Particular_Plus_Account</th>\n",
       "      <td>0</td>\n",
       "    </tr>\n",
       "    <tr>\n",
       "      <th>Short_Term_Deposits</th>\n",
       "      <td>0</td>\n",
       "    </tr>\n",
       "    <tr>\n",
       "      <th>Medium_Term_Deposits</th>\n",
       "      <td>0</td>\n",
       "    </tr>\n",
       "    <tr>\n",
       "      <th>Long_Term_Deposits</th>\n",
       "      <td>0</td>\n",
       "    </tr>\n",
       "    <tr>\n",
       "      <th>e-Account</th>\n",
       "      <td>0</td>\n",
       "    </tr>\n",
       "    <tr>\n",
       "      <th>Funds</th>\n",
       "      <td>0</td>\n",
       "    </tr>\n",
       "    <tr>\n",
       "      <th>Mortgage</th>\n",
       "      <td>0</td>\n",
       "    </tr>\n",
       "    <tr>\n",
       "      <th>Pensions</th>\n",
       "      <td>0</td>\n",
       "    </tr>\n",
       "    <tr>\n",
       "      <th>Loans</th>\n",
       "      <td>0</td>\n",
       "    </tr>\n",
       "    <tr>\n",
       "      <th>Taxes</th>\n",
       "      <td>0</td>\n",
       "    </tr>\n",
       "    <tr>\n",
       "      <th>Credit_Card</th>\n",
       "      <td>0</td>\n",
       "    </tr>\n",
       "    <tr>\n",
       "      <th>Securities</th>\n",
       "      <td>0</td>\n",
       "    </tr>\n",
       "    <tr>\n",
       "      <th>Home_Account</th>\n",
       "      <td>0</td>\n",
       "    </tr>\n",
       "    <tr>\n",
       "      <th>Payroll</th>\n",
       "      <td>0</td>\n",
       "    </tr>\n",
       "    <tr>\n",
       "      <th>Pensions_two</th>\n",
       "      <td>0</td>\n",
       "    </tr>\n",
       "    <tr>\n",
       "      <th>Direct_Debit</th>\n",
       "      <td>0</td>\n",
       "    </tr>\n",
       "  </tbody>\n",
       "</table>\n",
       "</div>"
      ],
      "text/plain": [
       "                                0\n",
       "Date                            0\n",
       "Customer_Code                   0\n",
       "Employee_Index              27734\n",
       "Country_Residence           27734\n",
       "Gender                      27804\n",
       "age                             0\n",
       "Join_Date                   27734\n",
       "New_customer                    0\n",
       "Months_at_Bank                  0\n",
       "Customer_during_Month           0\n",
       "Stopped_Being_Customer   13622516\n",
       "Customer_Type              149781\n",
       "Relationship_to_Bank       149781\n",
       "Foreigner_Index             27734\n",
       "Spouse_Index             13645501\n",
       "Channel                    186126\n",
       "Deceased_Index              27734\n",
       "Address_Type                    0\n",
       "Province_Name               93591\n",
       "Active                          0\n",
       "Income                    2794375\n",
       "Segmentation               189368\n",
       "Savings_Account                 0\n",
       "Guarantees                      0\n",
       "Current_Accounts                0\n",
       "Derivative                      0\n",
       "Payroll_Account                 0\n",
       "Junior_Account                  0\n",
       "More_Particular_Account         0\n",
       "Particular_Account              0\n",
       "Particular_Plus_Account         0\n",
       "Short_Term_Deposits             0\n",
       "Medium_Term_Deposits            0\n",
       "Long_Term_Deposits              0\n",
       "e-Account                       0\n",
       "Funds                           0\n",
       "Mortgage                        0\n",
       "Pensions                        0\n",
       "Loans                           0\n",
       "Taxes                           0\n",
       "Credit_Card                     0\n",
       "Securities                      0\n",
       "Home_Account                    0\n",
       "Payroll                         0\n",
       "Pensions_two                    0\n",
       "Direct_Debit                    0"
      ]
     },
     "execution_count": 8,
     "metadata": {},
     "output_type": "execute_result"
    }
   ],
   "source": [
    "from pyspark.sql.functions import isnan, when, count, col\n",
    "\n",
    "df.select([count(when(col(c).isNull(), c)).alias(c) for c in \n",
    "           df.columns]).toPandas().T\n"
   ]
  },
  {
   "cell_type": "markdown",
   "id": "1f305382",
   "metadata": {},
   "source": [
    "The good news is that there are no NAN values, and that there are no null values for any of the product columns. The bad news is that 15 of the 22 feature columns in the training set have null values."
   ]
  },
  {
   "cell_type": "markdown",
   "id": "67c5ac9d",
   "metadata": {},
   "source": [
    " ##  Highlighting Columns and Imputing Values"
   ]
  },
  {
   "cell_type": "markdown",
   "id": "1b63e68e",
   "metadata": {},
   "source": [
    "#### Customer_Code "
   ]
  },
  {
   "cell_type": "code",
   "execution_count": 9,
   "id": "990e0dd3",
   "metadata": {},
   "outputs": [
    {
     "name": "stdout",
     "output_type": "stream",
     "text": [
      "+-------------+-----+\n",
      "|Customer_Code|count|\n",
      "+-------------+-----+\n",
      "|    1050599.0|   17|\n",
      "|    1052358.0|   10|\n",
      "|    1052187.0|   17|\n",
      "|    1048934.0|   15|\n",
      "|    1048839.0|   17|\n",
      "|    1049108.0|   17|\n",
      "|    1048792.0|   17|\n",
      "|    1048656.0|   17|\n",
      "|    1049799.0|   17|\n",
      "|    1049905.0|   17|\n",
      "|    1049944.0|   17|\n",
      "|    1056294.0|   17|\n",
      "|    1055185.0|   17|\n",
      "|    1055633.0|   17|\n",
      "|    1055721.0|   17|\n",
      "|    1055528.0|   17|\n",
      "|    1056869.0|   17|\n",
      "|    1056843.0|   17|\n",
      "|    1056723.0|   17|\n",
      "|    1056566.0|   17|\n",
      "+-------------+-----+\n",
      "only showing top 20 rows\n",
      "\n"
     ]
    }
   ],
   "source": [
    "ccgroup = df.groupBy('Customer_Code').count()\n",
    "df.groupBy('Customer_Code').count().show()"
   ]
  },
  {
   "cell_type": "code",
   "execution_count": 10,
   "id": "784f0611",
   "metadata": {},
   "outputs": [],
   "source": [
    "cc_countdf = df.groupBy('Customer_Code').count()"
   ]
  },
  {
   "cell_type": "code",
   "execution_count": 11,
   "id": "d0a8e9d8",
   "metadata": {},
   "outputs": [],
   "source": [
    "cc_full = cc_countdf.filter(\"count==17\")\n",
    "cc_incomplete = cc_countdf.filter(\"count!=17\")"
   ]
  },
  {
   "cell_type": "code",
   "execution_count": 12,
   "id": "c3488e66",
   "metadata": {},
   "outputs": [
    {
     "data": {
      "text/plain": [
       "605464"
      ]
     },
     "execution_count": 12,
     "metadata": {},
     "output_type": "execute_result"
    }
   ],
   "source": [
    "cc_full.count()"
   ]
  },
  {
   "cell_type": "code",
   "execution_count": 13,
   "id": "70dda469",
   "metadata": {},
   "outputs": [
    {
     "data": {
      "text/plain": [
       "351181"
      ]
     },
     "execution_count": 13,
     "metadata": {},
     "output_type": "execute_result"
    }
   ],
   "source": [
    "cc_incomplete.count()"
   ]
  },
  {
   "cell_type": "markdown",
   "id": "631e42d4",
   "metadata": {},
   "source": [
    "Each individual customer has up to 17 observations, which coincides with the 17 months that the dataset measures. We do not want customers with less than 17 observations because we want to look at the same, full range of months for every customer to best optimize our collaborative filtering system. Luckily, we have over 600,000 customers with a full range of data."
   ]
  },
  {
   "cell_type": "code",
   "execution_count": 14,
   "id": "1e654c4f",
   "metadata": {},
   "outputs": [],
   "source": [
    "#deleteccs = cc_incomplete.select(\"Customer_Code\").rdd.flatMap(lambda x: x).collect()"
   ]
  },
  {
   "cell_type": "code",
   "execution_count": 15,
   "id": "f2af262d",
   "metadata": {},
   "outputs": [],
   "source": [
    "#df = df.filter(~f.col(\"Customer_Code\").isin(deleteccs))"
   ]
  },
  {
   "cell_type": "markdown",
   "id": "0cf4510e",
   "metadata": {},
   "source": [
    "#### Employee_Index"
   ]
  },
  {
   "cell_type": "code",
   "execution_count": 9,
   "id": "e228c0e7",
   "metadata": {},
   "outputs": [
    {
     "name": "stdout",
     "output_type": "stream",
     "text": [
      "+--------------+--------+\n",
      "|Employee_Index|   count|\n",
      "+--------------+--------+\n",
      "|             F|    2523|\n",
      "|          null|   27734|\n",
      "|             B|    3566|\n",
      "|             A|    2492|\n",
      "|             N|13610977|\n",
      "|             S|      17|\n",
      "+--------------+--------+\n",
      "\n"
     ]
    }
   ],
   "source": [
    "df.groupBy('Employee_Index').count().show()"
   ]
  },
  {
   "cell_type": "code",
   "execution_count": 74,
   "id": "3563cc39",
   "metadata": {},
   "outputs": [],
   "source": [
    "#No variation\n",
    "df = df.drop(df.Employee_Index) "
   ]
  },
  {
   "cell_type": "markdown",
   "id": "972879a9",
   "metadata": {},
   "source": [
    "#### Country_Residence"
   ]
  },
  {
   "cell_type": "code",
   "execution_count": 11,
   "id": "15e0153d",
   "metadata": {},
   "outputs": [
    {
     "name": "stdout",
     "output_type": "stream",
     "text": [
      "+-----------------+--------+\n",
      "|Country_Residence|   count|\n",
      "+-----------------+--------+\n",
      "|               ES|13553710|\n",
      "|             null|   27734|\n",
      "|               FR|    5161|\n",
      "|               AR|    4835|\n",
      "|               DE|    4625|\n",
      "|               GB|    4605|\n",
      "|               US|    3651|\n",
      "|               CO|    3526|\n",
      "|               IT|    2947|\n",
      "|               RO|    2931|\n",
      "|               MX|    2573|\n",
      "|               BR|    2351|\n",
      "|               VE|    2331|\n",
      "|               EC|    2169|\n",
      "|               CH|    1995|\n",
      "|               BE|    1526|\n",
      "|               BO|    1514|\n",
      "|               PY|    1430|\n",
      "|               PT|    1419|\n",
      "|               CL|     989|\n",
      "+-----------------+--------+\n",
      "only showing top 20 rows\n",
      "\n"
     ]
    }
   ],
   "source": [
    "df.groupBy('Country_Residence').count().orderBy(col(\"count\").desc()).show()"
   ]
  },
  {
   "cell_type": "code",
   "execution_count": 75,
   "id": "428a901f",
   "metadata": {},
   "outputs": [],
   "source": [
    "##Not enough values in non-Spain Countries to justify this column. Will use 'Foreigner Index' instead\n",
    "df = df.drop(df.Country_Residence) "
   ]
  },
  {
   "cell_type": "markdown",
   "id": "6a5863af",
   "metadata": {},
   "source": [
    "#### Gender "
   ]
  },
  {
   "cell_type": "code",
   "execution_count": 13,
   "id": "25e03700",
   "metadata": {},
   "outputs": [
    {
     "name": "stdout",
     "output_type": "stream",
     "text": [
      "+------+-------+\n",
      "|Gender|  count|\n",
      "+------+-------+\n",
      "|     V|7424252|\n",
      "|     H|6195253|\n",
      "|  null|  27804|\n",
      "+------+-------+\n",
      "\n"
     ]
    }
   ],
   "source": [
    "df.groupBy('Gender').count().orderBy(col(\"count\").desc()).show()"
   ]
  },
  {
   "cell_type": "code",
   "execution_count": 76,
   "id": "f9ee4855",
   "metadata": {},
   "outputs": [],
   "source": [
    "from pyspark.sql.functions import regexp_replace\n",
    "df = df.withColumn('Gender', regexp_replace('Gender', 'V', 'Female'))\n",
    "df = df.withColumn('Gender', regexp_replace('Gender', 'H', 'Male'))"
   ]
  },
  {
   "cell_type": "markdown",
   "id": "6ac0ad11",
   "metadata": {},
   "source": [
    "#### Age"
   ]
  },
  {
   "cell_type": "code",
   "execution_count": 15,
   "id": "216c422a",
   "metadata": {},
   "outputs": [
    {
     "name": "stdout",
     "output_type": "stream",
     "text": [
      "+---+------+\n",
      "|age| count|\n",
      "+---+------+\n",
      "| 23|779884|\n",
      "| 22|736314|\n",
      "| 24|734785|\n",
      "| 21|675988|\n",
      "| 25|472016|\n",
      "| 20|422867|\n",
      "| 26|347778|\n",
      "| 43|324303|\n",
      "| 44|322955|\n",
      "| 42|319713|\n",
      "| 45|314771|\n",
      "| 41|309051|\n",
      "| 46|299365|\n",
      "| 40|287754|\n",
      "| 47|286505|\n",
      "| 27|281981|\n",
      "| 48|271576|\n",
      "| 39|260548|\n",
      "| 49|250484|\n",
      "| 28|240192|\n",
      "+---+------+\n",
      "only showing top 20 rows\n",
      "\n"
     ]
    }
   ],
   "source": [
    "df.groupBy('age').count().orderBy(col(\"count\").desc()).show()"
   ]
  },
  {
   "cell_type": "code",
   "execution_count": 77,
   "id": "59fa7999",
   "metadata": {},
   "outputs": [],
   "source": [
    "from pyspark.sql.types import IntegerType\n",
    "df = df.withColumn(\"Age\", df[\"age\"].cast(IntegerType()))"
   ]
  },
  {
   "cell_type": "code",
   "execution_count": 17,
   "id": "d9466d5f",
   "metadata": {},
   "outputs": [
    {
     "data": {
      "text/plain": [
       "<seaborn.axisgrid.FacetGrid at 0x7f881f3bed60>"
      ]
     },
     "execution_count": 17,
     "metadata": {},
     "output_type": "execute_result"
    },
    {
     "data": {
      "image/png": "[encoded data removed]",
      "text/plain": [
       "<Figure size 415.375x360 with 1 Axes>"
      ]
     },
     "metadata": {
      "needs_background": "light"
     },
     "output_type": "display_data"
    }
   ],
   "source": [
    "import seaborn as sns\n",
    "agedf = df.select(['Age']).sample(False, .05, 42)\n",
    "agedf = agedf.toPandas()\n",
    "sns.displot(agedf)"
   ]
  },
  {
   "cell_type": "code",
   "execution_count": 18,
   "id": "9b2faed0",
   "metadata": {},
   "outputs": [
    {
     "data": {
      "text/plain": [
       "[39.0]"
      ]
     },
     "execution_count": 18,
     "metadata": {},
     "output_type": "execute_result"
    }
   ],
   "source": [
    "# find the median\n",
    "df.approxQuantile(\"Age\", [0.5], 0.02)"
   ]
  },
  {
   "cell_type": "code",
   "execution_count": 78,
   "id": "3fa0e098",
   "metadata": {},
   "outputs": [],
   "source": [
    "#impute the median\n",
    "df = df.na.fill(value=39,subset=[\"Age\"])"
   ]
  },
  {
   "cell_type": "code",
   "execution_count": 79,
   "id": "778f5657",
   "metadata": {},
   "outputs": [],
   "source": [
    "###Bin Age into groups\n",
    "def Age_Range(Age):\n",
    "    if Age < 13:\n",
    "        return '0-12'\n",
    "    elif Age > 12 and Age < 18:\n",
    "        return '13-17'\n",
    "    elif Age > 17 and Age < 25:\n",
    "        return '18-24'\n",
    "    elif Age > 24 and Age < 41:\n",
    "        return '25-40'\n",
    "    elif Age > 40 and Age < 66:\n",
    "        return '41-65'\n",
    "    elif Age > 65 :\n",
    "        return '66+'\n",
    "udf_Age = udf(Age_Range, StringType())\n",
    "df = df.withColumn(\"Age_Range\", udf_Age('Age'))"
   ]
  },
  {
   "cell_type": "code",
   "execution_count": 21,
   "id": "64387406",
   "metadata": {},
   "outputs": [
    {
     "name": "stdout",
     "output_type": "stream",
     "text": [
      "+---------+-------+\n",
      "|Age_Range|  count|\n",
      "+---------+-------+\n",
      "|    25-40|3818707|\n",
      "|    41-65|5065353|\n",
      "|    13-17|  62242|\n",
      "|    18-24|3382424|\n",
      "|      66+|1262029|\n",
      "|     0-12|  56554|\n",
      "+---------+-------+\n",
      "\n"
     ]
    }
   ],
   "source": [
    "df.groupBy('Age_Range').count().show()"
   ]
  },
  {
   "cell_type": "code",
   "execution_count": 80,
   "id": "0f95627f",
   "metadata": {},
   "outputs": [],
   "source": [
    "df = df.drop(df.Age) "
   ]
  },
  {
   "cell_type": "markdown",
   "id": "322a4b5c",
   "metadata": {},
   "source": [
    "#### Join Date"
   ]
  },
  {
   "cell_type": "code",
   "execution_count": 23,
   "id": "dc762dd3",
   "metadata": {},
   "outputs": [
    {
     "name": "stdout",
     "output_type": "stream",
     "text": [
      "+----------+-----+\n",
      "| Join_Date|count|\n",
      "+----------+-----+\n",
      "|2014-07-28|57389|\n",
      "|2014-10-03|54287|\n",
      "|2014-08-04|45746|\n",
      "|2013-10-14|40804|\n",
      "|2013-08-03|33414|\n",
      "|      null|27734|\n",
      "|2012-08-06|26223|\n",
      "|2014-07-21|26027|\n",
      "|2012-08-03|25409|\n",
      "|2012-08-02|25004|\n",
      "|2013-10-11|24751|\n",
      "|2013-08-10|23766|\n",
      "|2012-08-01|22935|\n",
      "|2014-09-17|22810|\n",
      "|2014-08-06|22756|\n",
      "|2014-09-24|22696|\n",
      "|2014-07-30|22695|\n",
      "|2012-08-09|22433|\n",
      "|2013-07-22|22309|\n",
      "|2012-08-07|22052|\n",
      "+----------+-----+\n",
      "only showing top 20 rows\n",
      "\n"
     ]
    }
   ],
   "source": [
    "df.groupBy('Join_Date').count().orderBy(col(\"count\").desc()).show()"
   ]
  },
  {
   "cell_type": "code",
   "execution_count": 81,
   "id": "869a5fbd",
   "metadata": {},
   "outputs": [],
   "source": [
    "##Seems like it won't be a great predictive factor.Other variables measure how long someone has been at the bank\n",
    "df = df.drop(df.Join_Date) "
   ]
  },
  {
   "cell_type": "markdown",
   "id": "d6a4f678",
   "metadata": {},
   "source": [
    "# "
   ]
  },
  {
   "cell_type": "markdown",
   "id": "ecaa1d81",
   "metadata": {},
   "source": [
    "#### New_customer"
   ]
  },
  {
   "cell_type": "code",
   "execution_count": 25,
   "id": "ae5b32c5",
   "metadata": {},
   "outputs": [
    {
     "name": "stdout",
     "output_type": "stream",
     "text": [
      "+------------+--------+\n",
      "|New_customer|   count|\n",
      "+------------+--------+\n",
      "|           0|12808368|\n",
      "|           1|  811207|\n",
      "|          NA|   27734|\n",
      "+------------+--------+\n",
      "\n"
     ]
    }
   ],
   "source": [
    "df.groupBy('New_customer').count().orderBy(col(\"count\").desc()).show()"
   ]
  },
  {
   "cell_type": "code",
   "execution_count": 82,
   "id": "7b952bc5",
   "metadata": {},
   "outputs": [],
   "source": [
    "#Will stick with the Months_at_Bank feature for now\n",
    "df = df.drop(df.New_customer) "
   ]
  },
  {
   "cell_type": "markdown",
   "id": "7a82d0db",
   "metadata": {},
   "source": [
    "#### Months_at_Bank"
   ]
  },
  {
   "cell_type": "code",
   "execution_count": 16,
   "id": "23f721ff",
   "metadata": {},
   "outputs": [],
   "source": [
    "df = df.withColumn(\"Months_at_Bank\", df[\"Months_at_Bank\"].cast(IntegerType()))"
   ]
  },
  {
   "cell_type": "code",
   "execution_count": 17,
   "id": "b0b9d200",
   "metadata": {},
   "outputs": [
    {
     "name": "stdout",
     "output_type": "stream",
     "text": [
      "+--------------+------+\n",
      "|Months_at_Bank| count|\n",
      "+--------------+------+\n",
      "|          null| 27734|\n",
      "|       -999999|    38|\n",
      "|             0|134484|\n",
      "|             1|132579|\n",
      "|             2|130259|\n",
      "|             3|132745|\n",
      "|             4|127442|\n",
      "|             5|139618|\n",
      "|             6|127176|\n",
      "|             7|129262|\n",
      "|             8|155703|\n",
      "|             9|177957|\n",
      "|            10|206165|\n",
      "|            11|124718|\n",
      "|            12|243160|\n",
      "|            13|123990|\n",
      "|            14|126798|\n",
      "|            15|121716|\n",
      "|            16|135307|\n",
      "|            17|125055|\n",
      "+--------------+------+\n",
      "only showing top 20 rows\n",
      "\n"
     ]
    }
   ],
   "source": [
    "df.groupBy('Months_at_Bank').count().orderBy(col(\"Months_at_Bank\")).show()"
   ]
  },
  {
   "cell_type": "markdown",
   "id": "24c31829",
   "metadata": {},
   "source": [
    "#### Customer_during_Month"
   ]
  },
  {
   "cell_type": "code",
   "execution_count": 29,
   "id": "ea8ebb88",
   "metadata": {},
   "outputs": [
    {
     "name": "stdout",
     "output_type": "stream",
     "text": [
      "+---------------------+--------+\n",
      "|Customer_during_Month|   count|\n",
      "+---------------------+--------+\n",
      "|                   NA|   27734|\n",
      "|                   99|   24793|\n",
      "|                    1|13594782|\n",
      "+---------------------+--------+\n",
      "\n"
     ]
    }
   ],
   "source": [
    "df.groupBy('Customer_during_Month').count().show()"
   ]
  },
  {
   "cell_type": "code",
   "execution_count": 83,
   "id": "893e976b",
   "metadata": {},
   "outputs": [],
   "source": [
    "#Same as active\n",
    "df = df.drop(df.Customer_during_Month) "
   ]
  },
  {
   "cell_type": "markdown",
   "id": "b91a9519",
   "metadata": {},
   "source": [
    "#### Spouse_Index "
   ]
  },
  {
   "cell_type": "code",
   "execution_count": 30,
   "id": "8389c6d0",
   "metadata": {},
   "outputs": [
    {
     "name": "stdout",
     "output_type": "stream",
     "text": [
      "+------------+--------+\n",
      "|Spouse_Index|   count|\n",
      "+------------+--------+\n",
      "|        null|13645501|\n",
      "|           N|    1791|\n",
      "|           S|      17|\n",
      "+------------+--------+\n",
      "\n"
     ]
    }
   ],
   "source": [
    "df.groupBy('Spouse_Index').count().orderBy(col(\"count\").desc()).show()"
   ]
  },
  {
   "cell_type": "code",
   "execution_count": 84,
   "id": "a4e6daf9",
   "metadata": {},
   "outputs": [],
   "source": [
    "#Almost entirely null values\n",
    "df = df.drop(df.Spouse_Index) "
   ]
  },
  {
   "cell_type": "markdown",
   "id": "5eb50190",
   "metadata": {},
   "source": [
    "#### Stopped_Being_Customer "
   ]
  },
  {
   "cell_type": "code",
   "execution_count": 85,
   "id": "a282fb33",
   "metadata": {},
   "outputs": [],
   "source": [
    "df = df.drop(df.Stopped_Being_Customer) "
   ]
  },
  {
   "cell_type": "markdown",
   "id": "54c83fbb",
   "metadata": {},
   "source": [
    "#### Channel  "
   ]
  },
  {
   "cell_type": "code",
   "execution_count": 33,
   "id": "e4dba799",
   "metadata": {},
   "outputs": [
    {
     "name": "stdout",
     "output_type": "stream",
     "text": [
      "+-------+-------+\n",
      "|Channel|  count|\n",
      "+-------+-------+\n",
      "|    KHE|4055270|\n",
      "|    KAT|3268209|\n",
      "|    KFC|3098360|\n",
      "|    KHQ| 591039|\n",
      "|    KFA| 409669|\n",
      "|    KHK| 241084|\n",
      "|   null| 186126|\n",
      "|    KHM| 183924|\n",
      "|    KHD| 116891|\n",
      "|    KHN| 116608|\n",
      "|    KAS|  86221|\n",
      "|    RED|  75607|\n",
      "|    KAG|  74295|\n",
      "|    KAY|  67350|\n",
      "|    KAA|  66656|\n",
      "|    KAB|  62381|\n",
      "|    KAE|  50764|\n",
      "|    KCC|  49308|\n",
      "|    KBZ|  46446|\n",
      "|    KHL|  45128|\n",
      "+-------+-------+\n",
      "only showing top 20 rows\n",
      "\n"
     ]
    }
   ],
   "source": [
    "df.groupBy('Channel').count().orderBy(col(\"count\").desc()).show()"
   ]
  },
  {
   "cell_type": "markdown",
   "id": "29b8247f",
   "metadata": {},
   "source": [
    "Will decide what to do about null values after further inspection..."
   ]
  },
  {
   "cell_type": "markdown",
   "id": "9b95f31c",
   "metadata": {},
   "source": [
    "#### Customer_Type "
   ]
  },
  {
   "cell_type": "code",
   "execution_count": 34,
   "id": "a4ad9c97",
   "metadata": {},
   "outputs": [
    {
     "name": "stdout",
     "output_type": "stream",
     "text": [
      "+-------------+-------+\n",
      "|Customer_Type|  count|\n",
      "+-------------+-------+\n",
      "|          1.0|9133383|\n",
      "|            1|4357298|\n",
      "|         null| 149781|\n",
      "|          3.0|   2780|\n",
      "|            3|   1570|\n",
      "|            P|    874|\n",
      "|          2.0|    740|\n",
      "|            2|    577|\n",
      "|          4.0|    223|\n",
      "|            4|     83|\n",
      "+-------------+-------+\n",
      "\n"
     ]
    }
   ],
   "source": [
    "df.groupBy('Customer_Type').count().orderBy(col(\"count\").desc()).show()"
   ]
  },
  {
   "cell_type": "code",
   "execution_count": 86,
   "id": "51801c4e",
   "metadata": {},
   "outputs": [],
   "source": [
    "#No variation\n",
    "df = df.drop(df.Customer_Type) "
   ]
  },
  {
   "cell_type": "markdown",
   "id": "8da10f53",
   "metadata": {},
   "source": [
    "#### Relationship_to_Bank "
   ]
  },
  {
   "cell_type": "code",
   "execution_count": 36,
   "id": "4e5c8cbb",
   "metadata": {},
   "outputs": [
    {
     "name": "stdout",
     "output_type": "stream",
     "text": [
      "+--------------------+-------+\n",
      "|Relationship_to_Bank|  count|\n",
      "+--------------------+-------+\n",
      "|                   I|7304875|\n",
      "|                   A|6187123|\n",
      "|                null| 149781|\n",
      "|                   P|   4656|\n",
      "|                   R|    870|\n",
      "|                   N|      4|\n",
      "+--------------------+-------+\n",
      "\n"
     ]
    }
   ],
   "source": [
    "df.groupBy('Relationship_to_Bank').count().orderBy(col(\"count\").desc()).show()"
   ]
  },
  {
   "cell_type": "code",
   "execution_count": 87,
   "id": "5617d413",
   "metadata": {},
   "outputs": [],
   "source": [
    "##Active Index is a better metric\n",
    "df = df.drop(df.Relationship_to_Bank) "
   ]
  },
  {
   "cell_type": "markdown",
   "id": "1a6daf69",
   "metadata": {},
   "source": [
    "#### Foreigner_Index "
   ]
  },
  {
   "cell_type": "code",
   "execution_count": 38,
   "id": "0a65d082",
   "metadata": {},
   "outputs": [
    {
     "name": "stdout",
     "output_type": "stream",
     "text": [
      "+---------------+--------+\n",
      "|Foreigner_Index|   count|\n",
      "+---------------+--------+\n",
      "|              N|12974839|\n",
      "|              S|  644736|\n",
      "|           null|   27734|\n",
      "+---------------+--------+\n",
      "\n"
     ]
    }
   ],
   "source": [
    "df.groupBy('Foreigner_Index').count().orderBy(col(\"count\").desc()).show()"
   ]
  },
  {
   "cell_type": "code",
   "execution_count": 88,
   "id": "4ca3874b",
   "metadata": {},
   "outputs": [],
   "source": [
    "##Impute Highest Frequency Value\n",
    "df = df.na.fill(value='N',subset=[\"Foreigner_Index\"])"
   ]
  },
  {
   "cell_type": "markdown",
   "id": "7c61a146",
   "metadata": {},
   "source": [
    "#### Address_Type "
   ]
  },
  {
   "cell_type": "code",
   "execution_count": 40,
   "id": "04c73874",
   "metadata": {},
   "outputs": [
    {
     "name": "stdout",
     "output_type": "stream",
     "text": [
      "+------------+--------+\n",
      "|Address_Type|   count|\n",
      "+------------+--------+\n",
      "|           1|13619574|\n",
      "|          NA|   27735|\n",
      "+------------+--------+\n",
      "\n"
     ]
    }
   ],
   "source": [
    "df.groupBy('Address_Type').count().orderBy(col(\"count\").desc()).show()"
   ]
  },
  {
   "cell_type": "code",
   "execution_count": 98,
   "id": "48cab52f",
   "metadata": {},
   "outputs": [],
   "source": [
    "#No variation\n",
    "df = df.drop(df.Address_Type) "
   ]
  },
  {
   "cell_type": "markdown",
   "id": "926935f5",
   "metadata": {},
   "source": [
    "#### Province_Name"
   ]
  },
  {
   "cell_type": "code",
   "execution_count": 42,
   "id": "3f08a08f",
   "metadata": {},
   "outputs": [
    {
     "name": "stdout",
     "output_type": "stream",
     "text": [
      "+-------------+-------+\n",
      "|Province_Name|  count|\n",
      "+-------------+-------+\n",
      "|       MADRID|4409600|\n",
      "|    BARCELONA|1275219|\n",
      "|     VALENCIA| 682304|\n",
      "|      SEVILLA| 605164|\n",
      "|    CORUÑA, A| 429322|\n",
      "|       MURCIA| 396759|\n",
      "|       MALAGA| 367023|\n",
      "|     ZARAGOZA| 342543|\n",
      "|     ALICANTE| 313397|\n",
      "|        CADIZ| 294684|\n",
      "|   PONTEVEDRA| 280026|\n",
      "|     ASTURIAS| 265749|\n",
      "|   VALLADOLID| 238259|\n",
      "|  PALMAS, LAS| 235700|\n",
      "|      BADAJOZ| 192996|\n",
      "|      BIZKAIA| 185888|\n",
      "|       TOLEDO| 183067|\n",
      "|      GRANADA| 178562|\n",
      "|    SALAMANCA| 164238|\n",
      "|    CANTABRIA| 155706|\n",
      "+-------------+-------+\n",
      "only showing top 20 rows\n",
      "\n"
     ]
    }
   ],
   "source": [
    "df.groupBy('Province_Name').count().orderBy(col(\"count\").desc()).show()"
   ]
  },
  {
   "cell_type": "markdown",
   "id": "f1ad5eee",
   "metadata": {},
   "source": [
    "Will decide what to do about null values upon further inspection..."
   ]
  },
  {
   "cell_type": "markdown",
   "id": "11a29738",
   "metadata": {},
   "source": [
    "#### Deceased_Index"
   ]
  },
  {
   "cell_type": "code",
   "execution_count": 43,
   "id": "ba477968",
   "metadata": {},
   "outputs": [
    {
     "name": "stdout",
     "output_type": "stream",
     "text": [
      "+--------------+--------+\n",
      "|Deceased_Index|   count|\n",
      "+--------------+--------+\n",
      "|             N|13584813|\n",
      "|             S|   34762|\n",
      "|          null|   27734|\n",
      "+--------------+--------+\n",
      "\n"
     ]
    }
   ],
   "source": [
    "df.groupBy('Deceased_Index').count().orderBy(col(\"count\").desc()).show()"
   ]
  },
  {
   "cell_type": "code",
   "execution_count": 89,
   "id": "36098747",
   "metadata": {},
   "outputs": [],
   "source": [
    "#Deceased implies that a user is inactive, so it's redundant for our task\n",
    "df = df.drop(df.Deceased_Index) "
   ]
  },
  {
   "cell_type": "markdown",
   "id": "735dae9b",
   "metadata": {},
   "source": [
    "#### Active "
   ]
  },
  {
   "cell_type": "code",
   "execution_count": 45,
   "id": "7a5ab7a2",
   "metadata": {},
   "outputs": [
    {
     "name": "stdout",
     "output_type": "stream",
     "text": [
      "+------+-------+\n",
      "|Active|  count|\n",
      "+------+-------+\n",
      "|     0|7384390|\n",
      "|     1|6235185|\n",
      "|    NA|  27734|\n",
      "+------+-------+\n",
      "\n"
     ]
    }
   ],
   "source": [
    "df.groupBy('Active').count().orderBy(col(\"count\").desc()).show()"
   ]
  },
  {
   "cell_type": "code",
   "execution_count": 90,
   "id": "cec07d98",
   "metadata": {},
   "outputs": [],
   "source": [
    "df = df.na.fill(value=0 ,subset=[\"Active\"])"
   ]
  },
  {
   "cell_type": "markdown",
   "id": "935b3cdd",
   "metadata": {},
   "source": [
    "#### Income "
   ]
  },
  {
   "cell_type": "code",
   "execution_count": 47,
   "id": "a28601ac",
   "metadata": {},
   "outputs": [
    {
     "name": "stdout",
     "output_type": "stream",
     "text": [
      "+--------------------+-----+\n",
      "|              Income|count|\n",
      "+--------------------+-----+\n",
      "|       2.889439551E7|   75|\n",
      "|       2.554725192E7|   17|\n",
      "|       2.425323693E7|   28|\n",
      "|       2.372006655E7|   45|\n",
      "|       2.203473876E7|   96|\n",
      "|        2.17241865E7|   11|\n",
      "|       2.167424667E7|   26|\n",
      "|       1.984933197E7|   17|\n",
      "|        1.78040481E7|   17|\n",
      "|       1.601867784E7|   17|\n",
      "|       1.595737164E7|   17|\n",
      "|       1.571171646E7|   55|\n",
      "|1.4337025919999998E7|   11|\n",
      "|       1.326862128E7|   68|\n",
      "|       1.190087151E7|   17|\n",
      "|       1.185785646E7|   34|\n",
      "|       1.180401498E7|   17|\n",
      "|       1.141151727E7|   84|\n",
      "|       1.138152603E7|   11|\n",
      "|       1.134115248E7|   51|\n",
      "+--------------------+-----+\n",
      "only showing top 20 rows\n",
      "\n"
     ]
    }
   ],
   "source": [
    "df.groupBy('Income').count().orderBy(col(\"Income\").desc()).show()"
   ]
  },
  {
   "cell_type": "code",
   "execution_count": 48,
   "id": "37755b06",
   "metadata": {},
   "outputs": [
    {
     "name": "stdout",
     "output_type": "stream",
     "text": [
      "+-----------------+-------+\n",
      "|           Income|  count|\n",
      "+-----------------+-------+\n",
      "|             null|2794375|\n",
      "|          1202.73|     17|\n",
      "|          1471.23|     17|\n",
      "|          2336.01|     11|\n",
      "|           2539.8|     17|\n",
      "|          3731.79|     10|\n",
      "|          3796.86|     50|\n",
      "|4559.549999999998|     17|\n",
      "|          5040.39|     11|\n",
      "|           5130.0|     17|\n",
      "|          5163.75|     34|\n",
      "|          5340.93|     28|\n",
      "|          5437.62|     34|\n",
      "|5651.549999999998|     17|\n",
      "|          5925.54|      9|\n",
      "|6070.200000000002|     17|\n",
      "|          6273.06|     17|\n",
      "|6313.200000000002|     17|\n",
      "|           6360.0|     17|\n",
      "|          6480.66|     17|\n",
      "+-----------------+-------+\n",
      "only showing top 20 rows\n",
      "\n"
     ]
    }
   ],
   "source": [
    "df.groupBy('Income').count().orderBy(col(\"Income\")).show()"
   ]
  },
  {
   "cell_type": "code",
   "execution_count": 28,
   "id": "2f174c84",
   "metadata": {},
   "outputs": [
    {
     "data": {
      "text/plain": [
       "<seaborn.axisgrid.FacetGrid at 0x7fc4751ca280>"
      ]
     },
     "execution_count": 28,
     "metadata": {},
     "output_type": "execute_result"
    },
    {
     "data": {
      "image/png": "[encoded data removed]",
      "text/plain": [
       "<Figure size 432.5x360 with 1 Axes>"
      ]
     },
     "metadata": {
      "needs_background": "light"
     },
     "output_type": "display_data"
    }
   ],
   "source": [
    "incomesubset = df.filter(df.Income < 500000)\n",
    "incomedf = incomesubset.select(['Income']).sample(False, 0.05, 42)\n",
    "incomedf = incomedf.toPandas()\n",
    "sns.displot(incomedf)"
   ]
  },
  {
   "cell_type": "code",
   "execution_count": 49,
   "id": "d9242351",
   "metadata": {},
   "outputs": [
    {
     "data": {
      "text/plain": [
       "[100944.84]"
      ]
     },
     "execution_count": 49,
     "metadata": {},
     "output_type": "execute_result"
    }
   ],
   "source": [
    "# find the median\n",
    "df.approxQuantile(\"Income\", [0.5], 0.02)"
   ]
  },
  {
   "cell_type": "code",
   "execution_count": 91,
   "id": "0eb32fb8",
   "metadata": {},
   "outputs": [],
   "source": [
    "#impute the median\n",
    "df = df.na.fill(value=100944.84,subset=[\"Income\"])"
   ]
  },
  {
   "cell_type": "code",
   "execution_count": 92,
   "id": "9ed3974b",
   "metadata": {},
   "outputs": [],
   "source": [
    "##Bin Income into groups\n",
    "def Income(Income):\n",
    "    if   Income<20000: return '0-20,000'\n",
    "    elif Income>=20000 and Income<50000: return '20,000-50,000'\n",
    "    elif Income>=50000 and Income<100000: return '50,000-100,000'\n",
    "    elif Income>=100000 and Income<160000: return '100,000-160,000'\n",
    "    elif Income>=160000 and Income<300000: return '160,000-300,000'\n",
    "    elif Income>=300000 : return '300,000+'\n",
    "udf_Income = udf(Income, StringType())\n",
    "df = df.withColumn(\"Income_Range\", udf_Income('Income'))"
   ]
  },
  {
   "cell_type": "code",
   "execution_count": 31,
   "id": "1a249693",
   "metadata": {},
   "outputs": [
    {
     "name": "stdout",
     "output_type": "stream",
     "text": [
      "+---------------+-------+\n",
      "|   Income_Range|  count|\n",
      "+---------------+-------+\n",
      "|       0-20,000|  36298|\n",
      "|       300,000+| 587435|\n",
      "|100,000-160,000|5763612|\n",
      "|  20,000-50,000|1113518|\n",
      "|160,000-300,000|1997342|\n",
      "| 50,000-100,000|4149104|\n",
      "+---------------+-------+\n",
      "\n"
     ]
    }
   ],
   "source": [
    "df.groupBy('Income_Range').count().show()"
   ]
  },
  {
   "cell_type": "code",
   "execution_count": 93,
   "id": "33efe607",
   "metadata": {},
   "outputs": [],
   "source": [
    "df = df.drop(df.Income) "
   ]
  },
  {
   "cell_type": "markdown",
   "id": "458db864",
   "metadata": {},
   "source": [
    "#### Segmentation "
   ]
  },
  {
   "cell_type": "code",
   "execution_count": 54,
   "id": "f57c0f15",
   "metadata": {},
   "outputs": [
    {
     "name": "stdout",
     "output_type": "stream",
     "text": [
      "+------------------+-------+\n",
      "|      Segmentation|  count|\n",
      "+------------------+-------+\n",
      "|              null| 189368|\n",
      "|          01 - TOP| 562142|\n",
      "|03 - UNIVERSITARIO|4935579|\n",
      "| 02 - PARTICULARES|7960220|\n",
      "+------------------+-------+\n",
      "\n"
     ]
    }
   ],
   "source": [
    "df.groupBy('Segmentation').count().orderBy(col(\"count\")).show()"
   ]
  },
  {
   "cell_type": "code",
   "execution_count": 94,
   "id": "3ff6a5b2",
   "metadata": {},
   "outputs": [],
   "source": [
    "df = df.na.fill(value=0 ,subset=[\"Segmentation\"])"
   ]
  },
  {
   "cell_type": "markdown",
   "id": "89cf31b0",
   "metadata": {},
   "source": [
    "#### Payroll "
   ]
  },
  {
   "cell_type": "code",
   "execution_count": 56,
   "id": "e66c43f3",
   "metadata": {},
   "outputs": [
    {
     "name": "stdout",
     "output_type": "stream",
     "text": [
      "+-------+--------+\n",
      "|Payroll|   count|\n",
      "+-------+--------+\n",
      "|     NA|   16063|\n",
      "|      1|  745961|\n",
      "|      0|12885285|\n",
      "+-------+--------+\n",
      "\n"
     ]
    }
   ],
   "source": [
    "df.groupBy('Payroll').count().orderBy(col(\"count\")).show()"
   ]
  },
  {
   "cell_type": "code",
   "execution_count": 95,
   "id": "fc408ee1",
   "metadata": {},
   "outputs": [],
   "source": [
    "df = df.na.fill(value=0 ,subset=[\"Payroll\"])"
   ]
  },
  {
   "cell_type": "markdown",
   "id": "7784a6b7",
   "metadata": {},
   "source": [
    "#### Pensions_two "
   ]
  },
  {
   "cell_type": "code",
   "execution_count": 58,
   "id": "a6e85049",
   "metadata": {},
   "outputs": [
    {
     "name": "stdout",
     "output_type": "stream",
     "text": [
      "+------------+--------+\n",
      "|Pensions_two|   count|\n",
      "+------------+--------+\n",
      "|          NA|   16063|\n",
      "|           1|  810085|\n",
      "|           0|12821161|\n",
      "+------------+--------+\n",
      "\n"
     ]
    }
   ],
   "source": [
    "df.groupBy('Pensions_two').count().orderBy(col(\"count\")).show()"
   ]
  },
  {
   "cell_type": "code",
   "execution_count": 96,
   "id": "38b18eca",
   "metadata": {},
   "outputs": [],
   "source": [
    "df = df.na.fill(value=0 ,subset=[\"Pensions_two\"])"
   ]
  },
  {
   "cell_type": "code",
   "execution_count": 99,
   "id": "da0c2db3",
   "metadata": {},
   "outputs": [
    {
     "data": {
      "text/plain": [
       "['Date',\n",
       " 'Customer_Code',\n",
       " 'Gender',\n",
       " 'Months_at_Bank',\n",
       " 'Foreigner_Index',\n",
       " 'Channel',\n",
       " 'Province_Name',\n",
       " 'Active',\n",
       " 'Segmentation',\n",
       " 'Savings_Account',\n",
       " 'Guarantees',\n",
       " 'Current_Accounts',\n",
       " 'Derivative',\n",
       " 'Payroll_Account',\n",
       " 'Junior_Account',\n",
       " 'More_Particular_Account',\n",
       " 'Particular_Account',\n",
       " 'Particular_Plus_Account',\n",
       " 'Short_Term_Deposits',\n",
       " 'Medium_Term_Deposits',\n",
       " 'Long_Term_Deposits',\n",
       " 'e-Account',\n",
       " 'Funds',\n",
       " 'Mortgage',\n",
       " 'Pensions',\n",
       " 'Loans',\n",
       " 'Taxes',\n",
       " 'Credit_Card',\n",
       " 'Securities',\n",
       " 'Home_Account',\n",
       " 'Payroll',\n",
       " 'Pensions_two',\n",
       " 'Direct_Debit',\n",
       " 'Age_Range',\n",
       " 'Income_Range']"
      ]
     },
     "execution_count": 99,
     "metadata": {},
     "output_type": "execute_result"
    }
   ],
   "source": [
    "df.columns"
   ]
  },
  {
   "cell_type": "markdown",
   "id": "98707ae7",
   "metadata": {},
   "source": [
    "# EDA "
   ]
  },
  {
   "cell_type": "code",
   "execution_count": 100,
   "id": "8fe163ca",
   "metadata": {},
   "outputs": [],
   "source": [
    "#Split dataframe so that we have data from the first month and data from the last month\n",
    "start = df.filter(\"Date=='2015-01-28'\")\n",
    "end = df.filter(\"Date=='2016-05-28'\")"
   ]
  },
  {
   "cell_type": "code",
   "execution_count": 63,
   "id": "a33fc11d",
   "metadata": {},
   "outputs": [
    {
     "name": "stdout",
     "output_type": "stream",
     "text": [
      "+---------------+------+\n",
      "|Savings_Account| count|\n",
      "+---------------+------+\n",
      "|              1|    88|\n",
      "|              0|625369|\n",
      "+---------------+------+\n",
      "\n"
     ]
    }
   ],
   "source": [
    "start.groupBy('Savings_Account').count().show()"
   ]
  },
  {
   "cell_type": "code",
   "execution_count": 64,
   "id": "98eef070",
   "metadata": {},
   "outputs": [
    {
     "name": "stdout",
     "output_type": "stream",
     "text": [
      "+---------------+------+\n",
      "|Savings_Account| count|\n",
      "+---------------+------+\n",
      "|              1|    78|\n",
      "|              0|931375|\n",
      "+---------------+------+\n",
      "\n"
     ]
    }
   ],
   "source": [
    "end.groupBy('Savings_Account').count().show()"
   ]
  },
  {
   "cell_type": "code",
   "execution_count": 101,
   "id": "6feb1179",
   "metadata": {},
   "outputs": [
    {
     "name": "stdout",
     "output_type": "stream",
     "text": [
      "+----------+------+\n",
      "|Guarantees| count|\n",
      "+----------+------+\n",
      "|         1|    19|\n",
      "|         0|625438|\n",
      "+----------+------+\n",
      "\n"
     ]
    }
   ],
   "source": [
    "start.groupBy('Guarantees').count().show()"
   ]
  },
  {
   "cell_type": "code",
   "execution_count": 102,
   "id": "a320bb0c",
   "metadata": {},
   "outputs": [
    {
     "name": "stdout",
     "output_type": "stream",
     "text": [
      "+----------+------+\n",
      "|Guarantees| count|\n",
      "+----------+------+\n",
      "|         1|    16|\n",
      "|         0|931437|\n",
      "+----------+------+\n",
      "\n"
     ]
    }
   ],
   "source": [
    "end.groupBy('Guarantees').count().show()"
   ]
  },
  {
   "cell_type": "code",
   "execution_count": 103,
   "id": "f9138fdc",
   "metadata": {},
   "outputs": [
    {
     "name": "stdout",
     "output_type": "stream",
     "text": [
      "+----------------+------+\n",
      "|Current_Accounts| count|\n",
      "+----------------+------+\n",
      "|               1|487855|\n",
      "|               0|137602|\n",
      "+----------------+------+\n",
      "\n"
     ]
    }
   ],
   "source": [
    "start.groupBy('Current_Accounts').count().show()"
   ]
  },
  {
   "cell_type": "code",
   "execution_count": 104,
   "id": "6c532fc9",
   "metadata": {},
   "outputs": [
    {
     "name": "stdout",
     "output_type": "stream",
     "text": [
      "+----------------+------+\n",
      "|Current_Accounts| count|\n",
      "+----------------+------+\n",
      "|               1|561615|\n",
      "|               0|369838|\n",
      "+----------------+------+\n",
      "\n"
     ]
    }
   ],
   "source": [
    "end.groupBy('Current_Accounts').count().show()"
   ]
  },
  {
   "cell_type": "code",
   "execution_count": 105,
   "id": "07b07b96",
   "metadata": {},
   "outputs": [
    {
     "name": "stdout",
     "output_type": "stream",
     "text": [
      "+----------+------+\n",
      "|Derivative| count|\n",
      "+----------+------+\n",
      "|         1|   301|\n",
      "|         0|625156|\n",
      "+----------+------+\n",
      "\n"
     ]
    }
   ],
   "source": [
    "start.groupBy('Derivative').count().show()"
   ]
  },
  {
   "cell_type": "code",
   "execution_count": 106,
   "id": "4633efb4",
   "metadata": {},
   "outputs": [
    {
     "name": "stdout",
     "output_type": "stream",
     "text": [
      "+----------+------+\n",
      "|Derivative| count|\n",
      "+----------+------+\n",
      "|         1|   316|\n",
      "|         0|931137|\n",
      "+----------+------+\n",
      "\n"
     ]
    }
   ],
   "source": [
    "end.groupBy('Derivative').count().show()"
   ]
  },
  {
   "cell_type": "code",
   "execution_count": 107,
   "id": "91c03cc3",
   "metadata": {},
   "outputs": [
    {
     "name": "stdout",
     "output_type": "stream",
     "text": [
      "+---------------+------+\n",
      "|Payroll_Account| count|\n",
      "+---------------+------+\n",
      "|              1| 58763|\n",
      "|              0|566694|\n",
      "+---------------+------+\n",
      "\n"
     ]
    }
   ],
   "source": [
    "start.groupBy('Payroll_Account').count().show()"
   ]
  },
  {
   "cell_type": "code",
   "execution_count": 108,
   "id": "5f147542",
   "metadata": {},
   "outputs": [
    {
     "name": "stdout",
     "output_type": "stream",
     "text": [
      "+---------------+------+\n",
      "|Payroll_Account| count|\n",
      "+---------------+------+\n",
      "|              1| 73061|\n",
      "|              0|858392|\n",
      "+---------------+------+\n",
      "\n"
     ]
    }
   ],
   "source": [
    "end.groupBy('Payroll_Account').count().show()"
   ]
  },
  {
   "cell_type": "code",
   "execution_count": 109,
   "id": "2dd33c98",
   "metadata": {},
   "outputs": [
    {
     "name": "stdout",
     "output_type": "stream",
     "text": [
      "+--------------+------+\n",
      "|Junior_Account| count|\n",
      "+--------------+------+\n",
      "|             1|  7757|\n",
      "|             0|617700|\n",
      "+--------------+------+\n",
      "\n"
     ]
    }
   ],
   "source": [
    "start.groupBy('Junior_Account').count().show()"
   ]
  },
  {
   "cell_type": "code",
   "execution_count": 110,
   "id": "d084826f",
   "metadata": {},
   "outputs": [
    {
     "name": "stdout",
     "output_type": "stream",
     "text": [
      "+--------------+------+\n",
      "|Junior_Account| count|\n",
      "+--------------+------+\n",
      "|             1|  7581|\n",
      "|             0|923872|\n",
      "+--------------+------+\n",
      "\n"
     ]
    }
   ],
   "source": [
    "end.groupBy('Junior_Account').count().show()"
   ]
  },
  {
   "cell_type": "code",
   "execution_count": null,
   "id": "9134b4c8",
   "metadata": {},
   "outputs": [],
   "source": []
  },
  {
   "cell_type": "code",
   "execution_count": 33,
   "id": "679be2ec",
   "metadata": {},
   "outputs": [],
   "source": [
    "df.write.csv('santander_df_cleaned.csv')"
   ]
  },
  {
   "cell_type": "code",
   "execution_count": null,
   "id": "12b6bf7e",
   "metadata": {},
   "outputs": [],
   "source": []
  }
 ],
 "metadata": {
  "kernelspec": {
   "display_name": "Python 3",
   "language": "python",
   "name": "python3"
  },
  "language_info": {
   "codemirror_mode": {
    "name": "ipython",
    "version": 3
   },
   "file_extension": ".py",
   "mimetype": "text/x-python",
   "name": "python",
   "nbconvert_exporter": "python",
   "pygments_lexer": "ipython3",
   "version": "3.8.8"
  }
 },
 "nbformat": 4,
 "nbformat_minor": 5
}
