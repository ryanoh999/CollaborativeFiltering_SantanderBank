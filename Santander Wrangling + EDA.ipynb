{
 "cells": [
  {
   "cell_type": "code",
   "execution_count": 1,
   "id": "ad09d96a",
   "metadata": {},
   "outputs": [],
   "source": [
    "import pandas as pd"
   ]
  },
  {
   "cell_type": "code",
   "execution_count": 2,
   "id": "a6092cd4",
   "metadata": {},
   "outputs": [
    {
     "name": "stderr",
     "output_type": "stream",
     "text": [
      "/Users/ryan/anaconda3/lib/python3.7/site-packages/IPython/core/interactiveshell.py:3166: DtypeWarning: Columns (5,8,11,15) have mixed types.Specify dtype option on import or set low_memory=False.\n",
      "  interactivity=interactivity, compiler=compiler, result=result)\n"
     ]
    }
   ],
   "source": [
    "df = pd.read_csv('train_ver2.csv')"
   ]
  },
  {
   "cell_type": "code",
   "execution_count": 3,
   "id": "2aabd4e0",
   "metadata": {},
   "outputs": [
    {
     "name": "stdout",
     "output_type": "stream",
     "text": [
      "<class 'pandas.core.frame.DataFrame'>\n",
      "RangeIndex: 13647309 entries, 0 to 13647308\n",
      "Data columns (total 48 columns):\n",
      " #   Column                 Dtype  \n",
      "---  ------                 -----  \n",
      " 0   fecha_dato             object \n",
      " 1   ncodpers               int64  \n",
      " 2   ind_empleado           object \n",
      " 3   pais_residencia        object \n",
      " 4   sexo                   object \n",
      " 5   age                    object \n",
      " 6   fecha_alta             object \n",
      " 7   ind_nuevo              float64\n",
      " 8   antiguedad             object \n",
      " 9   indrel                 float64\n",
      " 10  ult_fec_cli_1t         object \n",
      " 11  indrel_1mes            object \n",
      " 12  tiprel_1mes            object \n",
      " 13  indresi                object \n",
      " 14  indext                 object \n",
      " 15  conyuemp               object \n",
      " 16  canal_entrada          object \n",
      " 17  indfall                object \n",
      " 18  tipodom                float64\n",
      " 19  cod_prov               float64\n",
      " 20  nomprov                object \n",
      " 21  ind_actividad_cliente  float64\n",
      " 22  renta                  float64\n",
      " 23  segmento               object \n",
      " 24  ind_ahor_fin_ult1      int64  \n",
      " 25  ind_aval_fin_ult1      int64  \n",
      " 26  ind_cco_fin_ult1       int64  \n",
      " 27  ind_cder_fin_ult1      int64  \n",
      " 28  ind_cno_fin_ult1       int64  \n",
      " 29  ind_ctju_fin_ult1      int64  \n",
      " 30  ind_ctma_fin_ult1      int64  \n",
      " 31  ind_ctop_fin_ult1      int64  \n",
      " 32  ind_ctpp_fin_ult1      int64  \n",
      " 33  ind_deco_fin_ult1      int64  \n",
      " 34  ind_deme_fin_ult1      int64  \n",
      " 35  ind_dela_fin_ult1      int64  \n",
      " 36  ind_ecue_fin_ult1      int64  \n",
      " 37  ind_fond_fin_ult1      int64  \n",
      " 38  ind_hip_fin_ult1       int64  \n",
      " 39  ind_plan_fin_ult1      int64  \n",
      " 40  ind_pres_fin_ult1      int64  \n",
      " 41  ind_reca_fin_ult1      int64  \n",
      " 42  ind_tjcr_fin_ult1      int64  \n",
      " 43  ind_valo_fin_ult1      int64  \n",
      " 44  ind_viv_fin_ult1       int64  \n",
      " 45  ind_nomina_ult1        float64\n",
      " 46  ind_nom_pens_ult1      float64\n",
      " 47  ind_recibo_ult1        int64  \n",
      "dtypes: float64(8), int64(23), object(17)\n",
      "memory usage: 4.9+ GB\n"
     ]
    }
   ],
   "source": [
    "df.info()"
   ]
  },
  {
   "cell_type": "markdown",
   "id": "153cf1df",
   "metadata": {},
   "source": [
    "# Initialize Spark"
   ]
  },
  {
   "cell_type": "code",
   "execution_count": 1,
   "id": "108fea53",
   "metadata": {},
   "outputs": [],
   "source": [
    "from pyspark.sql import SparkSession\n",
    "from pyspark.sql.types import StringType, IntegerType, DoubleType\n",
    "from pyspark.sql.functions import udf\n",
    "from pyspark.sql import functions as f\n",
    "from pyspark.sql.functions import col\n",
    "from pyspark.ml.feature import StringIndexer\n",
    "from pyspark.ml.tuning import CrossValidator\n",
    "from pyspark.ml.feature import VectorAssembler\n",
    "from pyspark.ml.feature import PCA\n",
    "from pyspark.mllib.linalg import Vectors\n",
    "from pyspark.mllib.linalg.distributed import RowMatrix"
   ]
  },
  {
   "cell_type": "code",
   "execution_count": 2,
   "id": "b1f0db13",
   "metadata": {},
   "outputs": [],
   "source": [
    "spark = SparkSession \\\n",
    "    .builder \\\n",
    "    .master(\"local[*]\") \\\n",
    "    .appName(\"xor\") \\\n",
    "    .config(\"spark.executor.memory\", '2g') \\\n",
    "    .config('spark.executor.cores', '1') \\\n",
    "    .config('spark.cores.max', '1') \\\n",
    "    .config(\"spark.driver.memory\",'1g') \\\n",
    "    .getOrCreate()\n",
    "\n",
    "sc = spark.sparkContext"
   ]
  },
  {
   "cell_type": "markdown",
   "id": "bbcc7dd7",
   "metadata": {},
   "source": [
    "# Import Data, Inspect Columns"
   ]
  },
  {
   "cell_type": "code",
   "execution_count": 3,
   "id": "15b5bfb8",
   "metadata": {},
   "outputs": [],
   "source": [
    "traindf = spark.read.option(\"inferSchema\", \"true\").csv('train_ver2.csv', header = True)"
   ]
  },
  {
   "cell_type": "code",
   "execution_count": 4,
   "id": "34b58f78",
   "metadata": {},
   "outputs": [
    {
     "data": {
      "text/plain": [
       "['fecha_dato',\n",
       " 'ncodpers',\n",
       " 'ind_empleado',\n",
       " 'pais_residencia',\n",
       " 'sexo',\n",
       " 'age',\n",
       " 'fecha_alta',\n",
       " 'ind_nuevo',\n",
       " 'antiguedad',\n",
       " 'indrel',\n",
       " 'ult_fec_cli_1t',\n",
       " 'indrel_1mes',\n",
       " 'tiprel_1mes',\n",
       " 'indresi',\n",
       " 'indext',\n",
       " 'conyuemp',\n",
       " 'canal_entrada',\n",
       " 'indfall',\n",
       " 'tipodom',\n",
       " 'cod_prov',\n",
       " 'nomprov',\n",
       " 'ind_actividad_cliente',\n",
       " 'renta',\n",
       " 'segmento',\n",
       " 'ind_ahor_fin_ult1',\n",
       " 'ind_aval_fin_ult1',\n",
       " 'ind_cco_fin_ult1',\n",
       " 'ind_cder_fin_ult1',\n",
       " 'ind_cno_fin_ult1',\n",
       " 'ind_ctju_fin_ult1',\n",
       " 'ind_ctma_fin_ult1',\n",
       " 'ind_ctop_fin_ult1',\n",
       " 'ind_ctpp_fin_ult1',\n",
       " 'ind_deco_fin_ult1',\n",
       " 'ind_deme_fin_ult1',\n",
       " 'ind_dela_fin_ult1',\n",
       " 'ind_ecue_fin_ult1',\n",
       " 'ind_fond_fin_ult1',\n",
       " 'ind_hip_fin_ult1',\n",
       " 'ind_plan_fin_ult1',\n",
       " 'ind_pres_fin_ult1',\n",
       " 'ind_reca_fin_ult1',\n",
       " 'ind_tjcr_fin_ult1',\n",
       " 'ind_valo_fin_ult1',\n",
       " 'ind_viv_fin_ult1',\n",
       " 'ind_nomina_ult1',\n",
       " 'ind_nom_pens_ult1',\n",
       " 'ind_recibo_ult1']"
      ]
     },
     "execution_count": 4,
     "metadata": {},
     "output_type": "execute_result"
    }
   ],
   "source": [
    "traindf.columns"
   ]
  },
  {
   "cell_type": "markdown",
   "id": "91933e32",
   "metadata": {},
   "source": [
    "The columns are in Spanish and are a little bit vague. I'm going to rename all of them (except for age :))"
   ]
  },
  {
   "cell_type": "code",
   "execution_count": 5,
   "id": "5877dcdf",
   "metadata": {},
   "outputs": [
    {
     "name": "stdout",
     "output_type": "stream",
     "text": [
      "root\n",
      " |-- Date: string (nullable = true)\n",
      " |-- Customer_Code: double (nullable = true)\n",
      " |-- Employment_Index: string (nullable = true)\n",
      " |-- Country_Residence: string (nullable = true)\n",
      " |-- Gender: string (nullable = true)\n",
      " |-- age: string (nullable = true)\n",
      " |-- Join_Date: string (nullable = true)\n",
      " |-- New_customer: string (nullable = true)\n",
      " |-- Months_at_Bank: string (nullable = true)\n",
      " |-- Customer_during_Month: string (nullable = true)\n",
      " |-- Stopped_Being_Customer: string (nullable = true)\n",
      " |-- Customer_Type: string (nullable = true)\n",
      " |-- Relationship_to_Bank: string (nullable = true)\n",
      " |-- Residence_Index: string (nullable = true)\n",
      " |-- Foreigner_Index: string (nullable = true)\n",
      " |-- Spouse_Index: string (nullable = true)\n",
      " |-- Channel: string (nullable = true)\n",
      " |-- Deceased_Index: string (nullable = true)\n",
      " |-- Address_Type: string (nullable = true)\n",
      " |-- Province_Code: string (nullable = true)\n",
      " |-- Province_Name: string (nullable = true)\n",
      " |-- Active: string (nullable = true)\n",
      " |-- Income: double (nullable = true)\n",
      " |-- Segmentation: string (nullable = true)\n",
      " |-- Savings_Account: integer (nullable = true)\n",
      " |-- Guarantees: integer (nullable = true)\n",
      " |-- Current_Accounts: integer (nullable = true)\n",
      " |-- Derivative: integer (nullable = true)\n",
      " |-- Payroll_Account: integer (nullable = true)\n",
      " |-- Junior_Account: integer (nullable = true)\n",
      " |-- More_Particular_Account: integer (nullable = true)\n",
      " |-- Particular_Account: integer (nullable = true)\n",
      " |-- Particular_Plus_Account: integer (nullable = true)\n",
      " |-- Short_Term_Deposits: integer (nullable = true)\n",
      " |-- Medium_Term_Deposits: integer (nullable = true)\n",
      " |-- Long_Term_Deposits: integer (nullable = true)\n",
      " |-- e-Account: integer (nullable = true)\n",
      " |-- Funds: integer (nullable = true)\n",
      " |-- Mortgage: integer (nullable = true)\n",
      " |-- Pensions: integer (nullable = true)\n",
      " |-- Loans: integer (nullable = true)\n",
      " |-- Taxes: integer (nullable = true)\n",
      " |-- Credit_Card: integer (nullable = true)\n",
      " |-- Securities: integer (nullable = true)\n",
      " |-- Home_Account: integer (nullable = true)\n",
      " |-- Payroll: string (nullable = true)\n",
      " |-- Pensions_two: string (nullable = true)\n",
      " |-- Direct_Debit: integer (nullable = true)\n",
      "\n"
     ]
    }
   ],
   "source": [
    "traindf = traindf.withColumnRenamed(\"fecha_dato\", \"Date\")\\\n",
    "    .withColumnRenamed(\"ncodpers\", \"Customer_Code\")\\\n",
    "    .withColumnRenamed(\"ind_empleado\", \"Employment_Index\")\\\n",
    "    .withColumnRenamed(\"pais_residencia\", \"Country_Residence\")\\\n",
    "    .withColumnRenamed(\"fecha_alta\", \"Join_Date\")\\\n",
    "    .withColumnRenamed(\"ind_nuevo\", \"New_customer\")\\\n",
    "    .withColumnRenamed(\"sexo\", \"Gender\")\\\n",
    "    .withColumnRenamed(\"canal_entrada\", \"Channel\")\\\n",
    "    .withColumnRenamed(\"antiguedad\", \"Months_at_Bank\")\\\n",
    "    .withColumnRenamed(\"indrel\", \"Customer_during_Month\")\\\n",
    "    .withColumnRenamed(\"ult_fec_cli_1t\", \"Stopped_Being_Customer\")\\\n",
    "    .withColumnRenamed(\"indrel_1mes\", \"Customer_Type\")\\\n",
    "    .withColumnRenamed(\"tiprel_1mes\", \"Relationship_to_Bank\")\\\n",
    "    .withColumnRenamed(\"indresi\", \"Residence_Index\")\\\n",
    "    .withColumnRenamed(\"indext\", \"Foreigner_Index\")\\\n",
    "    .withColumnRenamed(\"conyuemp\", \"Spouse_Index\")\\\n",
    "    .withColumnRenamed(\"indfall\", \"Deceased_Index\")\\\n",
    "    .withColumnRenamed(\"tipodom\", \"Address_Type\")\\\n",
    "    .withColumnRenamed(\"cod_prov\", \"Province_Code\")\\\n",
    "    .withColumnRenamed(\"nomprov\", \"Province_Name\")\\\n",
    "    .withColumnRenamed(\"ind_actividad_cliente\", \"Active\")\\\n",
    "    .withColumnRenamed(\"renta\", \"Income\")\\\n",
    "    .withColumnRenamed(\"segmento\", \"Segmentation\")\\\n",
    "    .withColumnRenamed(\"ind_ahor_fin_ult1\", \"Savings_Account\")\\\n",
    "    .withColumnRenamed(\"ind_aval_fin_ult1\", \"Guarantees\")\\\n",
    "    .withColumnRenamed(\"ind_cco_fin_ult1\", \"Current_Accounts\")\\\n",
    "    .withColumnRenamed(\"ind_cder_fin_ult1\", \"Derivative\")\\\n",
    "    .withColumnRenamed(\"ind_cno_fin_ult1\", \"Payroll_Account\")\\\n",
    "    .withColumnRenamed(\"ind_ctju_fin_ult1\", \"Junior_Account\")\\\n",
    "    .withColumnRenamed(\"ind_ctma_fin_ult1\", \"More_Particular_Account\")\\\n",
    "    .withColumnRenamed(\"ind_ctop_fin_ult1\", \"Particular_Account\")\\\n",
    "    .withColumnRenamed(\"ind_ctpp_fin_ult1\", \"Particular_Plus_Account\")\\\n",
    "    .withColumnRenamed(\"ind_deco_fin_ult1\", \"Short_Term_Deposits\")\\\n",
    "    .withColumnRenamed(\"ind_deme_fin_ult1\", \"Medium_Term_Deposits\")\\\n",
    "    .withColumnRenamed(\"ind_dela_fin_ult1\", \"Long_Term_Deposits\")\\\n",
    "    .withColumnRenamed(\"ind_ecue_fin_ult1\", \"e-Account\")\\\n",
    "    .withColumnRenamed(\"ind_fond_fin_ult1\", \"Funds\")\\\n",
    "    .withColumnRenamed(\"ind_hip_fin_ult1\", \"Mortgage\")\\\n",
    "    .withColumnRenamed(\"ind_plan_fin_ult1\", \"Pensions\")\\\n",
    "    .withColumnRenamed(\"ind_pres_fin_ult1\", \"Loans\")\\\n",
    "    .withColumnRenamed(\"ind_reca_fin_ult1\", \"Taxes\")\\\n",
    "    .withColumnRenamed(\"ind_tjcr_fin_ult1\", \"Credit_Card\")\\\n",
    "    .withColumnRenamed(\"ind_valo_fin_ult1\", \"Securities\")\\\n",
    "    .withColumnRenamed(\"ind_viv_fin_ult1\", \"Home_Account\")\\\n",
    "    .withColumnRenamed(\"ind_nomina_ult1\", \"Payroll\")\\\n",
    "    .withColumnRenamed(\"ind_nom_pens_ult1\", \"Pensions_two\")\\\n",
    "    .withColumnRenamed(\"ind_recibo_ult1\", \"Direct_Debit\")\n",
    "traindf.printSchema()"
   ]
  },
  {
   "cell_type": "code",
   "execution_count": 6,
   "id": "ce2c0ca4",
   "metadata": {},
   "outputs": [],
   "source": [
    "testdf = spark.read.option(\"inferSchema\", \"true\").csv('test_ver2.csv', header = True)"
   ]
  },
  {
   "cell_type": "code",
   "execution_count": 7,
   "id": "3b87201b",
   "metadata": {},
   "outputs": [
    {
     "data": {
      "text/plain": [
       "['fecha_dato',\n",
       " 'ncodpers',\n",
       " 'ind_empleado',\n",
       " 'pais_residencia',\n",
       " 'sexo',\n",
       " 'age',\n",
       " 'fecha_alta',\n",
       " 'ind_nuevo',\n",
       " 'antiguedad',\n",
       " 'indrel',\n",
       " 'ult_fec_cli_1t',\n",
       " 'indrel_1mes',\n",
       " 'tiprel_1mes',\n",
       " 'indresi',\n",
       " 'indext',\n",
       " 'conyuemp',\n",
       " 'canal_entrada',\n",
       " 'indfall',\n",
       " 'tipodom',\n",
       " 'cod_prov',\n",
       " 'nomprov',\n",
       " 'ind_actividad_cliente',\n",
       " 'renta',\n",
       " 'segmento']"
      ]
     },
     "execution_count": 7,
     "metadata": {},
     "output_type": "execute_result"
    }
   ],
   "source": [
    "testdf.columns"
   ]
  },
  {
   "cell_type": "code",
   "execution_count": 8,
   "id": "ad3fa87f",
   "metadata": {},
   "outputs": [
    {
     "name": "stdout",
     "output_type": "stream",
     "text": [
      "root\n",
      " |-- Date: string (nullable = true)\n",
      " |-- Customer_Code: double (nullable = true)\n",
      " |-- Employment_Index: string (nullable = true)\n",
      " |-- Country_Residence: string (nullable = true)\n",
      " |-- Gender: string (nullable = true)\n",
      " |-- age: double (nullable = true)\n",
      " |-- Join_Date: string (nullable = true)\n",
      " |-- New_customer: integer (nullable = true)\n",
      " |-- Months_at_Bank: double (nullable = true)\n",
      " |-- Customer_during_Month: double (nullable = true)\n",
      " |-- Stopped_Being_Customer: string (nullable = true)\n",
      " |-- Customer_Type: double (nullable = true)\n",
      " |-- Relationship_to_Bank: string (nullable = true)\n",
      " |-- Residence_Index: string (nullable = true)\n",
      " |-- Foreigner_Index: string (nullable = true)\n",
      " |-- Spouse_Index: string (nullable = true)\n",
      " |-- Channel: string (nullable = true)\n",
      " |-- Deceased_Index: string (nullable = true)\n",
      " |-- Address_Type: integer (nullable = true)\n",
      " |-- Province_Code: string (nullable = true)\n",
      " |-- Province_Name: string (nullable = true)\n",
      " |-- Active: integer (nullable = true)\n",
      " |-- Income: string (nullable = true)\n",
      " |-- Segmentation: string (nullable = true)\n",
      "\n"
     ]
    }
   ],
   "source": [
    "testdf = testdf.withColumnRenamed(\"fecha_dato\", \"Date\")\\\n",
    "    .withColumnRenamed(\"ncodpers\", \"Customer_Code\")\\\n",
    "    .withColumnRenamed(\"ind_empleado\", \"Employment_Index\")\\\n",
    "    .withColumnRenamed(\"pais_residencia\", \"Country_Residence\")\\\n",
    "    .withColumnRenamed(\"fecha_alta\", \"Join_Date\")\\\n",
    "    .withColumnRenamed(\"ind_nuevo\", \"New_customer\")\\\n",
    "    .withColumnRenamed(\"sexo\", \"Gender\")\\\n",
    "    .withColumnRenamed(\"canal_entrada\", \"Channel\")\\\n",
    "    .withColumnRenamed(\"antiguedad\", \"Months_at_Bank\")\\\n",
    "    .withColumnRenamed(\"indrel\", \"Customer_during_Month\")\\\n",
    "    .withColumnRenamed(\"ult_fec_cli_1t\", \"Stopped_Being_Customer\")\\\n",
    "    .withColumnRenamed(\"indrel_1mes\", \"Customer_Type\")\\\n",
    "    .withColumnRenamed(\"tiprel_1mes\", \"Relationship_to_Bank\")\\\n",
    "    .withColumnRenamed(\"indresi\", \"Residence_Index\")\\\n",
    "    .withColumnRenamed(\"indext\", \"Foreigner_Index\")\\\n",
    "    .withColumnRenamed(\"conyuemp\", \"Spouse_Index\")\\\n",
    "    .withColumnRenamed(\"indfall\", \"Deceased_Index\")\\\n",
    "    .withColumnRenamed(\"tipodom\", \"Address_Type\")\\\n",
    "    .withColumnRenamed(\"cod_prov\", \"Province_Code\")\\\n",
    "    .withColumnRenamed(\"nomprov\", \"Province_Name\")\\\n",
    "    .withColumnRenamed(\"ind_actividad_cliente\", \"Active\")\\\n",
    "    .withColumnRenamed(\"renta\", \"Income\")\\\n",
    "    .withColumnRenamed(\"segmento\", \"Segmentation\")\n",
    "testdf.printSchema()"
   ]
  },
  {
   "cell_type": "markdown",
   "id": "7dd7feef",
   "metadata": {},
   "source": [
    "Some of the feature columns appear to be redundant:"
   ]
  },
  {
   "cell_type": "markdown",
   "id": "7610881b",
   "metadata": {},
   "source": [
    "testdf.groupBy('Province_Code').count().orderBy('count').show()\n"
   ]
  },
  {
   "cell_type": "code",
   "execution_count": 9,
   "id": "a30178a2",
   "metadata": {},
   "outputs": [
    {
     "name": "stdout",
     "output_type": "stream",
     "text": [
      "+--------------------+-----+\n",
      "|       Province_Name|count|\n",
      "+--------------------+-----+\n",
      "|               CEUTA|  513|\n",
      "|             MELILLA|  643|\n",
      "|               SORIA| 1261|\n",
      "|              TERUEL| 1538|\n",
      "|               ALAVA| 2591|\n",
      "|               AVILA| 2628|\n",
      "|              HUESCA| 2789|\n",
      "|             SEGOVIA| 2881|\n",
      "|            PALENCIA| 3311|\n",
      "|              ZAMORA| 3430|\n",
      "|              CUENCA| 3788|\n",
      "|                null| 3996|\n",
      "|             ALMERIA| 4307|\n",
      "|                JAEN| 4496|\n",
      "|         GUADALAJARA| 4678|\n",
      "|            GIPUZKOA| 4869|\n",
      "|SANTA CRUZ DE TEN...| 5097|\n",
      "|              LERIDA| 5430|\n",
      "|             OURENSE| 5605|\n",
      "|                LUGO| 5656|\n",
      "+--------------------+-----+\n",
      "only showing top 20 rows\n",
      "\n"
     ]
    }
   ],
   "source": [
    "testdf.groupBy('Province_Name').count().orderBy('count').show()"
   ]
  },
  {
   "cell_type": "code",
   "execution_count": 10,
   "id": "75589e9a",
   "metadata": {},
   "outputs": [],
   "source": [
    "traindf = traindf.drop(traindf.Province_Code)\n",
    "\n",
    "testdf = testdf.drop(testdf.Province_Code) "
   ]
  },
  {
   "cell_type": "markdown",
   "id": "0937b204",
   "metadata": {},
   "source": [
    "Residence_Index and Foreigner_Index are inverses of each other; we don't need both"
   ]
  },
  {
   "cell_type": "code",
   "execution_count": 11,
   "id": "44dd6c11",
   "metadata": {},
   "outputs": [],
   "source": [
    "traindf = traindf.drop(traindf.Residence_Index) \n",
    "\n",
    "testdf = testdf.drop(testdf.Residence_Index) \n"
   ]
  },
  {
   "cell_type": "markdown",
   "id": "0123b48f",
   "metadata": {},
   "source": [
    "Inspect the data for NANs and Null values:"
   ]
  },
  {
   "cell_type": "code",
   "execution_count": 12,
   "id": "bc13400c",
   "metadata": {
    "scrolled": false
   },
   "outputs": [
    {
     "data": {
      "text/html": [
       "<div>\n",
       "<style scoped>\n",
       "    .dataframe tbody tr th:only-of-type {\n",
       "        vertical-align: middle;\n",
       "    }\n",
       "\n",
       "    .dataframe tbody tr th {\n",
       "        vertical-align: top;\n",
       "    }\n",
       "\n",
       "    .dataframe thead th {\n",
       "        text-align: right;\n",
       "    }\n",
       "</style>\n",
       "<table border=\"1\" class=\"dataframe\">\n",
       "  <thead>\n",
       "    <tr style=\"text-align: right;\">\n",
       "      <th></th>\n",
       "      <th>0</th>\n",
       "    </tr>\n",
       "  </thead>\n",
       "  <tbody>\n",
       "    <tr>\n",
       "      <th>Date</th>\n",
       "      <td>0</td>\n",
       "    </tr>\n",
       "    <tr>\n",
       "      <th>Customer_Code</th>\n",
       "      <td>0</td>\n",
       "    </tr>\n",
       "    <tr>\n",
       "      <th>Employment_Index</th>\n",
       "      <td>27734</td>\n",
       "    </tr>\n",
       "    <tr>\n",
       "      <th>Country_Residence</th>\n",
       "      <td>27734</td>\n",
       "    </tr>\n",
       "    <tr>\n",
       "      <th>Gender</th>\n",
       "      <td>27804</td>\n",
       "    </tr>\n",
       "    <tr>\n",
       "      <th>age</th>\n",
       "      <td>0</td>\n",
       "    </tr>\n",
       "    <tr>\n",
       "      <th>Join_Date</th>\n",
       "      <td>27734</td>\n",
       "    </tr>\n",
       "    <tr>\n",
       "      <th>New_customer</th>\n",
       "      <td>0</td>\n",
       "    </tr>\n",
       "    <tr>\n",
       "      <th>Months_at_Bank</th>\n",
       "      <td>0</td>\n",
       "    </tr>\n",
       "    <tr>\n",
       "      <th>Customer_during_Month</th>\n",
       "      <td>0</td>\n",
       "    </tr>\n",
       "    <tr>\n",
       "      <th>Stopped_Being_Customer</th>\n",
       "      <td>13622516</td>\n",
       "    </tr>\n",
       "    <tr>\n",
       "      <th>Customer_Type</th>\n",
       "      <td>149781</td>\n",
       "    </tr>\n",
       "    <tr>\n",
       "      <th>Relationship_to_Bank</th>\n",
       "      <td>149781</td>\n",
       "    </tr>\n",
       "    <tr>\n",
       "      <th>Foreigner_Index</th>\n",
       "      <td>27734</td>\n",
       "    </tr>\n",
       "    <tr>\n",
       "      <th>Spouse_Index</th>\n",
       "      <td>13645501</td>\n",
       "    </tr>\n",
       "    <tr>\n",
       "      <th>Channel</th>\n",
       "      <td>186126</td>\n",
       "    </tr>\n",
       "    <tr>\n",
       "      <th>Deceased_Index</th>\n",
       "      <td>27734</td>\n",
       "    </tr>\n",
       "    <tr>\n",
       "      <th>Address_Type</th>\n",
       "      <td>0</td>\n",
       "    </tr>\n",
       "    <tr>\n",
       "      <th>Province_Name</th>\n",
       "      <td>93591</td>\n",
       "    </tr>\n",
       "    <tr>\n",
       "      <th>Active</th>\n",
       "      <td>0</td>\n",
       "    </tr>\n",
       "    <tr>\n",
       "      <th>Income</th>\n",
       "      <td>2794375</td>\n",
       "    </tr>\n",
       "    <tr>\n",
       "      <th>Segmentation</th>\n",
       "      <td>189368</td>\n",
       "    </tr>\n",
       "    <tr>\n",
       "      <th>Savings_Account</th>\n",
       "      <td>0</td>\n",
       "    </tr>\n",
       "    <tr>\n",
       "      <th>Guarantees</th>\n",
       "      <td>0</td>\n",
       "    </tr>\n",
       "    <tr>\n",
       "      <th>Current_Accounts</th>\n",
       "      <td>0</td>\n",
       "    </tr>\n",
       "    <tr>\n",
       "      <th>Derivative</th>\n",
       "      <td>0</td>\n",
       "    </tr>\n",
       "    <tr>\n",
       "      <th>Payroll_Account</th>\n",
       "      <td>0</td>\n",
       "    </tr>\n",
       "    <tr>\n",
       "      <th>Junior_Account</th>\n",
       "      <td>0</td>\n",
       "    </tr>\n",
       "    <tr>\n",
       "      <th>More_Particular_Account</th>\n",
       "      <td>0</td>\n",
       "    </tr>\n",
       "    <tr>\n",
       "      <th>Particular_Account</th>\n",
       "      <td>0</td>\n",
       "    </tr>\n",
       "    <tr>\n",
       "      <th>Particular_Plus_Account</th>\n",
       "      <td>0</td>\n",
       "    </tr>\n",
       "    <tr>\n",
       "      <th>Short_Term_Deposits</th>\n",
       "      <td>0</td>\n",
       "    </tr>\n",
       "    <tr>\n",
       "      <th>Medium_Term_Deposits</th>\n",
       "      <td>0</td>\n",
       "    </tr>\n",
       "    <tr>\n",
       "      <th>Long_Term_Deposits</th>\n",
       "      <td>0</td>\n",
       "    </tr>\n",
       "    <tr>\n",
       "      <th>e-Account</th>\n",
       "      <td>0</td>\n",
       "    </tr>\n",
       "    <tr>\n",
       "      <th>Funds</th>\n",
       "      <td>0</td>\n",
       "    </tr>\n",
       "    <tr>\n",
       "      <th>Mortgage</th>\n",
       "      <td>0</td>\n",
       "    </tr>\n",
       "    <tr>\n",
       "      <th>Pensions</th>\n",
       "      <td>0</td>\n",
       "    </tr>\n",
       "    <tr>\n",
       "      <th>Loans</th>\n",
       "      <td>0</td>\n",
       "    </tr>\n",
       "    <tr>\n",
       "      <th>Taxes</th>\n",
       "      <td>0</td>\n",
       "    </tr>\n",
       "    <tr>\n",
       "      <th>Credit_Card</th>\n",
       "      <td>0</td>\n",
       "    </tr>\n",
       "    <tr>\n",
       "      <th>Securities</th>\n",
       "      <td>0</td>\n",
       "    </tr>\n",
       "    <tr>\n",
       "      <th>Home_Account</th>\n",
       "      <td>0</td>\n",
       "    </tr>\n",
       "    <tr>\n",
       "      <th>Payroll</th>\n",
       "      <td>0</td>\n",
       "    </tr>\n",
       "    <tr>\n",
       "      <th>Pensions_two</th>\n",
       "      <td>0</td>\n",
       "    </tr>\n",
       "    <tr>\n",
       "      <th>Direct_Debit</th>\n",
       "      <td>0</td>\n",
       "    </tr>\n",
       "  </tbody>\n",
       "</table>\n",
       "</div>"
      ],
      "text/plain": [
       "                                0\n",
       "Date                            0\n",
       "Customer_Code                   0\n",
       "Employment_Index            27734\n",
       "Country_Residence           27734\n",
       "Gender                      27804\n",
       "age                             0\n",
       "Join_Date                   27734\n",
       "New_customer                    0\n",
       "Months_at_Bank                  0\n",
       "Customer_during_Month           0\n",
       "Stopped_Being_Customer   13622516\n",
       "Customer_Type              149781\n",
       "Relationship_to_Bank       149781\n",
       "Foreigner_Index             27734\n",
       "Spouse_Index             13645501\n",
       "Channel                    186126\n",
       "Deceased_Index              27734\n",
       "Address_Type                    0\n",
       "Province_Name               93591\n",
       "Active                          0\n",
       "Income                    2794375\n",
       "Segmentation               189368\n",
       "Savings_Account                 0\n",
       "Guarantees                      0\n",
       "Current_Accounts                0\n",
       "Derivative                      0\n",
       "Payroll_Account                 0\n",
       "Junior_Account                  0\n",
       "More_Particular_Account         0\n",
       "Particular_Account              0\n",
       "Particular_Plus_Account         0\n",
       "Short_Term_Deposits             0\n",
       "Medium_Term_Deposits            0\n",
       "Long_Term_Deposits              0\n",
       "e-Account                       0\n",
       "Funds                           0\n",
       "Mortgage                        0\n",
       "Pensions                        0\n",
       "Loans                           0\n",
       "Taxes                           0\n",
       "Credit_Card                     0\n",
       "Securities                      0\n",
       "Home_Account                    0\n",
       "Payroll                         0\n",
       "Pensions_two                    0\n",
       "Direct_Debit                    0"
      ]
     },
     "execution_count": 12,
     "metadata": {},
     "output_type": "execute_result"
    }
   ],
   "source": [
    "from pyspark.sql.functions import isnan, when, count, col\n",
    "\n",
    "traindf.select([count(when(col(c).isNull(), c)).alias(c) for c in \n",
    "           traindf.columns]).toPandas().T\n"
   ]
  },
  {
   "cell_type": "code",
   "execution_count": 13,
   "id": "11de9d2e",
   "metadata": {},
   "outputs": [
    {
     "data": {
      "text/html": [
       "<div>\n",
       "<style scoped>\n",
       "    .dataframe tbody tr th:only-of-type {\n",
       "        vertical-align: middle;\n",
       "    }\n",
       "\n",
       "    .dataframe tbody tr th {\n",
       "        vertical-align: top;\n",
       "    }\n",
       "\n",
       "    .dataframe thead th {\n",
       "        text-align: right;\n",
       "    }\n",
       "</style>\n",
       "<table border=\"1\" class=\"dataframe\">\n",
       "  <thead>\n",
       "    <tr style=\"text-align: right;\">\n",
       "      <th></th>\n",
       "      <th>0</th>\n",
       "    </tr>\n",
       "  </thead>\n",
       "  <tbody>\n",
       "    <tr>\n",
       "      <th>Date</th>\n",
       "      <td>0</td>\n",
       "    </tr>\n",
       "    <tr>\n",
       "      <th>Customer_Code</th>\n",
       "      <td>0</td>\n",
       "    </tr>\n",
       "    <tr>\n",
       "      <th>Employment_Index</th>\n",
       "      <td>0</td>\n",
       "    </tr>\n",
       "    <tr>\n",
       "      <th>Country_Residence</th>\n",
       "      <td>0</td>\n",
       "    </tr>\n",
       "    <tr>\n",
       "      <th>Gender</th>\n",
       "      <td>5</td>\n",
       "    </tr>\n",
       "    <tr>\n",
       "      <th>age</th>\n",
       "      <td>0</td>\n",
       "    </tr>\n",
       "    <tr>\n",
       "      <th>Join_Date</th>\n",
       "      <td>0</td>\n",
       "    </tr>\n",
       "    <tr>\n",
       "      <th>New_customer</th>\n",
       "      <td>0</td>\n",
       "    </tr>\n",
       "    <tr>\n",
       "      <th>Months_at_Bank</th>\n",
       "      <td>0</td>\n",
       "    </tr>\n",
       "    <tr>\n",
       "      <th>Customer_during_Month</th>\n",
       "      <td>0</td>\n",
       "    </tr>\n",
       "    <tr>\n",
       "      <th>Stopped_Being_Customer</th>\n",
       "      <td>927932</td>\n",
       "    </tr>\n",
       "    <tr>\n",
       "      <th>Customer_Type</th>\n",
       "      <td>23</td>\n",
       "    </tr>\n",
       "    <tr>\n",
       "      <th>Relationship_to_Bank</th>\n",
       "      <td>23</td>\n",
       "    </tr>\n",
       "    <tr>\n",
       "      <th>Foreigner_Index</th>\n",
       "      <td>0</td>\n",
       "    </tr>\n",
       "    <tr>\n",
       "      <th>Spouse_Index</th>\n",
       "      <td>929511</td>\n",
       "    </tr>\n",
       "    <tr>\n",
       "      <th>Channel</th>\n",
       "      <td>2081</td>\n",
       "    </tr>\n",
       "    <tr>\n",
       "      <th>Deceased_Index</th>\n",
       "      <td>0</td>\n",
       "    </tr>\n",
       "    <tr>\n",
       "      <th>Address_Type</th>\n",
       "      <td>0</td>\n",
       "    </tr>\n",
       "    <tr>\n",
       "      <th>Province_Name</th>\n",
       "      <td>3996</td>\n",
       "    </tr>\n",
       "    <tr>\n",
       "      <th>Active</th>\n",
       "      <td>0</td>\n",
       "    </tr>\n",
       "    <tr>\n",
       "      <th>Income</th>\n",
       "      <td>0</td>\n",
       "    </tr>\n",
       "    <tr>\n",
       "      <th>Segmentation</th>\n",
       "      <td>2248</td>\n",
       "    </tr>\n",
       "  </tbody>\n",
       "</table>\n",
       "</div>"
      ],
      "text/plain": [
       "                             0\n",
       "Date                         0\n",
       "Customer_Code                0\n",
       "Employment_Index             0\n",
       "Country_Residence            0\n",
       "Gender                       5\n",
       "age                          0\n",
       "Join_Date                    0\n",
       "New_customer                 0\n",
       "Months_at_Bank               0\n",
       "Customer_during_Month        0\n",
       "Stopped_Being_Customer  927932\n",
       "Customer_Type               23\n",
       "Relationship_to_Bank        23\n",
       "Foreigner_Index              0\n",
       "Spouse_Index            929511\n",
       "Channel                   2081\n",
       "Deceased_Index               0\n",
       "Address_Type                 0\n",
       "Province_Name             3996\n",
       "Active                       0\n",
       "Income                       0\n",
       "Segmentation              2248"
      ]
     },
     "execution_count": 13,
     "metadata": {},
     "output_type": "execute_result"
    }
   ],
   "source": [
    "testdf.select([count(when(col(c).isNull(), c)).alias(c) for c in \n",
    "           testdf.columns]).toPandas().T"
   ]
  },
  {
   "cell_type": "markdown",
   "id": "1f305382",
   "metadata": {},
   "source": [
    "The good news is that there are no NAN values, and that there are no null values for any of the product columns. The bad news is that 15 of the 22 feature columns in the training set, and 8 of the 22 feature columns in the test set have null values."
   ]
  },
  {
   "cell_type": "markdown",
   "id": "67c5ac9d",
   "metadata": {},
   "source": [
    " ##  Highlighting Certain Columns, and Imputing Values"
   ]
  },
  {
   "cell_type": "markdown",
   "id": "1b63e68e",
   "metadata": {},
   "source": [
    "#### Customer_Code "
   ]
  },
  {
   "cell_type": "code",
   "execution_count": 76,
   "id": "990e0dd3",
   "metadata": {},
   "outputs": [
    {
     "name": "stdout",
     "output_type": "stream",
     "text": [
      "+-------------+-----+\n",
      "|Customer_Code|count|\n",
      "+-------------+-----+\n",
      "|    1050599.0|   17|\n",
      "|    1052358.0|   10|\n",
      "|    1052187.0|   17|\n",
      "|    1048934.0|   15|\n",
      "|    1048839.0|   17|\n",
      "|    1049108.0|   17|\n",
      "|    1048792.0|   17|\n",
      "|    1048656.0|   17|\n",
      "|    1049799.0|   17|\n",
      "|    1049905.0|   17|\n",
      "|    1049944.0|   17|\n",
      "|    1056294.0|   17|\n",
      "|    1055185.0|   17|\n",
      "|    1055633.0|   17|\n",
      "|    1055721.0|   17|\n",
      "|    1055528.0|   17|\n",
      "|    1056869.0|   17|\n",
      "|    1056843.0|   17|\n",
      "|    1056723.0|   17|\n",
      "|    1056566.0|   17|\n",
      "+-------------+-----+\n",
      "only showing top 20 rows\n",
      "\n"
     ]
    }
   ],
   "source": [
    "ccgroup = traindf.groupBy('Customer_Code').count()\n",
    "traindf.groupBy('Customer_Code').count().show()"
   ]
  },
  {
   "cell_type": "code",
   "execution_count": 83,
   "id": "3d0656a8",
   "metadata": {},
   "outputs": [
    {
     "name": "stdout",
     "output_type": "stream",
     "text": [
      "+----------+-------------+----------------+------+----+--------------+---------------------+-------------+---------------+-------+--------------+------------+-------------+------+-----------+------------------+\n",
      "|Date      |Customer_Code|Employment_Index|Gender|age |Months_at_Bank|Customer_during_Month|Customer_Type|Foreigner_Index|Channel|Deceased_Index|Address_Type|Province_Name|Active|Income     |Segmentation      |\n",
      "+----------+-------------+----------------+------+----+--------------+---------------------+-------------+---------------+-------+--------------+------------+-------------+------+-----------+------------------+\n",
      "|2016-06-28|1048934.0    |N               |V     |24.0|46.0          |1.0                  |1.0          |N              |KHE    |N             |1           |ZARAGOZA     |0     |   55545.48|03 - UNIVERSITARIO|\n",
      "+----------+-------------+----------------+------+----+--------------+---------------------+-------------+---------------+-------+--------------+------------+-------------+------+-----------+------------------+\n",
      "\n"
     ]
    }
   ],
   "source": [
    "testdf.filter(testdf.Customer_Code == \"1048934.0\").show(truncate=False)"
   ]
  },
  {
   "cell_type": "markdown",
   "id": "631e42d4",
   "metadata": {},
   "source": [
    "Each individual customer has up to 17 observations, which coincides with the 17 months that the dataset measures. "
   ]
  },
  {
   "cell_type": "markdown",
   "id": "0cf4510e",
   "metadata": {},
   "source": [
    "#### Employment_Index"
   ]
  },
  {
   "cell_type": "code",
   "execution_count": 15,
   "id": "e228c0e7",
   "metadata": {},
   "outputs": [
    {
     "name": "stdout",
     "output_type": "stream",
     "text": [
      "+----------------+--------+\n",
      "|Employment_Index|   count|\n",
      "+----------------+--------+\n",
      "|               F|    2523|\n",
      "|            null|   27734|\n",
      "|               B|    3566|\n",
      "|               A|    2492|\n",
      "|               N|13610977|\n",
      "|               S|      17|\n",
      "+----------------+--------+\n",
      "\n"
     ]
    }
   ],
   "source": [
    "traindf.groupBy('Employment_Index').count().show()"
   ]
  },
  {
   "cell_type": "code",
   "execution_count": 16,
   "id": "3563cc39",
   "metadata": {},
   "outputs": [],
   "source": [
    "##Impute Highest Frequency Value\n",
    "traindf = traindf.na.fill(value='N',subset=[\"Employment_Index\"])"
   ]
  },
  {
   "cell_type": "markdown",
   "id": "972879a9",
   "metadata": {},
   "source": [
    "#### Country_Residence"
   ]
  },
  {
   "cell_type": "code",
   "execution_count": 17,
   "id": "15e0153d",
   "metadata": {},
   "outputs": [
    {
     "name": "stdout",
     "output_type": "stream",
     "text": [
      "+-----------------+--------+\n",
      "|Country_Residence|   count|\n",
      "+-----------------+--------+\n",
      "|               ES|13553710|\n",
      "|             null|   27734|\n",
      "|               FR|    5161|\n",
      "|               AR|    4835|\n",
      "|               DE|    4625|\n",
      "|               GB|    4605|\n",
      "|               US|    3651|\n",
      "|               CO|    3526|\n",
      "|               IT|    2947|\n",
      "|               RO|    2931|\n",
      "|               MX|    2573|\n",
      "|               BR|    2351|\n",
      "|               VE|    2331|\n",
      "|               EC|    2169|\n",
      "|               CH|    1995|\n",
      "|               BE|    1526|\n",
      "|               BO|    1514|\n",
      "|               PY|    1430|\n",
      "|               PT|    1419|\n",
      "|               CL|     989|\n",
      "+-----------------+--------+\n",
      "only showing top 20 rows\n",
      "\n"
     ]
    }
   ],
   "source": [
    "traindf.groupBy('Country_Residence').count().orderBy(col(\"count\").desc()).show()"
   ]
  },
  {
   "cell_type": "code",
   "execution_count": 18,
   "id": "428a901f",
   "metadata": {},
   "outputs": [],
   "source": [
    "##Not enough values in non-Spain Countries to justify this column. Will use 'Foreigner Index' instead\n",
    "traindf = traindf.drop(traindf.Country_Residence) \n",
    "\n",
    "testdf = testdf.drop(testdf.Country_Residence) "
   ]
  },
  {
   "cell_type": "markdown",
   "id": "6a5863af",
   "metadata": {},
   "source": [
    "#### Gender (Ask about whether appropriate to delete rows)"
   ]
  },
  {
   "cell_type": "code",
   "execution_count": 19,
   "id": "25e03700",
   "metadata": {},
   "outputs": [
    {
     "name": "stdout",
     "output_type": "stream",
     "text": [
      "+------+-------+\n",
      "|Gender|  count|\n",
      "+------+-------+\n",
      "|     V|7424252|\n",
      "|     H|6195253|\n",
      "|  null|  27804|\n",
      "+------+-------+\n",
      "\n"
     ]
    }
   ],
   "source": [
    "traindf.groupBy('Gender').count().orderBy(col(\"count\").desc()).show()"
   ]
  },
  {
   "cell_type": "code",
   "execution_count": 86,
   "id": "f9ee4855",
   "metadata": {},
   "outputs": [],
   "source": [
    "from pyspark.sql.functions import regexp_replace\n",
    "traindf = traindf.withColumn('Gender', regexp_replace('Gender', 'V', 'Female'))\n",
    "traindf = traindf.withColumn('Gender', regexp_replace('Gender', 'H', 'Male'))\n",
    "testdf = testdf.withColumn('Gender', regexp_replace('Gender', 'V', 'Female'))\n",
    "testdf = testdf.withColumn('Gender', regexp_replace('Gender', 'H', 'Male'))"
   ]
  },
  {
   "cell_type": "markdown",
   "id": "6ac0ad11",
   "metadata": {},
   "source": [
    "#### Age"
   ]
  },
  {
   "cell_type": "code",
   "execution_count": 20,
   "id": "216c422a",
   "metadata": {},
   "outputs": [
    {
     "name": "stdout",
     "output_type": "stream",
     "text": [
      "+---+-----+\n",
      "|age|count|\n",
      "+---+-----+\n",
      "|164|    3|\n",
      "|163|    8|\n",
      "|127|    8|\n",
      "|126|    3|\n",
      "|117|   14|\n",
      "|116|   63|\n",
      "|115|   82|\n",
      "|114|   22|\n",
      "|113|  117|\n",
      "|112|  188|\n",
      "|111|  252|\n",
      "|110|  261|\n",
      "|109|  265|\n",
      "|108|  456|\n",
      "|107|  594|\n",
      "|106|  899|\n",
      "|105| 1280|\n",
      "|104| 1350|\n",
      "|103| 2003|\n",
      "|102| 2335|\n",
      "+---+-----+\n",
      "only showing top 20 rows\n",
      "\n"
     ]
    }
   ],
   "source": [
    "traindf.groupBy('age').count().orderBy(col(\"age\").desc()).show()"
   ]
  },
  {
   "cell_type": "code",
   "execution_count": 21,
   "id": "778f5657",
   "metadata": {},
   "outputs": [],
   "source": [
    "###Bin Age into groups\n",
    "#def Age(age):\n",
    " #   if   age<13: return '0-12'\n",
    "  #  elif age>12 and age<18: return '13-17'\n",
    "   # elif age>17 and age<25: return '18-24'\n",
    "    #elif age>24 and age<41: return '25-40'\n",
    "    #elif age>40 and age<66: return '41-65'\n",
    "    #elif age>65 : return '66+'\n",
    "#udf_Age = udf(Age, StringType())\n",
    "#traindf = traindf.withColumn(\"Age\", udf_Age('age'))"
   ]
  },
  {
   "cell_type": "markdown",
   "id": "322a4b5c",
   "metadata": {},
   "source": [
    "#### Join Date"
   ]
  },
  {
   "cell_type": "code",
   "execution_count": 22,
   "id": "dc762dd3",
   "metadata": {},
   "outputs": [
    {
     "name": "stdout",
     "output_type": "stream",
     "text": [
      "+----------+-----+\n",
      "| Join_Date|count|\n",
      "+----------+-----+\n",
      "|2014-07-28|57389|\n",
      "|2014-10-03|54287|\n",
      "|2014-08-04|45746|\n",
      "|2013-10-14|40804|\n",
      "|2013-08-03|33414|\n",
      "|      null|27734|\n",
      "|2012-08-06|26223|\n",
      "|2014-07-21|26027|\n",
      "|2012-08-03|25409|\n",
      "|2012-08-02|25004|\n",
      "|2013-10-11|24751|\n",
      "|2013-08-10|23766|\n",
      "|2012-08-01|22935|\n",
      "|2014-09-17|22810|\n",
      "|2014-08-06|22756|\n",
      "|2014-09-24|22696|\n",
      "|2014-07-30|22695|\n",
      "|2012-08-09|22433|\n",
      "|2013-07-22|22309|\n",
      "|2012-08-07|22052|\n",
      "+----------+-----+\n",
      "only showing top 20 rows\n",
      "\n"
     ]
    }
   ],
   "source": [
    "traindf.groupBy('Join_Date').count().orderBy(col(\"count\").desc()).show()"
   ]
  },
  {
   "cell_type": "code",
   "execution_count": 23,
   "id": "869a5fbd",
   "metadata": {},
   "outputs": [],
   "source": [
    "##Seems like it won't be a great predictive factor.Other variables measure how long someone has been at the bank\n",
    "traindf = traindf.drop(traindf.Join_Date) \n",
    "\n",
    "testdf = testdf.drop(testdf.Join_Date) "
   ]
  },
  {
   "cell_type": "markdown",
   "id": "d6a4f678",
   "metadata": {},
   "source": [
    "# "
   ]
  },
  {
   "cell_type": "markdown",
   "id": "ecaa1d81",
   "metadata": {},
   "source": [
    "#### New_customer"
   ]
  },
  {
   "cell_type": "code",
   "execution_count": 24,
   "id": "ae5b32c5",
   "metadata": {},
   "outputs": [
    {
     "name": "stdout",
     "output_type": "stream",
     "text": [
      "+------------+--------+\n",
      "|New_customer|   count|\n",
      "+------------+--------+\n",
      "|           0|12808368|\n",
      "|           1|  811207|\n",
      "|          NA|   27734|\n",
      "+------------+--------+\n",
      "\n"
     ]
    }
   ],
   "source": [
    "traindf.groupBy('New_customer').count().orderBy(col(\"count\").desc()).show()"
   ]
  },
  {
   "cell_type": "code",
   "execution_count": 25,
   "id": "7b952bc5",
   "metadata": {},
   "outputs": [],
   "source": [
    "#Will stick with the Months_at_Bank feature for now\n",
    "traindf = traindf.drop(traindf.New_customer) \n",
    "\n",
    "testdf = testdf.drop(testdf.New_customer) "
   ]
  },
  {
   "cell_type": "markdown",
   "id": "b91a9519",
   "metadata": {},
   "source": [
    "#### Spouse_Index "
   ]
  },
  {
   "cell_type": "code",
   "execution_count": 26,
   "id": "8389c6d0",
   "metadata": {},
   "outputs": [
    {
     "name": "stdout",
     "output_type": "stream",
     "text": [
      "+------------+--------+\n",
      "|Spouse_Index|   count|\n",
      "+------------+--------+\n",
      "|        null|13645501|\n",
      "|           N|    1791|\n",
      "|           S|      17|\n",
      "+------------+--------+\n",
      "\n"
     ]
    }
   ],
   "source": [
    "traindf.groupBy('Spouse_Index').count().orderBy(col(\"count\").desc()).show()"
   ]
  },
  {
   "cell_type": "code",
   "execution_count": 27,
   "id": "a4e6daf9",
   "metadata": {},
   "outputs": [],
   "source": [
    "#Almost entirely null values\n",
    "traindf = traindf.drop(traindf.Spouse_Index) \n",
    "\n",
    "testdf = testdf.drop(testdf.Spouse_Index) "
   ]
  },
  {
   "cell_type": "code",
   "execution_count": 28,
   "id": "a282fb33",
   "metadata": {},
   "outputs": [],
   "source": [
    "traindf = traindf.drop(traindf.Stopped_Being_Customer) \n",
    "\n",
    "testdf = testdf.drop(testdf.Stopped_Being_Customer) "
   ]
  },
  {
   "cell_type": "markdown",
   "id": "54c83fbb",
   "metadata": {},
   "source": [
    "#### Channel (not sure what to do with null values) "
   ]
  },
  {
   "cell_type": "code",
   "execution_count": 29,
   "id": "e4dba799",
   "metadata": {},
   "outputs": [
    {
     "name": "stdout",
     "output_type": "stream",
     "text": [
      "+-------+-------+\n",
      "|Channel|  count|\n",
      "+-------+-------+\n",
      "|    KHE|4055270|\n",
      "|    KAT|3268209|\n",
      "|    KFC|3098360|\n",
      "|    KHQ| 591039|\n",
      "|    KFA| 409669|\n",
      "|    KHK| 241084|\n",
      "|   null| 186126|\n",
      "|    KHM| 183924|\n",
      "|    KHD| 116891|\n",
      "|    KHN| 116608|\n",
      "|    KAS|  86221|\n",
      "|    RED|  75607|\n",
      "|    KAG|  74295|\n",
      "|    KAY|  67350|\n",
      "|    KAA|  66656|\n",
      "|    KAB|  62381|\n",
      "|    KAE|  50764|\n",
      "|    KCC|  49308|\n",
      "|    KBZ|  46446|\n",
      "|    KHL|  45128|\n",
      "+-------+-------+\n",
      "only showing top 20 rows\n",
      "\n"
     ]
    }
   ],
   "source": [
    "traindf.groupBy('Channel').count().orderBy(col(\"count\").desc()).show()"
   ]
  },
  {
   "cell_type": "markdown",
   "id": "9b95f31c",
   "metadata": {},
   "source": [
    "#### Customer_Type "
   ]
  },
  {
   "cell_type": "code",
   "execution_count": 30,
   "id": "a4ad9c97",
   "metadata": {},
   "outputs": [
    {
     "name": "stdout",
     "output_type": "stream",
     "text": [
      "+-------------+-------+\n",
      "|Customer_Type|  count|\n",
      "+-------------+-------+\n",
      "|          1.0|9133383|\n",
      "|            1|4357298|\n",
      "|         null| 149781|\n",
      "|          3.0|   2780|\n",
      "|            3|   1570|\n",
      "|            P|    874|\n",
      "|          2.0|    740|\n",
      "|            2|    577|\n",
      "|          4.0|    223|\n",
      "|            4|     83|\n",
      "+-------------+-------+\n",
      "\n"
     ]
    }
   ],
   "source": [
    "traindf.groupBy('Customer_Type').count().orderBy(col(\"count\").desc()).show()"
   ]
  },
  {
   "cell_type": "markdown",
   "id": "8da10f53",
   "metadata": {},
   "source": [
    "#### Relationship_to_Bank "
   ]
  },
  {
   "cell_type": "code",
   "execution_count": 31,
   "id": "4e5c8cbb",
   "metadata": {},
   "outputs": [
    {
     "name": "stdout",
     "output_type": "stream",
     "text": [
      "+--------------------+-------+\n",
      "|Relationship_to_Bank|  count|\n",
      "+--------------------+-------+\n",
      "|                   I|7304875|\n",
      "|                   A|6187123|\n",
      "|                null| 149781|\n",
      "|                   P|   4656|\n",
      "|                   R|    870|\n",
      "|                   N|      4|\n",
      "+--------------------+-------+\n",
      "\n"
     ]
    }
   ],
   "source": [
    "traindf.groupBy('Relationship_to_Bank').count().orderBy(col(\"count\").desc()).show()"
   ]
  },
  {
   "cell_type": "code",
   "execution_count": 32,
   "id": "5617d413",
   "metadata": {},
   "outputs": [],
   "source": [
    "##Active Index is a better metric\n",
    "traindf = traindf.drop(traindf.Relationship_to_Bank) \n",
    "\n",
    "testdf = testdf.drop(testdf.Relationship_to_Bank) "
   ]
  },
  {
   "cell_type": "markdown",
   "id": "1a6daf69",
   "metadata": {},
   "source": [
    "#### Foreigner_Index "
   ]
  },
  {
   "cell_type": "code",
   "execution_count": 33,
   "id": "0a65d082",
   "metadata": {},
   "outputs": [
    {
     "name": "stdout",
     "output_type": "stream",
     "text": [
      "+---------------+--------+\n",
      "|Foreigner_Index|   count|\n",
      "+---------------+--------+\n",
      "|              N|12974839|\n",
      "|              S|  644736|\n",
      "|           null|   27734|\n",
      "+---------------+--------+\n",
      "\n"
     ]
    }
   ],
   "source": [
    "traindf.groupBy('Foreigner_Index').count().orderBy(col(\"count\").desc()).show()"
   ]
  },
  {
   "cell_type": "code",
   "execution_count": 34,
   "id": "4ca3874b",
   "metadata": {},
   "outputs": [],
   "source": [
    "##Impute Highest Frequency Value\n",
    "traindf = traindf.na.fill(value='N',subset=[\"Foreigner_Index\"])"
   ]
  },
  {
   "cell_type": "markdown",
   "id": "7c61a146",
   "metadata": {},
   "source": [
    "#### Address_Type "
   ]
  },
  {
   "cell_type": "code",
   "execution_count": 35,
   "id": "04c73874",
   "metadata": {},
   "outputs": [
    {
     "name": "stdout",
     "output_type": "stream",
     "text": [
      "+------------+--------+\n",
      "|Address_Type|   count|\n",
      "+------------+--------+\n",
      "|           1|13619574|\n",
      "|          NA|   27735|\n",
      "+------------+--------+\n",
      "\n"
     ]
    }
   ],
   "source": [
    "traindf.groupBy('Address_Type').count().orderBy(col(\"count\").desc()).show()"
   ]
  },
  {
   "cell_type": "code",
   "execution_count": 36,
   "id": "48cab52f",
   "metadata": {},
   "outputs": [],
   "source": [
    "## Impute 0\n",
    "traindf = traindf.na.fill(value=0 ,subset=[\"Address_Type\"])\n",
    "testdf = testdf.na.fill(value=0 ,subset=[\"Address_Type\"])"
   ]
  },
  {
   "cell_type": "markdown",
   "id": "735dae9b",
   "metadata": {},
   "source": [
    "#### Active "
   ]
  },
  {
   "cell_type": "code",
   "execution_count": 37,
   "id": "7a5ab7a2",
   "metadata": {},
   "outputs": [
    {
     "name": "stdout",
     "output_type": "stream",
     "text": [
      "+------+-------+\n",
      "|Active|  count|\n",
      "+------+-------+\n",
      "|     0|7384390|\n",
      "|     1|6235185|\n",
      "|    NA|  27734|\n",
      "+------+-------+\n",
      "\n"
     ]
    }
   ],
   "source": [
    "traindf.groupBy('Active').count().orderBy(col(\"count\").desc()).show()"
   ]
  },
  {
   "cell_type": "code",
   "execution_count": 38,
   "id": "cec07d98",
   "metadata": {},
   "outputs": [],
   "source": [
    "traindf = traindf.na.fill(value=0 ,subset=[\"Active\"])\n",
    "testdf = testdf.na.fill(value=0 ,subset=[\"Active\"])"
   ]
  },
  {
   "cell_type": "markdown",
   "id": "935b3cdd",
   "metadata": {},
   "source": [
    "#### Income "
   ]
  },
  {
   "cell_type": "code",
   "execution_count": 91,
   "id": "a28601ac",
   "metadata": {},
   "outputs": [
    {
     "name": "stdout",
     "output_type": "stream",
     "text": [
      "+--------------------+-----+\n",
      "|              Income|count|\n",
      "+--------------------+-----+\n",
      "|       2.889439551E7|   75|\n",
      "|       2.554725192E7|   17|\n",
      "|       2.425323693E7|   28|\n",
      "|       2.372006655E7|   45|\n",
      "|       2.203473876E7|   96|\n",
      "|        2.17241865E7|   11|\n",
      "|       2.167424667E7|   26|\n",
      "|       1.984933197E7|   17|\n",
      "|        1.78040481E7|   17|\n",
      "|       1.601867784E7|   17|\n",
      "|       1.595737164E7|   17|\n",
      "|       1.571171646E7|   55|\n",
      "|1.4337025919999998E7|   11|\n",
      "|       1.326862128E7|   68|\n",
      "|       1.190087151E7|   17|\n",
      "|       1.185785646E7|   34|\n",
      "|       1.180401498E7|   17|\n",
      "|       1.141151727E7|   84|\n",
      "|       1.138152603E7|   11|\n",
      "|       1.134115248E7|   51|\n",
      "+--------------------+-----+\n",
      "only showing top 20 rows\n",
      "\n"
     ]
    }
   ],
   "source": [
    "traindf.groupBy('Income').count().orderBy(col(\"Income\").desc()).show()"
   ]
  },
  {
   "cell_type": "code",
   "execution_count": 93,
   "id": "1ee0c27e",
   "metadata": {},
   "outputs": [
    {
     "ename": "TypeError",
     "evalue": "'Column' object is not callable",
     "output_type": "error",
     "traceback": [
      "\u001b[0;31m---------------------------------------------------------------------------\u001b[0m",
      "\u001b[0;31mTypeError\u001b[0m                                 Traceback (most recent call last)",
      "\u001b[0;32m<ipython-input-93-6e862b575de2>\u001b[0m in \u001b[0;36m<module>\u001b[0;34m\u001b[0m\n\u001b[1;32m      7\u001b[0m \u001b[0;31m# the histogram of the data\u001b[0m\u001b[0;34m\u001b[0m\u001b[0;34m\u001b[0m\u001b[0;34m\u001b[0m\u001b[0m\n\u001b[1;32m      8\u001b[0m plt.hist(x, bins, alpha=0.8, histtype='bar', color='gold',\n\u001b[0;32m----> 9\u001b[0;31m          ec='black',weights=np.zeros_like(x) + 100. / x.size)\n\u001b[0m\u001b[1;32m     10\u001b[0m \u001b[0;34m\u001b[0m\u001b[0m\n\u001b[1;32m     11\u001b[0m \u001b[0mplt\u001b[0m\u001b[0;34m.\u001b[0m\u001b[0mxlabel\u001b[0m\u001b[0;34m(\u001b[0m\u001b[0mvar\u001b[0m\u001b[0;34m)\u001b[0m\u001b[0;34m\u001b[0m\u001b[0;34m\u001b[0m\u001b[0m\n",
      "\u001b[0;32m~/anaconda3/lib/python3.7/site-packages/matplotlib/pyplot.py\u001b[0m in \u001b[0;36mhist\u001b[0;34m(x, bins, range, density, weights, cumulative, bottom, histtype, align, orientation, rwidth, log, color, label, stacked, data, **kwargs)\u001b[0m\n\u001b[1;32m   2688\u001b[0m         \u001b[0malign\u001b[0m\u001b[0;34m=\u001b[0m\u001b[0malign\u001b[0m\u001b[0;34m,\u001b[0m \u001b[0morientation\u001b[0m\u001b[0;34m=\u001b[0m\u001b[0morientation\u001b[0m\u001b[0;34m,\u001b[0m \u001b[0mrwidth\u001b[0m\u001b[0;34m=\u001b[0m\u001b[0mrwidth\u001b[0m\u001b[0;34m,\u001b[0m \u001b[0mlog\u001b[0m\u001b[0;34m=\u001b[0m\u001b[0mlog\u001b[0m\u001b[0;34m,\u001b[0m\u001b[0;34m\u001b[0m\u001b[0;34m\u001b[0m\u001b[0m\n\u001b[1;32m   2689\u001b[0m         \u001b[0mcolor\u001b[0m\u001b[0;34m=\u001b[0m\u001b[0mcolor\u001b[0m\u001b[0;34m,\u001b[0m \u001b[0mlabel\u001b[0m\u001b[0;34m=\u001b[0m\u001b[0mlabel\u001b[0m\u001b[0;34m,\u001b[0m \u001b[0mstacked\u001b[0m\u001b[0;34m=\u001b[0m\u001b[0mstacked\u001b[0m\u001b[0;34m,\u001b[0m\u001b[0;34m\u001b[0m\u001b[0;34m\u001b[0m\u001b[0m\n\u001b[0;32m-> 2690\u001b[0;31m         **({\"data\": data} if data is not None else {}), **kwargs)\n\u001b[0m\u001b[1;32m   2691\u001b[0m \u001b[0;34m\u001b[0m\u001b[0m\n\u001b[1;32m   2692\u001b[0m \u001b[0;34m\u001b[0m\u001b[0m\n",
      "\u001b[0;32m~/anaconda3/lib/python3.7/site-packages/matplotlib/__init__.py\u001b[0m in \u001b[0;36minner\u001b[0;34m(ax, data, *args, **kwargs)\u001b[0m\n\u001b[1;32m   1445\u001b[0m     \u001b[0;32mdef\u001b[0m \u001b[0minner\u001b[0m\u001b[0;34m(\u001b[0m\u001b[0max\u001b[0m\u001b[0;34m,\u001b[0m \u001b[0;34m*\u001b[0m\u001b[0margs\u001b[0m\u001b[0;34m,\u001b[0m \u001b[0mdata\u001b[0m\u001b[0;34m=\u001b[0m\u001b[0;32mNone\u001b[0m\u001b[0;34m,\u001b[0m \u001b[0;34m**\u001b[0m\u001b[0mkwargs\u001b[0m\u001b[0;34m)\u001b[0m\u001b[0;34m:\u001b[0m\u001b[0;34m\u001b[0m\u001b[0;34m\u001b[0m\u001b[0m\n\u001b[1;32m   1446\u001b[0m         \u001b[0;32mif\u001b[0m \u001b[0mdata\u001b[0m \u001b[0;32mis\u001b[0m \u001b[0;32mNone\u001b[0m\u001b[0;34m:\u001b[0m\u001b[0;34m\u001b[0m\u001b[0;34m\u001b[0m\u001b[0m\n\u001b[0;32m-> 1447\u001b[0;31m             \u001b[0;32mreturn\u001b[0m \u001b[0mfunc\u001b[0m\u001b[0;34m(\u001b[0m\u001b[0max\u001b[0m\u001b[0;34m,\u001b[0m \u001b[0;34m*\u001b[0m\u001b[0mmap\u001b[0m\u001b[0;34m(\u001b[0m\u001b[0msanitize_sequence\u001b[0m\u001b[0;34m,\u001b[0m \u001b[0margs\u001b[0m\u001b[0;34m)\u001b[0m\u001b[0;34m,\u001b[0m \u001b[0;34m**\u001b[0m\u001b[0mkwargs\u001b[0m\u001b[0;34m)\u001b[0m\u001b[0;34m\u001b[0m\u001b[0;34m\u001b[0m\u001b[0m\n\u001b[0m\u001b[1;32m   1448\u001b[0m \u001b[0;34m\u001b[0m\u001b[0m\n\u001b[1;32m   1449\u001b[0m         \u001b[0mbound\u001b[0m \u001b[0;34m=\u001b[0m \u001b[0mnew_sig\u001b[0m\u001b[0;34m.\u001b[0m\u001b[0mbind\u001b[0m\u001b[0;34m(\u001b[0m\u001b[0max\u001b[0m\u001b[0;34m,\u001b[0m \u001b[0;34m*\u001b[0m\u001b[0margs\u001b[0m\u001b[0;34m,\u001b[0m \u001b[0;34m**\u001b[0m\u001b[0mkwargs\u001b[0m\u001b[0;34m)\u001b[0m\u001b[0;34m\u001b[0m\u001b[0;34m\u001b[0m\u001b[0m\n",
      "\u001b[0;32m~/anaconda3/lib/python3.7/site-packages/matplotlib/axes/_axes.py\u001b[0m in \u001b[0;36mhist\u001b[0;34m(self, x, bins, range, density, weights, cumulative, bottom, histtype, align, orientation, rwidth, log, color, label, stacked, **kwargs)\u001b[0m\n\u001b[1;32m   6569\u001b[0m \u001b[0;34m\u001b[0m\u001b[0m\n\u001b[1;32m   6570\u001b[0m         \u001b[0;31m# Massage 'x' for processing.\u001b[0m\u001b[0;34m\u001b[0m\u001b[0;34m\u001b[0m\u001b[0;34m\u001b[0m\u001b[0m\n\u001b[0;32m-> 6571\u001b[0;31m         \u001b[0mx\u001b[0m \u001b[0;34m=\u001b[0m \u001b[0mcbook\u001b[0m\u001b[0;34m.\u001b[0m\u001b[0m_reshape_2D\u001b[0m\u001b[0;34m(\u001b[0m\u001b[0mx\u001b[0m\u001b[0;34m,\u001b[0m \u001b[0;34m'x'\u001b[0m\u001b[0;34m)\u001b[0m\u001b[0;34m\u001b[0m\u001b[0;34m\u001b[0m\u001b[0m\n\u001b[0m\u001b[1;32m   6572\u001b[0m         \u001b[0mnx\u001b[0m \u001b[0;34m=\u001b[0m \u001b[0mlen\u001b[0m\u001b[0;34m(\u001b[0m\u001b[0mx\u001b[0m\u001b[0;34m)\u001b[0m  \u001b[0;31m# number of datasets\u001b[0m\u001b[0;34m\u001b[0m\u001b[0;34m\u001b[0m\u001b[0m\n\u001b[1;32m   6573\u001b[0m \u001b[0;34m\u001b[0m\u001b[0m\n",
      "\u001b[0;32m~/anaconda3/lib/python3.7/site-packages/matplotlib/cbook/__init__.py\u001b[0m in \u001b[0;36m_reshape_2D\u001b[0;34m(X, name)\u001b[0m\n\u001b[1;32m   1349\u001b[0m     \u001b[0;31m# unpack if we have a values or to_numpy method.\u001b[0m\u001b[0;34m\u001b[0m\u001b[0;34m\u001b[0m\u001b[0;34m\u001b[0m\u001b[0m\n\u001b[1;32m   1350\u001b[0m     \u001b[0;32mtry\u001b[0m\u001b[0;34m:\u001b[0m\u001b[0;34m\u001b[0m\u001b[0;34m\u001b[0m\u001b[0m\n\u001b[0;32m-> 1351\u001b[0;31m         \u001b[0mX\u001b[0m \u001b[0;34m=\u001b[0m \u001b[0mX\u001b[0m\u001b[0;34m.\u001b[0m\u001b[0mto_numpy\u001b[0m\u001b[0;34m(\u001b[0m\u001b[0;34m)\u001b[0m\u001b[0;34m\u001b[0m\u001b[0;34m\u001b[0m\u001b[0m\n\u001b[0m\u001b[1;32m   1352\u001b[0m     \u001b[0;32mexcept\u001b[0m \u001b[0mAttributeError\u001b[0m\u001b[0;34m:\u001b[0m\u001b[0;34m\u001b[0m\u001b[0;34m\u001b[0m\u001b[0m\n\u001b[1;32m   1353\u001b[0m         \u001b[0;32mtry\u001b[0m\u001b[0;34m:\u001b[0m\u001b[0;34m\u001b[0m\u001b[0;34m\u001b[0m\u001b[0m\n",
      "\u001b[0;31mTypeError\u001b[0m: 'Column' object is not callable"
     ]
    },
    {
     "data": {
      "image/png": "[encoded data removed]",
      "text/plain": [
       "<Figure size 720x576 with 1 Axes>"
      ]
     },
     "metadata": {
      "needs_background": "light"
     },
     "output_type": "display_data"
    }
   ],
   "source": [
    "import numpy as np\n",
    "var = 'Income'\n",
    "x = traindf[var]\n",
    "bins = np.arange(0, 30000000, 1500000)\n",
    "\n",
    "plt.figure(figsize=(10,8))\n",
    "# the histogram of the data\n",
    "plt.hist(x, bins, alpha=0.8, histtype='bar', color='gold',\n",
    "         ec='black',weights=np.zeros_like(x) + 100. / x.size)\n",
    "\n",
    "plt.xlabel(var)\n",
    "plt.ylabel('percentage')\n",
    "plt.xticks(bins)\n",
    "plt.show()"
   ]
  },
  {
   "cell_type": "code",
   "execution_count": 40,
   "id": "9ed3974b",
   "metadata": {},
   "outputs": [],
   "source": [
    "###Bin Income into groups\n",
    "#def Income(Income):\n",
    " #   if   Income<13: return '0-12'\n",
    "  #  elif age>12 and age<18: return '13-17'\n",
    "   # elif age>17 and age<25: return '18-24'\n",
    "    #elif age>24 and age<41: return '25-40'\n",
    "    #elif age>40 and age<66: return '41-65'\n",
    "    #elif age>65 : return '66+'\n",
    "#udf_Age = udf(Age, StringType())\n",
    "#traindf = traindf.withColumn(\"Age\", udf_Age('age'))"
   ]
  },
  {
   "cell_type": "markdown",
   "id": "458db864",
   "metadata": {},
   "source": [
    "#### Segmentation "
   ]
  },
  {
   "cell_type": "code",
   "execution_count": 41,
   "id": "f57c0f15",
   "metadata": {},
   "outputs": [
    {
     "name": "stdout",
     "output_type": "stream",
     "text": [
      "+------------------+-------+\n",
      "|      Segmentation|  count|\n",
      "+------------------+-------+\n",
      "|              null| 189368|\n",
      "|          01 - TOP| 562142|\n",
      "|03 - UNIVERSITARIO|4935579|\n",
      "| 02 - PARTICULARES|7960220|\n",
      "+------------------+-------+\n",
      "\n"
     ]
    }
   ],
   "source": [
    "traindf.groupBy('Segmentation').count().orderBy(col(\"count\")).show()"
   ]
  },
  {
   "cell_type": "code",
   "execution_count": 42,
   "id": "3ff6a5b2",
   "metadata": {},
   "outputs": [],
   "source": [
    "traindf = traindf.na.fill(value=0 ,subset=[\"Segmentation\"])\n",
    "testdf = testdf.na.fill(value=0 ,subset=[\"Segmentation\"])"
   ]
  },
  {
   "cell_type": "code",
   "execution_count": 43,
   "id": "14042a25",
   "metadata": {},
   "outputs": [
    {
     "data": {
      "text/plain": [
       "['Date',\n",
       " 'Customer_Code',\n",
       " 'Employment_Index',\n",
       " 'Gender',\n",
       " 'age',\n",
       " 'Months_at_Bank',\n",
       " 'Customer_during_Month',\n",
       " 'Customer_Type',\n",
       " 'Foreigner_Index',\n",
       " 'Channel',\n",
       " 'Deceased_Index',\n",
       " 'Address_Type',\n",
       " 'Province_Name',\n",
       " 'Active',\n",
       " 'Income',\n",
       " 'Segmentation',\n",
       " 'Savings_Account',\n",
       " 'Guarantees',\n",
       " 'Current_Accounts',\n",
       " 'Derivative',\n",
       " 'Payroll_Account',\n",
       " 'Junior_Account',\n",
       " 'More_Particular_Account',\n",
       " 'Particular_Account',\n",
       " 'Particular_Plus_Account',\n",
       " 'Short_Term_Deposits',\n",
       " 'Medium_Term_Deposits',\n",
       " 'Long_Term_Deposits',\n",
       " 'e-Account',\n",
       " 'Funds',\n",
       " 'Mortgage',\n",
       " 'Pensions',\n",
       " 'Loans',\n",
       " 'Taxes',\n",
       " 'Credit_Card',\n",
       " 'Securities',\n",
       " 'Home_Account',\n",
       " 'Payroll',\n",
       " 'Pensions_two',\n",
       " 'Direct_Debit']"
      ]
     },
     "execution_count": 43,
     "metadata": {},
     "output_type": "execute_result"
    }
   ],
   "source": [
    "traindf.columns"
   ]
  },
  {
   "cell_type": "markdown",
   "id": "89cf31b0",
   "metadata": {},
   "source": [
    "#### Payroll "
   ]
  },
  {
   "cell_type": "code",
   "execution_count": 69,
   "id": "e66c43f3",
   "metadata": {},
   "outputs": [
    {
     "name": "stdout",
     "output_type": "stream",
     "text": [
      "+-------+--------+\n",
      "|Payroll|   count|\n",
      "+-------+--------+\n",
      "|     NA|   16063|\n",
      "|      1|  745961|\n",
      "|      0|12885285|\n",
      "+-------+--------+\n",
      "\n"
     ]
    }
   ],
   "source": [
    "traindf.groupBy('Payroll').count().orderBy(col(\"count\")).show()"
   ]
  },
  {
   "cell_type": "code",
   "execution_count": 70,
   "id": "fc408ee1",
   "metadata": {},
   "outputs": [],
   "source": [
    "traindf = traindf.na.fill(value=0 ,subset=[\"Payroll\"])"
   ]
  },
  {
   "cell_type": "markdown",
   "id": "7784a6b7",
   "metadata": {},
   "source": [
    "#### Pensions_two "
   ]
  },
  {
   "cell_type": "code",
   "execution_count": 71,
   "id": "a6e85049",
   "metadata": {},
   "outputs": [
    {
     "name": "stdout",
     "output_type": "stream",
     "text": [
      "+------------+--------+\n",
      "|Pensions_two|   count|\n",
      "+------------+--------+\n",
      "|          NA|   16063|\n",
      "|           1|  810085|\n",
      "|           0|12821161|\n",
      "+------------+--------+\n",
      "\n"
     ]
    }
   ],
   "source": [
    "traindf.groupBy('Pensions_two').count().orderBy(col(\"count\")).show()"
   ]
  },
  {
   "cell_type": "code",
   "execution_count": 72,
   "id": "38b18eca",
   "metadata": {},
   "outputs": [],
   "source": [
    "traindf = traindf.na.fill(value=0 ,subset=[\"Pensions_two\"])"
   ]
  },
  {
   "cell_type": "code",
   "execution_count": null,
   "id": "da0c2db3",
   "metadata": {},
   "outputs": [],
   "source": []
  },
  {
   "cell_type": "markdown",
   "id": "98707ae7",
   "metadata": {},
   "source": [
    "# EDA "
   ]
  },
  {
   "cell_type": "code",
   "execution_count": null,
   "id": "8dd4e07c",
   "metadata": {},
   "outputs": [],
   "source": []
  }
 ],
 "metadata": {
  "kernelspec": {
   "display_name": "Python 3",
   "language": "python",
   "name": "python3"
  },
  "language_info": {
   "codemirror_mode": {
    "name": "ipython",
    "version": 3
   },
   "file_extension": ".py",
   "mimetype": "text/x-python",
   "name": "python",
   "nbconvert_exporter": "python",
   "pygments_lexer": "ipython3",
   "version": "3.7.3"
  }
 },
 "nbformat": 4,
 "nbformat_minor": 5
}
