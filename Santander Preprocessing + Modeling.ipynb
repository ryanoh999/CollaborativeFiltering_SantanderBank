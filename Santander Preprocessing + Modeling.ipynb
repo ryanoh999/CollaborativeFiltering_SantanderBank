{
 "cells": [
  {
   "cell_type": "code",
   "execution_count": 1,
   "id": "8f2637af",
   "metadata": {},
   "outputs": [],
   "source": [
    "from pyspark.sql import SparkSession\n",
    "from pyspark.sql.types import StringType, IntegerType, DoubleType\n",
    "from pyspark.sql.functions import udf\n",
    "from pyspark.sql.functions import col\n",
    "from pyspark.ml.feature import StringIndexer\n",
    "from pyspark.ml.tuning import CrossValidator\n",
    "from pyspark.ml.feature import VectorAssembler\n",
    "from pyspark.ml.feature import PCA\n",
    "from pyspark.mllib.linalg import Vectors\n",
    "from pyspark.mllib.linalg.distributed import RowMatrix\n",
    "from pyspark.sql.types import *"
   ]
  },
  {
   "cell_type": "code",
   "execution_count": 2,
   "id": "d3b82d1a",
   "metadata": {},
   "outputs": [],
   "source": [
    "spark = SparkSession \\\n",
    "    .builder \\\n",
    "    .master(\"local[*]\") \\\n",
    "    .appName(\"xor\") \\\n",
    "    .config(\"spark.executor.memory\", '2g') \\\n",
    "    .config('spark.executor.cores', '1') \\\n",
    "    .config('spark.cores.max', '1') \\\n",
    "    .config(\"spark.driver.memory\",'1g') \\\n",
    "    .getOrCreate()\n",
    "\n",
    "sc = spark.sparkContext"
   ]
  },
  {
   "cell_type": "code",
   "execution_count": 3,
   "id": "291cb178",
   "metadata": {},
   "outputs": [],
   "source": [
    "data_schema = StructType([\n",
    "    StructField('Date',StringType(), False),\n",
    "    StructField('Customer_Code',DoubleType(), False),\n",
    "    StructField('Gender',IntegerType(), False),\n",
    "    StructField('Foreigner_Index',IntegerType(), False),\n",
    "    StructField('Channel',StringType(), False),\n",
    "    StructField('Province_Name',StringType(), False),\n",
    "    StructField('Active',IntegerType(), False),\n",
    "    StructField('Segmentation',IntegerType(), False),\n",
    "    StructField('Savings_Account',IntegerType(), False),\n",
    "    StructField('Guarantees',IntegerType(), False),\n",
    "    StructField('Current_Accounts',IntegerType(), False),\n",
    "    StructField('Derivative',IntegerType(), False),\n",
    "    StructField('Payroll_Account',IntegerType(), False),\n",
    "    StructField('Junior_Account',IntegerType(), False),\n",
    "    StructField('More_Particular_Account',IntegerType(), False),\n",
    "    StructField('Particular_Account',IntegerType(), False),\n",
    "    StructField('Particular_Plus_Account',IntegerType(), False),\n",
    "    StructField('Short_Term_Deposits',IntegerType(), False),\n",
    "    StructField('Medium_Term_Deposits',IntegerType(), False),\n",
    "    StructField('Long_Term_Deposits',IntegerType(), False),\n",
    "    StructField('e-Account',IntegerType(), False),\n",
    "    StructField('Funds',IntegerType(), False),\n",
    "    StructField('Mortgage',IntegerType(), False),\n",
    "    StructField('Pensions',IntegerType(), False),\n",
    "    StructField('Loans',IntegerType(), False),\n",
    "    StructField('Taxes',IntegerType(), False),\n",
    "    StructField('Credit_Card',IntegerType(), False),\n",
    "    StructField('Securities',IntegerType(), False),\n",
    "    StructField('Home_Account',IntegerType(), False),\n",
    "    StructField('Payroll',IntegerType(), False),\n",
    "    StructField('Pensions_two',IntegerType(), False),\n",
    "    StructField('Direct_Debit',IntegerType(), False),\n",
    "    StructField('Age_Range',IntegerType(), False),\n",
    "    StructField('Months_Range',IntegerType(), False),\n",
    "    StructField('Income_Range',IntegerType(), False)\n",
    "])"
   ]
  },
  {
   "cell_type": "code",
   "execution_count": 4,
   "id": "1894bfe5",
   "metadata": {},
   "outputs": [],
   "source": [
    "df = spark.read.csv(\n",
    "    'santander_df_clean.csv', header=True, schema=data_schema\n",
    ").cache()"
   ]
  },
  {
   "cell_type": "markdown",
   "id": "81d6ed80",
   "metadata": {},
   "source": [
    "## Preprocessing"
   ]
  },
  {
   "cell_type": "code",
   "execution_count": null,
   "id": "7a2ccf79",
   "metadata": {},
   "outputs": [],
   "source": []
  },
  {
   "cell_type": "code",
   "execution_count": null,
   "id": "0a4a0ea8",
   "metadata": {},
   "outputs": [],
   "source": []
  },
  {
   "cell_type": "markdown",
   "id": "a51d55e9",
   "metadata": {},
   "source": [
    "## Modeling"
   ]
  },
  {
   "cell_type": "code",
   "execution_count": 5,
   "id": "420a0f1d",
   "metadata": {},
   "outputs": [],
   "source": [
    "from pyspark.ml.evaluation import RegressionEvaluator\n",
    "from pyspark.ml.recommendation import ALS\n",
    "from pyspark.sql import Row"
   ]
  },
  {
   "cell_type": "code",
   "execution_count": 15,
   "id": "bca0c460",
   "metadata": {},
   "outputs": [
    {
     "data": {
      "text/plain": [
       "['Date',\n",
       " 'Customer_Code',\n",
       " 'Gender',\n",
       " 'Months_at_Bank',\n",
       " 'Foreigner_Index',\n",
       " 'Channel',\n",
       " 'Province_Name',\n",
       " 'Active',\n",
       " 'Segmentation',\n",
       " 'Savings_Account',\n",
       " 'Guarantees',\n",
       " 'Current_Accounts',\n",
       " 'Derivative',\n",
       " 'Payroll_Account',\n",
       " 'Junior_Account',\n",
       " 'More_Particular_Account',\n",
       " 'Particular_Account',\n",
       " 'Particular_Plus_Account',\n",
       " 'Short_Term_Deposits',\n",
       " 'Medium_Term_Deposits',\n",
       " 'Long_Term_Deposits',\n",
       " 'e-Account',\n",
       " 'Funds',\n",
       " 'Mortgage',\n",
       " 'Pensions',\n",
       " 'Loans',\n",
       " 'Taxes',\n",
       " 'Credit_Card',\n",
       " 'Securities',\n",
       " 'Home_Account',\n",
       " 'Payroll',\n",
       " 'Pensions_two',\n",
       " 'Direct_Debit',\n",
       " 'Age_Range',\n",
       " 'Income_Range']"
      ]
     },
     "execution_count": 15,
     "metadata": {},
     "output_type": "execute_result"
    }
   ],
   "source": [
    "df.columns"
   ]
  },
  {
   "cell_type": "code",
   "execution_count": 6,
   "id": "cefbd3f1",
   "metadata": {},
   "outputs": [],
   "source": [
    "ratings = (df\n",
    "    .select(\n",
    "     'Customer_Code',\n",
    "     'Savings_Account',\n",
    "     'Guarantees',\n",
    "     'Current_Accounts',\n",
    "     'Derivative',\n",
    "     'Payroll_Account',\n",
    "     'Junior_Account',\n",
    "     'More_Particular_Account',\n",
    "     'Particular_Account',\n",
    "     'Particular_Plus_Account',\n",
    "     'Short_Term_Deposits',\n",
    "     'Medium_Term_Deposits',\n",
    "     'Long_Term_Deposits',\n",
    "     'e-Account',\n",
    "     'Funds',\n",
    "     'Mortgage',\n",
    "     'Pensions',\n",
    "     'Loans',\n",
    "     'Taxes',\n",
    "     'Credit_Card',\n",
    "     'Securities',\n",
    "     'Home_Account',\n",
    "     'Payroll',\n",
    "     'Pensions_two',\n",
    "     'Direct_Debit'\n",
    "    )\n",
    ")"
   ]
  },
  {
   "cell_type": "code",
   "execution_count": 5,
   "id": "fe413130",
   "metadata": {},
   "outputs": [
    {
     "name": "stdout",
     "output_type": "stream",
     "text": [
      "+-------------+----------------+\n",
      "|Customer_Code|Current_Accounts|\n",
      "+-------------+----------------+\n",
      "|      15930.0|               1|\n",
      "|      15930.0|               1|\n",
      "|      15930.0|               1|\n",
      "+-------------+----------------+\n",
      "only showing top 3 rows\n",
      "\n"
     ]
    }
   ],
   "source": [
    "currentdf = (df.select('Customer_Code','Current_Accounts'))\n",
    "payrolldf = (df.select('Customer_Code','Payroll_Account'))\n",
    "nextdf = currentdf.union(payrolldf)\n",
    "nextdf.show(3)"
   ]
  },
  {
   "cell_type": "code",
   "execution_count": null,
   "id": "c36a57f8",
   "metadata": {},
   "outputs": [],
   "source": [
    "ratings ="
   ]
  },
  {
   "cell_type": "code",
   "execution_count": null,
   "id": "ea4fd141",
   "metadata": {},
   "outputs": [],
   "source": [
    "(training, test) = ratings.randomSplit([0.8, 0.2])"
   ]
  },
  {
   "cell_type": "code",
   "execution_count": null,
   "id": "310a3481",
   "metadata": {},
   "outputs": [],
   "source": []
  },
  {
   "cell_type": "code",
   "execution_count": null,
   "id": "64366b0f",
   "metadata": {},
   "outputs": [],
   "source": [
    "als = ALS(maxIter=5, regParam=0.01, userCol=\"Customer_Code\", itemCol=\"Item\", ratingCol=\"Rating\",\n",
    "          coldStartStrategy=\"drop\")\n",
    "model = als.fit(training)"
   ]
  },
  {
   "cell_type": "code",
   "execution_count": null,
   "id": "0b3af2de",
   "metadata": {},
   "outputs": [],
   "source": [
    "# Evaluate the model by computing the RMSE on the test data\n",
    "predictions = model.transform(test)\n",
    "evaluator = RegressionEvaluator(metricName=\"rmse\", labelCol=\"Rating\",\n",
    "                                predictionCol=\"prediction\")\n",
    "rmse = evaluator.evaluate(predictions)\n",
    "print(\"Root-mean-square error = \" + str(rmse))"
   ]
  },
  {
   "cell_type": "code",
   "execution_count": null,
   "id": "9d5ad7a8",
   "metadata": {},
   "outputs": [],
   "source": [
    "# Generate top 10 movie recommendations for each user\n",
    "userRecs = model.recommendForAllUsers(10)\n",
    "# Generate top 10 user recommendations for each movie\n",
    "movieRecs = model.recommendForAllItems(10)"
   ]
  }
 ],
 "metadata": {
  "kernelspec": {
   "display_name": "Python 3",
   "language": "python",
   "name": "python3"
  },
  "language_info": {
   "codemirror_mode": {
    "name": "ipython",
    "version": 3
   },
   "file_extension": ".py",
   "mimetype": "text/x-python",
   "name": "python",
   "nbconvert_exporter": "python",
   "pygments_lexer": "ipython3",
   "version": "3.8.8"
  }
 },
 "nbformat": 4,
 "nbformat_minor": 5
}
