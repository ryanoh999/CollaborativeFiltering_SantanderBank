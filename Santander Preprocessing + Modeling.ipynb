{
 "cells": [
  {
   "cell_type": "code",
   "execution_count": 1,
   "id": "8f2637af",
   "metadata": {},
   "outputs": [],
   "source": [
    "from pyspark.sql import SparkSession\n",
    "from pyspark.sql.types import StringType, IntegerType, DoubleType\n",
    "from pyspark.sql.functions import udf\n",
    "from pyspark.sql.functions import col\n",
    "from pyspark.ml.feature import StringIndexer\n",
    "from pyspark.ml.tuning import CrossValidator\n",
    "from pyspark.ml.feature import VectorAssembler\n",
    "from pyspark.ml.feature import PCA\n",
    "from pyspark.mllib.linalg import Vectors\n",
    "from pyspark.mllib.linalg.distributed import RowMatrix\n",
    "from pyspark.sql.types import *\n",
    "from pyspark.sql.functions import *\n",
    "from pyspark.sql.functions import regexp_replace\n",
    "from pyspark.sql import functions as F\n",
    "from pyspark.ml.evaluation import RegressionEvaluator\n",
    "from pyspark.ml.recommendation import ALS\n",
    "from pyspark.sql import Row\n",
    "from pyspark.sql.window import Window\n",
    "from pyspark.sql.functions import row_number"
   ]
  },
  {
   "cell_type": "code",
   "execution_count": 2,
   "id": "d3b82d1a",
   "metadata": {},
   "outputs": [],
   "source": [
    "spark = SparkSession \\\n",
    "    .builder \\\n",
    "    .master(\"local[*]\") \\\n",
    "    .appName(\"xor\") \\\n",
    "    .config(\"spark.executor.memory\", '2g') \\\n",
    "    .config('spark.executor.cores', '1') \\\n",
    "    .config('spark.cores.max', '1') \\\n",
    "    .config(\"spark.driver.memory\",'1g') \\\n",
    "    .getOrCreate()\n",
    "\n",
    "sc = spark.sparkContext"
   ]
  },
  {
   "cell_type": "code",
   "execution_count": 3,
   "id": "291cb178",
   "metadata": {},
   "outputs": [],
   "source": [
    "data_schema = StructType([\n",
    "    StructField('Date',StringType(), False),\n",
    "    StructField('Customer_Code',DoubleType(), False),\n",
    "    StructField('Gender',IntegerType(), False),\n",
    "    StructField('Foreigner_Index',IntegerType(), False),\n",
    "    StructField('Channel',StringType(), False),\n",
    "    StructField('Province_Name',StringType(), False),\n",
    "    StructField('Active',IntegerType(), False),\n",
    "    StructField('Segmentation',IntegerType(), False),\n",
    "    StructField('Savings_Account',IntegerType(), False),\n",
    "    StructField('Guarantees',IntegerType(), False),\n",
    "    StructField('Current_Accounts',IntegerType(), False),\n",
    "    StructField('Derivative',IntegerType(), False),\n",
    "    StructField('Payroll_Account',IntegerType(), False),\n",
    "    StructField('Junior_Account',IntegerType(), False),\n",
    "    StructField('More_Particular_Account',IntegerType(), False),\n",
    "    StructField('Particular_Account',IntegerType(), False),\n",
    "    StructField('Particular_Plus_Account',IntegerType(), False),\n",
    "    StructField('Short_Term_Deposits',IntegerType(), False),\n",
    "    StructField('Medium_Term_Deposits',IntegerType(), False),\n",
    "    StructField('Long_Term_Deposits',IntegerType(), False),\n",
    "    StructField('e-Account',IntegerType(), False),\n",
    "    StructField('Funds',IntegerType(), False),\n",
    "    StructField('Mortgage',IntegerType(), False),\n",
    "    StructField('Pensions',IntegerType(), False),\n",
    "    StructField('Loans',IntegerType(), False),\n",
    "    StructField('Taxes',IntegerType(), False),\n",
    "    StructField('Credit_Card',IntegerType(), False),\n",
    "    StructField('Securities',IntegerType(), False),\n",
    "    StructField('Home_Account',IntegerType(), False),\n",
    "    StructField('Payroll',IntegerType(), False),\n",
    "    StructField('Pensions_two',IntegerType(), False),\n",
    "    StructField('Direct_Debit',IntegerType(), False),\n",
    "    StructField('Age_Range',IntegerType(), False),\n",
    "    StructField('Months_Range',IntegerType(), False),\n",
    "    StructField('Income_Range',IntegerType(), False)\n",
    "])"
   ]
  },
  {
   "cell_type": "code",
   "execution_count": 4,
   "id": "1894bfe5",
   "metadata": {},
   "outputs": [],
   "source": [
    "df = spark.read.csv(\n",
    "    'santander_df_clean.csv', header=True, schema=data_schema\n",
    ").cache()"
   ]
  },
  {
   "cell_type": "markdown",
   "id": "a51d55e9",
   "metadata": {},
   "source": [
    "## Modeling"
   ]
  },
  {
   "cell_type": "code",
   "execution_count": 15,
   "id": "bca0c460",
   "metadata": {},
   "outputs": [
    {
     "data": {
      "text/plain": [
       "['Date',\n",
       " 'Customer_Code',\n",
       " 'Gender',\n",
       " 'Months_at_Bank',\n",
       " 'Foreigner_Index',\n",
       " 'Channel',\n",
       " 'Province_Name',\n",
       " 'Active',\n",
       " 'Segmentation',\n",
       " 'Savings_Account',\n",
       " 'Guarantees',\n",
       " 'Current_Accounts',\n",
       " 'Derivative',\n",
       " 'Payroll_Account',\n",
       " 'Junior_Account',\n",
       " 'More_Particular_Account',\n",
       " 'Particular_Account',\n",
       " 'Particular_Plus_Account',\n",
       " 'Short_Term_Deposits',\n",
       " 'Medium_Term_Deposits',\n",
       " 'Long_Term_Deposits',\n",
       " 'e-Account',\n",
       " 'Funds',\n",
       " 'Mortgage',\n",
       " 'Pensions',\n",
       " 'Loans',\n",
       " 'Taxes',\n",
       " 'Credit_Card',\n",
       " 'Securities',\n",
       " 'Home_Account',\n",
       " 'Payroll',\n",
       " 'Pensions_two',\n",
       " 'Direct_Debit',\n",
       " 'Age_Range',\n",
       " 'Income_Range']"
      ]
     },
     "execution_count": 15,
     "metadata": {},
     "output_type": "execute_result"
    }
   ],
   "source": [
    "df.columns"
   ]
  },
  {
   "cell_type": "markdown",
   "id": "0c53ee03",
   "metadata": {},
   "source": [
    "### ALS with prior observations"
   ]
  },
  {
   "cell_type": "markdown",
   "id": "12c6eb9c",
   "metadata": {},
   "source": [
    "Construct dataframe...."
   ]
  },
  {
   "cell_type": "code",
   "execution_count": 13,
   "id": "890483bd",
   "metadata": {},
   "outputs": [
    {
     "name": "stdout",
     "output_type": "stream",
     "text": [
      "+---------------+---+\n",
      "|Savings_Account|id1|\n",
      "+---------------+---+\n",
      "|              0|  0|\n",
      "|              0|  1|\n",
      "|              0|  2|\n",
      "+---------------+---+\n",
      "only showing top 3 rows\n",
      "\n"
     ]
    }
   ],
   "source": [
    "item = df.select('Savings_Account')\n",
    "item =  item.withColumn(\"id1\", monotonically_increasing_id())\n",
    "item.show(3)"
   ]
  },
  {
   "cell_type": "code",
   "execution_count": 14,
   "id": "dbd8741f",
   "metadata": {},
   "outputs": [],
   "source": [
    "currentdf = (df.select('Customer_Code','Current_Accounts'))\n",
    "currentdf = currentdf.withColumn(\"id2\", monotonically_increasing_id())\n",
    "currentitem = item.replace(0,1)\n",
    "currentdf = currentdf.join(currentitem,col(\"id1\")==col(\"id2\"),\"inner\").drop(\"id1\",\"id2\")\n",
    "currentdf = currentdf.withColumnRenamed(\"Current_Accounts\",\"Rating\")\n",
    "currentdf = currentdf.withColumnRenamed(\"Savings_Account\",\"Item\")"
   ]
  },
  {
   "cell_type": "code",
   "execution_count": 15,
   "id": "b2af2e67",
   "metadata": {},
   "outputs": [
    {
     "data": {
      "text/plain": [
       "10292620"
      ]
     },
     "execution_count": 15,
     "metadata": {},
     "output_type": "execute_result"
    }
   ],
   "source": [
    "currentdf.count()"
   ]
  },
  {
   "cell_type": "code",
   "execution_count": 16,
   "id": "fe413130",
   "metadata": {},
   "outputs": [],
   "source": [
    "payrolldf = (df.select('Customer_Code','Payroll_Account'))\n",
    "payrolldf = payrolldf.withColumn(\"id2\", monotonically_increasing_id())\n",
    "payrollitem = item.replace(0,2)\n",
    "payrollitem = item.replace(1,2)\n",
    "payrolldf = payrolldf.join(payrollitem,col(\"id1\")==col(\"id2\"),\"inner\").drop(\"id1\",\"id2\")\n",
    "payrolldf = payrolldf.withColumnRenamed(\"Payroll_Account\",\"Rating\")\n",
    "payrolldf = payrolldf.withColumnRenamed(\"Savings_Account\",\"Item\")\n",
    "nextdf = currentdf.union(payrolldf)\n",
    "\n",
    "Junior_Accountdf = (df.select('Customer_Code','Junior_Account'))\n",
    "Junior_Accountdf = Junior_Accountdf.withColumn(\"id2\", monotonically_increasing_id())\n",
    "Junior_Accountitem = item.replace(0,3)\n",
    "Junior_Accountitem = item.replace(1,3)\n",
    "Junior_Accountdf = Junior_Accountdf.join(Junior_Accountitem,col(\"id1\")==col(\"id2\"),\"inner\").drop(\"id1\",\"id2\")\n",
    "Junior_Accountdf = Junior_Accountdf.withColumnRenamed(\"Junior_Account\",\"Rating\")\n",
    "Junior_Accountdf = Junior_Accountdf.withColumnRenamed(\"Savings_Account\",\"Item\")\n",
    "nextdf = nextdf.union(Junior_Accountdf)\n",
    "\n",
    "More_Particular_Accountdf = (df.select('Customer_Code','More_Particular_Account'))\n",
    "More_Particular_Accountdf = More_Particular_Accountdf.withColumn(\"id2\", monotonically_increasing_id())\n",
    "More_Particular_Accountitem = item.replace(0,4)\n",
    "More_Particular_Accountitem = item.replace(1,4)\n",
    "More_Particular_Accountdf = More_Particular_Accountdf.join(More_Particular_Accountitem,col(\"id1\")==col(\"id2\"),\n",
    "                                                           \"inner\").drop(\"id1\",\"id2\")\n",
    "More_Particular_Accountdf = More_Particular_Accountdf.withColumnRenamed(\"More_Particular_Account\",\"Rating\")\n",
    "More_Particular_Accountdf = More_Particular_Accountdf.withColumnRenamed(\"Savings_Account\",\"Item\")\n",
    "nextdf = nextdf.union(More_Particular_Accountdf)\n",
    "\n",
    "Particular_Accountdf = (df.select('Customer_Code','Particular_Account'))\n",
    "Particular_Accountdf = Particular_Accountdf.withColumn(\"id2\", monotonically_increasing_id())\n",
    "Particular_Accountitem = item.replace(0,5)\n",
    "Particular_Accountitem = item.replace(1,5)\n",
    "Particular_Accountdf = Particular_Accountdf.join(Particular_Accountitem,col(\"id1\")==col(\"id2\"),\"inner\").drop(\"id1\",\"id2\")\n",
    "Particular_Accountdf = Particular_Accountdf.withColumnRenamed(\"Particular_Account\",\"Rating\")\n",
    "Particular_Accountdf = Particular_Accountdf.withColumnRenamed(\"Particular_Account\",\"Item\")\n",
    "nextdf = nextdf.union(Particular_Accountdf)"
   ]
  },
  {
   "cell_type": "code",
   "execution_count": 17,
   "id": "0ec82042",
   "metadata": {},
   "outputs": [
    {
     "name": "stdout",
     "output_type": "stream",
     "text": [
      "+-------------+------+----+\n",
      "|Customer_Code|Rating|Item|\n",
      "+-------------+------+----+\n",
      "|      16355.0|     1|   1|\n",
      "|      16355.0|     1|   1|\n",
      "|      24957.0|     1|   1|\n",
      "+-------------+------+----+\n",
      "only showing top 3 rows\n",
      "\n"
     ]
    }
   ],
   "source": [
    "nextdf.show(3)"
   ]
  },
  {
   "cell_type": "code",
   "execution_count": 19,
   "id": "c36a57f8",
   "metadata": {},
   "outputs": [],
   "source": [
    "Particular_Plus_Accountdf = (df.select('Customer_Code','Particular_Plus_Account'))\n",
    "Particular_Plus_Accountdf = Particular_Plus_Accountdf.withColumn(\"id2\", monotonically_increasing_id())\n",
    "Particular_Plus_Accountitem = item.replace(0,6)\n",
    "Particular_Plus_Accountitem = item.replace(1,6)\n",
    "Particular_Plus_Accountdf = Particular_Plus_Accountdf.join(Particular_Plus_Accountitem,col(\"id1\")==col(\"id2\"),\n",
    "                                                           \"inner\").drop(\"id1\",\"id2\")\n",
    "Particular_Plus_Accountdf = Particular_Plus_Accountdf.withColumnRenamed(\"Particular_Plus_Account\",\"Rating\")\n",
    "Particular_Plus_Accountdf = Particular_Plus_Accountdf.withColumnRenamed(\"Savings_Account\",\"Item\")\n",
    "nextdf = nextdf.union(Particular_Plus_Accountdf)\n",
    "\n",
    "Medium_Term_Depositsdf = (df.select('Customer_Code','Medium_Term_Deposits'))\n",
    "Medium_Term_Depositsdf = Medium_Term_Depositsdf.withColumn(\"id2\", monotonically_increasing_id())\n",
    "Medium_Term_Depositsitem = item.replace(0,7)\n",
    "Medium_Term_Depositsitem = item.replace(1,7)\n",
    "Medium_Term_Depositsdf = Medium_Term_Depositsdf.join(Medium_Term_Depositsitem,col(\"id1\")==col(\"id2\"),\n",
    "                                                     \"inner\").drop(\"id1\",\"id2\")\n",
    "Medium_Term_Depositsdf = Medium_Term_Depositsdf.withColumnRenamed(\"Medium_Term_Deposits\",\"Rating\")\n",
    "Medium_Term_Depositsdf = Medium_Term_Depositsdf.withColumnRenamed(\"Savings_Account\",\"Item\")\n",
    "nextdf = nextdf.union(Medium_Term_Depositsdf)\n",
    "\n",
    "Long_Term_Depositsdf = (df.select('Customer_Code','Long_Term_Deposits'))\n",
    "Long_Term_Depositsdf = Long_Term_Depositsdf.withColumn(\"id2\", monotonically_increasing_id())\n",
    "Long_Term_Depositsitem = item.replace(0,8)\n",
    "Long_Term_Depositsitem = item.replace(1,8)\n",
    "Long_Term_Depositsdf = Long_Term_Depositsdf.join(Long_Term_Depositsitem,col(\"id1\")==col(\"id2\"),\n",
    "                                                 \"inner\").drop(\"id1\",\"id2\")\n",
    "Long_Term_Depositsdf = Long_Term_Depositsdf.withColumnRenamed(\"Long_Term_Deposits\",\"Rating\")\n",
    "Long_Term_Depositsdf = Long_Term_Depositsdf.withColumnRenamed(\"Savings_Account\",\"Item\")\n",
    "nextdf = nextdf.union(Long_Term_Depositsdf)\n",
    "\n",
    "e_Accountdf = (df.select('Customer_Code','e-Account'))\n",
    "e_Accountdf = e_Accountdf.withColumn(\"id2\", monotonically_increasing_id())\n",
    "e_Accountitem = item.replace(0,9)\n",
    "e_Accountitem = item.replace(1,9)\n",
    "e_Accountdf = e_Accountdf.join(e_Accountitem,col(\"id1\")==col(\"id2\"),\"inner\").drop(\"id1\",\"id2\")\n",
    "e_Accountdf = e_Accountdf.withColumnRenamed(\"e-Account\",\"Rating\")\n",
    "e_Accountdf = e_Accountdf.withColumnRenamed(\"Savings_Account\",\"Item\")\n",
    "nextdf = nextdf.union(e_Accountdf)"
   ]
  },
  {
   "cell_type": "code",
   "execution_count": 21,
   "id": "4d4f6a20",
   "metadata": {},
   "outputs": [],
   "source": [
    "Fundsdf = (df.select('Customer_Code','Funds'))\n",
    "Fundsdf = Fundsdf.withColumn(\"id2\", monotonically_increasing_id())\n",
    "Fundsitem = item.replace(0,10)\n",
    "Fundsitem = item.replace(1,10)\n",
    "Fundsdf = Fundsdf.join(Fundsitem,col(\"id1\")==col(\"id2\"),\"inner\").drop(\"id1\",\"id2\")\n",
    "Fundsdf = Fundsdf.withColumnRenamed(\"Funds\",\"Rating\")\n",
    "Fundsdf = Fundsdf.withColumnRenamed(\"Savings_Account\",\"Item\")\n",
    "nextdf = nextdf.union(Fundsdf)\n",
    "\n",
    "Mortgagedf = (df.select('Customer_Code','Mortgage'))\n",
    "Mortgagedf = Mortgagedf.withColumn(\"id2\", monotonically_increasing_id())\n",
    "Mortgageitem = item.replace(0,11)\n",
    "Mortgageitem = item.replace(1,11)\n",
    "Mortgagedf = Mortgagedf.join(Mortgageitem,col(\"id1\")==col(\"id2\"),\"inner\").drop(\"id1\",\"id2\")\n",
    "Mortgagedf = Mortgagedf.withColumnRenamed(\"Mortgage\",\"Rating\")\n",
    "Mortgagedf = Mortgagedf.withColumnRenamed(\"Savings_Account\",\"Item\")\n",
    "nextdf = nextdf.union(Mortgagedf)\n",
    "\n",
    "Pensionsdf = (df.select('Customer_Code','Pensions'))\n",
    "Pensionsdf = Pensionsdf.withColumn(\"id2\", monotonically_increasing_id())\n",
    "Pensionsitem = item.replace(0,12)\n",
    "Pensionsitem = item.replace(1,12)\n",
    "Pensionsdf = Pensionsdf.join(Pensionsitem,col(\"id1\")==col(\"id2\"),\"inner\").drop(\"id1\",\"id2\")\n",
    "Pensionsdf = Pensionsdf.withColumnRenamed(\"Pensions\",\"Rating\")\n",
    "Pensionsdf = Pensionsdf.withColumnRenamed(\"Savings_Account\",\"Item\")\n",
    "nextdf = nextdf.union(Pensionsdf)\n",
    "\n",
    "Loansdf = (df.select('Customer_Code','Loans'))\n",
    "Loansdf = Loansdf.withColumn(\"id2\", monotonically_increasing_id())\n",
    "Loansitem = item.replace(0,13)\n",
    "Loansitem = item.replace(1,13)\n",
    "Loansdf = Loansdf.join(Loansitem,col(\"id1\")==col(\"id2\"),\"inner\").drop(\"id1\",\"id2\")\n",
    "Loansdf = Loansdf.withColumnRenamed(\"Loans\",\"Rating\")\n",
    "Loansdf = Loansdf.withColumnRenamed(\"Savings_Account\",\"Item\")\n",
    "nextdf = nextdf.union(Loansdf)"
   ]
  },
  {
   "cell_type": "code",
   "execution_count": 23,
   "id": "1d11c799",
   "metadata": {},
   "outputs": [],
   "source": [
    "Taxesdf = (df.select('Customer_Code','Taxes'))\n",
    "Taxesdf = Taxesdf.withColumn(\"id2\", monotonically_increasing_id())\n",
    "Taxesitem = item.replace(0,14)\n",
    "Taxesitem = item.replace(1,14)\n",
    "Taxesdf = Taxesdf.join(Taxesitem,col(\"id1\")==col(\"id2\"),\"inner\").drop(\"id1\",\"id2\")\n",
    "Taxesdf = Taxesdf.withColumnRenamed(\"Taxes\",\"Rating\")\n",
    "Taxesdf = Taxesdf.withColumnRenamed(\"Savings_Account\",\"Item\")\n",
    "nextdf = nextdf.union(Taxesdf)\n",
    "\n",
    "Credit_Carddf = (df.select('Customer_Code','Credit_Card'))\n",
    "Credit_Carddf = Credit_Carddf.withColumn(\"id2\", monotonically_increasing_id())\n",
    "Credit_Carditem = item.replace(0,15)\n",
    "Credit_Carditem = item.replace(1,15)\n",
    "Credit_Carddf = Credit_Carddf.join(Credit_Carditem,col(\"id1\")==col(\"id2\"),\"inner\").drop(\"id1\",\"id2\")\n",
    "Credit_Carddf = Credit_Carddf.withColumnRenamed(\"Credit_Card\",\"Rating\")\n",
    "Credit_Carddf = Credit_Carddf.withColumnRenamed(\"Savings_Account\",\"Item\")\n",
    "nextdf = nextdf.union(Credit_Carddf)\n",
    "\n",
    "Securitiesdf = (df.select('Customer_Code','Securities'))\n",
    "Securitiesdf = Securitiesdf.withColumn(\"id2\", monotonically_increasing_id())\n",
    "Securitiesitem = item.replace(0,16)\n",
    "Securitiesitem = item.replace(1,16)\n",
    "Securitiesdf = Securitiesdf.join(Securitiesitem,col(\"id1\")==col(\"id2\"),\"inner\").drop(\"id1\",\"id2\")\n",
    "Securitiesdf = Securitiesdf.withColumnRenamed(\"Securities\",\"Rating\")\n",
    "Securitiesdf = Securitiesdf.withColumnRenamed(\"Savings_Account\",\"Item\")\n",
    "nextdf = nextdf.union(Securitiesdf)\n",
    "\n",
    "Home_Accountdf = (df.select('Customer_Code','Home_Account'))\n",
    "Home_Accountdf = Home_Accountdf.withColumn(\"id2\", monotonically_increasing_id())\n",
    "Home_Accountitem = item.replace(0,17)\n",
    "Home_Accountitem = item.replace(1,17)\n",
    "Home_Accountdf = Home_Accountdf.join(Home_Accountitem,col(\"id1\")==col(\"id2\"),\"inner\").drop(\"id1\",\"id2\")\n",
    "Home_Accountdf = Home_Accountdf.withColumnRenamed(\"Home_Account\",\"Rating\")\n",
    "Home_Accountdf = Home_Accountdf.withColumnRenamed(\"Savings_Account\",\"Item\")\n",
    "nextdf = nextdf.union(Home_Accountdf)"
   ]
  },
  {
   "cell_type": "code",
   "execution_count": 25,
   "id": "afc8c383",
   "metadata": {},
   "outputs": [],
   "source": [
    "Payrolldf = (df.select('Customer_Code','Payroll'))\n",
    "Payrolldf = Payrolldf.withColumn(\"id2\", monotonically_increasing_id())\n",
    "Payrollitem = item.replace(0,18)\n",
    "Payrollitem = item.replace(1,18)\n",
    "Payrolldf = Payrolldf.join(Payrollitem,col(\"id1\")==col(\"id2\"),\"inner\").drop(\"id1\",\"id2\")\n",
    "Payrolldf = Payrolldf.withColumnRenamed(\"Payroll\",\"Rating\")\n",
    "Payrolldf = Payrolldf.withColumnRenamed(\"Savings_Account\",\"Item\")\n",
    "nextdf = nextdf.union(Payrolldf)\n",
    "\n",
    "Pensions_twodf = (df.select('Customer_Code','Pensions_two'))\n",
    "Pensions_twodf = Pensions_twodf.withColumn(\"id2\", monotonically_increasing_id())\n",
    "Pensions_twoitem = item.replace(0,19)\n",
    "Pensions_twoitem = item.replace(1,19)\n",
    "Pensions_twodf = Pensions_twodf.join(Pensions_twoitem,col(\"id1\")==col(\"id2\"),\"inner\").drop(\"id1\",\"id2\")\n",
    "Pensions_twodf = Pensions_twodf.withColumnRenamed(\"Pensions_two\",\"Rating\")\n",
    "Pensions_twodf = Pensions_twodf.withColumnRenamed(\"Savings_Account\",\"Item\")\n",
    "nextdf = nextdf.union(Pensions_twodf)\n",
    "\n",
    "Direct_Debitdf = (df.select('Customer_Code','Direct_Debit'))\n",
    "Direct_Debitdf = Direct_Debitdf.withColumn(\"id2\", monotonically_increasing_id())\n",
    "Direct_Debititem = item.replace(0,20)\n",
    "Direct_Debititem = item.replace(1,20)\n",
    "Direct_Debitdf = Direct_Debitdf.join(Direct_Debititem,col(\"id1\")==col(\"id2\"),\"inner\").drop(\"id1\",\"id2\")\n",
    "Direct_Debitdf = Direct_Debitdf.withColumnRenamed(\"Direct_Debit\",\"Rating\")\n",
    "Direct_Debitdf = Direct_Debitdf.withColumnRenamed(\"Savings_Account\",\"Item\")\n",
    "nextdf = nextdf.union(Direct_Debitdf)"
   ]
  },
  {
   "cell_type": "code",
   "execution_count": 26,
   "id": "7294ad19",
   "metadata": {},
   "outputs": [
    {
     "data": {
      "text/plain": [
       "205852400"
      ]
     },
     "execution_count": 26,
     "metadata": {},
     "output_type": "execute_result"
    }
   ],
   "source": [
    "nextdf.count()"
   ]
  },
  {
   "cell_type": "code",
   "execution_count": 27,
   "id": "f5041413",
   "metadata": {},
   "outputs": [
    {
     "name": "stdout",
     "output_type": "stream",
     "text": [
      "+-------------+------+----+\n",
      "|Customer_Code|Rating|Item|\n",
      "+-------------+------+----+\n",
      "|      16355.0|     1|   1|\n",
      "|      16355.0|     1|   1|\n",
      "|      24957.0|     1|   1|\n",
      "+-------------+------+----+\n",
      "only showing top 3 rows\n",
      "\n"
     ]
    }
   ],
   "source": [
    "nextdf.show(3)"
   ]
  },
  {
   "cell_type": "code",
   "execution_count": 28,
   "id": "81d541ad",
   "metadata": {},
   "outputs": [],
   "source": [
    "sampledf = nextdf.sample(False, .05, 42)"
   ]
  },
  {
   "cell_type": "code",
   "execution_count": 29,
   "id": "ea4fd141",
   "metadata": {},
   "outputs": [],
   "source": [
    "(training, test) = sampledf.randomSplit([0.8, 0.2])"
   ]
  },
  {
   "cell_type": "code",
   "execution_count": 30,
   "id": "7945f936",
   "metadata": {},
   "outputs": [],
   "source": [
    "als = ALS(rank=5, maxIter=5, regParam=0.01, userCol=\"Customer_Code\", itemCol=\"Item\", ratingCol=\"Rating\", \n",
    "          coldStartStrategy=\"drop\")"
   ]
  },
  {
   "cell_type": "code",
   "execution_count": 31,
   "id": "310a3481",
   "metadata": {},
   "outputs": [],
   "source": [
    "model = als.fit(training)"
   ]
  },
  {
   "cell_type": "code",
   "execution_count": 32,
   "id": "0b3af2de",
   "metadata": {},
   "outputs": [],
   "source": [
    "# Evaluate the model by computing the RMSE on the test data\n",
    "predictions = model.transform(test)\n",
    "evaluator = RegressionEvaluator(metricName=\"rmse\", labelCol=\"Rating\",\n",
    "                                predictionCol=\"prediction\")"
   ]
  },
  {
   "cell_type": "code",
   "execution_count": 33,
   "id": "85caffa4",
   "metadata": {},
   "outputs": [
    {
     "name": "stdout",
     "output_type": "stream",
     "text": [
      "Root-mean-square error = 0.2529278867368078\n"
     ]
    }
   ],
   "source": [
    "rmse = evaluator.evaluate(predictions)\n",
    "print(\"Root-mean-square error = \" + str(rmse))"
   ]
  },
  {
   "cell_type": "code",
   "execution_count": 34,
   "id": "9d5ad7a8",
   "metadata": {},
   "outputs": [],
   "source": [
    "# Generate top 10 product recommendations for each user\n",
    "userRecs = model.recommendForAllUsers(10)\n",
    "# Generate top 10 user recommendations for each product\n",
    "productRecs = model.recommendForAllItems(10)"
   ]
  },
  {
   "cell_type": "code",
   "execution_count": 35,
   "id": "4ab973bd",
   "metadata": {},
   "outputs": [
    {
     "name": "stdout",
     "output_type": "stream",
     "text": [
      "+-------------+--------------------+\n",
      "|Customer_Code|     recommendations|\n",
      "+-------------+--------------------+\n",
      "|        15957|[{1, 0.9110956}, ...|\n",
      "|        16339|[{1, 0.99861526},...|\n",
      "|        16574|[{0, 0.0}, {10, 0...|\n",
      "+-------------+--------------------+\n",
      "only showing top 3 rows\n",
      "\n"
     ]
    }
   ],
   "source": [
    "userRecs.show(3)"
   ]
  },
  {
   "cell_type": "code",
   "execution_count": 36,
   "id": "1dc40ef6",
   "metadata": {},
   "outputs": [
    {
     "name": "stdout",
     "output_type": "stream",
     "text": [
      "+----+--------------------+\n",
      "|Item|     recommendations|\n",
      "+----+--------------------+\n",
      "|  12|[{110563, 1.32121...|\n",
      "|   1|[{118302, 4.48251...|\n",
      "|  13|[{15890, 0.0}, {1...|\n",
      "+----+--------------------+\n",
      "only showing top 3 rows\n",
      "\n"
     ]
    }
   ],
   "source": [
    "productRecs.show(3)"
   ]
  },
  {
   "cell_type": "code",
   "execution_count": 3,
   "id": "8792845f",
   "metadata": {},
   "outputs": [],
   "source": [
    "logistic_data_schema = StructType([\n",
    "    StructField('Customer_Code',DoubleType(), False),\n",
    "    StructField('Item',IntegerType(), False),\n",
    "    StructField('Rating',DoubleType(), False)\n",
    "])"
   ]
  },
  {
   "cell_type": "code",
   "execution_count": 4,
   "id": "b30e523f",
   "metadata": {},
   "outputs": [],
   "source": [
    "logisticdf = spark.read.csv(\n",
    "    'santander_df_logisticpred.csv', header=True, schema=logistic_data_schema\n",
    ").cache()"
   ]
  },
  {
   "cell_type": "code",
   "execution_count": 5,
   "id": "b514240f",
   "metadata": {},
   "outputs": [],
   "source": [
    "sampledf = logisticdf.sample(False, .05, 42)\n",
    "(training, test) = sampledf.randomSplit([0.8, 0.2])\n",
    "als = ALS(rank=5, maxIter=5, regParam=0.01, userCol=\"Customer_Code\", itemCol=\"Item\", ratingCol=\"Rating\", \n",
    "          coldStartStrategy=\"drop\")"
   ]
  },
  {
   "cell_type": "code",
   "execution_count": 6,
   "id": "1c0ad320",
   "metadata": {},
   "outputs": [],
   "source": [
    "model = als.fit(training)"
   ]
  },
  {
   "cell_type": "code",
   "execution_count": 7,
   "id": "953e7f07",
   "metadata": {},
   "outputs": [],
   "source": [
    "# Evaluate the model by computing the RMSE on the test data\n",
    "predictions = model.transform(test)\n",
    "evaluator = RegressionEvaluator(metricName=\"rmse\", labelCol=\"Rating\",\n",
    "                                predictionCol=\"prediction\")"
   ]
  },
  {
   "cell_type": "code",
   "execution_count": 8,
   "id": "035ebc98",
   "metadata": {},
   "outputs": [
    {
     "name": "stdout",
     "output_type": "stream",
     "text": [
      "Root-mean-square error = 0.19726707719539566\n"
     ]
    }
   ],
   "source": [
    "rmse = evaluator.evaluate(predictions)\n",
    "print(\"Root-mean-square error = \" + str(rmse))"
   ]
  },
  {
   "cell_type": "code",
   "execution_count": 9,
   "id": "d068c74f",
   "metadata": {},
   "outputs": [],
   "source": [
    "# Generate top 10 product recommendations for each user\n",
    "userRecs = model.recommendForAllUsers(10)\n",
    "# Generate top 10 user recommendations for each product\n",
    "productRecs = model.recommendForAllItems(10)"
   ]
  },
  {
   "cell_type": "code",
   "execution_count": 10,
   "id": "48fce56e",
   "metadata": {},
   "outputs": [
    {
     "name": "stdout",
     "output_type": "stream",
     "text": [
      "+-------------+--------------------+\n",
      "|Customer_Code|     recommendations|\n",
      "+-------------+--------------------+\n",
      "|        15957|[{1, 0.49662533},...|\n",
      "|        16339|[{1, 0.9918904}, ...|\n",
      "|        16574|[{1, 0.99593943},...|\n",
      "+-------------+--------------------+\n",
      "only showing top 3 rows\n",
      "\n"
     ]
    }
   ],
   "source": [
    "userRecs.show(3)"
   ]
  },
  {
   "cell_type": "code",
   "execution_count": 11,
   "id": "df2851f5",
   "metadata": {},
   "outputs": [
    {
     "name": "stdout",
     "output_type": "stream",
     "text": [
      "+----+--------------------+\n",
      "|Item|     recommendations|\n",
      "+----+--------------------+\n",
      "|  12|[{15890, 0.0}, {1...|\n",
      "|   1|[{159680, 0.99864...|\n",
      "|  13|[{15890, 0.0}, {1...|\n",
      "+----+--------------------+\n",
      "only showing top 3 rows\n",
      "\n"
     ]
    }
   ],
   "source": [
    "productRecs.show(3)"
   ]
  },
  {
   "cell_type": "code",
   "execution_count": null,
   "id": "b65fd079",
   "metadata": {},
   "outputs": [],
   "source": []
  }
 ],
 "metadata": {
  "kernelspec": {
   "display_name": "Python 3",
   "language": "python",
   "name": "python3"
  },
  "language_info": {
   "codemirror_mode": {
    "name": "ipython",
    "version": 3
   },
   "file_extension": ".py",
   "mimetype": "text/x-python",
   "name": "python",
   "nbconvert_exporter": "python",
   "pygments_lexer": "ipython3",
   "version": "3.8.8"
  }
 },
 "nbformat": 4,
 "nbformat_minor": 5
}
