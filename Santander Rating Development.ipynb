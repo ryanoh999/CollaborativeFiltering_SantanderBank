{
 "cells": [
  {
   "cell_type": "code",
   "execution_count": 37,
   "id": "af8b96d7",
   "metadata": {},
   "outputs": [],
   "source": [
    "from pyspark.sql import SparkSession\n",
    "from pyspark.sql.types import StringType, IntegerType, DoubleType\n",
    "from pyspark.sql.functions import udf\n",
    "from pyspark.sql import functions as f\n",
    "from pyspark.sql.functions import col\n",
    "from pyspark.ml.feature import StringIndexer\n",
    "from pyspark.ml.tuning import CrossValidator\n",
    "from pyspark.ml.feature import VectorAssembler\n",
    "from pyspark.ml.feature import PCA\n",
    "from pyspark.mllib.linalg import Vectors\n",
    "from pyspark.mllib.linalg.distributed import RowMatrix\n",
    "from pyspark.ml.feature import OneHotEncoder\n",
    "from pyspark.sql.types import *\n",
    "from pyspark.ml.regression import LinearRegression\n",
    "import six\n",
    "from pyspark.ml.classification import RandomForestClassifier\n",
    "from pyspark.ml.tuning import CrossValidator, ParamGridBuilder\n",
    "from pyspark.ml.evaluation import MulticlassClassificationEvaluator"
   ]
  },
  {
   "cell_type": "code",
   "execution_count": 2,
   "id": "a928f8bd",
   "metadata": {},
   "outputs": [],
   "source": [
    "spark = SparkSession \\\n",
    "    .builder \\\n",
    "    .master(\"local[*]\") \\\n",
    "    .appName(\"xor\") \\\n",
    "    .config(\"spark.executor.memory\", '2g') \\\n",
    "    .config('spark.executor.cores', '1') \\\n",
    "    .config('spark.cores.max', '1') \\\n",
    "    .config(\"spark.driver.memory\",'1g') \\\n",
    "    .getOrCreate()\n",
    "\n",
    "sc = spark.sparkContext"
   ]
  },
  {
   "cell_type": "code",
   "execution_count": 3,
   "id": "63b21eb4",
   "metadata": {},
   "outputs": [],
   "source": [
    "data_schema = StructType([\n",
    "    StructField('Date',StringType(), False),\n",
    "    StructField('Customer_Code',DoubleType(), False),\n",
    "    StructField('Gender',IntegerType(), False),\n",
    "    StructField('Foreigner_Index',IntegerType(), False),\n",
    "    StructField('Channel',StringType(), False),\n",
    "    StructField('Province_Name',StringType(), False),\n",
    "    StructField('Active',IntegerType(), False),\n",
    "    StructField('Segmentation',IntegerType(), False),\n",
    "    StructField('Savings_Account',IntegerType(), False),\n",
    "    StructField('Guarantees',IntegerType(), False),\n",
    "    StructField('Current_Accounts',IntegerType(), False),\n",
    "    StructField('Derivative',IntegerType(), False),\n",
    "    StructField('Payroll_Account',IntegerType(), False),\n",
    "    StructField('Junior_Account',IntegerType(), False),\n",
    "    StructField('More_Particular_Account',IntegerType(), False),\n",
    "    StructField('Particular_Account',IntegerType(), False),\n",
    "    StructField('Particular_Plus_Account',IntegerType(), False),\n",
    "    StructField('Short_Term_Deposits',IntegerType(), False),\n",
    "    StructField('Medium_Term_Deposits',IntegerType(), False),\n",
    "    StructField('Long_Term_Deposits',IntegerType(), False),\n",
    "    StructField('e-Account',IntegerType(), False),\n",
    "    StructField('Funds',IntegerType(), False),\n",
    "    StructField('Mortgage',IntegerType(), False),\n",
    "    StructField('Pensions',IntegerType(), False),\n",
    "    StructField('Loans',IntegerType(), False),\n",
    "    StructField('Taxes',IntegerType(), False),\n",
    "    StructField('Credit_Card',IntegerType(), False),\n",
    "    StructField('Securities',IntegerType(), False),\n",
    "    StructField('Home_Account',IntegerType(), False),\n",
    "    StructField('Payroll',IntegerType(), False),\n",
    "    StructField('Pensions_two',IntegerType(), False),\n",
    "    StructField('Direct_Debit',IntegerType(), False),\n",
    "    StructField('Age_Range',IntegerType(), False),\n",
    "    StructField('Months_Range',IntegerType(), False),\n",
    "    StructField('Income_Range',IntegerType(), False)\n",
    "])"
   ]
  },
  {
   "cell_type": "code",
   "execution_count": 4,
   "id": "0bd76e2c",
   "metadata": {},
   "outputs": [],
   "source": [
    "df = spark.read.csv(\n",
    "    'santander_df_clean.csv', header=True, schema=data_schema\n",
    ").cache()"
   ]
  },
  {
   "cell_type": "code",
   "execution_count": 5,
   "id": "a4610d22",
   "metadata": {},
   "outputs": [
    {
     "data": {
      "text/plain": [
       "['Date',\n",
       " 'Customer_Code',\n",
       " 'Gender',\n",
       " 'Foreigner_Index',\n",
       " 'Channel',\n",
       " 'Province_Name',\n",
       " 'Active',\n",
       " 'Segmentation',\n",
       " 'Savings_Account',\n",
       " 'Guarantees',\n",
       " 'Current_Accounts',\n",
       " 'Derivative',\n",
       " 'Payroll_Account',\n",
       " 'Junior_Account',\n",
       " 'More_Particular_Account',\n",
       " 'Particular_Account',\n",
       " 'Particular_Plus_Account',\n",
       " 'Short_Term_Deposits',\n",
       " 'Medium_Term_Deposits',\n",
       " 'Long_Term_Deposits',\n",
       " 'e-Account',\n",
       " 'Funds',\n",
       " 'Mortgage',\n",
       " 'Pensions',\n",
       " 'Loans',\n",
       " 'Taxes',\n",
       " 'Credit_Card',\n",
       " 'Securities',\n",
       " 'Home_Account',\n",
       " 'Payroll',\n",
       " 'Pensions_two',\n",
       " 'Direct_Debit',\n",
       " 'Age_Range',\n",
       " 'Months_Range',\n",
       " 'Income_Range']"
      ]
     },
     "execution_count": 5,
     "metadata": {},
     "output_type": "execute_result"
    }
   ],
   "source": [
    "df.columns"
   ]
  },
  {
   "cell_type": "markdown",
   "id": "e7926921",
   "metadata": {},
   "source": [
    "Going to investigate all 24 Products, and develop linear regression models to create implicit ratings. If a product has an insignificant level of customers, or doesn't have a strong correlation with any features, its implicit rating will be 0. I will look at the correlation between the binary dummy variables and the products."
   ]
  },
  {
   "cell_type": "markdown",
   "id": "1b4dd456",
   "metadata": {},
   "source": [
    "#### Savings_Account ( 0 )"
   ]
  },
  {
   "cell_type": "code",
   "execution_count": 6,
   "id": "8d2c5834",
   "metadata": {},
   "outputs": [
    {
     "name": "stdout",
     "output_type": "stream",
     "text": [
      "+---------------+--------+\n",
      "|Savings_Account|   count|\n",
      "+---------------+--------+\n",
      "|              1|    1363|\n",
      "|              0|10291257|\n",
      "+---------------+--------+\n",
      "\n"
     ]
    }
   ],
   "source": [
    "df.groupBy('Savings_Account').count().show()"
   ]
  },
  {
   "cell_type": "code",
   "execution_count": null,
   "id": "d8205160",
   "metadata": {},
   "outputs": [],
   "source": [
    "#Fewer than .1% of customers have a savings account\n",
    "Rating[Savings_Account] = 0 "
   ]
  },
  {
   "cell_type": "markdown",
   "id": "ca3c4683",
   "metadata": {},
   "source": [
    "#### Guarantees ( 0 )"
   ]
  },
  {
   "cell_type": "code",
   "execution_count": 6,
   "id": "154756fb",
   "metadata": {},
   "outputs": [
    {
     "name": "stdout",
     "output_type": "stream",
     "text": [
      "+----------+--------+\n",
      "|Guarantees|   count|\n",
      "+----------+--------+\n",
      "|         1|     310|\n",
      "|         0|10292310|\n",
      "+----------+--------+\n",
      "\n"
     ]
    }
   ],
   "source": [
    "df.groupBy('Guarantees').count().show()"
   ]
  },
  {
   "cell_type": "code",
   "execution_count": null,
   "id": "ccd987c3",
   "metadata": {},
   "outputs": [],
   "source": [
    "#Fewer than .1% of customers have a 'Guarantees'\n",
    "Rating[Guarantees] = 0 "
   ]
  },
  {
   "cell_type": "markdown",
   "id": "707dda91",
   "metadata": {},
   "source": [
    "#### Current_Accounts ( LR )"
   ]
  },
  {
   "cell_type": "code",
   "execution_count": 7,
   "id": "a5fbe39a",
   "metadata": {},
   "outputs": [
    {
     "name": "stdout",
     "output_type": "stream",
     "text": [
      "+----------------+-------+\n",
      "|Current_Accounts|  count|\n",
      "+----------------+-------+\n",
      "|               1|8009093|\n",
      "|               0|2283527|\n",
      "+----------------+-------+\n",
      "\n"
     ]
    }
   ],
   "source": [
    "df.groupBy('Current_Accounts').count().show()"
   ]
  },
  {
   "cell_type": "code",
   "execution_count": 6,
   "id": "1aefbf0e",
   "metadata": {},
   "outputs": [
    {
     "name": "stdout",
     "output_type": "stream",
     "text": [
      "Correlation to Current_Accounts for  Gender 0.05007959153329324\n",
      "Correlation to Current_Accounts for  Foreigner_Index -0.010748941450459924\n",
      "Correlation to Current_Accounts for  Active -0.10595967640205521\n",
      "Correlation to Current_Accounts for  Current_Accounts 1.0\n"
     ]
    }
   ],
   "source": [
    "current_df = df.select('Gender',  'Foreigner_Index', 'Active', 'Current_Accounts')\n",
    "for i in current_df.columns:\n",
    "    if not( isinstance(current_df.select(i).take(1)[0][0], six.string_types)):\n",
    "        print( \"Correlation to Current_Accounts for \", i, current_df.stat.corr('Current_Accounts',i))"
   ]
  },
  {
   "cell_type": "code",
   "execution_count": 32,
   "id": "1ebfc05c",
   "metadata": {},
   "outputs": [
    {
     "name": "stdout",
     "output_type": "stream",
     "text": [
      "+--------------------+----------------+\n",
      "|            features|Current_Accounts|\n",
      "+--------------------+----------------+\n",
      "|(15,[3,12,13],[1....|               1|\n",
      "|(15,[3,12,13],[1....|               1|\n",
      "|(15,[3,12,13],[1....|               1|\n",
      "+--------------------+----------------+\n",
      "only showing top 3 rows\n",
      "\n"
     ]
    }
   ],
   "source": [
    "current_df = df.select( 'Age_Range', 'Months_Range', 'Income_Range', 'Segmentation','Current_Accounts')\n",
    "encoder = OneHotEncoder(inputCols =['Age_Range', 'Months_Range', 'Income_Range', 'Segmentation'],\n",
    "                                 outputCols =['Age_RangeH', 'Months_RangeH', 'Income_RangeH', 'SegmentationH'])\n",
    "encoder = encoder.fit(current_df)\n",
    "current_df = encoder.transform(current_df)\n",
    "vectorAssembler = VectorAssembler(inputCols = ['Age_RangeH', 'Months_RangeH', 'Income_RangeH', 'SegmentationH'], outputCol = 'features')\n",
    "current_df = vectorAssembler.transform(current_df)\n",
    "current_df = current_df.select(['features', 'Current_Accounts'])\n",
    "current_df.show(3)"
   ]
  },
  {
   "cell_type": "code",
   "execution_count": 33,
   "id": "9f97835f",
   "metadata": {},
   "outputs": [
    {
     "name": "stdout",
     "output_type": "stream",
     "text": [
      "RMSE: 0.415509\n",
      "r2: 0.000000\n"
     ]
    }
   ],
   "source": [
    "splits = current_df.randomSplit([0.7, 0.3])\n",
    "train_df = splits[0]\n",
    "test_df = splits[1]\n",
    "lr = LinearRegression(featuresCol = 'features', labelCol='Current_Accounts', maxIter=10, regParam=0.3, elasticNetParam=0.8)\n",
    "lr_model = lr.fit(train_df)\n",
    "trainingSummary = lr_model.summary\n",
    "print(\"RMSE: %f\" % trainingSummary.rootMeanSquaredError)\n",
    "print(\"r2: %f\" % trainingSummary.r2)"
   ]
  },
  {
   "cell_type": "code",
   "execution_count": 40,
   "id": "eaf132cc",
   "metadata": {},
   "outputs": [],
   "source": [
    "rf = RandomForestClassifier(labelCol=\"Current_Accounts\", featuresCol=\"features\")\n",
    "evaluator = MulticlassClassificationEvaluator(\n",
    "    labelCol=\"Current_Accounts\", predictionCol=\"prediction\", metricName=\"accuracy\")\n",
    "paramGrid = ParamGridBuilder().addGrid(rf.numTrees, [3, 6, 10]).build()\n",
    "crossval = CrossValidator(\n",
    "    estimator=rf,\n",
    "    estimatorParamMaps=paramGrid,\n",
    "    evaluator=evaluator,\n",
    "    numFolds=3)\n",
    "model = crossval.fit(train_df)"
   ]
  },
  {
   "cell_type": "code",
   "execution_count": 41,
   "id": "3128227d",
   "metadata": {},
   "outputs": [
    {
     "data": {
      "text/plain": [
       "10"
      ]
     },
     "execution_count": 41,
     "metadata": {},
     "output_type": "execute_result"
    }
   ],
   "source": [
    "model = model.bestModel\n",
    "model.getNumTrees"
   ]
  },
  {
   "cell_type": "code",
   "execution_count": 42,
   "id": "554033f2",
   "metadata": {},
   "outputs": [
    {
     "name": "stdout",
     "output_type": "stream",
     "text": [
      "Accuracy = 0.789824\n"
     ]
    }
   ],
   "source": [
    "predictions = model.transform(test_df)\n",
    "accuracy = evaluator.evaluate(predictions)\n",
    "print(\"Accuracy = %g\" % accuracy)"
   ]
  },
  {
   "cell_type": "code",
   "execution_count": 44,
   "id": "806e7397",
   "metadata": {},
   "outputs": [
    {
     "name": "stdout",
     "output_type": "stream",
     "text": [
      "+----------+-------+\n",
      "|prediction|  count|\n",
      "+----------+-------+\n",
      "|       0.0|  40549|\n",
      "|       1.0|3046917|\n",
      "+----------+-------+\n",
      "\n"
     ]
    }
   ],
   "source": [
    "predictions.groupBy('prediction').count().show()"
   ]
  },
  {
   "cell_type": "code",
   "execution_count": 45,
   "id": "2d4c9b09",
   "metadata": {},
   "outputs": [
    {
     "name": "stdout",
     "output_type": "stream",
     "text": [
      "+--------------------+----------------+--------------------+--------------------+----------+\n",
      "|            features|Current_Accounts|       rawPrediction|         probability|prediction|\n",
      "+--------------------+----------------+--------------------+--------------------+----------+\n",
      "|(15,[0,4,10,14],[...|               0|[6.50677861653242...|[0.65067786165324...|       0.0|\n",
      "|(15,[0,4,11,14],[...|               0|[6.50677861653242...|[0.65067786165324...|       0.0|\n",
      "|(15,[0,4,11,14],[...|               0|[6.50677861653242...|[0.65067786165324...|       0.0|\n",
      "+--------------------+----------------+--------------------+--------------------+----------+\n",
      "only showing top 3 rows\n",
      "\n"
     ]
    }
   ],
   "source": [
    "predictions.show(3)"
   ]
  },
  {
   "cell_type": "markdown",
   "id": "9d072b8f",
   "metadata": {},
   "source": [
    "#### Derivative ( 0 )"
   ]
  },
  {
   "cell_type": "code",
   "execution_count": 7,
   "id": "cd8b911b",
   "metadata": {},
   "outputs": [
    {
     "name": "stdout",
     "output_type": "stream",
     "text": [
      "+----------+--------+\n",
      "|Derivative|   count|\n",
      "+----------+--------+\n",
      "|         1|    5211|\n",
      "|         0|10287409|\n",
      "+----------+--------+\n",
      "\n"
     ]
    }
   ],
   "source": [
    "df.groupBy('Derivative').count().show()"
   ]
  },
  {
   "cell_type": "code",
   "execution_count": null,
   "id": "e39c0361",
   "metadata": {},
   "outputs": [],
   "source": [
    "#Fewer than .1% of customers have a Derivative\n",
    "Rating[Derivative] = 0 "
   ]
  },
  {
   "cell_type": "markdown",
   "id": "74e41f86",
   "metadata": {},
   "source": [
    "#### Payroll_Account ( LR )"
   ]
  },
  {
   "cell_type": "code",
   "execution_count": 9,
   "id": "8a20b554",
   "metadata": {},
   "outputs": [
    {
     "name": "stdout",
     "output_type": "stream",
     "text": [
      "+---------------+-------+\n",
      "|Payroll_Account|  count|\n",
      "+---------------+-------+\n",
      "|              1|1036365|\n",
      "|              0|9256255|\n",
      "+---------------+-------+\n",
      "\n"
     ]
    }
   ],
   "source": [
    "df.groupBy('Payroll_Account').count().show()"
   ]
  },
  {
   "cell_type": "code",
   "execution_count": 7,
   "id": "1de78603",
   "metadata": {},
   "outputs": [
    {
     "name": "stdout",
     "output_type": "stream",
     "text": [
      "Correlation to Payroll_Account for  Gender -0.030316400642578074\n",
      "Correlation to Payroll_Account for  Foreigner_Index -0.00517684620680248\n",
      "Correlation to Payroll_Account for  Active 0.3030775727099324\n",
      "Correlation to Payroll_Account for  Payroll_Account 1.0\n"
     ]
    }
   ],
   "source": [
    "current_df = df.select('Gender',  'Foreigner_Index', 'Active', 'Payroll_Account')\n",
    "for i in current_df.columns:\n",
    "    if not( isinstance(current_df.select(i).take(1)[0][0], six.string_types)):\n",
    "        print( \"Correlation to Payroll_Account for \", i, current_df.stat.corr('Payroll_Account',i))"
   ]
  },
  {
   "cell_type": "markdown",
   "id": "783a25fd",
   "metadata": {},
   "source": [
    "#### Junior_Account ( LR )"
   ]
  },
  {
   "cell_type": "code",
   "execution_count": 10,
   "id": "39b19a06",
   "metadata": {},
   "outputs": [
    {
     "name": "stdout",
     "output_type": "stream",
     "text": [
      "+--------------+--------+\n",
      "|Junior_Account|   count|\n",
      "+--------------+--------+\n",
      "|             1|  118837|\n",
      "|             0|10173783|\n",
      "+--------------+--------+\n",
      "\n"
     ]
    }
   ],
   "source": [
    "df.groupBy('Junior_Account').count().show()"
   ]
  },
  {
   "cell_type": "code",
   "execution_count": 9,
   "id": "b1adc44f",
   "metadata": {},
   "outputs": [
    {
     "name": "stdout",
     "output_type": "stream",
     "text": [
      "Correlation to Junior_Accounts for  Gender 0.006947242747022523\n",
      "Correlation to Junior_Accounts for  Foreigner_Index -0.020453048347726314\n",
      "Correlation to Junior_Accounts for  Active 0.06089195163825482\n",
      "Correlation to Junior_Accounts for  Junior_Account 1.0\n"
     ]
    }
   ],
   "source": [
    "current_df = df.select('Gender',  'Foreigner_Index', 'Active', 'Junior_Account')\n",
    "for i in current_df.columns:\n",
    "    if not( isinstance(current_df.select(i).take(1)[0][0], six.string_types)):\n",
    "        print( \"Correlation to Junior_Accounts for \", i, current_df.stat.corr('Junior_Account',i))"
   ]
  },
  {
   "cell_type": "markdown",
   "id": "430f996e",
   "metadata": {},
   "source": [
    "#### More_Particular_Account ( LR )"
   ]
  },
  {
   "cell_type": "code",
   "execution_count": 11,
   "id": "3ec9770d",
   "metadata": {},
   "outputs": [
    {
     "name": "stdout",
     "output_type": "stream",
     "text": [
      "+-----------------------+--------+\n",
      "|More_Particular_Account|   count|\n",
      "+-----------------------+--------+\n",
      "|                      1|  108324|\n",
      "|                      0|10184296|\n",
      "+-----------------------+--------+\n",
      "\n"
     ]
    }
   ],
   "source": [
    "df.groupBy('More_Particular_Account').count().show()"
   ]
  },
  {
   "cell_type": "code",
   "execution_count": 31,
   "id": "ae13bb28",
   "metadata": {},
   "outputs": [
    {
     "name": "stdout",
     "output_type": "stream",
     "text": [
      "Correlation to More_Particular_Account for  Gender -0.010663105239629682\n",
      "Correlation to More_Particular_Account for  Foreigner_Index 0.0033808939415948995\n",
      "Correlation to More_Particular_Account for  Active 0.04515863963992152\n",
      "Correlation to More_Particular_Account for  More_Particular_Account 1.0\n"
     ]
    }
   ],
   "source": [
    "More_Particular_df = df.select('Gender',  'Foreigner_Index', 'Active', 'More_Particular_Account')\n",
    "for i in More_Particular_df.columns:\n",
    "    if not( isinstance(More_Particular_df.select(i).take(1)[0][0], six.string_types)):\n",
    "        print( \"Correlation to More_Particular_Account for \", i, More_Particular_df.stat.corr('More_Particular_Account',i))"
   ]
  },
  {
   "cell_type": "markdown",
   "id": "4a6a849a",
   "metadata": {},
   "source": [
    "#### Particular_Account ( LR )"
   ]
  },
  {
   "cell_type": "code",
   "execution_count": 12,
   "id": "0376a56c",
   "metadata": {},
   "outputs": [
    {
     "name": "stdout",
     "output_type": "stream",
     "text": [
      "+------------------+-------+\n",
      "|Particular_Account|  count|\n",
      "+------------------+-------+\n",
      "|                 1|1749357|\n",
      "|                 0|8543263|\n",
      "+------------------+-------+\n",
      "\n"
     ]
    }
   ],
   "source": [
    "df.groupBy('Particular_Account').count().show()"
   ]
  },
  {
   "cell_type": "code",
   "execution_count": 30,
   "id": "41db6e3f",
   "metadata": {},
   "outputs": [
    {
     "name": "stdout",
     "output_type": "stream",
     "text": [
      "Correlation to Particular_Account for  Gender -0.07060039224986418\n",
      "Correlation to Particular_Account for  Foreigner_Index -0.033491255665048764\n",
      "Correlation to Particular_Account for  Active 0.12640958493466675\n",
      "Correlation to Particular_Account for  Particular_Account 1.0\n"
     ]
    }
   ],
   "source": [
    "Particular_Account_df = df.select('Gender',  'Foreigner_Index', 'Active', 'Particular_Account')\n",
    "for i in Particular_Account_df.columns:\n",
    "    if not( isinstance(Particular_Account_df.select(i).take(1)[0][0], six.string_types)):\n",
    "        print( \"Correlation to Particular_Account for \", i, Particular_Account_df.stat.corr('Particular_Account',i))"
   ]
  },
  {
   "cell_type": "markdown",
   "id": "1d3f56b8",
   "metadata": {},
   "source": [
    "#### Particular_Plus_Account (LR)"
   ]
  },
  {
   "cell_type": "code",
   "execution_count": 13,
   "id": "a3ffc907",
   "metadata": {},
   "outputs": [
    {
     "name": "stdout",
     "output_type": "stream",
     "text": [
      "+-----------------------+-------+\n",
      "|Particular_Plus_Account|  count|\n",
      "+-----------------------+-------+\n",
      "|                      1| 587160|\n",
      "|                      0|9705460|\n",
      "+-----------------------+-------+\n",
      "\n"
     ]
    }
   ],
   "source": [
    "df.groupBy('Particular_Plus_Account').count().show()"
   ]
  },
  {
   "cell_type": "code",
   "execution_count": 28,
   "id": "ea2ed89d",
   "metadata": {},
   "outputs": [
    {
     "name": "stdout",
     "output_type": "stream",
     "text": [
      "Correlation to Particular_Plus_Account for  Gender -0.032542597586215735\n",
      "Correlation to Particular_Plus_Account for  Foreigner_Index -0.010798075673421845\n",
      "Correlation to Particular_Plus_Account for  Active 0.14137984642094625\n",
      "Correlation to Particular_Plus_Account for  Particular_Plus_Account 1.0\n"
     ]
    }
   ],
   "source": [
    "Particular_Plus_df = df.select('Gender',  'Foreigner_Index', 'Active', 'Particular_Plus_Account')\n",
    "for i in Particular_Plus_df.columns:\n",
    "    if not( isinstance(Particular_Plus_df.select(i).take(1)[0][0], six.string_types)):\n",
    "        print( \"Correlation to Particular_Plus_Account for \", i, Particular_Plus_df.stat.corr('Particular_Plus_Account',i))"
   ]
  },
  {
   "cell_type": "markdown",
   "id": "fc4aa59b",
   "metadata": {},
   "source": [
    "#### Short_Term_Deposits ( 0 )"
   ]
  },
  {
   "cell_type": "code",
   "execution_count": 14,
   "id": "a2e80088",
   "metadata": {},
   "outputs": [
    {
     "name": "stdout",
     "output_type": "stream",
     "text": [
      "+-------------------+--------+\n",
      "|Short_Term_Deposits|   count|\n",
      "+-------------------+--------+\n",
      "|                  1|    8894|\n",
      "|                  0|10283726|\n",
      "+-------------------+--------+\n",
      "\n"
     ]
    }
   ],
   "source": [
    "df.groupBy('Short_Term_Deposits').count().show()"
   ]
  },
  {
   "cell_type": "code",
   "execution_count": null,
   "id": "e55c5abc",
   "metadata": {},
   "outputs": [],
   "source": [
    "#Fewer than .1% of customers have a Short_Term_Deposits account\n",
    "Rating[Short_Term_Deposits] = 0 "
   ]
  },
  {
   "cell_type": "markdown",
   "id": "cfcd3801",
   "metadata": {},
   "source": [
    "#### Medium_Term_Deposits ( LR )"
   ]
  },
  {
   "cell_type": "code",
   "execution_count": 15,
   "id": "779aab14",
   "metadata": {},
   "outputs": [
    {
     "name": "stdout",
     "output_type": "stream",
     "text": [
      "+--------------------+--------+\n",
      "|Medium_Term_Deposits|   count|\n",
      "+--------------------+--------+\n",
      "|                   1|   22454|\n",
      "|                   0|10270166|\n",
      "+--------------------+--------+\n",
      "\n"
     ]
    }
   ],
   "source": [
    "df.groupBy('Medium_Term_Deposits').count().show()"
   ]
  },
  {
   "cell_type": "code",
   "execution_count": 27,
   "id": "7f02f4f1",
   "metadata": {},
   "outputs": [
    {
     "name": "stdout",
     "output_type": "stream",
     "text": [
      "Correlation to Medium_Term_Deposits for  Gender -0.003512467505477735\n",
      "Correlation to Medium_Term_Deposits for  Foreigner_Index -0.0026938296530928706\n",
      "Correlation to Medium_Term_Deposits for  Active 0.04321088779058333\n",
      "Correlation to Medium_Term_Deposits for  Medium_Term_Deposits 1.0\n"
     ]
    }
   ],
   "source": [
    "Medium_Term_df = df.select('Gender',  'Foreigner_Index', 'Active', 'Medium_Term_Deposits')\n",
    "for i in Medium_Term_df.columns:\n",
    "    if not(isinstance(Medium_Term_df.select(i).take(1)[0][0], six.string_types)):\n",
    "        print( \"Correlation to Medium_Term_Deposits for \", i, Medium_Term_df.stat.corr('Medium_Term_Deposits',i))"
   ]
  },
  {
   "cell_type": "markdown",
   "id": "31d050bd",
   "metadata": {},
   "source": [
    "#### Long_Term_Deposits ( LR )"
   ]
  },
  {
   "cell_type": "code",
   "execution_count": 16,
   "id": "01fc5b17",
   "metadata": {},
   "outputs": [
    {
     "name": "stdout",
     "output_type": "stream",
     "text": [
      "+------------------+-------+\n",
      "|Long_Term_Deposits|  count|\n",
      "+------------------+-------+\n",
      "|                 1| 548516|\n",
      "|                 0|9744104|\n",
      "+------------------+-------+\n",
      "\n"
     ]
    }
   ],
   "source": [
    "df.groupBy('Long_Term_Deposits').count().show()"
   ]
  },
  {
   "cell_type": "code",
   "execution_count": 26,
   "id": "6c24fd6b",
   "metadata": {},
   "outputs": [
    {
     "name": "stdout",
     "output_type": "stream",
     "text": [
      "Correlation to Long_Term_Deposits for  Gender -0.026517707467546375\n",
      "Correlation to Long_Term_Deposits for  Foreigner_Index -0.03205956190794697\n",
      "Correlation to Long_Term_Deposits for  Active 0.2185275552136404\n",
      "Correlation to Long_Term_Deposits for  Long_Term_Deposits 1.0\n"
     ]
    }
   ],
   "source": [
    "Long_Term_Deposits_df = df.select('Gender',  'Foreigner_Index', 'Active', 'Long_Term_Deposits')\n",
    "for i in Long_Term_Deposits_df.columns:\n",
    "    if not( isinstance(Long_Term_Deposits_df.select(i).take(1)[0][0], six.string_types)):\n",
    "        print( \"Correlation to Long_Term_Deposits for \", i, Long_Term_Deposits_df.stat.corr('Long_Term_Deposits',i))"
   ]
  },
  {
   "cell_type": "markdown",
   "id": "2c9c4d87",
   "metadata": {},
   "source": [
    "#### e-Account (LR)"
   ]
  },
  {
   "cell_type": "code",
   "execution_count": 20,
   "id": "2111bad0",
   "metadata": {},
   "outputs": [
    {
     "name": "stdout",
     "output_type": "stream",
     "text": [
      "+---------+-------+\n",
      "|e-Account|  count|\n",
      "+---------+-------+\n",
      "|        1|1077798|\n",
      "|        0|9214822|\n",
      "+---------+-------+\n",
      "\n"
     ]
    }
   ],
   "source": [
    "df.groupBy('e-Account').count().show()"
   ]
  },
  {
   "cell_type": "code",
   "execution_count": 25,
   "id": "d7189b50",
   "metadata": {},
   "outputs": [
    {
     "name": "stdout",
     "output_type": "stream",
     "text": [
      "Correlation to e-Account for  Gender -0.04694970724159377\n",
      "Correlation to e-Account for  Foreigner_Index -0.028789494913759924\n",
      "Correlation to e-Account for  Active 0.27054356960091075\n",
      "Correlation to e-Account for  e-Account 1.0\n"
     ]
    }
   ],
   "source": [
    "e_Account_df = df.select('Gender',  'Foreigner_Index', 'Active', 'e-Account')\n",
    "for i in e_Account_df.columns:\n",
    "    if not( isinstance(e_Account_df.select(i).take(1)[0][0], six.string_types)):\n",
    "        print( \"Correlation to e-Account for \", i, e_Account_df.stat.corr('e-Account',i))"
   ]
  },
  {
   "cell_type": "markdown",
   "id": "0199ab43",
   "metadata": {},
   "source": [
    "#### Funds (LR)"
   ]
  },
  {
   "cell_type": "code",
   "execution_count": 21,
   "id": "ebae9c90",
   "metadata": {},
   "outputs": [
    {
     "name": "stdout",
     "output_type": "stream",
     "text": [
      "+-----+--------+\n",
      "|Funds|   count|\n",
      "+-----+--------+\n",
      "|    1|  248133|\n",
      "|    0|10044487|\n",
      "+-----+--------+\n",
      "\n"
     ]
    }
   ],
   "source": [
    "df.groupBy('Funds').count().show()"
   ]
  },
  {
   "cell_type": "code",
   "execution_count": 24,
   "id": "2943bb3e",
   "metadata": {},
   "outputs": [
    {
     "name": "stdout",
     "output_type": "stream",
     "text": [
      "Correlation to Funds for  Gender -0.04692703280449765\n",
      "Correlation to Funds for  Foreigner_Index -0.017022772519029603\n",
      "Correlation to Funds for  Active 0.1439464429735304\n",
      "Correlation to Funds for  Funds 1.0\n"
     ]
    }
   ],
   "source": [
    "Funds_df = df.select('Gender',  'Foreigner_Index', 'Active', 'Funds')\n",
    "for i in Funds_df.columns:\n",
    "    if not( isinstance(Funds_df.select(i).take(1)[0][0], six.string_types)):\n",
    "        print( \"Correlation to Funds for \", i, Funds_df.stat.corr('Funds',i))"
   ]
  },
  {
   "cell_type": "markdown",
   "id": "2f225d3c",
   "metadata": {},
   "source": [
    "#### Mortgage (LR)"
   ]
  },
  {
   "cell_type": "code",
   "execution_count": 22,
   "id": "fc80aecf",
   "metadata": {},
   "outputs": [
    {
     "name": "stdout",
     "output_type": "stream",
     "text": [
      "+--------+--------+\n",
      "|Mortgage|   count|\n",
      "+--------+--------+\n",
      "|       1|   79897|\n",
      "|       0|10212723|\n",
      "+--------+--------+\n",
      "\n"
     ]
    }
   ],
   "source": [
    "df.groupBy('Mortgage').count().show()"
   ]
  },
  {
   "cell_type": "code",
   "execution_count": 23,
   "id": "995bb84e",
   "metadata": {},
   "outputs": [
    {
     "name": "stdout",
     "output_type": "stream",
     "text": [
      "Correlation to Mortgage for  Gender -0.030095779138293813\n",
      "Correlation to Mortgage for  Foreigner_Index -0.012050523584328222\n",
      "Correlation to Mortgage for  Active 0.08169778744820423\n",
      "Correlation to Mortgage for  Mortgage 1.0\n"
     ]
    }
   ],
   "source": [
    "Mortgage_df = df.select('Gender',  'Foreigner_Index', 'Active', 'Mortgage')\n",
    "for i in Mortgage_df.columns:\n",
    "    if not( isinstance(Mortgage_df.select(i).take(1)[0][0], six.string_types)):\n",
    "        print( \"Correlation to Mortgage for \", i, Mortgage_df.stat.corr('Mortgage',i))"
   ]
  },
  {
   "cell_type": "markdown",
   "id": "e4c995aa",
   "metadata": {},
   "source": [
    "#### Pensions (LR)"
   ]
  },
  {
   "cell_type": "code",
   "execution_count": 23,
   "id": "90140bde",
   "metadata": {},
   "outputs": [
    {
     "name": "stdout",
     "output_type": "stream",
     "text": [
      "+--------+--------+\n",
      "|Pensions|   count|\n",
      "+--------+--------+\n",
      "|       1|  123737|\n",
      "|       0|10168883|\n",
      "+--------+--------+\n",
      "\n"
     ]
    }
   ],
   "source": [
    "df.groupBy('Pensions').count().show()"
   ]
  },
  {
   "cell_type": "code",
   "execution_count": 22,
   "id": "df29c33b",
   "metadata": {},
   "outputs": [
    {
     "name": "stdout",
     "output_type": "stream",
     "text": [
      "Correlation to Pensions for  Gender -0.01815304828631781\n",
      "Correlation to Pensions for  Foreigner_Index -0.0038319166610656314\n",
      "Correlation to Pensions for  Active 0.10112164019193774\n",
      "Correlation to Pensions for  Pensions 1.0\n"
     ]
    }
   ],
   "source": [
    "Pensions_df = df.select('Gender',  'Foreigner_Index', 'Active', 'Pensions')\n",
    "for i in Pensions_df.columns:\n",
    "    if not( isinstance(Pensions_df.select(i).take(1)[0][0], six.string_types)):\n",
    "        print( \"Correlation to Pensions for \", i, Pensions_df.stat.corr('Pensions',i))"
   ]
  },
  {
   "cell_type": "markdown",
   "id": "df75fb7c",
   "metadata": {},
   "source": [
    "#### Loans (LR)"
   ]
  },
  {
   "cell_type": "code",
   "execution_count": 24,
   "id": "30da461e",
   "metadata": {},
   "outputs": [
    {
     "name": "stdout",
     "output_type": "stream",
     "text": [
      "+-----+--------+\n",
      "|Loans|   count|\n",
      "+-----+--------+\n",
      "|    1|   34305|\n",
      "|    0|10258315|\n",
      "+-----+--------+\n",
      "\n"
     ]
    }
   ],
   "source": [
    "df.groupBy('Loans').count().show()"
   ]
  },
  {
   "cell_type": "code",
   "execution_count": 21,
   "id": "9d0c2174",
   "metadata": {},
   "outputs": [
    {
     "name": "stdout",
     "output_type": "stream",
     "text": [
      "Correlation to Loans for  Gender -0.016345241083973866\n",
      "Correlation to Loans for  Foreigner_Index 0.03816512475194234\n",
      "Correlation to Loans for  Active 0.03251360151206657\n",
      "Correlation to Loans for  Loans 1.0\n"
     ]
    }
   ],
   "source": [
    "Loans_df = df.select('Gender',  'Foreigner_Index', 'Active', 'Loans')\n",
    "for i in Loans_df.columns:\n",
    "    if not( isinstance(Loans_df.select(i).take(1)[0][0], six.string_types)):\n",
    "        print( \"Correlation to Loans for \", i, Loans_df.stat.corr('Loans',i))"
   ]
  },
  {
   "cell_type": "markdown",
   "id": "c48bc94f",
   "metadata": {},
   "source": [
    "#### Taxes (LR)"
   ]
  },
  {
   "cell_type": "code",
   "execution_count": 26,
   "id": "7cd5d590",
   "metadata": {},
   "outputs": [
    {
     "name": "stdout",
     "output_type": "stream",
     "text": [
      "+-----+-------+\n",
      "|Taxes|  count|\n",
      "+-----+-------+\n",
      "|    1| 693694|\n",
      "|    0|9598926|\n",
      "+-----+-------+\n",
      "\n"
     ]
    }
   ],
   "source": [
    "df.groupBy('Taxes').count().show()"
   ]
  },
  {
   "cell_type": "code",
   "execution_count": 20,
   "id": "05987355",
   "metadata": {},
   "outputs": [
    {
     "name": "stdout",
     "output_type": "stream",
     "text": [
      "Correlation to Taxes for  Gender -0.056825807751829\n",
      "Correlation to Taxes for  Foreigner_Index 0.013623825782699007\n",
      "Correlation to Taxes for  Active 0.21344938247865125\n",
      "Correlation to Taxes for  Taxes 1.0\n"
     ]
    }
   ],
   "source": [
    "Taxes_df = df.select('Gender',  'Foreigner_Index', 'Active', 'Taxes')\n",
    "for i in Taxes_df.columns:\n",
    "    if not( isinstance(Taxes_df.select(i).take(1)[0][0], six.string_types)):\n",
    "        print( \"Correlation to Taxes for \", i, Taxes_df.stat.corr('Taxes',i))"
   ]
  },
  {
   "cell_type": "markdown",
   "id": "7d8cdf94",
   "metadata": {},
   "source": [
    "#### Credit_Card (LR)"
   ]
  },
  {
   "cell_type": "code",
   "execution_count": 27,
   "id": "6b086a38",
   "metadata": {},
   "outputs": [
    {
     "name": "stdout",
     "output_type": "stream",
     "text": [
      "+-----------+-------+\n",
      "|Credit_Card|  count|\n",
      "+-----------+-------+\n",
      "|          1| 592459|\n",
      "|          0|9700161|\n",
      "+-----------+-------+\n",
      "\n"
     ]
    }
   ],
   "source": [
    "df.groupBy('Credit_Card').count().show()"
   ]
  },
  {
   "cell_type": "code",
   "execution_count": 17,
   "id": "eab7fd67",
   "metadata": {},
   "outputs": [
    {
     "name": "stdout",
     "output_type": "stream",
     "text": [
      "Correlation to Credit_Card for  Gender -0.053822880152472496\n",
      "Correlation to Credit_Card for  Foreigner_Index 0.0022015999417327814\n",
      "Correlation to Credit_Card for  Active 0.22713687273622554\n",
      "Correlation to Credit_Card for  Credit_Card 1.0\n"
     ]
    }
   ],
   "source": [
    "Credit_Card_df = df.select('Gender',  'Foreigner_Index', 'Active', 'Credit_Card')\n",
    "for i in Credit_Card_df.columns:\n",
    "    if not( isinstance(Credit_Card_df.select(i).take(1)[0][0], six.string_types)):\n",
    "        print( \"Correlation to Credit_Card for \", i, Credit_Card_df.stat.corr('Credit_Card',i))"
   ]
  },
  {
   "cell_type": "markdown",
   "id": "ddba4fee",
   "metadata": {},
   "source": [
    "#### Securities (LR)"
   ]
  },
  {
   "cell_type": "code",
   "execution_count": 28,
   "id": "3346b99f",
   "metadata": {},
   "outputs": [
    {
     "name": "stdout",
     "output_type": "stream",
     "text": [
      "+----------+-------+\n",
      "|Securities|  count|\n",
      "+----------+-------+\n",
      "|         1| 343641|\n",
      "|         0|9948979|\n",
      "+----------+-------+\n",
      "\n"
     ]
    }
   ],
   "source": [
    "df.groupBy('Securities').count().show()"
   ]
  },
  {
   "cell_type": "code",
   "execution_count": 16,
   "id": "5f6a9c99",
   "metadata": {},
   "outputs": [
    {
     "name": "stdout",
     "output_type": "stream",
     "text": [
      "Correlation to Securities for  Gender -0.06187978128174594\n",
      "Correlation to Securities for  Foreigner_Index -0.017876744641905203\n",
      "Correlation to Securities for  Active 0.16882723797847662\n",
      "Correlation to Securities for  Securities 1.0\n"
     ]
    }
   ],
   "source": [
    "Securities_df = df.select('Gender',  'Foreigner_Index', 'Active', 'Securities')\n",
    "for i in Securities_df.columns:\n",
    "    if not( isinstance(Securities_df.select(i).take(1)[0][0], six.string_types)):\n",
    "        print( \"Correlation to Securities for \", i, Securities_df.stat.corr('Securities',i))"
   ]
  },
  {
   "cell_type": "markdown",
   "id": "ca117432",
   "metadata": {},
   "source": [
    "#### Home_Account (LR)"
   ]
  },
  {
   "cell_type": "code",
   "execution_count": 29,
   "id": "c718cf3d",
   "metadata": {},
   "outputs": [
    {
     "name": "stdout",
     "output_type": "stream",
     "text": [
      "+------------+--------+\n",
      "|Home_Account|   count|\n",
      "+------------+--------+\n",
      "|           1|   52244|\n",
      "|           0|10240376|\n",
      "+------------+--------+\n",
      "\n"
     ]
    }
   ],
   "source": [
    "df.groupBy('Home_Account').count().show()"
   ]
  },
  {
   "cell_type": "code",
   "execution_count": 15,
   "id": "6b814813",
   "metadata": {},
   "outputs": [
    {
     "name": "stdout",
     "output_type": "stream",
     "text": [
      "Correlation to Home_Account for  Gender -0.011317095372186508\n",
      "Correlation to Home_Account for  Foreigner_Index -0.001980165499324975\n",
      "Correlation to Home_Account for  Active 0.034274595019433286\n",
      "Correlation to Home_Account for  Home_Account 1.0\n"
     ]
    }
   ],
   "source": [
    "Home_Account_df = df.select('Gender',  'Foreigner_Index', 'Active', 'Home_Account')\n",
    "for i in Home_Account_df.columns:\n",
    "    if not( isinstance(Home_Account_df.select(i).take(1)[0][0], six.string_types)):\n",
    "        print( \"Correlation to Home_Account for \", i, Home_Account_df.stat.corr('Home_Account',i))"
   ]
  },
  {
   "cell_type": "markdown",
   "id": "2ce1877b",
   "metadata": {},
   "source": [
    "#### Payroll (LR)"
   ]
  },
  {
   "cell_type": "code",
   "execution_count": 33,
   "id": "09185635",
   "metadata": {},
   "outputs": [
    {
     "name": "stdout",
     "output_type": "stream",
     "text": [
      "+-------+-------+\n",
      "|Payroll|  count|\n",
      "+-------+-------+\n",
      "|      0|9589574|\n",
      "|      1| 703046|\n",
      "+-------+-------+\n",
      "\n"
     ]
    }
   ],
   "source": [
    "df.groupBy('Payroll').count().show()"
   ]
  },
  {
   "cell_type": "code",
   "execution_count": 13,
   "id": "73fdfb7c",
   "metadata": {},
   "outputs": [
    {
     "name": "stdout",
     "output_type": "stream",
     "text": [
      "Correlation to Payroll for  Gender -0.022059038486154304\n",
      "Correlation to Payroll for  Foreigner_Index -0.008036220433788807\n",
      "Correlation to Payroll for  Active 0.24984857002019106\n",
      "Correlation to Payroll for  Payroll 1.0\n"
     ]
    }
   ],
   "source": [
    "Payroll_df = df.select('Gender',  'Foreigner_Index', 'Active', 'Payroll')\n",
    "for i in Payroll_df.columns:\n",
    "    if not( isinstance(Payroll_df.select(i).take(1)[0][0], six.string_types)):\n",
    "        print( \"Correlation to Payroll for \", i, Payroll_df.stat.corr('Payroll',i))"
   ]
  },
  {
   "cell_type": "markdown",
   "id": "f46bb089",
   "metadata": {},
   "source": [
    "#### Pensions_two (LR)"
   ]
  },
  {
   "cell_type": "code",
   "execution_count": 36,
   "id": "5b51e4d0",
   "metadata": {},
   "outputs": [
    {
     "name": "stdout",
     "output_type": "stream",
     "text": [
      "+------------+-------+\n",
      "|Pensions_two|  count|\n",
      "+------------+-------+\n",
      "|           0|9528238|\n",
      "|           1| 764382|\n",
      "+------------+-------+\n",
      "\n"
     ]
    }
   ],
   "source": [
    "df.groupBy('Pensions_two').count().show()"
   ]
  },
  {
   "cell_type": "code",
   "execution_count": 12,
   "id": "c5b898a9",
   "metadata": {},
   "outputs": [
    {
     "name": "stdout",
     "output_type": "stream",
     "text": [
      "Correlation to Pensions_two for  Gender -0.023482010325987058\n",
      "Correlation to Pensions_two for  Foreigner_Index -0.009628463864864042\n",
      "Correlation to Pensions_two for  Active 0.2612848984798003\n",
      "Correlation to Pensions_two for  Pensions_two 1.0\n"
     ]
    }
   ],
   "source": [
    "Pensionst_df = df.select('Gender',  'Foreigner_Index', 'Active', 'Pensions_two')\n",
    "for i in Pensionst_df.columns:\n",
    "    if not( isinstance(Pensionst_df.select(i).take(1)[0][0], six.string_types)):\n",
    "        print( \"Correlation to Pensions_two for \", i, Pensionst_df.stat.corr('Pensions_two',i))"
   ]
  },
  {
   "cell_type": "markdown",
   "id": "0eaddc93",
   "metadata": {},
   "source": [
    "#### Direct_Debit (LR)"
   ]
  },
  {
   "cell_type": "code",
   "execution_count": 10,
   "id": "1f5e9f5c",
   "metadata": {},
   "outputs": [
    {
     "name": "stdout",
     "output_type": "stream",
     "text": [
      "+------------+-------+\n",
      "|Direct_Debit|  count|\n",
      "+------------+-------+\n",
      "|           1|1627210|\n",
      "|           0|8665410|\n",
      "+------------+-------+\n",
      "\n"
     ]
    }
   ],
   "source": [
    "df.groupBy('Direct_Debit').count().show()"
   ]
  },
  {
   "cell_type": "code",
   "execution_count": 11,
   "id": "04ba9272",
   "metadata": {},
   "outputs": [
    {
     "name": "stdout",
     "output_type": "stream",
     "text": [
      "Correlation to Direct_Debit for  Gender -0.05355695624237305\n",
      "Correlation to Direct_Debit for  Foreigner_Index -0.0019241473309739895\n",
      "Correlation to Direct_Debit for  Active 0.39745594130309425\n",
      "Correlation to Direct_Debit for  Direct_Debit 1.0\n"
     ]
    }
   ],
   "source": [
    "direct_df = df.select('Gender',  'Foreigner_Index', 'Active', 'Direct_Debit')\n",
    "for i in direct_df.columns:\n",
    "    if not( isinstance(direct_df.select(i).take(1)[0][0], six.string_types)):\n",
    "        print( \"Correlation to Direct_Debit for \", i, direct_df.stat.corr('Direct_Debit',i))"
   ]
  },
  {
   "cell_type": "code",
   "execution_count": null,
   "id": "118c2a3e",
   "metadata": {},
   "outputs": [],
   "source": []
  }
 ],
 "metadata": {
  "kernelspec": {
   "display_name": "Python 3",
   "language": "python",
   "name": "python3"
  },
  "language_info": {
   "codemirror_mode": {
    "name": "ipython",
    "version": 3
   },
   "file_extension": ".py",
   "mimetype": "text/x-python",
   "name": "python",
   "nbconvert_exporter": "python",
   "pygments_lexer": "ipython3",
   "version": "3.8.8"
  }
 },
 "nbformat": 4,
 "nbformat_minor": 5
}
