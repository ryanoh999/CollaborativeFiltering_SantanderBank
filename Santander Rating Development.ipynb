{
 "cells": [
  {
   "cell_type": "code",
   "execution_count": 1,
   "id": "af8b96d7",
   "metadata": {},
   "outputs": [],
   "source": [
    "from pyspark.sql import SparkSession\n",
    "from pyspark.sql.types import StringType, IntegerType, DoubleType\n",
    "from pyspark.sql.functions import udf\n",
    "from pyspark.sql import functions as f\n",
    "from pyspark.sql.functions import col\n",
    "from pyspark.ml.feature import StringIndexer\n",
    "from pyspark.ml.tuning import CrossValidator\n",
    "from pyspark.ml.feature import VectorAssembler\n",
    "from pyspark.ml.feature import PCA\n",
    "from pyspark.mllib.linalg import Vectors\n",
    "from pyspark.mllib.linalg.distributed import RowMatrix\n",
    "from pyspark.ml.feature import OneHotEncoder\n",
    "from pyspark.sql.types import *\n",
    "from pyspark.ml.regression import LinearRegression\n",
    "import six\n",
    "from pyspark.ml.classification import RandomForestClassifier\n",
    "from pyspark.ml.tuning import CrossValidator, ParamGridBuilder\n",
    "from pyspark.ml.evaluation import MulticlassClassificationEvaluator\n",
    "from pyspark.ml.classification import LogisticRegression\n",
    "from pyspark.ml.evaluation import BinaryClassificationEvaluator"
   ]
  },
  {
   "cell_type": "code",
   "execution_count": 2,
   "id": "a928f8bd",
   "metadata": {},
   "outputs": [],
   "source": [
    "spark = SparkSession \\\n",
    "    .builder \\\n",
    "    .master(\"local[*]\") \\\n",
    "    .appName(\"xor\") \\\n",
    "    .config(\"spark.executor.memory\", '2g') \\\n",
    "    .config('spark.executor.cores', '1') \\\n",
    "    .config('spark.cores.max', '1') \\\n",
    "    .config(\"spark.driver.memory\",'1g') \\\n",
    "    .getOrCreate()\n",
    "\n",
    "sc = spark.sparkContext"
   ]
  },
  {
   "cell_type": "code",
   "execution_count": 3,
   "id": "63b21eb4",
   "metadata": {},
   "outputs": [],
   "source": [
    "data_schema = StructType([\n",
    "    StructField('Date',StringType(), False),\n",
    "    StructField('Customer_Code',DoubleType(), False),\n",
    "    StructField('Gender',IntegerType(), False),\n",
    "    StructField('Foreigner_Index',IntegerType(), False),\n",
    "    StructField('Channel',StringType(), False),\n",
    "    StructField('Province_Name',StringType(), False),\n",
    "    StructField('Active',IntegerType(), False),\n",
    "    StructField('Segmentation',IntegerType(), False),\n",
    "    StructField('Savings_Account',IntegerType(), False),\n",
    "    StructField('Guarantees',IntegerType(), False),\n",
    "    StructField('Current_Accounts',IntegerType(), False),\n",
    "    StructField('Derivative',IntegerType(), False),\n",
    "    StructField('Payroll_Account',IntegerType(), False),\n",
    "    StructField('Junior_Account',IntegerType(), False),\n",
    "    StructField('More_Particular_Account',IntegerType(), False),\n",
    "    StructField('Particular_Account',IntegerType(), False),\n",
    "    StructField('Particular_Plus_Account',IntegerType(), False),\n",
    "    StructField('Short_Term_Deposits',IntegerType(), False),\n",
    "    StructField('Medium_Term_Deposits',IntegerType(), False),\n",
    "    StructField('Long_Term_Deposits',IntegerType(), False),\n",
    "    StructField('e-Account',IntegerType(), False),\n",
    "    StructField('Funds',IntegerType(), False),\n",
    "    StructField('Mortgage',IntegerType(), False),\n",
    "    StructField('Pensions',IntegerType(), False),\n",
    "    StructField('Loans',IntegerType(), False),\n",
    "    StructField('Taxes',IntegerType(), False),\n",
    "    StructField('Credit_Card',IntegerType(), False),\n",
    "    StructField('Securities',IntegerType(), False),\n",
    "    StructField('Home_Account',IntegerType(), False),\n",
    "    StructField('Payroll',IntegerType(), False),\n",
    "    StructField('Pensions_two',IntegerType(), False),\n",
    "    StructField('Direct_Debit',IntegerType(), False),\n",
    "    StructField('Age_Range',IntegerType(), False),\n",
    "    StructField('Months_Range',IntegerType(), False),\n",
    "    StructField('Income_Range',IntegerType(), False)\n",
    "])"
   ]
  },
  {
   "cell_type": "code",
   "execution_count": 4,
   "id": "0bd76e2c",
   "metadata": {},
   "outputs": [],
   "source": [
    "df = spark.read.csv(\n",
    "    'santander_df_clean.csv', header=True, schema=data_schema\n",
    ").cache()"
   ]
  },
  {
   "cell_type": "code",
   "execution_count": 5,
   "id": "a4610d22",
   "metadata": {},
   "outputs": [
    {
     "data": {
      "text/plain": [
       "['Date',\n",
       " 'Customer_Code',\n",
       " 'Gender',\n",
       " 'Foreigner_Index',\n",
       " 'Channel',\n",
       " 'Province_Name',\n",
       " 'Active',\n",
       " 'Segmentation',\n",
       " 'Savings_Account',\n",
       " 'Guarantees',\n",
       " 'Current_Accounts',\n",
       " 'Derivative',\n",
       " 'Payroll_Account',\n",
       " 'Junior_Account',\n",
       " 'More_Particular_Account',\n",
       " 'Particular_Account',\n",
       " 'Particular_Plus_Account',\n",
       " 'Short_Term_Deposits',\n",
       " 'Medium_Term_Deposits',\n",
       " 'Long_Term_Deposits',\n",
       " 'e-Account',\n",
       " 'Funds',\n",
       " 'Mortgage',\n",
       " 'Pensions',\n",
       " 'Loans',\n",
       " 'Taxes',\n",
       " 'Credit_Card',\n",
       " 'Securities',\n",
       " 'Home_Account',\n",
       " 'Payroll',\n",
       " 'Pensions_two',\n",
       " 'Direct_Debit',\n",
       " 'Age_Range',\n",
       " 'Months_Range',\n",
       " 'Income_Range']"
      ]
     },
     "execution_count": 5,
     "metadata": {},
     "output_type": "execute_result"
    }
   ],
   "source": [
    "df.columns"
   ]
  },
  {
   "cell_type": "markdown",
   "id": "e7926921",
   "metadata": {},
   "source": [
    "Going to investigate all 24 Products, and develop linear regression models to create implicit ratings. If a product has an insignificant level of customers, or doesn't have a strong correlation with any features, its implicit rating will be 0. I will look at the correlation between the binary dummy variables and the products."
   ]
  },
  {
   "cell_type": "markdown",
   "id": "1b4dd456",
   "metadata": {},
   "source": [
    "#### Savings_Account ( 0 )"
   ]
  },
  {
   "cell_type": "code",
   "execution_count": 6,
   "id": "8d2c5834",
   "metadata": {},
   "outputs": [
    {
     "name": "stdout",
     "output_type": "stream",
     "text": [
      "+---------------+--------+\n",
      "|Savings_Account|   count|\n",
      "+---------------+--------+\n",
      "|              1|    1363|\n",
      "|              0|10291257|\n",
      "+---------------+--------+\n",
      "\n"
     ]
    }
   ],
   "source": [
    "df.groupBy('Savings_Account').count().show()"
   ]
  },
  {
   "cell_type": "code",
   "execution_count": null,
   "id": "d8205160",
   "metadata": {},
   "outputs": [],
   "source": [
    "#Fewer than .1% of customers have a savings account\n",
    "Rating[Savings_Account] = 0 "
   ]
  },
  {
   "cell_type": "markdown",
   "id": "ca3c4683",
   "metadata": {},
   "source": [
    "#### Guarantees ( 0 )"
   ]
  },
  {
   "cell_type": "code",
   "execution_count": 6,
   "id": "154756fb",
   "metadata": {},
   "outputs": [
    {
     "name": "stdout",
     "output_type": "stream",
     "text": [
      "+----------+--------+\n",
      "|Guarantees|   count|\n",
      "+----------+--------+\n",
      "|         1|     310|\n",
      "|         0|10292310|\n",
      "+----------+--------+\n",
      "\n"
     ]
    }
   ],
   "source": [
    "df.groupBy('Guarantees').count().show()"
   ]
  },
  {
   "cell_type": "code",
   "execution_count": null,
   "id": "ccd987c3",
   "metadata": {},
   "outputs": [],
   "source": [
    "#Fewer than .1% of customers have a 'Guarantees'\n",
    "Rating[Guarantees] = 0 "
   ]
  },
  {
   "cell_type": "markdown",
   "id": "707dda91",
   "metadata": {},
   "source": [
    "#### Current_Accounts ( LR )"
   ]
  },
  {
   "cell_type": "code",
   "execution_count": 7,
   "id": "a5fbe39a",
   "metadata": {},
   "outputs": [
    {
     "name": "stdout",
     "output_type": "stream",
     "text": [
      "+----------------+-------+\n",
      "|Current_Accounts|  count|\n",
      "+----------------+-------+\n",
      "|               1|8009093|\n",
      "|               0|2283527|\n",
      "+----------------+-------+\n",
      "\n"
     ]
    }
   ],
   "source": [
    "df.groupBy('Current_Accounts').count().show()"
   ]
  },
  {
   "cell_type": "code",
   "execution_count": 6,
   "id": "1aefbf0e",
   "metadata": {},
   "outputs": [
    {
     "name": "stdout",
     "output_type": "stream",
     "text": [
      "Correlation to Current_Accounts for  Gender 0.05007959153329324\n",
      "Correlation to Current_Accounts for  Foreigner_Index -0.010748941450459924\n",
      "Correlation to Current_Accounts for  Active -0.10595967640205521\n",
      "Correlation to Current_Accounts for  Current_Accounts 1.0\n"
     ]
    }
   ],
   "source": [
    "current_df = df.select('Gender',  'Foreigner_Index', 'Active', 'Current_Accounts')\n",
    "for i in current_df.columns:\n",
    "    if not( isinstance(current_df.select(i).take(1)[0][0], six.string_types)):\n",
    "        print( \"Correlation to Current_Accounts for \", i, current_df.stat.corr('Current_Accounts',i))"
   ]
  },
  {
   "cell_type": "code",
   "execution_count": 5,
   "id": "1ebfc05c",
   "metadata": {},
   "outputs": [
    {
     "name": "stdout",
     "output_type": "stream",
     "text": [
      "+-------------+--------------------+----------------+\n",
      "|Customer_Code|            features|Current_Accounts|\n",
      "+-------------+--------------------+----------------+\n",
      "|      15930.0|(15,[3,12,13],[1....|               1|\n",
      "|      15930.0|(15,[3,12,13],[1....|               1|\n",
      "|      15930.0|(15,[3,12,13],[1....|               1|\n",
      "+-------------+--------------------+----------------+\n",
      "only showing top 3 rows\n",
      "\n"
     ]
    }
   ],
   "source": [
    "current_df = df.select('Customer_Code', 'Age_Range', 'Months_Range', 'Income_Range', 'Segmentation','Current_Accounts')\n",
    "encoder = OneHotEncoder(inputCols =['Age_Range', 'Months_Range', 'Income_Range', 'Segmentation'],\n",
    "                                 outputCols =['Age_RangeH', 'Months_RangeH', 'Income_RangeH', 'SegmentationH'])\n",
    "encoder = encoder.fit(current_df)\n",
    "current_df = encoder.transform(current_df)\n",
    "vectorAssembler = VectorAssembler(inputCols = ['Age_RangeH', 'Months_RangeH', 'Income_RangeH', 'SegmentationH'], outputCol = 'features')\n",
    "current_df = vectorAssembler.transform(current_df)\n",
    "current_df = current_df.select(['Customer_Code','features', 'Current_Accounts'])\n",
    "current_df.show(3)"
   ]
  },
  {
   "cell_type": "code",
   "execution_count": 6,
   "id": "342d09b3",
   "metadata": {},
   "outputs": [],
   "source": [
    "splits = current_df.randomSplit([0.6, 0.4])\n",
    "train_df = splits[0]\n",
    "test_df = splits[1]"
   ]
  },
  {
   "cell_type": "code",
   "execution_count": 8,
   "id": "9f97835f",
   "metadata": {},
   "outputs": [
    {
     "name": "stdout",
     "output_type": "stream",
     "text": [
      "RMSE: 0.415525\n",
      "r2: 0.000000\n"
     ]
    }
   ],
   "source": [
    "lr = LinearRegression(featuresCol = 'features', labelCol='Current_Accounts', maxIter=10, regParam=0.3, elasticNetParam=0.8)\n",
    "lr_model = lr.fit(train_df)\n",
    "trainingSummary = lr_model.summary\n",
    "print(\"RMSE: %f\" % trainingSummary.rootMeanSquaredError)\n",
    "print(\"r2: %f\" % trainingSummary.r2)"
   ]
  },
  {
   "cell_type": "code",
   "execution_count": null,
   "id": "eaf132cc",
   "metadata": {},
   "outputs": [],
   "source": [
    "rf = RandomForestClassifier(labelCol=\"Current_Accounts\", featuresCol=\"features\")\n",
    "evaluator = BinaryClassificationEvaluator(\n",
    "    labelCol=\"Current_Accounts\", rawPredictionCol=\"prediction\", metricName=\"areaUnderROC\")\n",
    "paramGrid = ParamGridBuilder().addGrid(rf.numTrees, [3, 6, 10]).build()\n",
    "crossval = CrossValidator(\n",
    "    estimator=rf,\n",
    "    estimatorParamMaps=paramGrid,\n",
    "    evaluator=evaluator,\n",
    "    numFolds=3)\n",
    "model = crossval.fit(train_df)"
   ]
  },
  {
   "cell_type": "code",
   "execution_count": 21,
   "id": "3128227d",
   "metadata": {},
   "outputs": [
    {
     "data": {
      "text/plain": [
       "10"
      ]
     },
     "execution_count": 21,
     "metadata": {},
     "output_type": "execute_result"
    }
   ],
   "source": [
    "model = model.bestModel\n",
    "model.getNumTrees"
   ]
  },
  {
   "cell_type": "code",
   "execution_count": 22,
   "id": "554033f2",
   "metadata": {},
   "outputs": [
    {
     "name": "stdout",
     "output_type": "stream",
     "text": [
      "Area under ROC Curve = 0.522048\n"
     ]
    }
   ],
   "source": [
    "model = model.bestModel\n",
    "predictions = model.transform(test_df)\n",
    "ROC = evaluator.evaluate(predictions)\n",
    "print(\"Area under ROC Curve = %g\" % ROC)"
   ]
  },
  {
   "cell_type": "code",
   "execution_count": 44,
   "id": "806e7397",
   "metadata": {},
   "outputs": [
    {
     "name": "stdout",
     "output_type": "stream",
     "text": [
      "+----------+-------+\n",
      "|prediction|  count|\n",
      "+----------+-------+\n",
      "|       0.0|  40549|\n",
      "|       1.0|3046917|\n",
      "+----------+-------+\n",
      "\n"
     ]
    }
   ],
   "source": [
    "predictions.groupBy('prediction').count().show()"
   ]
  },
  {
   "cell_type": "code",
   "execution_count": 45,
   "id": "2d4c9b09",
   "metadata": {},
   "outputs": [
    {
     "name": "stdout",
     "output_type": "stream",
     "text": [
      "+--------------------+----------------+--------------------+--------------------+----------+\n",
      "|            features|Current_Accounts|       rawPrediction|         probability|prediction|\n",
      "+--------------------+----------------+--------------------+--------------------+----------+\n",
      "|(15,[0,4,10,14],[...|               0|[6.50677861653242...|[0.65067786165324...|       0.0|\n",
      "|(15,[0,4,11,14],[...|               0|[6.50677861653242...|[0.65067786165324...|       0.0|\n",
      "|(15,[0,4,11,14],[...|               0|[6.50677861653242...|[0.65067786165324...|       0.0|\n",
      "+--------------------+----------------+--------------------+--------------------+----------+\n",
      "only showing top 3 rows\n",
      "\n"
     ]
    }
   ],
   "source": [
    "predictions.show(3)"
   ]
  },
  {
   "cell_type": "code",
   "execution_count": 7,
   "id": "8db67438",
   "metadata": {},
   "outputs": [],
   "source": [
    "LR = LogisticRegression(labelCol=\"Current_Accounts\", featuresCol=\"features\", maxIter=100, regParam=0.01,\n",
    "                        elasticNetParam=1.0)\n",
    "LRmodel = LR.fit(train_df)\n",
    "Currentpredictions = LRmodel.transform(test_df)"
   ]
  },
  {
   "cell_type": "code",
   "execution_count": 8,
   "id": "2d1a3ad1",
   "metadata": {},
   "outputs": [
    {
     "name": "stdout",
     "output_type": "stream",
     "text": [
      "Area under ROC Curve: 0.7226\n"
     ]
    }
   ],
   "source": [
    "evaluator = BinaryClassificationEvaluator(labelCol='Current_Accounts')\n",
    "auroc = evaluator.evaluate(Currentpredictions, {evaluator.metricName: \"areaUnderROC\"})\n",
    "print(\"Area under ROC Curve: {:.4f}\".format(auroc))"
   ]
  },
  {
   "cell_type": "code",
   "execution_count": 64,
   "id": "13e58308",
   "metadata": {},
   "outputs": [
    {
     "name": "stdout",
     "output_type": "stream",
     "text": [
      "+-------------+--------------------+----------------+--------------------+--------------------+----------+\n",
      "|Customer_Code|            features|Current_Accounts|       rawPrediction|         probability|prediction|\n",
      "+-------------+--------------------+----------------+--------------------+--------------------+----------+\n",
      "|      15889.0|(15,[3,13],[1.0,1...|               1|[-0.6161026503375...|[0.35066836088241...|       1.0|\n",
      "|      15889.0|(15,[3,13],[1.0,1...|               1|[-0.6161026503375...|[0.35066836088241...|       1.0|\n",
      "|      15889.0|(15,[3,13],[1.0,1...|               1|[-0.6161026503375...|[0.35066836088241...|       1.0|\n",
      "+-------------+--------------------+----------------+--------------------+--------------------+----------+\n",
      "only showing top 3 rows\n",
      "\n"
     ]
    }
   ],
   "source": [
    "Currentpredictions.show(3)"
   ]
  },
  {
   "cell_type": "markdown",
   "id": "9d072b8f",
   "metadata": {},
   "source": [
    "#### Derivative ( 0 )"
   ]
  },
  {
   "cell_type": "code",
   "execution_count": 7,
   "id": "cd8b911b",
   "metadata": {},
   "outputs": [
    {
     "name": "stdout",
     "output_type": "stream",
     "text": [
      "+----------+--------+\n",
      "|Derivative|   count|\n",
      "+----------+--------+\n",
      "|         1|    5211|\n",
      "|         0|10287409|\n",
      "+----------+--------+\n",
      "\n"
     ]
    }
   ],
   "source": [
    "df.groupBy('Derivative').count().show()"
   ]
  },
  {
   "cell_type": "code",
   "execution_count": null,
   "id": "e39c0361",
   "metadata": {},
   "outputs": [],
   "source": [
    "#Fewer than .1% of customers have a Derivative\n",
    "Rating[Derivative] = 0 "
   ]
  },
  {
   "cell_type": "markdown",
   "id": "74e41f86",
   "metadata": {},
   "source": [
    "#### Payroll_Account ( LR )"
   ]
  },
  {
   "cell_type": "code",
   "execution_count": 9,
   "id": "8a20b554",
   "metadata": {},
   "outputs": [
    {
     "name": "stdout",
     "output_type": "stream",
     "text": [
      "+---------------+-------+\n",
      "|Payroll_Account|  count|\n",
      "+---------------+-------+\n",
      "|              1|1036365|\n",
      "|              0|9256255|\n",
      "+---------------+-------+\n",
      "\n"
     ]
    }
   ],
   "source": [
    "df.groupBy('Payroll_Account').count().show()"
   ]
  },
  {
   "cell_type": "code",
   "execution_count": 11,
   "id": "1de78603",
   "metadata": {},
   "outputs": [
    {
     "name": "stdout",
     "output_type": "stream",
     "text": [
      "Correlation to Payroll_Account for  Gender -0.030316400642578074\n",
      "Correlation to Payroll_Account for  Foreigner_Index -0.00517684620680248\n",
      "Correlation to Payroll_Account for  Active 0.3030775727099324\n",
      "Correlation to Payroll_Account for  Payroll_Account 1.0\n"
     ]
    }
   ],
   "source": [
    "payroll_df = df.select('Gender',  'Foreigner_Index', 'Active', 'Payroll_Account')\n",
    "for i in payroll_df.columns:\n",
    "    if not( isinstance(payroll_df.select(i).take(1)[0][0], six.string_types)):\n",
    "        print( \"Correlation to Payroll_Account for \", i, payroll_df.stat.corr('Payroll_Account',i))"
   ]
  },
  {
   "cell_type": "code",
   "execution_count": 9,
   "id": "87f6bcad",
   "metadata": {},
   "outputs": [
    {
     "name": "stdout",
     "output_type": "stream",
     "text": [
      "+-------------+--------------------+---------------+\n",
      "|Customer_Code|            features|Payroll_Account|\n",
      "+-------------+--------------------+---------------+\n",
      "|      15930.0|(16,[4,13,14],[1....|              0|\n",
      "|      15930.0|(16,[4,13,14],[1....|              0|\n",
      "|      15930.0|(16,[4,13,14],[1....|              0|\n",
      "+-------------+--------------------+---------------+\n",
      "only showing top 3 rows\n",
      "\n"
     ]
    }
   ],
   "source": [
    "payroll_df = df.select('Customer_Code','Active', 'Age_Range', 'Months_Range', 'Income_Range', 'Segmentation','Payroll_Account')\n",
    "encoder = OneHotEncoder(inputCols =['Active','Age_Range', 'Months_Range', 'Income_Range', 'Segmentation'],\n",
    "                                 outputCols =['ActiveH','Age_RangeH', 'Months_RangeH', 'Income_RangeH', 'SegmentationH'])\n",
    "encoder = encoder.fit(payroll_df)\n",
    "payroll_df = encoder.transform(payroll_df)\n",
    "vectorAssembler = VectorAssembler(inputCols = ['ActiveH','Age_RangeH', 'Months_RangeH', 'Income_RangeH', 'SegmentationH'], outputCol = 'features')\n",
    "payroll_df = vectorAssembler.transform(payroll_df)\n",
    "payroll_df = payroll_df.select(['Customer_Code','features', 'Payroll_Account'])\n",
    "payroll_df.show(3)"
   ]
  },
  {
   "cell_type": "code",
   "execution_count": 10,
   "id": "45c955d3",
   "metadata": {},
   "outputs": [],
   "source": [
    "splits = payroll_df.randomSplit([0.6, 0.4])\n",
    "train_df = splits[0]\n",
    "test_df = splits[1]"
   ]
  },
  {
   "cell_type": "code",
   "execution_count": 27,
   "id": "816fedaa",
   "metadata": {},
   "outputs": [],
   "source": [
    "rf = RandomForestClassifier(labelCol=\"Payroll_Account\", featuresCol=\"features\")\n",
    "evaluator = BinaryClassificationEvaluator(\n",
    "    labelCol=\"Payroll_Account\", rawPredictionCol=\"prediction\", metricName=\"areaUnderROC\")\n",
    "paramGrid = ParamGridBuilder().addGrid(rf.numTrees, [3, 6, 10]).build()\n",
    "crossval = CrossValidator(\n",
    "    estimator=rf,\n",
    "    estimatorParamMaps=paramGrid,\n",
    "    evaluator=evaluator,\n",
    "    numFolds=3)\n",
    "model = crossval.fit(train_df)"
   ]
  },
  {
   "cell_type": "code",
   "execution_count": 28,
   "id": "d7a1a25a",
   "metadata": {},
   "outputs": [
    {
     "name": "stdout",
     "output_type": "stream",
     "text": [
      "Area under ROC Curve = 0.5\n"
     ]
    }
   ],
   "source": [
    "model = model.bestModel\n",
    "predictions = model.transform(test_df)\n",
    "ROC = evaluator.evaluate(predictions)\n",
    "print(\"Area under ROC Curve = %g\" % ROC)"
   ]
  },
  {
   "cell_type": "code",
   "execution_count": 11,
   "id": "df7e9ff3",
   "metadata": {},
   "outputs": [
    {
     "name": "stdout",
     "output_type": "stream",
     "text": [
      "Area under ROC Curve: 0.8166\n"
     ]
    }
   ],
   "source": [
    "LR = LogisticRegression(labelCol=\"Payroll_Account\", featuresCol=\"features\", maxIter=100, regParam=0.01,\n",
    "                        elasticNetParam=1.0)\n",
    "LRmodel = LR.fit(train_df)\n",
    "Payroll_Accountpredictions = LRmodel.transform(test_df)\n",
    "evaluator = BinaryClassificationEvaluator(labelCol='Payroll_Account')\n",
    "auroc = evaluator.evaluate(Payroll_Accountpredictions, {evaluator.metricName: \"areaUnderROC\"})\n",
    "print(\"Area under ROC Curve: {:.4f}\".format(auroc))"
   ]
  },
  {
   "cell_type": "markdown",
   "id": "9a0701cd",
   "metadata": {},
   "source": [
    "The Logistic Regression Model appaears to be superior for this dataset, so I will use only it for all products here on out."
   ]
  },
  {
   "cell_type": "markdown",
   "id": "783a25fd",
   "metadata": {},
   "source": [
    "#### Junior_Account ( LR )"
   ]
  },
  {
   "cell_type": "code",
   "execution_count": 10,
   "id": "39b19a06",
   "metadata": {},
   "outputs": [
    {
     "name": "stdout",
     "output_type": "stream",
     "text": [
      "+--------------+--------+\n",
      "|Junior_Account|   count|\n",
      "+--------------+--------+\n",
      "|             1|  118837|\n",
      "|             0|10173783|\n",
      "+--------------+--------+\n",
      "\n"
     ]
    }
   ],
   "source": [
    "df.groupBy('Junior_Account').count().show()"
   ]
  },
  {
   "cell_type": "code",
   "execution_count": 9,
   "id": "b1adc44f",
   "metadata": {},
   "outputs": [
    {
     "name": "stdout",
     "output_type": "stream",
     "text": [
      "Correlation to Junior_Accounts for  Gender 0.006947242747022523\n",
      "Correlation to Junior_Accounts for  Foreigner_Index -0.020453048347726314\n",
      "Correlation to Junior_Accounts for  Active 0.06089195163825482\n",
      "Correlation to Junior_Accounts for  Junior_Account 1.0\n"
     ]
    }
   ],
   "source": [
    "current_df = df.select('Gender',  'Foreigner_Index', 'Active', 'Junior_Account')\n",
    "for i in current_df.columns:\n",
    "    if not( isinstance(current_df.select(i).take(1)[0][0], six.string_types)):\n",
    "        print( \"Correlation to Junior_Accounts for \", i, current_df.stat.corr('Junior_Account',i))"
   ]
  },
  {
   "cell_type": "code",
   "execution_count": 12,
   "id": "c1420ddc",
   "metadata": {},
   "outputs": [],
   "source": [
    "Junior_Account_df = df.select('Customer_Code','Age_Range', 'Months_Range', 'Income_Range', 'Segmentation','Junior_Account')\n",
    "encoder = OneHotEncoder(inputCols =['Age_Range', 'Months_Range', 'Income_Range', 'Segmentation'],\n",
    "                                 outputCols =['Age_RangeH', 'Months_RangeH', 'Income_RangeH', 'SegmentationH'])\n",
    "encoder = encoder.fit(Junior_Account_df)\n",
    "Junior_Account_df = encoder.transform(Junior_Account_df)\n",
    "vectorAssembler = VectorAssembler(inputCols = ['Age_RangeH', 'Months_RangeH', 'Income_RangeH', 'SegmentationH'], outputCol = 'features')\n",
    "Junior_Account_df = vectorAssembler.transform(Junior_Account_df)\n",
    "Junior_Account_df = Junior_Account_df.select(['Customer_Code','features', 'Junior_Account'])\n",
    "splits = Junior_Account_df.randomSplit([0.6, 0.4])\n",
    "train_df = splits[0]\n",
    "test_df = splits[1]"
   ]
  },
  {
   "cell_type": "code",
   "execution_count": 13,
   "id": "77f4850f",
   "metadata": {},
   "outputs": [
    {
     "name": "stdout",
     "output_type": "stream",
     "text": [
      "Area under ROC Curve: 0.9197\n"
     ]
    }
   ],
   "source": [
    "LR = LogisticRegression(labelCol=\"Junior_Account\", featuresCol=\"features\", maxIter=100, regParam=0.01,\n",
    "                        elasticNetParam=1.0)\n",
    "LRmodel = LR.fit(train_df)\n",
    "LRpredictions = LRmodel.transform(test_df)\n",
    "evaluator = BinaryClassificationEvaluator(labelCol='Junior_Account')\n",
    "auroc = evaluator.evaluate(LRpredictions, {evaluator.metricName: \"areaUnderROC\"})\n",
    "print(\"Area under ROC Curve: {:.4f}\".format(auroc))"
   ]
  },
  {
   "cell_type": "markdown",
   "id": "430f996e",
   "metadata": {},
   "source": [
    "#### More_Particular_Account ( LR )"
   ]
  },
  {
   "cell_type": "code",
   "execution_count": 11,
   "id": "3ec9770d",
   "metadata": {},
   "outputs": [
    {
     "name": "stdout",
     "output_type": "stream",
     "text": [
      "+-----------------------+--------+\n",
      "|More_Particular_Account|   count|\n",
      "+-----------------------+--------+\n",
      "|                      1|  108324|\n",
      "|                      0|10184296|\n",
      "+-----------------------+--------+\n",
      "\n"
     ]
    }
   ],
   "source": [
    "df.groupBy('More_Particular_Account').count().show()"
   ]
  },
  {
   "cell_type": "code",
   "execution_count": 31,
   "id": "ae13bb28",
   "metadata": {},
   "outputs": [
    {
     "name": "stdout",
     "output_type": "stream",
     "text": [
      "Correlation to More_Particular_Account for  Gender -0.010663105239629682\n",
      "Correlation to More_Particular_Account for  Foreigner_Index 0.0033808939415948995\n",
      "Correlation to More_Particular_Account for  Active 0.04515863963992152\n",
      "Correlation to More_Particular_Account for  More_Particular_Account 1.0\n"
     ]
    }
   ],
   "source": [
    "More_Particular_df = df.select('Gender',  'Foreigner_Index', 'Active', 'More_Particular_Account')\n",
    "for i in More_Particular_df.columns:\n",
    "    if not( isinstance(More_Particular_df.select(i).take(1)[0][0], six.string_types)):\n",
    "        print( \"Correlation to More_Particular_Account for \", i, More_Particular_df.stat.corr('More_Particular_Account',i))"
   ]
  },
  {
   "cell_type": "code",
   "execution_count": 14,
   "id": "64609cfc",
   "metadata": {},
   "outputs": [],
   "source": [
    "More_Particular_Account_df = df.select('Customer_Code','Age_Range', 'Months_Range', 'Income_Range', 'Segmentation','More_Particular_Account')\n",
    "encoder = OneHotEncoder(inputCols =['Age_Range', 'Months_Range', 'Income_Range', 'Segmentation'],\n",
    "                                 outputCols =['Age_RangeH', 'Months_RangeH', 'Income_RangeH', 'SegmentationH'])\n",
    "encoder = encoder.fit(More_Particular_Account_df)\n",
    "More_Particular_Account_df = encoder.transform(More_Particular_Account_df)\n",
    "vectorAssembler = VectorAssembler(inputCols = ['Age_RangeH', 'Months_RangeH', 'Income_RangeH', 'SegmentationH'], outputCol = 'features')\n",
    "More_Particular_Account_df = vectorAssembler.transform(More_Particular_Account_df)\n",
    "More_Particular_Account_df = More_Particular_Account_df.select(['Customer_Code','features', 'More_Particular_Account'])\n",
    "splits = More_Particular_Account_df.randomSplit([0.6, 0.4])\n",
    "train_df = splits[0]\n",
    "test_df = splits[1]"
   ]
  },
  {
   "cell_type": "code",
   "execution_count": 15,
   "id": "59eec8a0",
   "metadata": {},
   "outputs": [
    {
     "name": "stdout",
     "output_type": "stream",
     "text": [
      "Area under ROC Curve: 0.5000\n"
     ]
    }
   ],
   "source": [
    "LR = LogisticRegression(labelCol=\"More_Particular_Account\", featuresCol=\"features\", maxIter=100, regParam=0.01,\n",
    "                        elasticNetParam=1.0)\n",
    "LRmodel = LR.fit(train_df)\n",
    "More_Particular_Accountpredictions = LRmodel.transform(test_df)\n",
    "evaluator = BinaryClassificationEvaluator(labelCol='More_Particular_Account')\n",
    "auroc = evaluator.evaluate(More_Particular_Accountpredictions, {evaluator.metricName: \"areaUnderROC\"})\n",
    "print(\"Area under ROC Curve: {:.4f}\".format(auroc))"
   ]
  },
  {
   "cell_type": "markdown",
   "id": "4a6a849a",
   "metadata": {},
   "source": [
    "#### Particular_Account ( LR )"
   ]
  },
  {
   "cell_type": "code",
   "execution_count": 12,
   "id": "0376a56c",
   "metadata": {},
   "outputs": [
    {
     "name": "stdout",
     "output_type": "stream",
     "text": [
      "+------------------+-------+\n",
      "|Particular_Account|  count|\n",
      "+------------------+-------+\n",
      "|                 1|1749357|\n",
      "|                 0|8543263|\n",
      "+------------------+-------+\n",
      "\n"
     ]
    }
   ],
   "source": [
    "df.groupBy('Particular_Account').count().show()"
   ]
  },
  {
   "cell_type": "code",
   "execution_count": 30,
   "id": "41db6e3f",
   "metadata": {},
   "outputs": [
    {
     "name": "stdout",
     "output_type": "stream",
     "text": [
      "Correlation to Particular_Account for  Gender -0.07060039224986418\n",
      "Correlation to Particular_Account for  Foreigner_Index -0.033491255665048764\n",
      "Correlation to Particular_Account for  Active 0.12640958493466675\n",
      "Correlation to Particular_Account for  Particular_Account 1.0\n"
     ]
    }
   ],
   "source": [
    "Particular_Account_df = df.select('Gender',  'Foreigner_Index', 'Active', 'Particular_Account')\n",
    "for i in Particular_Account_df.columns:\n",
    "    if not( isinstance(Particular_Account_df.select(i).take(1)[0][0], six.string_types)):\n",
    "        print( \"Correlation to Particular_Account for \", i, Particular_Account_df.stat.corr('Particular_Account',i))"
   ]
  },
  {
   "cell_type": "code",
   "execution_count": 16,
   "id": "16f7da1c",
   "metadata": {},
   "outputs": [],
   "source": [
    "Particular_Account_df = df.select('Customer_Code','Age_Range', 'Months_Range', 'Income_Range', 'Segmentation','Particular_Account')\n",
    "encoder = OneHotEncoder(inputCols =['Age_Range', 'Months_Range', 'Income_Range', 'Segmentation'],\n",
    "                                 outputCols =['Age_RangeH', 'Months_RangeH', 'Income_RangeH', 'SegmentationH'])\n",
    "encoder = encoder.fit(Particular_Account_df)\n",
    "Particular_Account_df = encoder.transform(Particular_Account_df)\n",
    "vectorAssembler = VectorAssembler(inputCols = ['Age_RangeH', 'Months_RangeH', 'Income_RangeH', 'SegmentationH'], outputCol = 'features')\n",
    "Particular_Account_df = vectorAssembler.transform(Particular_Account_df)\n",
    "Particular_Account_df = Particular_Account_df.select(['Customer_Code','features', 'Particular_Account'])\n",
    "splits = Particular_Account_df.randomSplit([0.6, 0.4])\n",
    "train_df = splits[0]\n",
    "test_df = splits[1]"
   ]
  },
  {
   "cell_type": "code",
   "execution_count": 17,
   "id": "bbbe16a1",
   "metadata": {},
   "outputs": [
    {
     "name": "stdout",
     "output_type": "stream",
     "text": [
      "Area under ROC Curve: 0.8756\n"
     ]
    }
   ],
   "source": [
    "LR = LogisticRegression(labelCol=\"Particular_Account\", featuresCol=\"features\", maxIter=100, regParam=0.01,\n",
    "                        elasticNetParam=1.0)\n",
    "LRmodel = LR.fit(train_df)\n",
    "Particular_Accountpredictions = LRmodel.transform(test_df)\n",
    "evaluator = BinaryClassificationEvaluator(labelCol='Particular_Account')\n",
    "auroc = evaluator.evaluate(Particular_Accountpredictions, {evaluator.metricName: \"areaUnderROC\"})\n",
    "print(\"Area under ROC Curve: {:.4f}\".format(auroc))"
   ]
  },
  {
   "cell_type": "markdown",
   "id": "1d3f56b8",
   "metadata": {},
   "source": [
    "#### Particular_Plus_Account (LR)"
   ]
  },
  {
   "cell_type": "code",
   "execution_count": 13,
   "id": "a3ffc907",
   "metadata": {},
   "outputs": [
    {
     "name": "stdout",
     "output_type": "stream",
     "text": [
      "+-----------------------+-------+\n",
      "|Particular_Plus_Account|  count|\n",
      "+-----------------------+-------+\n",
      "|                      1| 587160|\n",
      "|                      0|9705460|\n",
      "+-----------------------+-------+\n",
      "\n"
     ]
    }
   ],
   "source": [
    "df.groupBy('Particular_Plus_Account').count().show()"
   ]
  },
  {
   "cell_type": "code",
   "execution_count": 28,
   "id": "ea2ed89d",
   "metadata": {},
   "outputs": [
    {
     "name": "stdout",
     "output_type": "stream",
     "text": [
      "Correlation to Particular_Plus_Account for  Gender -0.032542597586215735\n",
      "Correlation to Particular_Plus_Account for  Foreigner_Index -0.010798075673421845\n",
      "Correlation to Particular_Plus_Account for  Active 0.14137984642094625\n",
      "Correlation to Particular_Plus_Account for  Particular_Plus_Account 1.0\n"
     ]
    }
   ],
   "source": [
    "Particular_Plus_df = df.select('Gender',  'Foreigner_Index', 'Active', 'Particular_Plus_Account')\n",
    "for i in Particular_Plus_df.columns:\n",
    "    if not( isinstance(Particular_Plus_df.select(i).take(1)[0][0], six.string_types)):\n",
    "        print( \"Correlation to Particular_Plus_Account for \", i, Particular_Plus_df.stat.corr('Particular_Plus_Account',i))"
   ]
  },
  {
   "cell_type": "code",
   "execution_count": 18,
   "id": "2513318c",
   "metadata": {},
   "outputs": [],
   "source": [
    "Particular_Plus_Account_df = df.select('Customer_Code','Age_Range', 'Months_Range', 'Income_Range', 'Segmentation','Particular_Plus_Account')\n",
    "encoder = OneHotEncoder(inputCols =['Age_Range', 'Months_Range', 'Income_Range', 'Segmentation'],\n",
    "                                 outputCols =['Age_RangeH', 'Months_RangeH', 'Income_RangeH', 'SegmentationH'])\n",
    "encoder = encoder.fit(Particular_Plus_Account_df)\n",
    "Particular_Plus_Account_df = encoder.transform(Particular_Plus_Account_df)\n",
    "vectorAssembler = VectorAssembler(inputCols = ['Age_RangeH', 'Months_RangeH', 'Income_RangeH', 'SegmentationH'], outputCol = 'features')\n",
    "Particular_Plus_Account_df = vectorAssembler.transform(Particular_Plus_Account_df)\n",
    "Particular_Plus_Account_df = Particular_Plus_Account_df.select(['Customer_Code','features', 'Particular_Plus_Account'])\n",
    "splits = Particular_Plus_Account_df.randomSplit([0.6, 0.4])\n",
    "train_df = splits[0]\n",
    "test_df = splits[1]"
   ]
  },
  {
   "cell_type": "code",
   "execution_count": 19,
   "id": "d5183550",
   "metadata": {},
   "outputs": [
    {
     "name": "stdout",
     "output_type": "stream",
     "text": [
      "Area under ROC Curve: 0.8265\n"
     ]
    }
   ],
   "source": [
    "LR = LogisticRegression(labelCol=\"Particular_Plus_Account\", featuresCol=\"features\", maxIter=100, regParam=0.01,\n",
    "                        elasticNetParam=1.0)\n",
    "LRmodel = LR.fit(train_df)\n",
    "Particular_Plus_Accountpredictions = LRmodel.transform(test_df)\n",
    "evaluator = BinaryClassificationEvaluator(labelCol='Particular_Plus_Account')\n",
    "auroc = evaluator.evaluate(Particular_Plus_Accountpredictions, {evaluator.metricName: \"areaUnderROC\"})\n",
    "print(\"Area under ROC Curve: {:.4f}\".format(auroc))"
   ]
  },
  {
   "cell_type": "markdown",
   "id": "fc4aa59b",
   "metadata": {},
   "source": [
    "#### Short_Term_Deposits ( 0 )"
   ]
  },
  {
   "cell_type": "code",
   "execution_count": 14,
   "id": "a2e80088",
   "metadata": {},
   "outputs": [
    {
     "name": "stdout",
     "output_type": "stream",
     "text": [
      "+-------------------+--------+\n",
      "|Short_Term_Deposits|   count|\n",
      "+-------------------+--------+\n",
      "|                  1|    8894|\n",
      "|                  0|10283726|\n",
      "+-------------------+--------+\n",
      "\n"
     ]
    }
   ],
   "source": [
    "df.groupBy('Short_Term_Deposits').count().show()"
   ]
  },
  {
   "cell_type": "code",
   "execution_count": null,
   "id": "e55c5abc",
   "metadata": {},
   "outputs": [],
   "source": [
    "#Fewer than .1% of customers have a Short_Term_Deposits account\n",
    "Rating[Short_Term_Deposits] = 0 "
   ]
  },
  {
   "cell_type": "markdown",
   "id": "cfcd3801",
   "metadata": {},
   "source": [
    "#### Medium_Term_Deposits ( LR )"
   ]
  },
  {
   "cell_type": "code",
   "execution_count": 15,
   "id": "779aab14",
   "metadata": {},
   "outputs": [
    {
     "name": "stdout",
     "output_type": "stream",
     "text": [
      "+--------------------+--------+\n",
      "|Medium_Term_Deposits|   count|\n",
      "+--------------------+--------+\n",
      "|                   1|   22454|\n",
      "|                   0|10270166|\n",
      "+--------------------+--------+\n",
      "\n"
     ]
    }
   ],
   "source": [
    "df.groupBy('Medium_Term_Deposits').count().show()"
   ]
  },
  {
   "cell_type": "code",
   "execution_count": 27,
   "id": "7f02f4f1",
   "metadata": {},
   "outputs": [
    {
     "name": "stdout",
     "output_type": "stream",
     "text": [
      "Correlation to Medium_Term_Deposits for  Gender -0.003512467505477735\n",
      "Correlation to Medium_Term_Deposits for  Foreigner_Index -0.0026938296530928706\n",
      "Correlation to Medium_Term_Deposits for  Active 0.04321088779058333\n",
      "Correlation to Medium_Term_Deposits for  Medium_Term_Deposits 1.0\n"
     ]
    }
   ],
   "source": [
    "Medium_Term_df = df.select('Gender',  'Foreigner_Index', 'Active', 'Medium_Term_Deposits')\n",
    "for i in Medium_Term_df.columns:\n",
    "    if not(isinstance(Medium_Term_df.select(i).take(1)[0][0], six.string_types)):\n",
    "        print( \"Correlation to Medium_Term_Deposits for \", i, Medium_Term_df.stat.corr('Medium_Term_Deposits',i))"
   ]
  },
  {
   "cell_type": "code",
   "execution_count": 20,
   "id": "b2857c4f",
   "metadata": {},
   "outputs": [],
   "source": [
    "Medium_Term_Deposits_df = df.select('Customer_Code','Age_Range', 'Months_Range', 'Income_Range', 'Segmentation','Medium_Term_Deposits')\n",
    "encoder = OneHotEncoder(inputCols =['Age_Range', 'Months_Range', 'Income_Range', 'Segmentation'],\n",
    "                                 outputCols =['Age_RangeH', 'Months_RangeH', 'Income_RangeH', 'SegmentationH'])\n",
    "encoder = encoder.fit(Medium_Term_Deposits_df)\n",
    "Medium_Term_Deposits_df = encoder.transform(Medium_Term_Deposits_df)\n",
    "vectorAssembler = VectorAssembler(inputCols = ['Age_RangeH', 'Months_RangeH', 'Income_RangeH', 'SegmentationH'], outputCol = 'features')\n",
    "Medium_Term_Deposits_df = vectorAssembler.transform(Medium_Term_Deposits_df)\n",
    "Medium_Term_Deposits_df = Medium_Term_Deposits_df.select(['Customer_Code','features', 'Medium_Term_Deposits'])\n",
    "splits = Medium_Term_Deposits_df.randomSplit([0.6, 0.4])\n",
    "train_df = splits[0]\n",
    "test_df = splits[1]"
   ]
  },
  {
   "cell_type": "code",
   "execution_count": 21,
   "id": "e7e6a05b",
   "metadata": {},
   "outputs": [
    {
     "name": "stdout",
     "output_type": "stream",
     "text": [
      "Area under ROC Curve: 0.5000\n"
     ]
    }
   ],
   "source": [
    "LR = LogisticRegression(labelCol=\"Medium_Term_Deposits\", featuresCol=\"features\", maxIter=100, regParam=0.01,\n",
    "                        elasticNetParam=1.0)\n",
    "LRmodel = LR.fit(train_df)\n",
    "Medium_Term_Depositspredictions = LRmodel.transform(test_df)\n",
    "evaluator = BinaryClassificationEvaluator(labelCol='Medium_Term_Deposits')\n",
    "auroc = evaluator.evaluate(Medium_Term_Depositspredictions, {evaluator.metricName: \"areaUnderROC\"})\n",
    "print(\"Area under ROC Curve: {:.4f}\".format(auroc))"
   ]
  },
  {
   "cell_type": "markdown",
   "id": "31d050bd",
   "metadata": {},
   "source": [
    "#### Long_Term_Deposits ( LR )"
   ]
  },
  {
   "cell_type": "code",
   "execution_count": 16,
   "id": "01fc5b17",
   "metadata": {},
   "outputs": [
    {
     "name": "stdout",
     "output_type": "stream",
     "text": [
      "+------------------+-------+\n",
      "|Long_Term_Deposits|  count|\n",
      "+------------------+-------+\n",
      "|                 1| 548516|\n",
      "|                 0|9744104|\n",
      "+------------------+-------+\n",
      "\n"
     ]
    }
   ],
   "source": [
    "df.groupBy('Long_Term_Deposits').count().show()"
   ]
  },
  {
   "cell_type": "code",
   "execution_count": 26,
   "id": "6c24fd6b",
   "metadata": {},
   "outputs": [
    {
     "name": "stdout",
     "output_type": "stream",
     "text": [
      "Correlation to Long_Term_Deposits for  Gender -0.026517707467546375\n",
      "Correlation to Long_Term_Deposits for  Foreigner_Index -0.03205956190794697\n",
      "Correlation to Long_Term_Deposits for  Active 0.2185275552136404\n",
      "Correlation to Long_Term_Deposits for  Long_Term_Deposits 1.0\n"
     ]
    }
   ],
   "source": [
    "Long_Term_Deposits_df = df.select('Gender',  'Foreigner_Index', 'Active', 'Long_Term_Deposits')\n",
    "for i in Long_Term_Deposits_df.columns:\n",
    "    if not( isinstance(Long_Term_Deposits_df.select(i).take(1)[0][0], six.string_types)):\n",
    "        print( \"Correlation to Long_Term_Deposits for \", i, Long_Term_Deposits_df.stat.corr('Long_Term_Deposits',i))"
   ]
  },
  {
   "cell_type": "code",
   "execution_count": 22,
   "id": "76b1d191",
   "metadata": {},
   "outputs": [],
   "source": [
    "Long_Term_Deposits_df = df.select('Customer_Code','Active','Age_Range', 'Months_Range', 'Income_Range', 'Segmentation','Long_Term_Deposits')\n",
    "encoder = OneHotEncoder(inputCols =['Active','Age_Range', 'Months_Range', 'Income_Range', 'Segmentation'],\n",
    "                                 outputCols =['ActiveH','Age_RangeH', 'Months_RangeH', 'Income_RangeH', 'SegmentationH'])\n",
    "encoder = encoder.fit(Long_Term_Deposits_df)\n",
    "Long_Term_Deposits_df = encoder.transform(Long_Term_Deposits_df)\n",
    "vectorAssembler = VectorAssembler(inputCols = ['ActiveH','Age_RangeH', 'Months_RangeH', 'Income_RangeH', 'SegmentationH'], outputCol = 'features')\n",
    "Long_Term_Deposits_df = vectorAssembler.transform(Long_Term_Deposits_df)\n",
    "Long_Term_Deposits_df = Long_Term_Deposits_df.select(['Customer_Code','features', 'Long_Term_Deposits'])\n",
    "splits = Long_Term_Deposits_df.randomSplit([0.6, 0.4])\n",
    "train_df = splits[0]\n",
    "test_df = splits[1]"
   ]
  },
  {
   "cell_type": "code",
   "execution_count": 23,
   "id": "3c52741b",
   "metadata": {},
   "outputs": [
    {
     "name": "stdout",
     "output_type": "stream",
     "text": [
      "Area under ROC Curve: 0.8888\n"
     ]
    }
   ],
   "source": [
    "LR = LogisticRegression(labelCol=\"Long_Term_Deposits\", featuresCol=\"features\", maxIter=100, regParam=0.01,\n",
    "                        elasticNetParam=1.0)\n",
    "LRmodel = LR.fit(train_df)\n",
    "Long_Term_Depositspredictions = LRmodel.transform(test_df)\n",
    "evaluator = BinaryClassificationEvaluator(labelCol='Long_Term_Deposits')\n",
    "auroc = evaluator.evaluate(Long_Term_Depositspredictions, {evaluator.metricName: \"areaUnderROC\"})\n",
    "print(\"Area under ROC Curve: {:.4f}\".format(auroc))"
   ]
  },
  {
   "cell_type": "markdown",
   "id": "2c9c4d87",
   "metadata": {},
   "source": [
    "#### e-Account (LR)"
   ]
  },
  {
   "cell_type": "code",
   "execution_count": 20,
   "id": "2111bad0",
   "metadata": {},
   "outputs": [
    {
     "name": "stdout",
     "output_type": "stream",
     "text": [
      "+---------+-------+\n",
      "|e-Account|  count|\n",
      "+---------+-------+\n",
      "|        1|1077798|\n",
      "|        0|9214822|\n",
      "+---------+-------+\n",
      "\n"
     ]
    }
   ],
   "source": [
    "df.groupBy('e-Account').count().show()"
   ]
  },
  {
   "cell_type": "code",
   "execution_count": 25,
   "id": "d7189b50",
   "metadata": {},
   "outputs": [
    {
     "name": "stdout",
     "output_type": "stream",
     "text": [
      "Correlation to e-Account for  Gender -0.04694970724159377\n",
      "Correlation to e-Account for  Foreigner_Index -0.028789494913759924\n",
      "Correlation to e-Account for  Active 0.27054356960091075\n",
      "Correlation to e-Account for  e-Account 1.0\n"
     ]
    }
   ],
   "source": [
    "e_Account_df = df.select('Gender',  'Foreigner_Index', 'Active', 'e-Account')\n",
    "for i in e_Account_df.columns:\n",
    "    if not( isinstance(e_Account_df.select(i).take(1)[0][0], six.string_types)):\n",
    "        print( \"Correlation to e-Account for \", i, e_Account_df.stat.corr('e-Account',i))"
   ]
  },
  {
   "cell_type": "code",
   "execution_count": 24,
   "id": "b5b6e63e",
   "metadata": {},
   "outputs": [],
   "source": [
    "e_Account_df = df.select('Customer_Code','Active', 'Age_Range', 'Months_Range', 'Income_Range', 'Segmentation','e-Account')\n",
    "encoder = OneHotEncoder(inputCols =['Active','Age_Range', 'Months_Range', 'Income_Range', 'Segmentation'],\n",
    "                                 outputCols =['ActiveH','Age_RangeH', 'Months_RangeH', 'Income_RangeH', 'SegmentationH'])\n",
    "encoder = encoder.fit(e_Account_df)\n",
    "e_Account_df = encoder.transform(e_Account_df)\n",
    "vectorAssembler = VectorAssembler(inputCols = ['ActiveH','Age_RangeH', 'Months_RangeH', 'Income_RangeH', 'SegmentationH'], outputCol = 'features')\n",
    "e_Account_df = vectorAssembler.transform(e_Account_df)\n",
    "e_Account_df = e_Account_df.select(['Customer_Code','features', 'e-Account'])\n",
    "splits = e_Account_df.randomSplit([0.6, 0.4])\n",
    "train_df = splits[0]\n",
    "test_df = splits[1]"
   ]
  },
  {
   "cell_type": "code",
   "execution_count": 25,
   "id": "74a126d5",
   "metadata": {},
   "outputs": [
    {
     "name": "stdout",
     "output_type": "stream",
     "text": [
      "Area under ROC Curve: 0.8129\n"
     ]
    }
   ],
   "source": [
    "LR = LogisticRegression(labelCol=\"e-Account\", featuresCol=\"features\", maxIter=100, regParam=0.01,\n",
    "                        elasticNetParam=1.0)\n",
    "LRmodel = LR.fit(train_df)\n",
    "e_Accountpredictions = LRmodel.transform(test_df)\n",
    "evaluator = BinaryClassificationEvaluator(labelCol='e-Account')\n",
    "auroc = evaluator.evaluate(e_Accountpredictions, {evaluator.metricName: \"areaUnderROC\"})\n",
    "print(\"Area under ROC Curve: {:.4f}\".format(auroc))"
   ]
  },
  {
   "cell_type": "markdown",
   "id": "0199ab43",
   "metadata": {},
   "source": [
    "#### Funds (LR)"
   ]
  },
  {
   "cell_type": "code",
   "execution_count": 21,
   "id": "ebae9c90",
   "metadata": {},
   "outputs": [
    {
     "name": "stdout",
     "output_type": "stream",
     "text": [
      "+-----+--------+\n",
      "|Funds|   count|\n",
      "+-----+--------+\n",
      "|    1|  248133|\n",
      "|    0|10044487|\n",
      "+-----+--------+\n",
      "\n"
     ]
    }
   ],
   "source": [
    "df.groupBy('Funds').count().show()"
   ]
  },
  {
   "cell_type": "code",
   "execution_count": 24,
   "id": "2943bb3e",
   "metadata": {},
   "outputs": [
    {
     "name": "stdout",
     "output_type": "stream",
     "text": [
      "Correlation to Funds for  Gender -0.04692703280449765\n",
      "Correlation to Funds for  Foreigner_Index -0.017022772519029603\n",
      "Correlation to Funds for  Active 0.1439464429735304\n",
      "Correlation to Funds for  Funds 1.0\n"
     ]
    }
   ],
   "source": [
    "Funds_df = df.select('Gender',  'Foreigner_Index', 'Active', 'Funds')\n",
    "for i in Funds_df.columns:\n",
    "    if not( isinstance(Funds_df.select(i).take(1)[0][0], six.string_types)):\n",
    "        print( \"Correlation to Funds for \", i, Funds_df.stat.corr('Funds',i))"
   ]
  },
  {
   "cell_type": "code",
   "execution_count": 26,
   "id": "a00d429d",
   "metadata": {},
   "outputs": [],
   "source": [
    "Funds_df = df.select('Customer_Code','Age_Range', 'Months_Range', 'Income_Range', 'Segmentation','Funds')\n",
    "encoder = OneHotEncoder(inputCols =['Age_Range', 'Months_Range', 'Income_Range', 'Segmentation'],\n",
    "                                 outputCols =['Age_RangeH', 'Months_RangeH', 'Income_RangeH', 'SegmentationH'])\n",
    "encoder = encoder.fit(Funds_df)\n",
    "Funds_df = encoder.transform(Funds_df)\n",
    "vectorAssembler = VectorAssembler(inputCols = ['Age_RangeH', 'Months_RangeH', 'Income_RangeH', 'SegmentationH'], outputCol = 'features')\n",
    "Funds_df = vectorAssembler.transform(Funds_df)\n",
    "Funds_df = Funds_df.select(['Customer_Code','features', 'Funds'])\n",
    "splits = Funds_df.randomSplit([0.6, 0.4])\n",
    "train_df = splits[0]\n",
    "test_df = splits[1]"
   ]
  },
  {
   "cell_type": "code",
   "execution_count": 27,
   "id": "69e4dbc4",
   "metadata": {},
   "outputs": [
    {
     "name": "stdout",
     "output_type": "stream",
     "text": [
      "Area under ROC Curve: 0.7747\n"
     ]
    }
   ],
   "source": [
    "LR = LogisticRegression(labelCol=\"Funds\", featuresCol=\"features\", maxIter=100, regParam=0.01,\n",
    "                        elasticNetParam=1.0)\n",
    "LRmodel = LR.fit(train_df)\n",
    "Fundspredictions = LRmodel.transform(test_df)\n",
    "evaluator = BinaryClassificationEvaluator(labelCol='Funds')\n",
    "auroc = evaluator.evaluate(Fundspredictions, {evaluator.metricName: \"areaUnderROC\"})\n",
    "print(\"Area under ROC Curve: {:.4f}\".format(auroc))"
   ]
  },
  {
   "cell_type": "markdown",
   "id": "2f225d3c",
   "metadata": {},
   "source": [
    "#### Mortgage (LR)"
   ]
  },
  {
   "cell_type": "code",
   "execution_count": 22,
   "id": "fc80aecf",
   "metadata": {},
   "outputs": [
    {
     "name": "stdout",
     "output_type": "stream",
     "text": [
      "+--------+--------+\n",
      "|Mortgage|   count|\n",
      "+--------+--------+\n",
      "|       1|   79897|\n",
      "|       0|10212723|\n",
      "+--------+--------+\n",
      "\n"
     ]
    }
   ],
   "source": [
    "df.groupBy('Mortgage').count().show()"
   ]
  },
  {
   "cell_type": "code",
   "execution_count": 23,
   "id": "995bb84e",
   "metadata": {},
   "outputs": [
    {
     "name": "stdout",
     "output_type": "stream",
     "text": [
      "Correlation to Mortgage for  Gender -0.030095779138293813\n",
      "Correlation to Mortgage for  Foreigner_Index -0.012050523584328222\n",
      "Correlation to Mortgage for  Active 0.08169778744820423\n",
      "Correlation to Mortgage for  Mortgage 1.0\n"
     ]
    }
   ],
   "source": [
    "Mortgage_df = df.select('Gender',  'Foreigner_Index', 'Active', 'Mortgage')\n",
    "for i in Mortgage_df.columns:\n",
    "    if not( isinstance(Mortgage_df.select(i).take(1)[0][0], six.string_types)):\n",
    "        print( \"Correlation to Mortgage for \", i, Mortgage_df.stat.corr('Mortgage',i))"
   ]
  },
  {
   "cell_type": "code",
   "execution_count": 28,
   "id": "210553ba",
   "metadata": {},
   "outputs": [],
   "source": [
    "Mortgage_df = df.select('Customer_Code','Age_Range', 'Months_Range', 'Income_Range', 'Segmentation','Mortgage')\n",
    "encoder = OneHotEncoder(inputCols =['Age_Range', 'Months_Range', 'Income_Range', 'Segmentation'],\n",
    "                                 outputCols =['Age_RangeH', 'Months_RangeH', 'Income_RangeH', 'SegmentationH'])\n",
    "encoder = encoder.fit(Mortgage_df)\n",
    "Mortgage_df = encoder.transform(Mortgage_df)\n",
    "vectorAssembler = VectorAssembler(inputCols = ['Age_RangeH', 'Months_RangeH', 'Income_RangeH', 'SegmentationH'], outputCol = 'features')\n",
    "Mortgage_df = vectorAssembler.transform(Mortgage_df)\n",
    "Mortgage_df = Mortgage_df.select(['Customer_Code','features', 'Mortgage'])\n",
    "splits = Mortgage_df.randomSplit([0.6, 0.4])\n",
    "train_df = splits[0]\n",
    "test_df = splits[1]"
   ]
  },
  {
   "cell_type": "code",
   "execution_count": 29,
   "id": "fc3aabf5",
   "metadata": {},
   "outputs": [
    {
     "name": "stdout",
     "output_type": "stream",
     "text": [
      "Area under ROC Curve: 0.5000\n"
     ]
    }
   ],
   "source": [
    "LR = LogisticRegression(labelCol=\"Mortgage\", featuresCol=\"features\", maxIter=100, regParam=0.01,\n",
    "                        elasticNetParam=1.0)\n",
    "LRmodel = LR.fit(train_df)\n",
    "Mortgagepredictions = LRmodel.transform(test_df)\n",
    "evaluator = BinaryClassificationEvaluator(labelCol='Mortgage')\n",
    "auroc = evaluator.evaluate(Mortgagepredictions, {evaluator.metricName: \"areaUnderROC\"})\n",
    "print(\"Area under ROC Curve: {:.4f}\".format(auroc))"
   ]
  },
  {
   "cell_type": "markdown",
   "id": "e4c995aa",
   "metadata": {},
   "source": [
    "#### Pensions (LR)"
   ]
  },
  {
   "cell_type": "code",
   "execution_count": 23,
   "id": "90140bde",
   "metadata": {},
   "outputs": [
    {
     "name": "stdout",
     "output_type": "stream",
     "text": [
      "+--------+--------+\n",
      "|Pensions|   count|\n",
      "+--------+--------+\n",
      "|       1|  123737|\n",
      "|       0|10168883|\n",
      "+--------+--------+\n",
      "\n"
     ]
    }
   ],
   "source": [
    "df.groupBy('Pensions').count().show()"
   ]
  },
  {
   "cell_type": "code",
   "execution_count": 22,
   "id": "df29c33b",
   "metadata": {},
   "outputs": [
    {
     "name": "stdout",
     "output_type": "stream",
     "text": [
      "Correlation to Pensions for  Gender -0.01815304828631781\n",
      "Correlation to Pensions for  Foreigner_Index -0.0038319166610656314\n",
      "Correlation to Pensions for  Active 0.10112164019193774\n",
      "Correlation to Pensions for  Pensions 1.0\n"
     ]
    }
   ],
   "source": [
    "Pensions_df = df.select('Gender',  'Foreigner_Index', 'Active', 'Pensions')\n",
    "for i in Pensions_df.columns:\n",
    "    if not( isinstance(Pensions_df.select(i).take(1)[0][0], six.string_types)):\n",
    "        print( \"Correlation to Pensions for \", i, Pensions_df.stat.corr('Pensions',i))"
   ]
  },
  {
   "cell_type": "code",
   "execution_count": 30,
   "id": "533637a8",
   "metadata": {},
   "outputs": [],
   "source": [
    "Pensions_df = df.select('Customer_Code','Age_Range', 'Months_Range', 'Income_Range', 'Segmentation','Pensions')\n",
    "encoder = OneHotEncoder(inputCols =['Age_Range', 'Months_Range', 'Income_Range', 'Segmentation'],\n",
    "                                 outputCols =['Age_RangeH', 'Months_RangeH', 'Income_RangeH', 'SegmentationH'])\n",
    "encoder = encoder.fit(Pensions_df)\n",
    "Pensions_df = encoder.transform(Pensions_df)\n",
    "vectorAssembler = VectorAssembler(inputCols = ['Age_RangeH', 'Months_RangeH', 'Income_RangeH', 'SegmentationH'], outputCol = 'features')\n",
    "Pensions_df = vectorAssembler.transform(Pensions_df)\n",
    "Pensions_df = Pensions_df.select(['Customer_Code','features', 'Pensions'])\n",
    "splits = Pensions_df.randomSplit([0.6, 0.4])\n",
    "train_df = splits[0]\n",
    "test_df = splits[1]"
   ]
  },
  {
   "cell_type": "code",
   "execution_count": 31,
   "id": "5e7a65d5",
   "metadata": {},
   "outputs": [
    {
     "name": "stdout",
     "output_type": "stream",
     "text": [
      "Area under ROC Curve: 0.7813\n"
     ]
    }
   ],
   "source": [
    "LR = LogisticRegression(labelCol=\"Pensions\", featuresCol=\"features\", maxIter=100, regParam=0.01,\n",
    "                        elasticNetParam=1.0)\n",
    "LRmodel = LR.fit(train_df)\n",
    "Pensionspredictions = LRmodel.transform(test_df)\n",
    "evaluator = BinaryClassificationEvaluator(labelCol='Pensions')\n",
    "auroc = evaluator.evaluate(Pensionspredictions, {evaluator.metricName: \"areaUnderROC\"})\n",
    "print(\"Area under ROC Curve: {:.4f}\".format(auroc))"
   ]
  },
  {
   "cell_type": "markdown",
   "id": "df75fb7c",
   "metadata": {},
   "source": [
    "#### Loans (LR)"
   ]
  },
  {
   "cell_type": "code",
   "execution_count": 24,
   "id": "30da461e",
   "metadata": {},
   "outputs": [
    {
     "name": "stdout",
     "output_type": "stream",
     "text": [
      "+-----+--------+\n",
      "|Loans|   count|\n",
      "+-----+--------+\n",
      "|    1|   34305|\n",
      "|    0|10258315|\n",
      "+-----+--------+\n",
      "\n"
     ]
    }
   ],
   "source": [
    "df.groupBy('Loans').count().show()"
   ]
  },
  {
   "cell_type": "code",
   "execution_count": 21,
   "id": "9d0c2174",
   "metadata": {},
   "outputs": [
    {
     "name": "stdout",
     "output_type": "stream",
     "text": [
      "Correlation to Loans for  Gender -0.016345241083973866\n",
      "Correlation to Loans for  Foreigner_Index 0.03816512475194234\n",
      "Correlation to Loans for  Active 0.03251360151206657\n",
      "Correlation to Loans for  Loans 1.0\n"
     ]
    }
   ],
   "source": [
    "Loans_df = df.select('Gender',  'Foreigner_Index', 'Active', 'Loans')\n",
    "for i in Loans_df.columns:\n",
    "    if not( isinstance(Loans_df.select(i).take(1)[0][0], six.string_types)):\n",
    "        print( \"Correlation to Loans for \", i, Loans_df.stat.corr('Loans',i))"
   ]
  },
  {
   "cell_type": "code",
   "execution_count": 32,
   "id": "6933657e",
   "metadata": {},
   "outputs": [],
   "source": [
    "Loans_df = df.select('Customer_Code','Active', 'Age_Range', 'Months_Range', 'Income_Range', 'Segmentation','Loans')\n",
    "encoder = OneHotEncoder(inputCols =['Age_Range', 'Months_Range', 'Income_Range', 'Segmentation'],\n",
    "                                 outputCols =['Age_RangeH', 'Months_RangeH', 'Income_RangeH', 'SegmentationH'])\n",
    "encoder = encoder.fit(Loans_df)\n",
    "Loans_df = encoder.transform(Loans_df)\n",
    "vectorAssembler = VectorAssembler(inputCols = ['Age_RangeH', 'Months_RangeH', 'Income_RangeH', 'SegmentationH'], outputCol = 'features')\n",
    "Loans_df = vectorAssembler.transform(Loans_df)\n",
    "Loans_df = Loans_df.select(['Customer_Code','features', 'Loans'])\n",
    "splits = Loans_df.randomSplit([0.6, 0.4])\n",
    "train_df = splits[0]\n",
    "test_df = splits[1]"
   ]
  },
  {
   "cell_type": "code",
   "execution_count": 33,
   "id": "979cc722",
   "metadata": {},
   "outputs": [
    {
     "name": "stdout",
     "output_type": "stream",
     "text": [
      "Area under ROC Curve: 0.5000\n"
     ]
    }
   ],
   "source": [
    "LR = LogisticRegression(labelCol=\"Loans\", featuresCol=\"features\", maxIter=100, regParam=0.01,\n",
    "                        elasticNetParam=1.0)\n",
    "LRmodel = LR.fit(train_df)\n",
    "Loanspredictions = LRmodel.transform(test_df)\n",
    "evaluator = BinaryClassificationEvaluator(labelCol='Loans')\n",
    "auroc = evaluator.evaluate(Loanspredictions, {evaluator.metricName: \"areaUnderROC\"})\n",
    "print(\"Area under ROC Curve: {:.4f}\".format(auroc))"
   ]
  },
  {
   "cell_type": "markdown",
   "id": "c48bc94f",
   "metadata": {},
   "source": [
    "#### Taxes (LR)"
   ]
  },
  {
   "cell_type": "code",
   "execution_count": 26,
   "id": "7cd5d590",
   "metadata": {},
   "outputs": [
    {
     "name": "stdout",
     "output_type": "stream",
     "text": [
      "+-----+-------+\n",
      "|Taxes|  count|\n",
      "+-----+-------+\n",
      "|    1| 693694|\n",
      "|    0|9598926|\n",
      "+-----+-------+\n",
      "\n"
     ]
    }
   ],
   "source": [
    "df.groupBy('Taxes').count().show()"
   ]
  },
  {
   "cell_type": "code",
   "execution_count": 20,
   "id": "05987355",
   "metadata": {},
   "outputs": [
    {
     "name": "stdout",
     "output_type": "stream",
     "text": [
      "Correlation to Taxes for  Gender -0.056825807751829\n",
      "Correlation to Taxes for  Foreigner_Index 0.013623825782699007\n",
      "Correlation to Taxes for  Active 0.21344938247865125\n",
      "Correlation to Taxes for  Taxes 1.0\n"
     ]
    }
   ],
   "source": [
    "Taxes_df = df.select('Gender',  'Foreigner_Index', 'Active', 'Taxes')\n",
    "for i in Taxes_df.columns:\n",
    "    if not( isinstance(Taxes_df.select(i).take(1)[0][0], six.string_types)):\n",
    "        print( \"Correlation to Taxes for \", i, Taxes_df.stat.corr('Taxes',i))"
   ]
  },
  {
   "cell_type": "code",
   "execution_count": 34,
   "id": "ffb4e3f7",
   "metadata": {},
   "outputs": [],
   "source": [
    "Taxes_df = df.select('Customer_Code','Active', 'Age_Range', 'Months_Range', 'Income_Range', 'Segmentation','Taxes')\n",
    "encoder = OneHotEncoder(inputCols =['Active', 'Age_Range', 'Months_Range', 'Income_Range', 'Segmentation'],\n",
    "                                 outputCols =['ActiveH', 'Age_RangeH', 'Months_RangeH', 'Income_RangeH', 'SegmentationH'])\n",
    "encoder = encoder.fit(Taxes_df)\n",
    "Taxes_df = encoder.transform(Taxes_df)\n",
    "vectorAssembler = VectorAssembler(inputCols = ['ActiveH','Age_RangeH', 'Months_RangeH', 'Income_RangeH', 'SegmentationH'], outputCol = 'features')\n",
    "Taxes_df = vectorAssembler.transform(Taxes_df)\n",
    "Taxes_df = Taxes_df.select(['Customer_Code','features', 'Taxes'])\n",
    "splits = Taxes_df.randomSplit([0.6, 0.4])\n",
    "train_df = splits[0]\n",
    "test_df = splits[1]"
   ]
  },
  {
   "cell_type": "code",
   "execution_count": 35,
   "id": "6916acc6",
   "metadata": {},
   "outputs": [
    {
     "name": "stdout",
     "output_type": "stream",
     "text": [
      "Area under ROC Curve: 0.8017\n"
     ]
    }
   ],
   "source": [
    "LR = LogisticRegression(labelCol=\"Taxes\", featuresCol=\"features\", maxIter=100, regParam=0.01,\n",
    "                        elasticNetParam=1.0)\n",
    "LRmodel = LR.fit(train_df)\n",
    "Taxespredictions = LRmodel.transform(test_df)\n",
    "evaluator = BinaryClassificationEvaluator(labelCol='Taxes')\n",
    "auroc = evaluator.evaluate(Taxespredictions, {evaluator.metricName: \"areaUnderROC\"})\n",
    "print(\"Area under ROC Curve: {:.4f}\".format(auroc))"
   ]
  },
  {
   "cell_type": "markdown",
   "id": "7d8cdf94",
   "metadata": {},
   "source": [
    "#### Credit_Card (LR)"
   ]
  },
  {
   "cell_type": "code",
   "execution_count": 27,
   "id": "6b086a38",
   "metadata": {},
   "outputs": [
    {
     "name": "stdout",
     "output_type": "stream",
     "text": [
      "+-----------+-------+\n",
      "|Credit_Card|  count|\n",
      "+-----------+-------+\n",
      "|          1| 592459|\n",
      "|          0|9700161|\n",
      "+-----------+-------+\n",
      "\n"
     ]
    }
   ],
   "source": [
    "df.groupBy('Credit_Card').count().show()"
   ]
  },
  {
   "cell_type": "code",
   "execution_count": 17,
   "id": "eab7fd67",
   "metadata": {},
   "outputs": [
    {
     "name": "stdout",
     "output_type": "stream",
     "text": [
      "Correlation to Credit_Card for  Gender -0.053822880152472496\n",
      "Correlation to Credit_Card for  Foreigner_Index 0.0022015999417327814\n",
      "Correlation to Credit_Card for  Active 0.22713687273622554\n",
      "Correlation to Credit_Card for  Credit_Card 1.0\n"
     ]
    }
   ],
   "source": [
    "Credit_Card_df = df.select('Gender',  'Foreigner_Index', 'Active', 'Credit_Card')\n",
    "for i in Credit_Card_df.columns:\n",
    "    if not( isinstance(Credit_Card_df.select(i).take(1)[0][0], six.string_types)):\n",
    "        print( \"Correlation to Credit_Card for \", i, Credit_Card_df.stat.corr('Credit_Card',i))"
   ]
  },
  {
   "cell_type": "code",
   "execution_count": 36,
   "id": "f8a637e2",
   "metadata": {},
   "outputs": [],
   "source": [
    "Credit_Card_df = df.select('Customer_Code','Active', 'Age_Range', 'Months_Range', 'Income_Range', 'Segmentation','Credit_Card')\n",
    "encoder = OneHotEncoder(inputCols =['Active','Age_Range', 'Months_Range', 'Income_Range', 'Segmentation'],\n",
    "                                 outputCols =['ActiveH','Age_RangeH', 'Months_RangeH', 'Income_RangeH', 'SegmentationH'])\n",
    "encoder = encoder.fit(Credit_Card_df)\n",
    "Credit_Card_df = encoder.transform(Credit_Card_df)\n",
    "vectorAssembler = VectorAssembler(inputCols = ['ActiveH','Age_RangeH', 'Months_RangeH', 'Income_RangeH', 'SegmentationH'], outputCol = 'features')\n",
    "Credit_Card_df = vectorAssembler.transform(Credit_Card_df)\n",
    "Credit_Card_df = Credit_Card_df.select(['Customer_Code','features', 'Credit_Card'])\n",
    "splits = Credit_Card_df.randomSplit([0.6, 0.4])\n",
    "train_df = splits[0]\n",
    "test_df = splits[1]"
   ]
  },
  {
   "cell_type": "code",
   "execution_count": 37,
   "id": "8d1ccaae",
   "metadata": {},
   "outputs": [
    {
     "name": "stdout",
     "output_type": "stream",
     "text": [
      "Area under ROC Curve: 0.8408\n"
     ]
    }
   ],
   "source": [
    "LR = LogisticRegression(labelCol=\"Credit_Card\", featuresCol=\"features\", maxIter=100, regParam=0.01,\n",
    "                        elasticNetParam=1.0)\n",
    "LRmodel = LR.fit(train_df)\n",
    "Credit_Cardpredictions = LRmodel.transform(test_df)\n",
    "evaluator = BinaryClassificationEvaluator(labelCol='Credit_Card')\n",
    "auroc = evaluator.evaluate(Credit_Cardpredictions, {evaluator.metricName: \"areaUnderROC\"})\n",
    "print(\"Area under ROC Curve: {:.4f}\".format(auroc))"
   ]
  },
  {
   "cell_type": "markdown",
   "id": "ddba4fee",
   "metadata": {},
   "source": [
    "#### Securities (LR)"
   ]
  },
  {
   "cell_type": "code",
   "execution_count": 28,
   "id": "3346b99f",
   "metadata": {},
   "outputs": [
    {
     "name": "stdout",
     "output_type": "stream",
     "text": [
      "+----------+-------+\n",
      "|Securities|  count|\n",
      "+----------+-------+\n",
      "|         1| 343641|\n",
      "|         0|9948979|\n",
      "+----------+-------+\n",
      "\n"
     ]
    }
   ],
   "source": [
    "df.groupBy('Securities').count().show()"
   ]
  },
  {
   "cell_type": "code",
   "execution_count": 16,
   "id": "5f6a9c99",
   "metadata": {},
   "outputs": [
    {
     "name": "stdout",
     "output_type": "stream",
     "text": [
      "Correlation to Securities for  Gender -0.06187978128174594\n",
      "Correlation to Securities for  Foreigner_Index -0.017876744641905203\n",
      "Correlation to Securities for  Active 0.16882723797847662\n",
      "Correlation to Securities for  Securities 1.0\n"
     ]
    }
   ],
   "source": [
    "Securities_df = df.select('Gender',  'Foreigner_Index', 'Active', 'Securities')\n",
    "for i in Securities_df.columns:\n",
    "    if not( isinstance(Securities_df.select(i).take(1)[0][0], six.string_types)):\n",
    "        print( \"Correlation to Securities for \", i, Securities_df.stat.corr('Securities',i))"
   ]
  },
  {
   "cell_type": "code",
   "execution_count": 38,
   "id": "7b56e80c",
   "metadata": {},
   "outputs": [],
   "source": [
    "Securities_df = df.select('Customer_Code','Age_Range', 'Months_Range', 'Income_Range', 'Segmentation','Securities')\n",
    "encoder = OneHotEncoder(inputCols =['Age_Range', 'Months_Range', 'Income_Range', 'Segmentation'],\n",
    "                                 outputCols =['Age_RangeH', 'Months_RangeH', 'Income_RangeH', 'SegmentationH'])\n",
    "encoder = encoder.fit(Securities_df)\n",
    "Securities_df = encoder.transform(Securities_df)\n",
    "vectorAssembler = VectorAssembler(inputCols = ['Age_RangeH', 'Months_RangeH', 'Income_RangeH', 'SegmentationH'], outputCol = 'features')\n",
    "Securities_df = vectorAssembler.transform(Securities_df)\n",
    "Securities_df = Securities_df.select(['Customer_Code','features', 'Securities'])\n",
    "splits = Securities_df.randomSplit([0.6, 0.4])\n",
    "train_df = splits[0]\n",
    "test_df = splits[1]"
   ]
  },
  {
   "cell_type": "code",
   "execution_count": 39,
   "id": "4cdea25d",
   "metadata": {},
   "outputs": [
    {
     "name": "stdout",
     "output_type": "stream",
     "text": [
      "Area under ROC Curve: 0.8030\n"
     ]
    }
   ],
   "source": [
    "LR = LogisticRegression(labelCol=\"Securities\", featuresCol=\"features\", maxIter=100, regParam=0.01,\n",
    "                        elasticNetParam=1.0)\n",
    "LRmodel = LR.fit(train_df)\n",
    "Securitiespredictions = LRmodel.transform(test_df)\n",
    "evaluator = BinaryClassificationEvaluator(labelCol='Securities')\n",
    "auroc = evaluator.evaluate(Securitiespredictions, {evaluator.metricName: \"areaUnderROC\"})\n",
    "print(\"Area under ROC Curve: {:.4f}\".format(auroc))"
   ]
  },
  {
   "cell_type": "markdown",
   "id": "ca117432",
   "metadata": {},
   "source": [
    "#### Home_Account (LR)"
   ]
  },
  {
   "cell_type": "code",
   "execution_count": 29,
   "id": "c718cf3d",
   "metadata": {},
   "outputs": [
    {
     "name": "stdout",
     "output_type": "stream",
     "text": [
      "+------------+--------+\n",
      "|Home_Account|   count|\n",
      "+------------+--------+\n",
      "|           1|   52244|\n",
      "|           0|10240376|\n",
      "+------------+--------+\n",
      "\n"
     ]
    }
   ],
   "source": [
    "df.groupBy('Home_Account').count().show()"
   ]
  },
  {
   "cell_type": "code",
   "execution_count": 15,
   "id": "6b814813",
   "metadata": {},
   "outputs": [
    {
     "name": "stdout",
     "output_type": "stream",
     "text": [
      "Correlation to Home_Account for  Gender -0.011317095372186508\n",
      "Correlation to Home_Account for  Foreigner_Index -0.001980165499324975\n",
      "Correlation to Home_Account for  Active 0.034274595019433286\n",
      "Correlation to Home_Account for  Home_Account 1.0\n"
     ]
    }
   ],
   "source": [
    "Home_Account_df = df.select('Gender',  'Foreigner_Index', 'Active', 'Home_Account')\n",
    "for i in Home_Account_df.columns:\n",
    "    if not( isinstance(Home_Account_df.select(i).take(1)[0][0], six.string_types)):\n",
    "        print( \"Correlation to Home_Account for \", i, Home_Account_df.stat.corr('Home_Account',i))"
   ]
  },
  {
   "cell_type": "code",
   "execution_count": 40,
   "id": "adb8707f",
   "metadata": {},
   "outputs": [],
   "source": [
    "Home_Account_df = df.select('Customer_Code','Age_Range', 'Months_Range', 'Income_Range', 'Segmentation','Home_Account')\n",
    "encoder = OneHotEncoder(inputCols =['Age_Range', 'Months_Range', 'Income_Range', 'Segmentation'],\n",
    "                                 outputCols =['Age_RangeH', 'Months_RangeH', 'Income_RangeH', 'SegmentationH'])\n",
    "encoder = encoder.fit(Home_Account_df)\n",
    "Home_Account_df = encoder.transform(Home_Account_df)\n",
    "vectorAssembler = VectorAssembler(inputCols = ['Age_RangeH', 'Months_RangeH', 'Income_RangeH', 'SegmentationH'], outputCol = 'features')\n",
    "Home_Account_df = vectorAssembler.transform(Home_Account_df)\n",
    "Home_Account_df = Home_Account_df.select(['Customer_Code','features', 'Home_Account'])\n",
    "splits = Home_Account_df.randomSplit([0.6, 0.4])\n",
    "train_df = splits[0]\n",
    "test_df = splits[1]"
   ]
  },
  {
   "cell_type": "code",
   "execution_count": 41,
   "id": "7c6a607a",
   "metadata": {},
   "outputs": [
    {
     "name": "stdout",
     "output_type": "stream",
     "text": [
      "Area under ROC Curve: 0.5000\n"
     ]
    }
   ],
   "source": [
    "LR = LogisticRegression(labelCol=\"Home_Account\", featuresCol=\"features\", maxIter=100, regParam=0.01,\n",
    "                        elasticNetParam=1.0)\n",
    "LRmodel = LR.fit(train_df)\n",
    "Home_Accountpredictions = LRmodel.transform(test_df)\n",
    "evaluator = BinaryClassificationEvaluator(labelCol='Home_Account')\n",
    "auroc = evaluator.evaluate(Home_Accountpredictions, {evaluator.metricName: \"areaUnderROC\"})\n",
    "print(\"Area under ROC Curve: {:.4f}\".format(auroc))"
   ]
  },
  {
   "cell_type": "markdown",
   "id": "2ce1877b",
   "metadata": {},
   "source": [
    "#### Payroll (LR)"
   ]
  },
  {
   "cell_type": "code",
   "execution_count": 33,
   "id": "09185635",
   "metadata": {},
   "outputs": [
    {
     "name": "stdout",
     "output_type": "stream",
     "text": [
      "+-------+-------+\n",
      "|Payroll|  count|\n",
      "+-------+-------+\n",
      "|      0|9589574|\n",
      "|      1| 703046|\n",
      "+-------+-------+\n",
      "\n"
     ]
    }
   ],
   "source": [
    "df.groupBy('Payroll').count().show()"
   ]
  },
  {
   "cell_type": "code",
   "execution_count": 13,
   "id": "73fdfb7c",
   "metadata": {},
   "outputs": [
    {
     "name": "stdout",
     "output_type": "stream",
     "text": [
      "Correlation to Payroll for  Gender -0.022059038486154304\n",
      "Correlation to Payroll for  Foreigner_Index -0.008036220433788807\n",
      "Correlation to Payroll for  Active 0.24984857002019106\n",
      "Correlation to Payroll for  Payroll 1.0\n"
     ]
    }
   ],
   "source": [
    "Payroll_df = df.select('Gender',  'Foreigner_Index', 'Active', 'Payroll')\n",
    "for i in Payroll_df.columns:\n",
    "    if not( isinstance(Payroll_df.select(i).take(1)[0][0], six.string_types)):\n",
    "        print( \"Correlation to Payroll for \", i, Payroll_df.stat.corr('Payroll',i))"
   ]
  },
  {
   "cell_type": "code",
   "execution_count": 42,
   "id": "8995fddc",
   "metadata": {},
   "outputs": [],
   "source": [
    "Payroll_df = df.select('Customer_Code','Active', 'Age_Range', 'Months_Range', 'Income_Range', 'Segmentation','Payroll')\n",
    "encoder = OneHotEncoder(inputCols =['Active','Age_Range', 'Months_Range', 'Income_Range', 'Segmentation'],\n",
    "                                 outputCols =['ActiveH','Age_RangeH', 'Months_RangeH', 'Income_RangeH', 'SegmentationH'])\n",
    "encoder = encoder.fit(Payroll_df)\n",
    "Payroll_df = encoder.transform(Payroll_df)\n",
    "vectorAssembler = VectorAssembler(inputCols = ['ActiveH','Age_RangeH', 'Months_RangeH', 'Income_RangeH', 'SegmentationH'], outputCol = 'features')\n",
    "Payroll_df = vectorAssembler.transform(Payroll_df)\n",
    "Payroll_df = Payroll_df.select(['Customer_Code','features', 'Payroll'])\n",
    "splits = Payroll_df.randomSplit([0.6, 0.4])\n",
    "train_df = splits[0]\n",
    "test_df = splits[1]"
   ]
  },
  {
   "cell_type": "code",
   "execution_count": 43,
   "id": "82067326",
   "metadata": {},
   "outputs": [
    {
     "name": "stdout",
     "output_type": "stream",
     "text": [
      "Area under ROC Curve: 0.8227\n"
     ]
    }
   ],
   "source": [
    "LR = LogisticRegression(labelCol=\"Payroll\", featuresCol=\"features\", maxIter=100, regParam=0.01,\n",
    "                        elasticNetParam=1.0)\n",
    "LRmodel = LR.fit(train_df)\n",
    "Payrollpredictions = LRmodel.transform(test_df)\n",
    "evaluator = BinaryClassificationEvaluator(labelCol='Payroll')\n",
    "auroc = evaluator.evaluate(Payrollpredictions, {evaluator.metricName: \"areaUnderROC\"})\n",
    "print(\"Area under ROC Curve: {:.4f}\".format(auroc))"
   ]
  },
  {
   "cell_type": "markdown",
   "id": "f46bb089",
   "metadata": {},
   "source": [
    "#### Pensions_two (LR)"
   ]
  },
  {
   "cell_type": "code",
   "execution_count": 36,
   "id": "5b51e4d0",
   "metadata": {},
   "outputs": [
    {
     "name": "stdout",
     "output_type": "stream",
     "text": [
      "+------------+-------+\n",
      "|Pensions_two|  count|\n",
      "+------------+-------+\n",
      "|           0|9528238|\n",
      "|           1| 764382|\n",
      "+------------+-------+\n",
      "\n"
     ]
    }
   ],
   "source": [
    "df.groupBy('Pensions_two').count().show()"
   ]
  },
  {
   "cell_type": "code",
   "execution_count": 12,
   "id": "c5b898a9",
   "metadata": {},
   "outputs": [
    {
     "name": "stdout",
     "output_type": "stream",
     "text": [
      "Correlation to Pensions_two for  Gender -0.023482010325987058\n",
      "Correlation to Pensions_two for  Foreigner_Index -0.009628463864864042\n",
      "Correlation to Pensions_two for  Active 0.2612848984798003\n",
      "Correlation to Pensions_two for  Pensions_two 1.0\n"
     ]
    }
   ],
   "source": [
    "Pensionst_df = df.select('Gender',  'Foreigner_Index', 'Active', 'Pensions_two')\n",
    "for i in Pensionst_df.columns:\n",
    "    if not( isinstance(Pensionst_df.select(i).take(1)[0][0], six.string_types)):\n",
    "        print( \"Correlation to Pensions_two for \", i, Pensionst_df.stat.corr('Pensions_two',i))"
   ]
  },
  {
   "cell_type": "code",
   "execution_count": 44,
   "id": "6f1e9636",
   "metadata": {},
   "outputs": [],
   "source": [
    "Pensions_two_df = df.select('Customer_Code','Active', 'Age_Range', 'Months_Range', 'Income_Range', 'Segmentation','Pensions_two')\n",
    "encoder = OneHotEncoder(inputCols =['Active','Age_Range', 'Months_Range', 'Income_Range', 'Segmentation'],\n",
    "                                 outputCols =['ActiveH','Age_RangeH', 'Months_RangeH', 'Income_RangeH', 'SegmentationH'])\n",
    "encoder = encoder.fit(Pensions_two_df)\n",
    "Pensions_two_df = encoder.transform(Pensions_two_df)\n",
    "vectorAssembler = VectorAssembler(inputCols = ['ActiveH','Age_RangeH', 'Months_RangeH', 'Income_RangeH', 'SegmentationH'], outputCol = 'features')\n",
    "Pensions_two_df = vectorAssembler.transform(Pensions_two_df)\n",
    "Pensions_two_df = Pensions_two_df.select(['Customer_Code','features', 'Pensions_two'])\n",
    "splits = Pensions_two_df.randomSplit([0.6, 0.4])\n",
    "train_df = splits[0]\n",
    "test_df = splits[1]"
   ]
  },
  {
   "cell_type": "code",
   "execution_count": 45,
   "id": "6accd8a1",
   "metadata": {},
   "outputs": [
    {
     "name": "stdout",
     "output_type": "stream",
     "text": [
      "Area under ROC Curve: 0.8059\n"
     ]
    }
   ],
   "source": [
    "LR = LogisticRegression(labelCol=\"Pensions_two\", featuresCol=\"features\", maxIter=100, regParam=0.01,\n",
    "                        elasticNetParam=1.0)\n",
    "LRmodel = LR.fit(train_df)\n",
    "Pensions_twopredictions = LRmodel.transform(test_df)\n",
    "evaluator = BinaryClassificationEvaluator(labelCol='Pensions_two')\n",
    "auroc = evaluator.evaluate(Pensions_twopredictions, {evaluator.metricName: \"areaUnderROC\"})\n",
    "print(\"Area under ROC Curve: {:.4f}\".format(auroc))"
   ]
  },
  {
   "cell_type": "markdown",
   "id": "0eaddc93",
   "metadata": {},
   "source": [
    "#### Direct_Debit (LR)"
   ]
  },
  {
   "cell_type": "code",
   "execution_count": 10,
   "id": "1f5e9f5c",
   "metadata": {},
   "outputs": [
    {
     "name": "stdout",
     "output_type": "stream",
     "text": [
      "+------------+-------+\n",
      "|Direct_Debit|  count|\n",
      "+------------+-------+\n",
      "|           1|1627210|\n",
      "|           0|8665410|\n",
      "+------------+-------+\n",
      "\n"
     ]
    }
   ],
   "source": [
    "df.groupBy('Direct_Debit').count().show()"
   ]
  },
  {
   "cell_type": "code",
   "execution_count": 11,
   "id": "04ba9272",
   "metadata": {},
   "outputs": [
    {
     "name": "stdout",
     "output_type": "stream",
     "text": [
      "Correlation to Direct_Debit for  Gender -0.05355695624237305\n",
      "Correlation to Direct_Debit for  Foreigner_Index -0.0019241473309739895\n",
      "Correlation to Direct_Debit for  Active 0.39745594130309425\n",
      "Correlation to Direct_Debit for  Direct_Debit 1.0\n"
     ]
    }
   ],
   "source": [
    "direct_df = df.select('Gender',  'Foreigner_Index', 'Active', 'Direct_Debit')\n",
    "for i in direct_df.columns:\n",
    "    if not( isinstance(direct_df.select(i).take(1)[0][0], six.string_types)):\n",
    "        print( \"Correlation to Direct_Debit for \", i, direct_df.stat.corr('Direct_Debit',i))"
   ]
  },
  {
   "cell_type": "code",
   "execution_count": 46,
   "id": "118c2a3e",
   "metadata": {},
   "outputs": [],
   "source": [
    "Direct_Debit_df = df.select('Customer_Code','Active', 'Age_Range', 'Months_Range', 'Income_Range', 'Segmentation','Direct_Debit')\n",
    "encoder = OneHotEncoder(inputCols =['Active','Age_Range', 'Months_Range', 'Income_Range', 'Segmentation'],\n",
    "                                 outputCols =['ActiveH','Age_RangeH', 'Months_RangeH', 'Income_RangeH', 'SegmentationH'])\n",
    "encoder = encoder.fit(Direct_Debit_df)\n",
    "Direct_Debit_df = encoder.transform(Direct_Debit_df)\n",
    "vectorAssembler = VectorAssembler(inputCols = ['ActiveH','Age_RangeH', 'Months_RangeH', 'Income_RangeH', 'SegmentationH'], outputCol = 'features')\n",
    "Direct_Debit_df = vectorAssembler.transform(Direct_Debit_df)\n",
    "Direct_Debit_df = Direct_Debit_df.select(['Customer_Code','features', 'Direct_Debit'])\n",
    "splits = Direct_Debit_df.randomSplit([0.6, 0.4])\n",
    "train_df = splits[0]\n",
    "test_df = splits[1]"
   ]
  },
  {
   "cell_type": "code",
   "execution_count": 47,
   "id": "157a0037",
   "metadata": {},
   "outputs": [
    {
     "name": "stdout",
     "output_type": "stream",
     "text": [
      "Area under ROC Curve: 0.8338\n"
     ]
    }
   ],
   "source": [
    "LR = LogisticRegression(labelCol=\"Direct_Debit\", featuresCol=\"features\", maxIter=100, regParam=0.01,\n",
    "                        elasticNetParam=1.0)\n",
    "LRmodel = LR.fit(train_df)\n",
    "Direct_Debitpredictions = LRmodel.transform(test_df)\n",
    "evaluator = BinaryClassificationEvaluator(labelCol='Direct_Debit')\n",
    "auroc = evaluator.evaluate(Direct_Debitpredictions, {evaluator.metricName: \"areaUnderROC\"})\n",
    "print(\"Area under ROC Curve: {:.4f}\".format(auroc))"
   ]
  },
  {
   "cell_type": "markdown",
   "id": "c31a4531",
   "metadata": {},
   "source": [
    "#### All Predictions Dataframe Construction"
   ]
  },
  {
   "cell_type": "code",
   "execution_count": 48,
   "id": "b89e7716",
   "metadata": {},
   "outputs": [
    {
     "name": "stdout",
     "output_type": "stream",
     "text": [
      "+-------------+----+------+\n",
      "|Customer_Code|Item|Rating|\n",
      "+-------------+----+------+\n",
      "|      15889.0|   1|   1.0|\n",
      "|      15889.0|   1|   1.0|\n",
      "|      15889.0|   1|   1.0|\n",
      "+-------------+----+------+\n",
      "only showing top 3 rows\n",
      "\n"
     ]
    }
   ],
   "source": [
    "Currentpredictions = Currentpredictions.select('Customer_Code','Current_Accounts', 'prediction')\n",
    "Currentpredictions = Currentpredictions.withColumnRenamed(\"prediction\",\"Rating\")\n",
    "Currentpredictions = Currentpredictions.withColumnRenamed(\"Current_Accounts\",\"Item\")\n",
    "Currentpredictions = Currentpredictions.replace(0,1, subset='Item')\n",
    "Currentpredictions.show(3)"
   ]
  },
  {
   "cell_type": "code",
   "execution_count": 49,
   "id": "b5055137",
   "metadata": {},
   "outputs": [
    {
     "name": "stdout",
     "output_type": "stream",
     "text": [
      "+-------------+----+------+\n",
      "|Customer_Code|Item|Rating|\n",
      "+-------------+----+------+\n",
      "|      15889.0|   2|   0.0|\n",
      "|      15889.0|   2|   0.0|\n",
      "|      15889.0|   2|   0.0|\n",
      "+-------------+----+------+\n",
      "only showing top 3 rows\n",
      "\n"
     ]
    }
   ],
   "source": [
    "Payroll_Accountpredictions = Payroll_Accountpredictions.select('Customer_Code','Payroll_Account', 'prediction')\n",
    "Payroll_Accountpredictions = Payroll_Accountpredictions.withColumnRenamed(\"prediction\",\"Rating\")\n",
    "Payroll_Accountpredictions = Payroll_Accountpredictions.withColumnRenamed(\"Payroll_Account\",\"Item\")\n",
    "Payroll_Accountpredictions = Payroll_Accountpredictions.replace([0,1],[2,2], subset='Item')\n",
    "Payroll_Accountpredictions.show(3)"
   ]
  },
  {
   "cell_type": "code",
   "execution_count": 50,
   "id": "0dc44670",
   "metadata": {},
   "outputs": [],
   "source": [
    "LRpredictions = LRpredictions.select('Customer_Code','Junior_Account', 'prediction')\n",
    "LRpredictions = LRpredictions.withColumnRenamed(\"prediction\",\"Rating\")\n",
    "LRpredictions = LRpredictions.withColumnRenamed(\"Junior_Account\",\"Item\")\n",
    "LRpredictions = LRpredictions.replace([0,1],[3,3], subset='Item')\n",
    "\n",
    "More_Particular_Accountpredictions = More_Particular_Accountpredictions.select('Customer_Code','More_Particular_Account', 'prediction')\n",
    "More_Particular_Accountpredictions = More_Particular_Accountpredictions.withColumnRenamed(\"prediction\",\"Rating\")\n",
    "More_Particular_Accountpredictions = More_Particular_Accountpredictions.withColumnRenamed(\"Junior_Account\",\"Item\")\n",
    "More_Particular_Accountpredictions = More_Particular_Accountpredictions.replace([0,1],[4,4], subset='Item')\n",
    "\n",
    "Particular_Accountpredictions = Particular_Accountpredictions.select('Customer_Code','Particular_Account', 'prediction')\n",
    "Particular_Accountpredictions = Particular_Accountpredictions.withColumnRenamed(\"prediction\",\"Rating\")\n",
    "Particular_Accountpredictions = Particular_Accountpredictions.withColumnRenamed(\"Particular_Account\",\"Item\")\n",
    "Particular_Accountpredictions = Particular_Accountpredictions.replace([0,1],[5,5], subset='Item')\n",
    "\n",
    "Particular_Plus_Accountpredictions = Particular_Plus_Accountpredictions.select('Customer_Code','Particular_Plus_Account', 'prediction')\n",
    "Particular_Plus_Accountpredictions = Particular_Plus_Accountpredictions.withColumnRenamed(\"prediction\",\"Rating\")\n",
    "Particular_Plus_Accountpredictions = Particular_Plus_Accountpredictions.withColumnRenamed(\"Particular_Plus_Account\",\"Item\")\n",
    "Particular_Plus_Accountpredictions = Particular_Plus_Accountpredictions.replace([0,1],[6,6], subset='Item')\n",
    "\n",
    "Medium_Term_Depositspredictions = Medium_Term_Depositspredictions.select('Customer_Code','Medium_Term_Deposits', 'prediction')\n",
    "Medium_Term_Depositspredictions = Medium_Term_Depositspredictions.withColumnRenamed(\"prediction\",\"Rating\")\n",
    "Medium_Term_Depositspredictions = Medium_Term_Depositspredictions.withColumnRenamed(\"Medium_Term_Deposits\",\"Item\")\n",
    "Medium_Term_Depositspredictions = Medium_Term_Depositspredictions.replace([0,1],[7,7], subset='Item')"
   ]
  },
  {
   "cell_type": "code",
   "execution_count": 51,
   "id": "75b0a88f",
   "metadata": {},
   "outputs": [],
   "source": [
    "Long_Term_Depositspredictions = Long_Term_Depositspredictions.select('Customer_Code','Long_Term_Deposits', 'prediction')\n",
    "Long_Term_Depositspredictions = Long_Term_Depositspredictions.withColumnRenamed(\"prediction\",\"Rating\")\n",
    "Long_Term_Depositspredictions = Long_Term_Depositspredictions.withColumnRenamed(\"Long_Term_Deposits\",\"Item\")\n",
    "Long_Term_Depositspredictions = Long_Term_Depositspredictions.replace([0,1],[8,8], subset='Item')\n",
    "\n",
    "e_Accountpredictions = e_Accountpredictions.select('Customer_Code','e-Account', 'prediction')\n",
    "e_Accountpredictions = e_Accountpredictions.withColumnRenamed(\"prediction\",\"Rating\")\n",
    "e_Accountpredictions = e_Accountpredictions.withColumnRenamed(\"e-Account\",\"Item\")\n",
    "e_Accountpredictions = e_Accountpredictions.replace([0,1],[9,9], subset='Item')\n",
    "\n",
    "Fundspredictions = Fundspredictions.select('Customer_Code','Funds', 'prediction')\n",
    "Fundspredictions = Fundspredictions.withColumnRenamed(\"Funds\",\"Rating\")\n",
    "Fundspredictions = Fundspredictions.withColumnRenamed(\"Funds\",\"Item\")\n",
    "Fundspredictions = Fundspredictions.replace([0,1],[10,10], subset='Item')\n",
    "\n",
    "Mortgagepredictions = Mortgagepredictions.select('Customer_Code','Mortgage', 'prediction')\n",
    "Mortgagepredictions = Mortgagepredictions.withColumnRenamed(\"prediction\",\"Rating\")\n",
    "Mortgagepredictions = Mortgagepredictions.withColumnRenamed(\"Mortgage\",\"Item\")\n",
    "Mortgagepredictions = Mortgagepredictions.replace([0,1],[11,11], subset='Item')\n",
    "\n",
    "Pensionspredictions = Pensionspredictions.select('Customer_Code','Pensions', 'prediction')\n",
    "Pensionspredictions = Pensionspredictions.withColumnRenamed(\"prediction\",\"Rating\")\n",
    "Pensionspredictions = Pensionspredictions.withColumnRenamed(\"Pensions\",\"Item\")\n",
    "Pensionspredictions = Pensionspredictions.replace([0,1],[12,12], subset='Item')\n"
   ]
  },
  {
   "cell_type": "code",
   "execution_count": 52,
   "id": "169faf71",
   "metadata": {},
   "outputs": [],
   "source": [
    "Loanspredictions = Loanspredictions.select('Customer_Code','Loans', 'prediction')\n",
    "Loanspredictions = Loanspredictions.withColumnRenamed(\"prediction\",\"Rating\")\n",
    "Loanspredictions = Loanspredictions.withColumnRenamed(\"Loans\",\"Item\")\n",
    "Loanspredictions = Loanspredictions.replace([0,1],[13,13], subset='Item')\n",
    "\n",
    "Taxespredictions = Taxespredictions.select('Customer_Code','Taxes', 'prediction')\n",
    "Taxespredictions = Taxespredictions.withColumnRenamed(\"prediction\",\"Rating\")\n",
    "Taxespredictions = Taxespredictions.withColumnRenamed(\"Taxes\",\"Item\")\n",
    "Taxespredictions = Taxespredictions.replace([0,1],[14,14], subset='Item')"
   ]
  },
  {
   "cell_type": "code",
   "execution_count": 53,
   "id": "61cef958",
   "metadata": {},
   "outputs": [],
   "source": [
    "Credit_Cardpredictions = Credit_Cardpredictions.select('Customer_Code','Credit_Card', 'prediction')\n",
    "Credit_Cardpredictions = Credit_Cardpredictions.withColumnRenamed(\"prediction\",\"Rating\")\n",
    "Credit_Cardpredictions = Credit_Cardpredictions.withColumnRenamed(\"Credit_Card\",\"Item\")\n",
    "Credit_Cardpredictions = Credit_Cardpredictions.replace([0,1],[15,15], subset='Item')\n",
    "\n",
    "Securitiespredictions = Securitiespredictions.select('Customer_Code','Securities', 'prediction')\n",
    "Securitiespredictions = Securitiespredictions.withColumnRenamed(\"prediction\",\"Rating\")\n",
    "Securitiespredictions = Securitiespredictions.withColumnRenamed(\"Securities\",\"Item\")\n",
    "Securitiespredictions = Securitiespredictions.replace([0,1],[16,16], subset='Item')\n"
   ]
  },
  {
   "cell_type": "code",
   "execution_count": 54,
   "id": "af5278f0",
   "metadata": {},
   "outputs": [],
   "source": [
    "Home_Accountpredictions = Home_Accountpredictions.select('Customer_Code','Home_Account', 'prediction')\n",
    "Home_Accountpredictions = Home_Accountpredictions.withColumnRenamed(\"prediction\",\"Rating\")\n",
    "Home_Accountpredictions = Home_Accountpredictions.withColumnRenamed(\"Home_Account\",\"Item\")\n",
    "Home_Accountpredictions = Home_Accountpredictions.replace([0,1],[17,17], subset='Item')\n",
    "\n",
    "Payrollpredictions = Payrollpredictions.select('Customer_Code','Payroll', 'prediction')\n",
    "Payrollpredictions = Payrollpredictions.withColumnRenamed(\"prediction\",\"Rating\")\n",
    "Payrollpredictions = Payrollpredictions.withColumnRenamed(\"Payroll\",\"Item\")\n",
    "Payrollpredictions = Payrollpredictions.replace([0,1],[18,18], subset='Item')\n",
    "\n",
    "Pensions_twopredictions = Pensions_twopredictions.select('Customer_Code','Pensions_two', 'prediction')\n",
    "Pensions_twopredictions = Pensions_twopredictions.withColumnRenamed(\"prediction\",\"Rating\")\n",
    "Pensions_twopredictions = Pensions_twopredictions.withColumnRenamed(\"Pensions_two\",\"Item\")\n",
    "Pensions_twopredictions = Pensions_twopredictions.replace([0,1],[19,19], subset='Item')\n",
    "\n",
    "Direct_Debitpredictions = Direct_Debitpredictions.select('Customer_Code','Direct_Debit', 'prediction')\n",
    "Direct_Debitpredictions = Direct_Debitpredictions.withColumnRenamed(\"prediction\",\"Rating\")\n",
    "Direct_Debitpredictions = Direct_Debitpredictions.withColumnRenamed(\"Direct_Debit\",\"Item\")\n",
    "Direct_Debitpredictions = Direct_Debitpredictions.replace([0,1],[20,20], subset='Item')"
   ]
  },
  {
   "cell_type": "code",
   "execution_count": 57,
   "id": "89d943cc",
   "metadata": {},
   "outputs": [
    {
     "name": "stdout",
     "output_type": "stream",
     "text": [
      "+-------------+----+------+\n",
      "|Customer_Code|Item|Rating|\n",
      "+-------------+----+------+\n",
      "|      15889.0|   1|   1.0|\n",
      "+-------------+----+------+\n",
      "only showing top 1 row\n",
      "\n"
     ]
    }
   ],
   "source": [
    "allpredictionsdf = Currentpredictions.union(Payroll_Accountpredictions)\n",
    "allpredictionsdf.show(1)"
   ]
  },
  {
   "cell_type": "code",
   "execution_count": 58,
   "id": "516ff76b",
   "metadata": {},
   "outputs": [
    {
     "data": {
      "text/plain": [
       "8234369"
      ]
     },
     "execution_count": 58,
     "metadata": {},
     "output_type": "execute_result"
    }
   ],
   "source": [
    "allpredictionsdf.count()"
   ]
  },
  {
   "cell_type": "code",
   "execution_count": 59,
   "id": "8ebfe010",
   "metadata": {},
   "outputs": [],
   "source": [
    "allpredictionsdf = allpredictionsdf.union(LRpredictions)\n",
    "allpredictionsdf = allpredictionsdf.union(More_Particular_Accountpredictions)"
   ]
  },
  {
   "cell_type": "code",
   "execution_count": 60,
   "id": "6bbef0bd",
   "metadata": {},
   "outputs": [
    {
     "data": {
      "text/plain": [
       "16469621"
      ]
     },
     "execution_count": 60,
     "metadata": {},
     "output_type": "execute_result"
    }
   ],
   "source": [
    "allpredictionsdf.count()"
   ]
  },
  {
   "cell_type": "code",
   "execution_count": 61,
   "id": "8247cf26",
   "metadata": {},
   "outputs": [
    {
     "data": {
      "text/plain": [
       "82341861"
      ]
     },
     "execution_count": 61,
     "metadata": {},
     "output_type": "execute_result"
    }
   ],
   "source": [
    "#Build Dataframe to bring to next notebook for Collaborative Filtering\n",
    "allpredictionsdf = allpredictionsdf.union(Particular_Accountpredictions)\n",
    "allpredictionsdf = allpredictionsdf.union(Particular_Plus_Accountpredictions)\n",
    "allpredictionsdf = allpredictionsdf.union(Medium_Term_Depositspredictions)\n",
    "allpredictionsdf = allpredictionsdf.union(Long_Term_Depositspredictions)\n",
    "allpredictionsdf = allpredictionsdf.union(e_Accountpredictions)\n",
    "allpredictionsdf = allpredictionsdf.union(Fundspredictions)\n",
    "allpredictionsdf = allpredictionsdf.union(Mortgagepredictions)\n",
    "allpredictionsdf = allpredictionsdf.union(Pensionspredictions)\n",
    "allpredictionsdf = allpredictionsdf.union(Loanspredictions)\n",
    "allpredictionsdf = allpredictionsdf.union(Taxespredictions)\n",
    "allpredictionsdf = allpredictionsdf.union(Credit_Cardpredictions)\n",
    "allpredictionsdf = allpredictionsdf.union(Securitiespredictions)\n",
    "allpredictionsdf = allpredictionsdf.union(Home_Accountpredictions)\n",
    "allpredictionsdf = allpredictionsdf.union(Payrollpredictions)\n",
    "allpredictionsdf = allpredictionsdf.union(Pensions_twopredictions)\n",
    "allpredictionsdf = allpredictionsdf.union(Direct_Debitpredictions)\n",
    "allpredictionsdf.count()"
   ]
  },
  {
   "cell_type": "code",
   "execution_count": 63,
   "id": "60a80f5b",
   "metadata": {},
   "outputs": [],
   "source": [
    "allpredictionsdf.write.csv('santander_df_logisticpred.csv')"
   ]
  },
  {
   "cell_type": "code",
   "execution_count": 64,
   "id": "bac4b7d8",
   "metadata": {},
   "outputs": [
    {
     "name": "stdout",
     "output_type": "stream",
     "text": [
      "root\n",
      " |-- Customer_Code: double (nullable = true)\n",
      " |-- Item: integer (nullable = true)\n",
      " |-- Rating: double (nullable = false)\n",
      "\n"
     ]
    }
   ],
   "source": [
    "allpredictionsdf.printSchema()"
   ]
  },
  {
   "cell_type": "code",
   "execution_count": null,
   "id": "ea9f06cb",
   "metadata": {},
   "outputs": [],
   "source": []
  }
 ],
 "metadata": {
  "kernelspec": {
   "display_name": "Python 3",
   "language": "python",
   "name": "python3"
  },
  "language_info": {
   "codemirror_mode": {
    "name": "ipython",
    "version": 3
   },
   "file_extension": ".py",
   "mimetype": "text/x-python",
   "name": "python",
   "nbconvert_exporter": "python",
   "pygments_lexer": "ipython3",
   "version": "3.8.8"
  }
 },
 "nbformat": 4,
 "nbformat_minor": 5
}
